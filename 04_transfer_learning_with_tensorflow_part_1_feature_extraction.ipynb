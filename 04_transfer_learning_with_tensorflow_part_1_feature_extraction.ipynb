{
 "cells": [
  {
   "cell_type": "markdown",
   "metadata": {},
   "source": [
    "# Transfer Learning with TensorFlow Part 1: Feature Extraction\n",
    "\n",
    "Transfer learning is leveraging a working model's exisiting architecture and learned patterns for our own problem.\n",
    "\n",
    "The two main benefits:\n",
    "1. Can leverage an existing neural network architecture proven to work on problems similar to our own.\n",
    "2. Can leverage a working neural network architecture which already learned patterns on similar data to our own, then we can adapt those patterns to our own data."
   ]
  },
  {
   "cell_type": "markdown",
   "metadata": {},
   "source": [
    "## Downloading and becoming one with the data"
   ]
  },
  {
   "cell_type": "code",
   "execution_count": 1,
   "metadata": {},
   "outputs": [],
   "source": [
    "# Get data (10% of 10 food classes from Food 101)\n",
    "import zipfile\n",
    "\n",
    "# Unzip the downloaded file\n",
    "zip_ref = zipfile.ZipFile(\"10_food_classes_10_percent.zip\", \"r\")\n",
    "zip_ref.extractall()\n",
    "zip_ref.close()"
   ]
  },
  {
   "cell_type": "code",
   "execution_count": 2,
   "metadata": {},
   "outputs": [
    {
     "name": "stdout",
     "output_type": "stream",
     "text": [
      "There are 2 directories and 0 images in '10_food_classes_10_percent'.\n",
      "There are 10 directories and 0 images in '10_food_classes_10_percent\\test'.\n",
      "There are 0 directories and 250 images in '10_food_classes_10_percent\\test\\ice_cream'.\n",
      "There are 0 directories and 250 images in '10_food_classes_10_percent\\test\\chicken_curry'.\n",
      "There are 0 directories and 250 images in '10_food_classes_10_percent\\test\\steak'.\n",
      "There are 0 directories and 250 images in '10_food_classes_10_percent\\test\\sushi'.\n",
      "There are 0 directories and 250 images in '10_food_classes_10_percent\\test\\chicken_wings'.\n",
      "There are 0 directories and 250 images in '10_food_classes_10_percent\\test\\grilled_salmon'.\n",
      "There are 0 directories and 250 images in '10_food_classes_10_percent\\test\\hamburger'.\n",
      "There are 0 directories and 250 images in '10_food_classes_10_percent\\test\\pizza'.\n",
      "There are 0 directories and 250 images in '10_food_classes_10_percent\\test\\ramen'.\n",
      "There are 0 directories and 250 images in '10_food_classes_10_percent\\test\\fried_rice'.\n",
      "There are 10 directories and 0 images in '10_food_classes_10_percent\\train'.\n",
      "There are 0 directories and 75 images in '10_food_classes_10_percent\\train\\ice_cream'.\n",
      "There are 0 directories and 75 images in '10_food_classes_10_percent\\train\\chicken_curry'.\n",
      "There are 0 directories and 75 images in '10_food_classes_10_percent\\train\\steak'.\n",
      "There are 0 directories and 75 images in '10_food_classes_10_percent\\train\\sushi'.\n",
      "There are 0 directories and 75 images in '10_food_classes_10_percent\\train\\chicken_wings'.\n",
      "There are 0 directories and 75 images in '10_food_classes_10_percent\\train\\grilled_salmon'.\n",
      "There are 0 directories and 75 images in '10_food_classes_10_percent\\train\\hamburger'.\n",
      "There are 0 directories and 75 images in '10_food_classes_10_percent\\train\\pizza'.\n",
      "There are 0 directories and 75 images in '10_food_classes_10_percent\\train\\ramen'.\n",
      "There are 0 directories and 75 images in '10_food_classes_10_percent\\train\\fried_rice'.\n"
     ]
    }
   ],
   "source": [
    "# How many images in each folder?\n",
    "import os\n",
    "\n",
    "for dirpath,dirnames,filenames in os.walk(\"10_food_classes_10_percent\"):\n",
    "    print(f\"There are {len(dirnames)} directories and {len(filenames)} images in '{dirpath}'.\")"
   ]
  },
  {
   "cell_type": "markdown",
   "metadata": {},
   "source": [
    "## Creating data loaders (preparing the data)\n",
    "\n",
    "We'll use the `ImageDataGenerator` class to load in our images in batches"
   ]
  },
  {
   "cell_type": "code",
   "execution_count": 3,
   "metadata": {},
   "outputs": [
    {
     "name": "stdout",
     "output_type": "stream",
     "text": [
      "Testing images:\n",
      "Found 750 images belonging to 10 classes.\n",
      "Training images:\n",
      "Found 2500 images belonging to 10 classes.\n"
     ]
    }
   ],
   "source": [
    "# Setup data inputs\n",
    "import tensorflow as tf\n",
    "from tensorflow.keras.preprocessing.image import ImageDataGenerator\n",
    "\n",
    "IMAGE_SHAPE=(224,224)\n",
    "BATCH_SIZE=32\n",
    "\n",
    "train_dir=\"10_food_classes_10_percent/train/\"\n",
    "test_dir=\"10_food_classes_10_percent/test/\"\n",
    "\n",
    "train_datagen=ImageDataGenerator(rescale=1/255.)\n",
    "test_datagen=ImageDataGenerator(rescale=1/255.)\n",
    "\n",
    "print(\"Training images:\")\n",
    "train_data_10_percent=train_datagen.flow_from_directory(train_dir,\n",
    "                                                        batch_size=BATCH_SIZE,\n",
    "                                                        target_size=IMAGE_SHAPE,\n",
    "                                                        class_mode=\"categorical\")\n",
    "\n",
    "print(\"Testing images:\")\n",
    "test_data_10_percent=test_datagen.flow_from_directory(test_dir,\n",
    "                                                      batch_size=BATCH_SIZE,\n",
    "                                                      target_size=IMAGE_SHAPE,\n",
    "                                                      class_mode=\"categorical\")"
   ]
  },
  {
   "cell_type": "markdown",
   "metadata": {},
   "source": [
    "## Setting up callbacks (things to run whilst our model trains)\n",
    "\n",
    "Callbacks are extra functionality you can add to your models to be performed during or after training. Some of the most popular callbacks:\n",
    "\n",
    "* Tracking experiments with the TensorBoard callback\n",
    "* Model checkpoint with the ModelCheckpoint callback\n",
    "* Stopping a model from training (before it trains too long and overfits) with the EarlyStopping callback"
   ]
  },
  {
   "cell_type": "code",
   "execution_count": 28,
   "metadata": {},
   "outputs": [],
   "source": [
    "# Create TensorBoard callback (functionized because we need to create a new one for each model)\n",
    "import datetime\n",
    "\n",
    "def create_tensorboard_callback(dir_name,experiment_name):\n",
    "    log_dir = dir_name + \"/\" + experiment_name + \"/\" + datetime.datetime.now().strftime(\"%Y%m%d-%H%M%S\")\n",
    "    tensorboard_callback=tf.keras.callbacks.TensorBoard(log_dir=log_dir)\n",
    "    print(f\"Saving TensorBoard log files to: {log_dir}\")\n",
    "    return tensorboard_callback"
   ]
  },
  {
   "cell_type": "markdown",
   "metadata": {},
   "source": [
    "## Creating models using TensorFlow Hub\n",
    "\n",
    "In the past we've used TensorFlow to create our own models layer by layer from scratch. Now we're going to do a similar process, except the majority of our model's layers are going to come from TensorFlow Hub. \n",
    "\n",
    "We can access pre-trained models on [TFHub](https://tfhub.dev/)\n",
    "\n",
    "Browsing the TensorFlow Hub page and sorting for image classification, we found the following feature vector model link for [efficientNet/b0/feature-vector](https://tfhub.dev/tensorflow/efficientnet/b0/feature-vector/1)"
   ]
  },
  {
   "cell_type": "code",
   "execution_count": 15,
   "metadata": {},
   "outputs": [],
   "source": [
    "# Let's compare the following two models\n",
    "resnet_url=\"https://tfhub.dev/google/imagenet/resnet_v2_50/feature_vector/5\"\n",
    "efficientnet_url=\"https://tfhub.dev/tensorflow/efficientnet/b0/feature-vector/1\""
   ]
  },
  {
   "cell_type": "code",
   "execution_count": 10,
   "metadata": {},
   "outputs": [],
   "source": [
    "# Import dependencies\n",
    "import tensorflow as tf\n",
    "import tensorflow_hub as hub\n",
    "from tensorflow.keras import layers"
   ]
  },
  {
   "cell_type": "code",
   "execution_count": 13,
   "metadata": {},
   "outputs": [
    {
     "data": {
      "text/plain": [
       "(224, 224, 3)"
      ]
     },
     "execution_count": 13,
     "metadata": {},
     "output_type": "execute_result"
    }
   ],
   "source": [
    "IMAGE_SHAPE+(3,)"
   ]
  },
  {
   "cell_type": "code",
   "execution_count": 14,
   "metadata": {},
   "outputs": [],
   "source": [
    "# Let's make a create_model() function to create a model from a URL\n",
    "\n",
    "def create_model(model_url,num_classes=10):\n",
    "    \"\"\"\n",
    "    Takes a TensorFlow Hub URL and create a Keras Sequential model with it.\n",
    "\n",
    "    Args:\n",
    "        model_url (str): A TensorFlow Hub feature extraction URL.\n",
    "        num_classes (int): Number of output neurons in the output layer, should be equal to number of target classes\n",
    "    \n",
    "    Returns:\n",
    "        An uncompiled Keras Sequential model with model_url as feature extractor layer and Dense output layer with num_classes output neurons.\n",
    "    \"\"\"\n",
    "\n",
    "    # Download the pretrained model and save it as a Keras layer\n",
    "    feature_extractor_layer = hub.KerasLayer(model_url,\n",
    "                                             trainable=False,\n",
    "                                             name=\"feature_extractor_layer\",\n",
    "                                             input_shape=IMAGE_SHAPE+(3,)) # freeze the already learned patterns\n",
    "    \n",
    "    # Create our own model                                             \n",
    "    model=tf.keras.Sequential([\n",
    "        feature_extractor_layer,\n",
    "        layers.Dense(num_classes,activation=\"softmax\",name=\"output_layer\")\n",
    "    ])\n",
    "\n",
    "    return model"
   ]
  },
  {
   "cell_type": "markdown",
   "metadata": {},
   "source": [
    "### Creating ResNet TensorFlow Hub Feature Extraction model"
   ]
  },
  {
   "cell_type": "code",
   "execution_count": 16,
   "metadata": {},
   "outputs": [],
   "source": [
    "# Create ResNet model\n",
    "resnet_model=create_model(resnet_url,num_classes=train_data_10_percent.num_classes)"
   ]
  },
  {
   "cell_type": "code",
   "execution_count": 17,
   "metadata": {},
   "outputs": [
    {
     "name": "stdout",
     "output_type": "stream",
     "text": [
      "Model: \"sequential\"\n",
      "_________________________________________________________________\n",
      " Layer (type)                Output Shape              Param #   \n",
      "=================================================================\n",
      " feature_extractor_layer (Ke  (None, 2048)             23564800  \n",
      " rasLayer)                                                       \n",
      "                                                                 \n",
      " output_layer (Dense)        (None, 10)                20490     \n",
      "                                                                 \n",
      "=================================================================\n",
      "Total params: 23,585,290\n",
      "Trainable params: 20,490\n",
      "Non-trainable params: 23,564,800\n",
      "_________________________________________________________________\n"
     ]
    }
   ],
   "source": [
    "# Let's see a summary of the model\n",
    "resnet_model.summary()"
   ]
  },
  {
   "cell_type": "code",
   "execution_count": 18,
   "metadata": {},
   "outputs": [],
   "source": [
    "# Compile our resnet model\n",
    "resnet_model.compile(loss=\"categorical_crossentropy\",\n",
    "                     optimizer=tf.keras.optimizers.Adam(),\n",
    "                     metrics=[\"accuracy\"])"
   ]
  },
  {
   "cell_type": "code",
   "execution_count": 29,
   "metadata": {},
   "outputs": [
    {
     "name": "stdout",
     "output_type": "stream",
     "text": [
      "Saving TensorBoard log files to: tensorflow_hub/resnet50V2/20220822-095526\n",
      "Epoch 1/5\n",
      "24/24 [==============================] - 17s 698ms/step - loss: 0.3194 - accuracy: 0.9373 - val_loss: 0.6535 - val_accuracy: 0.7808\n",
      "Epoch 2/5\n",
      "24/24 [==============================] - 16s 687ms/step - loss: 0.2708 - accuracy: 0.9560 - val_loss: 0.6484 - val_accuracy: 0.7824\n",
      "Epoch 3/5\n",
      "24/24 [==============================] - 16s 689ms/step - loss: 0.2313 - accuracy: 0.9587 - val_loss: 0.6384 - val_accuracy: 0.7836\n",
      "Epoch 4/5\n",
      "24/24 [==============================] - 16s 690ms/step - loss: 0.1973 - accuracy: 0.9760 - val_loss: 0.6323 - val_accuracy: 0.7900\n",
      "Epoch 5/5\n",
      "24/24 [==============================] - 16s 692ms/step - loss: 0.1693 - accuracy: 0.9840 - val_loss: 0.6216 - val_accuracy: 0.7928\n"
     ]
    }
   ],
   "source": [
    "# Fit the resnet model\n",
    "resnet_history=resnet_model.fit(train_data_10_percent,\n",
    "                                epochs=5,\n",
    "                                steps_per_epoch=len(train_data_10_percent),\n",
    "                                validation_data=test_data_10_percent,\n",
    "                                validation_steps=len(test_data_10_percent),\n",
    "                                callbacks=[create_tensorboard_callback(dir_name=\"tensorflow_hub\",\n",
    "                                                                       experiment_name=\"resnet50V2\",\n",
    "                                                                       )])"
   ]
  },
  {
   "cell_type": "markdown",
   "metadata": {},
   "source": [
    "Our transfer learning feature extractor model out performed ALL of the previous models we built by hand ... (substantially) and in quicker training time. This is only using 10% of the training examples"
   ]
  },
  {
   "cell_type": "code",
   "execution_count": 32,
   "metadata": {},
   "outputs": [
    {
     "ename": "ModuleNotFoundError",
     "evalue": "No module named 'helper'",
     "output_type": "error",
     "traceback": [
      "\u001b[1;31m---------------------------------------------------------------------------\u001b[0m",
      "\u001b[1;31mModuleNotFoundError\u001b[0m                       Traceback (most recent call last)",
      "\u001b[1;32mg:\\UMass\\Courses\\Year_4 (2022)\\TensorFlowDeveloperLocal\\TensorFlow-Developer-Course\\04_transfer_learning_with_tensorflow_part_1_feature_extraction.ipynb Cell 20\u001b[0m in \u001b[0;36m<cell line: 2>\u001b[1;34m()\u001b[0m\n\u001b[0;32m      <a href='vscode-notebook-cell:/g%3A/UMass/Courses/Year_4%20%282022%29/TensorFlowDeveloperLocal/TensorFlow-Developer-Course/04_transfer_learning_with_tensorflow_part_1_feature_extraction.ipynb#X33sZmlsZQ%3D%3D?line=0'>1</a>\u001b[0m \u001b[39mimport\u001b[39;00m \u001b[39mmatplotlib\u001b[39;00m\u001b[39m.\u001b[39;00m\u001b[39mpyplot\u001b[39;00m \u001b[39mas\u001b[39;00m \u001b[39mplt\u001b[39;00m\n\u001b[1;32m----> <a href='vscode-notebook-cell:/g%3A/UMass/Courses/Year_4%20%282022%29/TensorFlowDeveloperLocal/TensorFlow-Developer-Course/04_transfer_learning_with_tensorflow_part_1_feature_extraction.ipynb#X33sZmlsZQ%3D%3D?line=1'>2</a>\u001b[0m \u001b[39mfrom\u001b[39;00m \u001b[39mhelper\u001b[39;00m\u001b[39m.\u001b[39;00m\u001b[39mpy\u001b[39;00m \u001b[39mimport\u001b[39;00m plot_loss_curves\n",
      "\u001b[1;31mModuleNotFoundError\u001b[0m: No module named 'helper'"
     ]
    }
   ],
   "source": [
    "import matplotlib.pyplot as plt\n",
    "from helper.py import plot_loss_curves"
   ]
  },
  {
   "cell_type": "code",
   "execution_count": 31,
   "metadata": {},
   "outputs": [
    {
     "data": {
      "image/png": "[encoded data removed]",
      "text/plain": [
       "<Figure size 432x288 with 1 Axes>"
      ]
     },
     "metadata": {
      "needs_background": "light"
     },
     "output_type": "display_data"
    },
    {
     "data": {
      "image/png": "[encoded data removed]",
      "text/plain": [
       "<Figure size 432x288 with 1 Axes>"
      ]
     },
     "metadata": {
      "needs_background": "light"
     },
     "output_type": "display_data"
    }
   ],
   "source": [
    "# Let's look at the loss curves\n",
    "plot_loss_curves(resnet_history)"
   ]
  }
 ],
 "metadata": {
  "kernelspec": {
   "display_name": "Python 3.9.0 ('tf2.9')",
   "language": "python",
   "name": "python3"
  },
  "language_info": {
   "codemirror_mode": {
    "name": "ipython",
    "version": 3
   },
   "file_extension": ".py",
   "mimetype": "text/x-python",
   "name": "python",
   "nbconvert_exporter": "python",
   "pygments_lexer": "ipython3",
   "version": "3.9.0"
  },
  "orig_nbformat": 4,
  "vscode": {
   "interpreter": {
    "hash": "3b857c820aa0d415be1b12344743bfddcf32111184ae560db226809c81026c4c"
   }
  }
 },
 "nbformat": 4,
 "nbformat_minor": 2
}

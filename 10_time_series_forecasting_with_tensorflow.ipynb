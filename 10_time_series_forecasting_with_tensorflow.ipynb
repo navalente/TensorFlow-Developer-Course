{
 "cells": [
  {
   "attachments": {},
   "cell_type": "markdown",
   "metadata": {},
   "source": [
    "# Time series forecasting fundamentals with TensorFlow + Milestone Project 3: BitPredict 💰"
   ]
  },
  {
   "cell_type": "markdown",
   "metadata": {},
   "source": [
    "## Get data\n",
    "\n",
    "We're going to be using the historical price of Bitcoin to try and predict the future price of Bitcoin"
   ]
  },
  {
   "cell_type": "code",
   "execution_count": 4,
   "metadata": {},
   "outputs": [
    {
     "name": "stderr",
     "output_type": "stream",
     "text": [
      "--2023-01-30 13:51:52--  https://raw.githubusercontent.com/mrdbourke/tensorflow-deep-learning/main/extras/BTC_USD_2013-10-01_2021-05-18-CoinDesk.csv\n",
      "Resolving raw.githubusercontent.com (raw.githubusercontent.com)... 185.199.108.133, 185.199.109.133, 185.199.110.133, ...\n",
      "Connecting to raw.githubusercontent.com (raw.githubusercontent.com)|185.199.108.133|:443... connected.\n",
      "HTTP request sent, awaiting response... 200 OK\n",
      "Length: 178509 (174K) [text/plain]\n",
      "Saving to: 'BTC_USD_2013-10-01_2021-05-18-CoinDesk.csv.1'\n",
      "\n",
      "     0K .......... .......... .......... .......... .......... 28% 4.71M 0s\n",
      "    50K .......... .......... .......... .......... .......... 57% 13.4M 0s\n",
      "   100K .......... .......... .......... .......... .......... 86% 6.49M 0s\n",
      "   150K .......... .......... ....                            100% 21.0M=0.02s\n",
      "\n",
      "2023-01-30 13:51:53 (7.51 MB/s) - 'BTC_USD_2013-10-01_2021-05-18-CoinDesk.csv.1' saved [178509/178509]\n",
      "\n"
     ]
    }
   ],
   "source": [
    "!wget https://raw.githubusercontent.com/mrdbourke/tensorflow-deep-learning/main/extras/BTC_USD_2013-10-01_2021-05-18-CoinDesk.csv"
   ]
  },
  {
   "attachments": {},
   "cell_type": "markdown",
   "metadata": {},
   "source": [
    "## Import time series data with Pandas"
   ]
  },
  {
   "cell_type": "code",
   "execution_count": 5,
   "metadata": {},
   "outputs": [
    {
     "data": {
      "text/html": [
       "<div>\n",
       "<style scoped>\n",
       "    .dataframe tbody tr th:only-of-type {\n",
       "        vertical-align: middle;\n",
       "    }\n",
       "\n",
       "    .dataframe tbody tr th {\n",
       "        vertical-align: top;\n",
       "    }\n",
       "\n",
       "    .dataframe thead th {\n",
       "        text-align: right;\n",
       "    }\n",
       "</style>\n",
       "<table border=\"1\" class=\"dataframe\">\n",
       "  <thead>\n",
       "    <tr style=\"text-align: right;\">\n",
       "      <th></th>\n",
       "      <th>Currency</th>\n",
       "      <th>Closing Price (USD)</th>\n",
       "      <th>24h Open (USD)</th>\n",
       "      <th>24h High (USD)</th>\n",
       "      <th>24h Low (USD)</th>\n",
       "    </tr>\n",
       "    <tr>\n",
       "      <th>Date</th>\n",
       "      <th></th>\n",
       "      <th></th>\n",
       "      <th></th>\n",
       "      <th></th>\n",
       "      <th></th>\n",
       "    </tr>\n",
       "  </thead>\n",
       "  <tbody>\n",
       "    <tr>\n",
       "      <th>2013-10-01</th>\n",
       "      <td>BTC</td>\n",
       "      <td>123.65499</td>\n",
       "      <td>124.30466</td>\n",
       "      <td>124.75166</td>\n",
       "      <td>122.56349</td>\n",
       "    </tr>\n",
       "    <tr>\n",
       "      <th>2013-10-02</th>\n",
       "      <td>BTC</td>\n",
       "      <td>125.45500</td>\n",
       "      <td>123.65499</td>\n",
       "      <td>125.75850</td>\n",
       "      <td>123.63383</td>\n",
       "    </tr>\n",
       "    <tr>\n",
       "      <th>2013-10-03</th>\n",
       "      <td>BTC</td>\n",
       "      <td>108.58483</td>\n",
       "      <td>125.45500</td>\n",
       "      <td>125.66566</td>\n",
       "      <td>83.32833</td>\n",
       "    </tr>\n",
       "    <tr>\n",
       "      <th>2013-10-04</th>\n",
       "      <td>BTC</td>\n",
       "      <td>118.67466</td>\n",
       "      <td>108.58483</td>\n",
       "      <td>118.67500</td>\n",
       "      <td>107.05816</td>\n",
       "    </tr>\n",
       "    <tr>\n",
       "      <th>2013-10-05</th>\n",
       "      <td>BTC</td>\n",
       "      <td>121.33866</td>\n",
       "      <td>118.67466</td>\n",
       "      <td>121.93633</td>\n",
       "      <td>118.00566</td>\n",
       "    </tr>\n",
       "  </tbody>\n",
       "</table>\n",
       "</div>"
      ],
      "text/plain": [
       "           Currency  Closing Price (USD)  24h Open (USD)  24h High (USD)  \\\n",
       "Date                                                                       \n",
       "2013-10-01      BTC            123.65499       124.30466       124.75166   \n",
       "2013-10-02      BTC            125.45500       123.65499       125.75850   \n",
       "2013-10-03      BTC            108.58483       125.45500       125.66566   \n",
       "2013-10-04      BTC            118.67466       108.58483       118.67500   \n",
       "2013-10-05      BTC            121.33866       118.67466       121.93633   \n",
       "\n",
       "            24h Low (USD)  \n",
       "Date                       \n",
       "2013-10-01      122.56349  \n",
       "2013-10-02      123.63383  \n",
       "2013-10-03       83.32833  \n",
       "2013-10-04      107.05816  \n",
       "2013-10-05      118.00566  "
      ]
     },
     "execution_count": 5,
     "metadata": {},
     "output_type": "execute_result"
    }
   ],
   "source": [
    "# Import pandas\n",
    "import pandas as pd\n",
    "\n",
    "# Let's read in the data\n",
    "df = pd.read_csv(\"BTC_USD_2013-10-01_2021-05-18-CoinDesk.csv\",\n",
    "                 parse_dates=[\"Date\"],\n",
    "                 index_col=[\"Date\"]) # parse the date column and tell pandas column 1 is a date time\n",
    "\n",
    "df.head()"
   ]
  },
  {
   "cell_type": "code",
   "execution_count": 6,
   "metadata": {},
   "outputs": [
    {
     "data": {
      "text/html": [
       "<div>\n",
       "<style scoped>\n",
       "    .dataframe tbody tr th:only-of-type {\n",
       "        vertical-align: middle;\n",
       "    }\n",
       "\n",
       "    .dataframe tbody tr th {\n",
       "        vertical-align: top;\n",
       "    }\n",
       "\n",
       "    .dataframe thead th {\n",
       "        text-align: right;\n",
       "    }\n",
       "</style>\n",
       "<table border=\"1\" class=\"dataframe\">\n",
       "  <thead>\n",
       "    <tr style=\"text-align: right;\">\n",
       "      <th></th>\n",
       "      <th>Currency</th>\n",
       "      <th>Closing Price (USD)</th>\n",
       "      <th>24h Open (USD)</th>\n",
       "      <th>24h High (USD)</th>\n",
       "      <th>24h Low (USD)</th>\n",
       "    </tr>\n",
       "    <tr>\n",
       "      <th>Date</th>\n",
       "      <th></th>\n",
       "      <th></th>\n",
       "      <th></th>\n",
       "      <th></th>\n",
       "      <th></th>\n",
       "    </tr>\n",
       "  </thead>\n",
       "  <tbody>\n",
       "    <tr>\n",
       "      <th>2021-05-14</th>\n",
       "      <td>BTC</td>\n",
       "      <td>49764.132082</td>\n",
       "      <td>49596.778891</td>\n",
       "      <td>51448.798576</td>\n",
       "      <td>46294.720180</td>\n",
       "    </tr>\n",
       "    <tr>\n",
       "      <th>2021-05-15</th>\n",
       "      <td>BTC</td>\n",
       "      <td>50032.693137</td>\n",
       "      <td>49717.354353</td>\n",
       "      <td>51578.312545</td>\n",
       "      <td>48944.346536</td>\n",
       "    </tr>\n",
       "    <tr>\n",
       "      <th>2021-05-16</th>\n",
       "      <td>BTC</td>\n",
       "      <td>47885.625255</td>\n",
       "      <td>49926.035067</td>\n",
       "      <td>50690.802950</td>\n",
       "      <td>47005.102292</td>\n",
       "    </tr>\n",
       "    <tr>\n",
       "      <th>2021-05-17</th>\n",
       "      <td>BTC</td>\n",
       "      <td>45604.615754</td>\n",
       "      <td>46805.537852</td>\n",
       "      <td>49670.414174</td>\n",
       "      <td>43868.638969</td>\n",
       "    </tr>\n",
       "    <tr>\n",
       "      <th>2021-05-18</th>\n",
       "      <td>BTC</td>\n",
       "      <td>43144.471291</td>\n",
       "      <td>46439.336570</td>\n",
       "      <td>46622.853437</td>\n",
       "      <td>42102.346430</td>\n",
       "    </tr>\n",
       "  </tbody>\n",
       "</table>\n",
       "</div>"
      ],
      "text/plain": [
       "           Currency  Closing Price (USD)  24h Open (USD)  24h High (USD)  \\\n",
       "Date                                                                       \n",
       "2021-05-14      BTC         49764.132082    49596.778891    51448.798576   \n",
       "2021-05-15      BTC         50032.693137    49717.354353    51578.312545   \n",
       "2021-05-16      BTC         47885.625255    49926.035067    50690.802950   \n",
       "2021-05-17      BTC         45604.615754    46805.537852    49670.414174   \n",
       "2021-05-18      BTC         43144.471291    46439.336570    46622.853437   \n",
       "\n",
       "            24h Low (USD)  \n",
       "Date                       \n",
       "2021-05-14   46294.720180  \n",
       "2021-05-15   48944.346536  \n",
       "2021-05-16   47005.102292  \n",
       "2021-05-17   43868.638969  \n",
       "2021-05-18   42102.346430  "
      ]
     },
     "execution_count": 6,
     "metadata": {},
     "output_type": "execute_result"
    }
   ],
   "source": [
    "# Last samples from the data set\n",
    "df.tail()"
   ]
  },
  {
   "cell_type": "code",
   "execution_count": 7,
   "metadata": {},
   "outputs": [
    {
     "name": "stdout",
     "output_type": "stream",
     "text": [
      "<class 'pandas.core.frame.DataFrame'>\n",
      "DatetimeIndex: 2787 entries, 2013-10-01 to 2021-05-18\n",
      "Data columns (total 5 columns):\n",
      " #   Column               Non-Null Count  Dtype  \n",
      "---  ------               --------------  -----  \n",
      " 0   Currency             2787 non-null   object \n",
      " 1   Closing Price (USD)  2787 non-null   float64\n",
      " 2   24h Open (USD)       2787 non-null   float64\n",
      " 3   24h High (USD)       2787 non-null   float64\n",
      " 4   24h Low (USD)        2787 non-null   float64\n",
      "dtypes: float64(4), object(1)\n",
      "memory usage: 130.6+ KB\n"
     ]
    }
   ],
   "source": [
    "# Grab info from the dataframe\n",
    "df.info()"
   ]
  },
  {
   "attachments": {},
   "cell_type": "markdown",
   "metadata": {},
   "source": [
    "We've collected the historical price of Bitcoin for the past ~8 years but there's 2787 samples. \n",
    "\n",
    "Typically, deep learning models like lots of samples. 1,000 - 10,000 - 1,000,000\n",
    "\n",
    "A smaller number of samples is something you'll often run into with time series data problems"
   ]
  },
  {
   "cell_type": "code",
   "execution_count": 8,
   "metadata": {},
   "outputs": [
    {
     "data": {
      "text/plain": [
       "2787"
      ]
     },
     "execution_count": 8,
     "metadata": {},
     "output_type": "execute_result"
    }
   ],
   "source": [
    "# How many samples\n",
    "len(df) # 365 * 8"
   ]
  },
  {
   "cell_type": "code",
   "execution_count": 9,
   "metadata": {},
   "outputs": [
    {
     "data": {
      "text/html": [
       "<div>\n",
       "<style scoped>\n",
       "    .dataframe tbody tr th:only-of-type {\n",
       "        vertical-align: middle;\n",
       "    }\n",
       "\n",
       "    .dataframe tbody tr th {\n",
       "        vertical-align: top;\n",
       "    }\n",
       "\n",
       "    .dataframe thead th {\n",
       "        text-align: right;\n",
       "    }\n",
       "</style>\n",
       "<table border=\"1\" class=\"dataframe\">\n",
       "  <thead>\n",
       "    <tr style=\"text-align: right;\">\n",
       "      <th></th>\n",
       "      <th>Price</th>\n",
       "    </tr>\n",
       "    <tr>\n",
       "      <th>Date</th>\n",
       "      <th></th>\n",
       "    </tr>\n",
       "  </thead>\n",
       "  <tbody>\n",
       "    <tr>\n",
       "      <th>2013-10-01</th>\n",
       "      <td>123.654990</td>\n",
       "    </tr>\n",
       "    <tr>\n",
       "      <th>2013-10-02</th>\n",
       "      <td>125.455000</td>\n",
       "    </tr>\n",
       "    <tr>\n",
       "      <th>2013-10-03</th>\n",
       "      <td>108.584830</td>\n",
       "    </tr>\n",
       "    <tr>\n",
       "      <th>2013-10-04</th>\n",
       "      <td>118.674660</td>\n",
       "    </tr>\n",
       "    <tr>\n",
       "      <th>2013-10-05</th>\n",
       "      <td>121.338660</td>\n",
       "    </tr>\n",
       "    <tr>\n",
       "      <th>...</th>\n",
       "      <td>...</td>\n",
       "    </tr>\n",
       "    <tr>\n",
       "      <th>2021-05-14</th>\n",
       "      <td>49764.132082</td>\n",
       "    </tr>\n",
       "    <tr>\n",
       "      <th>2021-05-15</th>\n",
       "      <td>50032.693137</td>\n",
       "    </tr>\n",
       "    <tr>\n",
       "      <th>2021-05-16</th>\n",
       "      <td>47885.625255</td>\n",
       "    </tr>\n",
       "    <tr>\n",
       "      <th>2021-05-17</th>\n",
       "      <td>45604.615754</td>\n",
       "    </tr>\n",
       "    <tr>\n",
       "      <th>2021-05-18</th>\n",
       "      <td>43144.471291</td>\n",
       "    </tr>\n",
       "  </tbody>\n",
       "</table>\n",
       "<p>2787 rows × 1 columns</p>\n",
       "</div>"
      ],
      "text/plain": [
       "                   Price\n",
       "Date                    \n",
       "2013-10-01    123.654990\n",
       "2013-10-02    125.455000\n",
       "2013-10-03    108.584830\n",
       "2013-10-04    118.674660\n",
       "2013-10-05    121.338660\n",
       "...                  ...\n",
       "2021-05-14  49764.132082\n",
       "2021-05-15  50032.693137\n",
       "2021-05-16  47885.625255\n",
       "2021-05-17  45604.615754\n",
       "2021-05-18  43144.471291\n",
       "\n",
       "[2787 rows x 1 columns]"
      ]
     },
     "execution_count": 9,
     "metadata": {},
     "output_type": "execute_result"
    }
   ],
   "source": [
    "# Only having the closing price for each day\n",
    "bitcoin_prices = pd.DataFrame(df[\"Closing Price (USD)\"]).rename(columns={\"Closing Price (USD)\":\"Price\"})\n",
    "bitcoin_prices"
   ]
  },
  {
   "cell_type": "code",
   "execution_count": 10,
   "metadata": {},
   "outputs": [
    {
     "data": {
      "image/png": "[encoded data removed]",
      "text/plain": [
       "<Figure size 720x504 with 1 Axes>"
      ]
     },
     "metadata": {
      "needs_background": "light"
     },
     "output_type": "display_data"
    }
   ],
   "source": [
    "import matplotlib.pyplot as plt\n",
    "bitcoin_prices.plot(figsize=(10,7))\n",
    "plt.ylabel(\"BTC Price\")\n",
    "plt.title(\"Price of Bitcoin from 1 Oct 2013 to 18 May 2021\",fontsize=16);\n",
    "plt.legend(fontsize=14);"
   ]
  },
  {
   "cell_type": "markdown",
   "metadata": {},
   "source": [
    "## Importing time series data with Python's CSV module"
   ]
  },
  {
   "cell_type": "code",
   "execution_count": 11,
   "metadata": {},
   "outputs": [
    {
     "data": {
      "text/plain": [
       "([datetime.datetime(2013, 10, 1, 0, 0),\n",
       "  datetime.datetime(2013, 10, 2, 0, 0),\n",
       "  datetime.datetime(2013, 10, 3, 0, 0),\n",
       "  datetime.datetime(2013, 10, 4, 0, 0),\n",
       "  datetime.datetime(2013, 10, 5, 0, 0),\n",
       "  datetime.datetime(2013, 10, 6, 0, 0),\n",
       "  datetime.datetime(2013, 10, 7, 0, 0),\n",
       "  datetime.datetime(2013, 10, 8, 0, 0),\n",
       "  datetime.datetime(2013, 10, 9, 0, 0),\n",
       "  datetime.datetime(2013, 10, 10, 0, 0)],\n",
       " [123.65499,\n",
       "  125.455,\n",
       "  108.58483,\n",
       "  118.67466,\n",
       "  121.33866,\n",
       "  120.65533,\n",
       "  121.795,\n",
       "  123.033,\n",
       "  124.049,\n",
       "  125.96116])"
      ]
     },
     "execution_count": 11,
     "metadata": {},
     "output_type": "execute_result"
    }
   ],
   "source": [
    "# Importing and formatting \n",
    "import csv\n",
    "from datetime import datetime\n",
    "\n",
    "timesteps = []\n",
    "btc_price = []\n",
    "\n",
    "with open(\"BTC_USD_2013-10-01_2021-05-18-CoinDesk.csv\",\"r\") as f:\n",
    "    csv_reader = csv.reader(f,delimiter=\",\")\n",
    "    next(csv_reader) # skip first line (gets ride of column titles)\n",
    "    for line in csv_reader:\n",
    "        timesteps.append(datetime.strptime(line[1],\"%Y-%m-%d\")) # Get the dates as dates (not strings)\n",
    "        btc_price.append(float(line[2])) # get the closing price as float\n",
    "\n",
    "# View first 10 of each\n",
    "timesteps[:10], btc_price[:10]        "
   ]
  },
  {
   "cell_type": "code",
   "execution_count": 12,
   "metadata": {},
   "outputs": [
    {
     "data": {
      "image/png": "[encoded data removed]",
      "text/plain": [
       "<Figure size 720x504 with 1 Axes>"
      ]
     },
     "metadata": {
      "needs_background": "light"
     },
     "output_type": "display_data"
    }
   ],
   "source": [
    "# Plot from csv\n",
    "import numpy as np\n",
    "plt.figure(figsize=(10,7))\n",
    "plt.plot(timesteps,btc_price)\n",
    "plt.ylabel(\"BTC Price\")\n",
    "plt.xlabel(\"Date\")\n",
    "plt.title(\"Price of Bitcoin from 1 Oct 2013 to 18 May 2021\",fontsize=16);"
   ]
  },
  {
   "attachments": {},
   "cell_type": "markdown",
   "metadata": {},
   "source": [
    "## Format data part 1: Create train and test sets of our time series data"
   ]
  },
  {
   "cell_type": "markdown",
   "metadata": {},
   "source": [
    "### Creating train and test sets with time series data (the wrong way)"
   ]
  },
  {
   "cell_type": "code",
   "execution_count": 13,
   "metadata": {},
   "outputs": [
    {
     "data": {
      "text/plain": [
       "(array(['2013-10-01T00:00:00.000000000', '2013-10-02T00:00:00.000000000',\n",
       "        '2013-10-03T00:00:00.000000000', '2013-10-04T00:00:00.000000000',\n",
       "        '2013-10-05T00:00:00.000000000', '2013-10-06T00:00:00.000000000',\n",
       "        '2013-10-07T00:00:00.000000000', '2013-10-08T00:00:00.000000000',\n",
       "        '2013-10-09T00:00:00.000000000', '2013-10-10T00:00:00.000000000'],\n",
       "       dtype='datetime64[ns]'),\n",
       " array([123.65499, 125.455  , 108.58483, 118.67466, 121.33866, 120.65533,\n",
       "        121.795  , 123.033  , 124.049  , 125.96116]))"
      ]
     },
     "execution_count": 13,
     "metadata": {},
     "output_type": "execute_result"
    }
   ],
   "source": [
    "# Get bitcoin date array\n",
    "timesteps = bitcoin_prices.index.to_numpy()\n",
    "prices = bitcoin_prices[\"Price\"].to_numpy()\n",
    "\n",
    "timesteps[:10], prices[:10]"
   ]
  },
  {
   "cell_type": "code",
   "execution_count": 14,
   "metadata": {},
   "outputs": [
    {
     "data": {
      "text/plain": [
       "((2229,), (558,), (2229,), (558,))"
      ]
     },
     "execution_count": 14,
     "metadata": {},
     "output_type": "execute_result"
    }
   ],
   "source": [
    "# Wrong way to make train/test sets\n",
    "from sklearn.model_selection import train_test_split\n",
    "\n",
    "X_train, X_test, y_train, y_test = train_test_split(timesteps, # dates\n",
    "                                                    prices, # prices\n",
    "                                                    test_size=0.2,\n",
    "                                                    random_state=42)\n",
    "\n",
    "X_train.shape, X_test.shape, y_train.shape, y_test.shape"
   ]
  },
  {
   "cell_type": "code",
   "execution_count": 15,
   "metadata": {},
   "outputs": [
    {
     "data": {
      "image/png": "[encoded data removed]",
      "text/plain": [
       "<Figure size 720x504 with 1 Axes>"
      ]
     },
     "metadata": {
      "needs_background": "light"
     },
     "output_type": "display_data"
    }
   ],
   "source": [
    "# Let's plot wrong train and test splits\n",
    "plt.figure(figsize=(10,7))\n",
    "plt.scatter(X_train,y_train,s=5,label=\"Train data\")\n",
    "plt.scatter(X_test,y_test,s=5,label=\"Test data\")\n",
    "plt.xlabel(\"Date\")\n",
    "plt.ylabel(\"BTC Price\")\n",
    "plt.legend(fontsize=14);\n",
    "plt.show();"
   ]
  },
  {
   "attachments": {},
   "cell_type": "markdown",
   "metadata": {},
   "source": [
    "### Create train & test sets for time series (the right way)"
   ]
  },
  {
   "cell_type": "code",
   "execution_count": 16,
   "metadata": {},
   "outputs": [
    {
     "data": {
      "text/plain": [
       "(2229, 558, 2229, 558)"
      ]
     },
     "execution_count": 16,
     "metadata": {},
     "output_type": "execute_result"
    }
   ],
   "source": [
    "# Create train and test splits the right way for time series data\n",
    "split_size = int(0.8*len(prices)) # 80% train, 20% test\n",
    "\n",
    "# Create train data splits (everything before the split)\n",
    "X_train, y_train = timesteps[:split_size], prices[:split_size]\n",
    "\n",
    "# Create test data splits (everything beyond the split)\n",
    "X_test, y_test = timesteps[split_size:], prices[split_size:]\n",
    "\n",
    "len(X_train), len(X_test), len(y_train), len(y_test)"
   ]
  },
  {
   "cell_type": "code",
   "execution_count": 17,
   "metadata": {},
   "outputs": [
    {
     "data": {
      "image/png": "[encoded data removed]",
      "text/plain": [
       "<Figure size 720x504 with 1 Axes>"
      ]
     },
     "metadata": {
      "needs_background": "light"
     },
     "output_type": "display_data"
    }
   ],
   "source": [
    "# Plot correctly made splits\n",
    "plt.figure(figsize=(10,7))\n",
    "plt.scatter(X_train,y_train,s=5,label=\"Train data\")\n",
    "plt.scatter(X_test,y_test,s=5,label=\"Test data\")\n",
    "plt.xlabel(\"Date\")\n",
    "plt.ylabel(\"BTC Price\")\n",
    "plt.legend(fontsize=14);\n",
    "plt.show();"
   ]
  },
  {
   "attachments": {},
   "cell_type": "markdown",
   "metadata": {},
   "source": [
    "## Create a plotting function\n",
    "\n",
    "Typing plotting code is tedious, let's functionize it."
   ]
  },
  {
   "cell_type": "code",
   "execution_count": 18,
   "metadata": {},
   "outputs": [],
   "source": [
    "# Create a function to plot time series data\n",
    "def plot_time_series(timesteps,values,format=\".\",start=0,end=None,label=None):\n",
    "    \"\"\"\n",
    "    Plots timesteps against values.\n",
    "\n",
    "    Parameters\n",
    "    ----------\n",
    "    timesteps: array of timestep values\n",
    "    values: array of values\n",
    "    format: style of plot, default \".\"\n",
    "    start: where to start the plot (index)\n",
    "    end: where to end the plot (index)\n",
    "    label: label to show on plot\n",
    "\n",
    "    \"\"\"\n",
    "    # Plot the series\n",
    "    plt.plot(timesteps[start:end],values[start:end],format,label=label)\n",
    "    plt.xlabel(\"Time (s)\")\n",
    "    plt.ylabel(\"BTC Price\")\n",
    "\n",
    "    if label:\n",
    "        plt.legend(fontsize=14)\n",
    "        \n",
    "    plt.grid(True)"
   ]
  },
  {
   "cell_type": "code",
   "execution_count": 19,
   "metadata": {},
   "outputs": [
    {
     "data": {
      "image/png": "[encoded data removed]",
      "text/plain": [
       "<Figure size 720x504 with 1 Axes>"
      ]
     },
     "metadata": {
      "needs_background": "light"
     },
     "output_type": "display_data"
    }
   ],
   "source": [
    "# Testing out plotting function\n",
    "plt.figure(figsize=(10,7))\n",
    "plot_time_series(timesteps=X_train,values=y_train,label=\"Train data\")\n",
    "plot_time_series(timesteps=X_test,values=y_test,label=\"Test data\")"
   ]
  },
  {
   "attachments": {},
   "cell_type": "markdown",
   "metadata": {},
   "source": [
    "## Modelling Experiements\n",
    "\n",
    "We've got Bitcoin data, let's run a series of modelling experiments.\n",
    "\n",
    "Terms to be familiar with:\n",
    "* **Horizon** = number of timesteps into the future we're going to predict\n",
    "* **Window size** = number of timesteps we're going to use to predict horizon\n",
    "\n",
    "Modelling experiments --- (Horizon size, Window size, Extra data):\n",
    "* 0. Naive model (baseline) --- **(NA, NA, NA)**\n",
    "* 1. Dense model --- **(1, 7, NA)**\n",
    "* 1. Same as 1 --- **(1, 30, NA)**\n",
    "* 2. Same as 1 --- **(7, 30, NA)**\n",
    "* 4. Conv 1D --- **(1, 7, NA)**\n",
    "* 5. LSTM --- **(1, 7, NA)**\n",
    "* 6. Same as 1 (but with multivariate data) --- **(1, 7, Block reward size)**\n",
    "* 7. N-BEATs Algorithm --- **(1, 7, NA)**\n",
    "* 8. Ensemble (multiple models optimized on different loss functions) --- **(1, 7, NA)**\n",
    "* 9. Future prediction model (model to predict future values) --- **(1, 7, NA)**\n",
    "* 10. Same as 1 (but with turkey data introduced) --- **(1, 7, NA)**"
   ]
  },
  {
   "cell_type": "markdown",
   "metadata": {},
   "source": [
    "> 🔑📚 : [Reference for Time Series Forecasting](https://otexts.com/fpp3/)"
   ]
  },
  {
   "attachments": {},
   "cell_type": "markdown",
   "metadata": {},
   "source": [
    "## Model 0: Naive forecast (baseline)\n",
    "\n",
    "The formula looks like this:\n",
    "\n",
    "$$\\hat{y}_{t} = y_{t-1}$$\n",
    "\n",
    "> The prediction at timestep t (y_hat) is equal to the value at timestep t-1 (previous timestep) - this is for a horizon of 1."
   ]
  },
  {
   "cell_type": "code",
   "execution_count": 20,
   "metadata": {},
   "outputs": [
    {
     "data": {
      "text/plain": [
       "(array([9226.48582088, 8794.35864452, 8798.04205463, 9081.18687849,\n",
       "        8711.53433917, 8760.89271814, 8749.52059102, 8656.97092235,\n",
       "        8500.64355816, 8469.2608989 ]),\n",
       " array([57107.12067189, 58788.20967893, 58102.19142623, 55715.54665129,\n",
       "        56573.5554719 , 52147.82118698, 49764.1320816 , 50032.69313676,\n",
       "        47885.62525472, 45604.61575361]))"
      ]
     },
     "execution_count": 20,
     "metadata": {},
     "output_type": "execute_result"
    }
   ],
   "source": [
    "# Create a naive forcecast\n",
    "naive_forecast = y_test[:-1]\n",
    "naive_forecast[:10],naive_forecast[-10:]"
   ]
  },
  {
   "cell_type": "code",
   "execution_count": 21,
   "metadata": {},
   "outputs": [
    {
     "data": {
      "image/png": "[encoded data removed]",
      "text/plain": [
       "<Figure size 720x504 with 1 Axes>"
      ]
     },
     "metadata": {
      "needs_background": "light"
     },
     "output_type": "display_data"
    }
   ],
   "source": [
    "# Plot naive forecast\n",
    "plt.figure(figsize=(10,7))\n",
    "plot_time_series(timesteps=X_train, values=y_train, label=\"Train data\")\n",
    "plot_time_series(timesteps=X_test, values=y_test, label=\"Test data\")\n",
    "plot_time_series(timesteps=X_test[1:], values=naive_forecast, format='-', label=\"Naive forecast\") # everything after first index"
   ]
  },
  {
   "attachments": {},
   "cell_type": "markdown",
   "metadata": {},
   "source": [
    "## Evaluating a time series model\n",
    "\n",
    "Let's look into some evaluation metrics for time series forecasting ...\n",
    "\n",
    "We're predicting a number, so that means we have a form of a regression problem.\n",
    "\n",
    "Because we're working on a regression problem, we'll need some regression-like metrics. \n",
    "\n",
    "A few common metrics (**the lower the better**):\n",
    "* MAE - mean absolute error\n",
    "* MSE - mean squared error\n",
    "\n",
    "The main thing we are evaluating is: how do our model's forecasts (y_pred) compare against the actual values"
   ]
  },
  {
   "cell_type": "code",
   "execution_count": 22,
   "metadata": {},
   "outputs": [],
   "source": [
    "import tensorflow as tf"
   ]
  },
  {
   "cell_type": "code",
   "execution_count": 23,
   "metadata": {},
   "outputs": [],
   "source": [
    "# MASE implementation\n",
    "def mean_absolute_scaled_error(y_true, y_pred):\n",
    "    \"\"\"\n",
    "    Implement MASE (assuming no seasonality).\n",
    "    \"\"\"\n",
    "    mae = tf.reduce_mean(tf.abs(y_true-y_pred))\n",
    "\n",
    "    # Find MAE of naive forecast (no seasonality)\n",
    "    mae_naive_no_season = tf.reduce_mean(tf.abs(y_true[1:]-y_true[:-1])) # our seasonality is 1 day (hence the shift of 1)\n",
    "\n",
    "    return mae / mae_naive_no_season"
   ]
  },
  {
   "cell_type": "markdown",
   "metadata": {},
   "source": [
    "🔑: **Note**: For mean absolute scaled error (MASE), a scaled error is **> 1 if the forecast is worse than the naive** and **< 1 if the forecast is better than naive**."
   ]
  },
  {
   "cell_type": "code",
   "execution_count": 24,
   "metadata": {},
   "outputs": [
    {
     "data": {
      "text/plain": [
       "0.9995699939182624"
      ]
     },
     "execution_count": 24,
     "metadata": {},
     "output_type": "execute_result"
    }
   ],
   "source": [
    "# Test MASE (this vaue should = 1 or be very close to 1 with the naive forecast)\n",
    "mean_absolute_scaled_error(y_true=y_test[1:], y_pred=naive_forecast).numpy()"
   ]
  },
  {
   "cell_type": "code",
   "execution_count": 53,
   "metadata": {},
   "outputs": [],
   "source": [
    "def evaluate_preds(y_true, y_pred):\n",
    "  # Make sure float32 (for metric calculations)\n",
    "  y_true = tf.cast(y_true, dtype=tf.float32)\n",
    "  y_pred = tf.cast(y_pred, dtype=tf.float32)\n",
    "\n",
    "  # Calculate various metrics\n",
    "  mae = tf.keras.metrics.mean_absolute_error(y_true, y_pred)\n",
    "  mse = tf.keras.metrics.mean_squared_error(y_true, y_pred) # puts and emphasis on outliers (all errors get squared)\n",
    "  rmse = tf.sqrt(mse)\n",
    "  mape = tf.keras.metrics.mean_absolute_percentage_error(y_true, y_pred)\n",
    "  mase = mean_absolute_scaled_error(y_true, y_pred)\n",
    "\n",
    "  return  {\"mae\": float(mae.numpy()),\n",
    "          \"mse\": float(mse.numpy()),\n",
    "          \"rmse\": float(rmse.numpy()),\n",
    "          \"mape\": float(mape.numpy()),\n",
    "          \"mase\": float(mase.numpy())}"
   ]
  },
  {
   "cell_type": "code",
   "execution_count": 26,
   "metadata": {},
   "outputs": [
    {
     "data": {
      "text/plain": [
       "{'mae': 567.980224609375,\n",
       " 'mse': 1147547.0,\n",
       " 'rmse': 1071.2362060546875,\n",
       " 'mape': 2.5165250301361084,\n",
       " 'mase': 0.9995700120925903}"
      ]
     },
     "execution_count": 26,
     "metadata": {},
     "output_type": "execute_result"
    }
   ],
   "source": [
    "# Let's compute the evaluation metrics using our function\n",
    "naive_results = evaluate_preds(y_true=y_test[1:],\n",
    "                               y_pred=naive_forecast)\n",
    "\n",
    "naive_results              "
   ]
  },
  {
   "attachments": {},
   "cell_type": "markdown",
   "metadata": {},
   "source": [
    "Save model results"
   ]
  },
  {
   "cell_type": "code",
   "execution_count": 27,
   "metadata": {},
   "outputs": [
    {
     "name": "stdout",
     "output_type": "stream",
     "text": [
      "Success! File written to destination.\n"
     ]
    }
   ],
   "source": [
    "# Saving model results\n",
    "from Functions.helper_functions import save_model_results_json\n",
    "\n",
    "des_path = r\"Saved Results\\10_time_series_forecasting_with_tensorflow\"\n",
    "\n",
    "save_model_results_json(filepath=des_path,\n",
    "                        var_to_save=naive_results,\n",
    "                        file_string=\"model_0_results\")"
   ]
  },
  {
   "cell_type": "code",
   "execution_count": 28,
   "metadata": {},
   "outputs": [
    {
     "data": {
      "text/plain": [
       "(<tf.Tensor: shape=(), dtype=float64, numpy=20056.632963737222>,\n",
       " <tf.Tensor: shape=(), dtype=float64, numpy=4944.7023359837>,\n",
       " <tf.Tensor: shape=(), dtype=float64, numpy=63346.7890351052>)"
      ]
     },
     "execution_count": 28,
     "metadata": {},
     "output_type": "execute_result"
    }
   ],
   "source": [
    "# What does the dataset look like?\n",
    "tf.reduce_mean(y_test), tf.reduce_min(y_test), tf.reduce_max(y_test)"
   ]
  },
  {
   "cell_type": "code",
   "execution_count": 29,
   "metadata": {},
   "outputs": [
    {
     "name": "stdout",
     "output_type": "stream",
     "text": [
      "We want to use: [123.65499, 125.455, 108.58483, 118.67466, 121.33866, 120.65533, 121.795] to predict this: 123.033\n"
     ]
    }
   ],
   "source": [
    "# What we want to do with our Bitcoin data\n",
    "print(f\"We want to use: {btc_price[:7]} to predict this: {btc_price[7]}\")"
   ]
  },
  {
   "attachments": {},
   "cell_type": "markdown",
   "metadata": {},
   "source": [
    "## Format Data Part 2: Windowing our dataset\n",
    "\n",
    "Why do we window? \n",
    "\n",
    "We window our time series dataset to turn our data into a supervised learning problem."
   ]
  },
  {
   "cell_type": "code",
   "execution_count": 30,
   "metadata": {},
   "outputs": [
    {
     "name": "stdout",
     "output_type": "stream",
     "text": [
      "We want to use: [123.65499, 125.455, 108.58483, 118.67466, 121.33866, 120.65533, 121.795] to predict this: 123.033\n"
     ]
    }
   ],
   "source": [
    "# What we want to do with our Bitcoin data\n",
    "print(f\"We want to use: {btc_price[:7]} to predict this: {btc_price[7]}\")"
   ]
  },
  {
   "cell_type": "code",
   "execution_count": 31,
   "metadata": {},
   "outputs": [],
   "source": [
    "# Let's setup global variables for window and horizon\n",
    "HORIZON = 1 # predict next 1 day\n",
    "WINDOW_SIZE = 7 # use the past week of Bitcoin data to make prediction"
   ]
  },
  {
   "cell_type": "code",
   "execution_count": 32,
   "metadata": {},
   "outputs": [],
   "source": [
    "# Create function to label window data\n",
    "def get_labeled_windows(x, horizon=HORIZON):\n",
    "    \"\"\"\n",
    "    Creates labels for windowed dataset.\n",
    "\n",
    "    e.g. if horizon = 1\n",
    "    Input: [0, 1, 2, 3, 4, 5, 6, 7] -> Output: ([0, 1, 2, 3, 4, 5, 6], [7])\n",
    "\n",
    "    \"\"\"\n",
    "    return x[:,:-horizon], x[:,-horizon:]"
   ]
  },
  {
   "cell_type": "code",
   "execution_count": 33,
   "metadata": {},
   "outputs": [
    {
     "name": "stdout",
     "output_type": "stream",
     "text": [
      "Window: [0 1 2 3 4 5 6] -> Label: 7\n"
     ]
    }
   ],
   "source": [
    "# Test out the window labelling function\n",
    "test_window, test_label = get_labeled_windows(tf.expand_dims(tf.range(8),axis = 0))\n",
    "print(f\"Window: {tf.squeeze(test_window).numpy()} -> Label: {tf.squeeze(test_label).numpy()}\")"
   ]
  },
  {
   "cell_type": "markdown",
   "metadata": {},
   "source": [
    "We've got a way to label our windowed data. However, this only works on a small scale. We need a way to do the above across our entire time series.\n",
    "\n",
    "Our function will:\n",
    "1. Create a window step of specific window size\n",
    "2. Use NumPy indexing to create a 2D array of multiple window steps\n",
    "3. Uses the 2D array of multiple window steps (from 2.) to index on a target series (e.g. the historical price of Bitcoin)\n",
    "4. Uses our `get_labeled_windows()` function we created above to turn the window steps into windows with a specified horizon"
   ]
  },
  {
   "cell_type": "code",
   "execution_count": 34,
   "metadata": {},
   "outputs": [],
   "source": [
    "# Import numpy\n",
    "import numpy as np"
   ]
  },
  {
   "cell_type": "code",
   "execution_count": 35,
   "metadata": {},
   "outputs": [],
   "source": [
    "# Create function to view NumPy arrays as windows\n",
    "def make_windows(x, window_size=WINDOW_SIZE, horizon=HORIZON):\n",
    "    \"\"\"\n",
    "    Turns a 1D array into a 2D array of sequential labelled windows of window size with horizon size labels\n",
    "    \"\"\"\n",
    "\n",
    "    # 1. Create a window of specific window size (add the horizon on the end for labelling)\n",
    "    window_step = np.expand_dims(np.arange(window_size+horizon),axis=0)\n",
    "\n",
    "    # 2. Create a 2D array of multiple window steps\n",
    "    window_indexes = window_step + np.expand_dims(np.arange(len(x)-window_size+horizon-1),axis=0).T\n",
    "\n",
    "    # 3. Index on the target array (a time series)\n",
    "    windowed_array = x[window_indexes]\n",
    "\n",
    "    # 4. Get the labelled window\n",
    "    window, labels = get_labeled_windows(windowed_array, horizon=horizon)\n",
    "\n",
    "    return window, labels"
   ]
  },
  {
   "cell_type": "code",
   "execution_count": 36,
   "metadata": {},
   "outputs": [
    {
     "data": {
      "text/plain": [
       "(2780, 2780)"
      ]
     },
     "execution_count": 36,
     "metadata": {},
     "output_type": "execute_result"
    }
   ],
   "source": [
    "# Generate full windows and labels\n",
    "full_windows, full_labels = make_windows(prices,window_size=WINDOW_SIZE,horizon=HORIZON)\n",
    "len(full_windows), len(full_labels)"
   ]
  },
  {
   "cell_type": "code",
   "execution_count": 37,
   "metadata": {},
   "outputs": [
    {
     "name": "stdout",
     "output_type": "stream",
     "text": [
      "Window: [123.65499 125.455   108.58483 118.67466 121.33866 120.65533 121.795  ]-> Label: [123.033]\n",
      "Window: [125.455   108.58483 118.67466 121.33866 120.65533 121.795   123.033  ]-> Label: [124.049]\n",
      "Window: [108.58483 118.67466 121.33866 120.65533 121.795   123.033   124.049  ]-> Label: [125.96116]\n"
     ]
    }
   ],
   "source": [
    "# View the first 3 windows/labels\n",
    "for i in range(3):\n",
    "    print(f\"Window: {full_windows[i]}-> Label: {full_labels[i]}\")"
   ]
  },
  {
   "cell_type": "code",
   "execution_count": 38,
   "metadata": {},
   "outputs": [
    {
     "name": "stdout",
     "output_type": "stream",
     "text": [
      "Window: [58788.20967893 58102.19142623 55715.54665129 56573.5554719\n",
      " 52147.82118698 49764.1320816  50032.69313676]-> Label: [47885.62525472]\n",
      "Window: [58102.19142623 55715.54665129 56573.5554719  52147.82118698\n",
      " 49764.1320816  50032.69313676 47885.62525472]-> Label: [45604.61575361]\n",
      "Window: [55715.54665129 56573.5554719  52147.82118698 49764.1320816\n",
      " 50032.69313676 47885.62525472 45604.61575361]-> Label: [43144.47129086]\n"
     ]
    }
   ],
   "source": [
    "# View the last 3 windows/labels\n",
    "for i in range(3):\n",
    "    print(f\"Window: {full_windows[i-3]}-> Label: {full_labels[i-3]}\")"
   ]
  },
  {
   "cell_type": "markdown",
   "metadata": {},
   "source": [
    "> 🔑 **Note**: There is a function that does similar to the one above [`tf.keras.utils.timeseries_dataset_from_array()`](https://www.tensorflow.org/api_docs/python/tf/keras/utils/timeseries_dataset_from_array)"
   ]
  },
  {
   "cell_type": "markdown",
   "metadata": {},
   "source": [
    "## Turning windows into training and test sets"
   ]
  },
  {
   "cell_type": "code",
   "execution_count": 39,
   "metadata": {},
   "outputs": [],
   "source": [
    "# Make the train/test splits\n",
    "def make_train_test_splits(windows, labels, test_split=0.2):\n",
    "  \"\"\"\n",
    "  Splits matching pairs of windows and labels into train and test splits.\n",
    "  \"\"\"\n",
    "  split_size = int(len(windows) * (1-test_split)) # this will default to 80% train/20% test\n",
    "  \n",
    "  train_windows = windows[:split_size]\n",
    "  train_labels = labels[:split_size]\n",
    "  \n",
    "  test_windows = windows[split_size:]\n",
    "  test_labels = labels[split_size:]\n",
    "\n",
    "  return train_windows, test_windows, train_labels, test_labels"
   ]
  },
  {
   "cell_type": "code",
   "execution_count": 40,
   "metadata": {},
   "outputs": [
    {
     "data": {
      "text/plain": [
       "(2224, 556, 2224, 556)"
      ]
     },
     "execution_count": 40,
     "metadata": {},
     "output_type": "execute_result"
    }
   ],
   "source": [
    "# Create train and test windows\n",
    "train_windows, test_windows, train_labels, test_labels = make_train_test_splits(full_windows, full_labels)\n",
    "len(train_windows), len(test_windows), len(train_labels), len(test_labels)"
   ]
  },
  {
   "cell_type": "code",
   "execution_count": 41,
   "metadata": {},
   "outputs": [
    {
     "data": {
      "text/plain": [
       "(array([[123.65499, 125.455  , 108.58483, 118.67466, 121.33866, 120.65533,\n",
       "         121.795  ],\n",
       "        [125.455  , 108.58483, 118.67466, 121.33866, 120.65533, 121.795  ,\n",
       "         123.033  ],\n",
       "        [108.58483, 118.67466, 121.33866, 120.65533, 121.795  , 123.033  ,\n",
       "         124.049  ],\n",
       "        [118.67466, 121.33866, 120.65533, 121.795  , 123.033  , 124.049  ,\n",
       "         125.96116],\n",
       "        [121.33866, 120.65533, 121.795  , 123.033  , 124.049  , 125.96116,\n",
       "         125.27966]]),\n",
       " array([[123.033  ],\n",
       "        [124.049  ],\n",
       "        [125.96116],\n",
       "        [125.27966],\n",
       "        [125.9275 ]]))"
      ]
     },
     "execution_count": 41,
     "metadata": {},
     "output_type": "execute_result"
    }
   ],
   "source": [
    "train_windows[:5], train_labels[:5]"
   ]
  },
  {
   "cell_type": "markdown",
   "metadata": {},
   "source": [
    "## Make a modelling checkpoint callback\n",
    "\n",
    "Because our model's performance will fluctuate from experiment to experiment, we're going to write a model checkpoint so we can compare apples to apples.\n",
    "\n",
    "More specifically, we want to compare each of our model's best performances against the other model's best performances. \n",
    "\n",
    "For example if our model performs the best on epoch 55 (but we're training for 100 epochs), we want to load and evaluate the model saved on epoch 55."
   ]
  },
  {
   "cell_type": "code",
   "execution_count": 42,
   "metadata": {},
   "outputs": [],
   "source": [
    "import os\n",
    "\n",
    "# Create a function to implement a ModelCheckpoint callback with a specific filename\n",
    "def create_model_checkpoint(model_name, save_path =\"model_experiments\"):\n",
    "    return tf.keras.callbacks.ModelCheckpoint(filepath=os.path.join(save_path,model_name),\n",
    "                                              monitor=\"val_loss\",\n",
    "                                              verbose=0,\n",
    "                                              save_best_only=True)"
   ]
  },
  {
   "attachments": {},
   "cell_type": "markdown",
   "metadata": {},
   "source": [
    "## Model 1: Dense model (window = 7, horizon = 1)\n",
    "\n",
    "Our first deep model is going to be a simple dense model: \n",
    "* A single dense layer with 128 hidden units and Relu activation\n",
    "* An output layer with linear activation (no activation)\n",
    "* Adam optimizer and MAE loss function\n",
    "* Batch size of 128 (previously we've used 32)\n",
    "* 100 epochs"
   ]
  },
  {
   "cell_type": "code",
   "execution_count": 43,
   "metadata": {},
   "outputs": [
    {
     "name": "stdout",
     "output_type": "stream",
     "text": [
      "Epoch 1/100\n",
      " 1/18 [>.............................] - ETA: 11s - loss: 2111.0571 - mae: 2111.0571 - mse: 9255782.0000INFO:tensorflow:Assets written to: model_experiments\\model_1_dense\\assets\n",
      "18/18 [==============================] - 1s 41ms/step - loss: 780.3455 - mae: 780.3455 - mse: 2312725.7500 - val_loss: 2279.6528 - val_mae: 2279.6528 - val_mse: 12772731.0000\n",
      "Epoch 2/100\n",
      " 1/18 [>.............................] - ETA: 0s - loss: 348.8859 - mae: 348.8859 - mse: 600802.5625INFO:tensorflow:Assets written to: model_experiments\\model_1_dense\\assets\n",
      "18/18 [==============================] - 0s 25ms/step - loss: 247.6756 - mae: 247.6756 - mse: 285481.1875 - val_loss: 1005.9992 - val_mae: 1005.9992 - val_mse: 3441833.5000\n",
      "Epoch 3/100\n",
      " 1/18 [>.............................] - ETA: 0s - loss: 134.4855 - mae: 134.4855 - mse: 70765.6875INFO:tensorflow:Assets written to: model_experiments\\model_1_dense\\assets\n",
      "18/18 [==============================] - 0s 24ms/step - loss: 188.4116 - mae: 188.4116 - mse: 171891.5938 - val_loss: 923.2863 - val_mae: 923.2863 - val_mse: 2868221.2500\n",
      "Epoch 4/100\n",
      "16/18 [=========================>....] - ETA: 0s - loss: 169.4214 - mae: 169.4214 - mse: 153927.8438INFO:tensorflow:Assets written to: model_experiments\\model_1_dense\\assets\n",
      "18/18 [==============================] - 1s 30ms/step - loss: 169.4340 - mae: 169.4340 - mse: 151700.5625 - val_loss: 900.5872 - val_mae: 900.5872 - val_mse: 2683715.7500\n",
      "Epoch 5/100\n",
      "17/18 [===========================>..] - ETA: 0s - loss: 166.6893 - mae: 166.6893 - mse: 147769.2188INFO:tensorflow:Assets written to: model_experiments\\model_1_dense\\assets\n",
      "18/18 [==============================] - 0s 26ms/step - loss: 165.0895 - mae: 165.0895 - mse: 145490.8125 - val_loss: 895.2236 - val_mae: 895.2236 - val_mse: 2564574.5000\n",
      "Epoch 6/100\n",
      "14/18 [======================>.......] - ETA: 0s - loss: 155.6029 - mae: 155.6029 - mse: 118222.0547INFO:tensorflow:Assets written to: model_experiments\\model_1_dense\\assets\n",
      "18/18 [==============================] - 0s 26ms/step - loss: 158.5210 - mae: 158.5210 - mse: 133817.7500 - val_loss: 855.1985 - val_mae: 855.1985 - val_mse: 2481873.7500\n",
      "Epoch 7/100\n",
      "18/18 [==============================] - ETA: 0s - loss: 151.3566 - mae: 151.3566 - mse: 123446.9922INFO:tensorflow:Assets written to: model_experiments\\model_1_dense\\assets\n",
      "18/18 [==============================] - 0s 25ms/step - loss: 151.3566 - mae: 151.3566 - mse: 123446.9922 - val_loss: 840.9167 - val_mae: 840.9166 - val_mse: 2276452.0000\n",
      "Epoch 8/100\n",
      "17/18 [===========================>..] - ETA: 0s - loss: 145.3278 - mae: 145.3278 - mse: 118771.5781INFO:tensorflow:Assets written to: model_experiments\\model_1_dense\\assets\n",
      "18/18 [==============================] - 0s 25ms/step - loss: 145.2560 - mae: 145.2560 - mse: 117694.5000 - val_loss: 803.5959 - val_mae: 803.5959 - val_mse: 2140574.7500\n",
      "Epoch 9/100\n",
      "17/18 [===========================>..] - ETA: 0s - loss: 144.6505 - mae: 144.6505 - mse: 116260.0859INFO:tensorflow:Assets written to: model_experiments\\model_1_dense\\assets\n",
      "18/18 [==============================] - 0s 25ms/step - loss: 144.3546 - mae: 144.3546 - mse: 115269.3125 - val_loss: 799.5455 - val_mae: 799.5455 - val_mse: 2049208.1250\n",
      "Epoch 10/100\n",
      "18/18 [==============================] - ETA: 0s - loss: 141.2943 - mae: 141.2943 - mse: 112394.5938INFO:tensorflow:Assets written to: model_experiments\\model_1_dense\\assets\n",
      "18/18 [==============================] - 0s 24ms/step - loss: 141.2943 - mae: 141.2943 - mse: 112394.5938 - val_loss: 763.5010 - val_mae: 763.5010 - val_mse: 1933141.0000\n",
      "Epoch 11/100\n",
      "18/18 [==============================] - 0s 5ms/step - loss: 135.6595 - mae: 135.6595 - mse: 104118.2578 - val_loss: 771.3354 - val_mae: 771.3354 - val_mse: 1885849.5000\n",
      "Epoch 12/100\n",
      "18/18 [==============================] - 0s 5ms/step - loss: 134.1700 - mae: 134.1700 - mse: 101780.8672 - val_loss: 782.8077 - val_mae: 782.8077 - val_mse: 1881726.8750\n",
      "Epoch 13/100\n",
      "18/18 [==============================] - 0s 5ms/step - loss: 134.6015 - mae: 134.6015 - mse: 102345.2500 - val_loss: 784.4446 - val_mae: 784.4446 - val_mse: 1860995.0000\n",
      "Epoch 14/100\n",
      "17/18 [===========================>..] - ETA: 0s - loss: 127.6787 - mae: 127.6787 - mse: 91905.3594INFO:tensorflow:Assets written to: model_experiments\\model_1_dense\\assets\n",
      "18/18 [==============================] - 0s 25ms/step - loss: 130.6127 - mae: 130.6127 - mse: 96225.1484 - val_loss: 751.3230 - val_mae: 751.3231 - val_mse: 1749608.5000\n",
      "Epoch 15/100\n",
      "17/18 [===========================>..] - ETA: 0s - loss: 128.8021 - mae: 128.8021 - mse: 94575.9688INFO:tensorflow:Assets written to: model_experiments\\model_1_dense\\assets\n",
      "18/18 [==============================] - 0s 25ms/step - loss: 128.8347 - mae: 128.8347 - mse: 94307.0156 - val_loss: 696.5756 - val_mae: 696.5756 - val_mse: 1606352.6250\n",
      "Epoch 16/100\n",
      "18/18 [==============================] - 0s 6ms/step - loss: 124.7738 - mae: 124.7738 - mse: 90394.9297 - val_loss: 702.4695 - val_mae: 702.4695 - val_mse: 1592415.5000\n",
      "Epoch 17/100\n",
      "18/18 [==============================] - 0s 5ms/step - loss: 123.4474 - mae: 123.4474 - mse: 89247.6953 - val_loss: 704.9236 - val_mae: 704.9236 - val_mse: 1580782.5000\n",
      "Epoch 18/100\n",
      " 1/18 [>.............................] - ETA: 0s - loss: 137.2540 - mae: 137.2540 - mse: 95732.7656INFO:tensorflow:Assets written to: model_experiments\\model_1_dense\\assets\n",
      "18/18 [==============================] - 0s 25ms/step - loss: 122.2105 - mae: 122.2105 - mse: 87607.6016 - val_loss: 667.9723 - val_mae: 667.9723 - val_mse: 1498881.8750\n",
      "Epoch 19/100\n",
      "18/18 [==============================] - 0s 5ms/step - loss: 121.7262 - mae: 121.7262 - mse: 86632.2734 - val_loss: 718.8792 - val_mae: 718.8792 - val_mse: 1589298.0000\n",
      "Epoch 20/100\n",
      "17/18 [===========================>..] - ETA: 0s - loss: 119.0798 - mae: 119.0798 - mse: 84785.1172 INFO:tensorflow:Assets written to: model_experiments\\model_1_dense\\assets\n",
      "18/18 [==============================] - 0s 25ms/step - loss: 119.2420 - mae: 119.2420 - mse: 84334.3281 - val_loss: 657.0665 - val_mae: 657.0665 - val_mse: 1447500.7500\n",
      "Epoch 21/100\n",
      "17/18 [===========================>..] - ETA: 0s - loss: 120.3041 - mae: 120.3041 - mse: 81402.6562INFO:tensorflow:Assets written to: model_experiments\\model_1_dense\\assets\n",
      "18/18 [==============================] - 0s 24ms/step - loss: 121.2275 - mae: 121.2275 - mse: 85743.3984 - val_loss: 637.0330 - val_mae: 637.0330 - val_mse: 1401774.0000\n",
      "Epoch 22/100\n",
      "18/18 [==============================] - 0s 5ms/step - loss: 119.9544 - mae: 119.9544 - mse: 84050.1016 - val_loss: 671.2486 - val_mae: 671.2486 - val_mse: 1447895.7500\n",
      "Epoch 23/100\n",
      " 1/18 [>.............................] - ETA: 0s - loss: 116.0426 - mae: 116.0426 - mse: 57999.4727INFO:tensorflow:Assets written to: model_experiments\\model_1_dense\\assets\n",
      "18/18 [==============================] - 1s 31ms/step - loss: 121.9248 - mae: 121.9248 - mse: 83746.1250 - val_loss: 633.3590 - val_mae: 633.3590 - val_mse: 1367377.5000\n",
      "Epoch 24/100\n",
      "17/18 [===========================>..] - ETA: 0s - loss: 117.7409 - mae: 117.7409 - mse: 82912.0625INFO:tensorflow:Assets written to: model_experiments\\model_1_dense\\assets\n",
      "18/18 [==============================] - 0s 25ms/step - loss: 116.3665 - mae: 116.3665 - mse: 81446.6797 - val_loss: 624.4853 - val_mae: 624.4853 - val_mse: 1348961.2500\n",
      "Epoch 25/100\n",
      "17/18 [===========================>..] - ETA: 0s - loss: 115.1250 - mae: 115.1250 - mse: 79750.3750INFO:tensorflow:Assets written to: model_experiments\\model_1_dense\\assets\n",
      "18/18 [==============================] - 0s 24ms/step - loss: 114.6816 - mae: 114.6816 - mse: 78912.8438 - val_loss: 619.7573 - val_mae: 619.7573 - val_mse: 1351090.1250\n",
      "Epoch 26/100\n",
      "16/18 [=========================>....] - ETA: 0s - loss: 118.2556 - mae: 118.2556 - mse: 78681.4141INFO:tensorflow:Assets written to: model_experiments\\model_1_dense\\assets\n",
      "18/18 [==============================] - 0s 24ms/step - loss: 116.4456 - mae: 116.4456 - mse: 79365.5938 - val_loss: 615.6364 - val_mae: 615.6364 - val_mse: 1321514.6250\n",
      "Epoch 27/100\n",
      "18/18 [==============================] - 0s 5ms/step - loss: 116.5868 - mae: 116.5868 - mse: 78672.9453 - val_loss: 615.9629 - val_mae: 615.9629 - val_mse: 1313077.7500\n",
      "Epoch 28/100\n",
      "16/18 [=========================>....] - ETA: 0s - loss: 112.7727 - mae: 112.7727 - mse: 78248.2188INFO:tensorflow:Assets written to: model_experiments\\model_1_dense\\assets\n",
      "18/18 [==============================] - 0s 25ms/step - loss: 113.4691 - mae: 113.4691 - mse: 77440.1250 - val_loss: 608.0922 - val_mae: 608.0922 - val_mse: 1309775.7500\n",
      "Epoch 29/100\n",
      "18/18 [==============================] - 0s 5ms/step - loss: 113.7598 - mae: 113.7598 - mse: 78506.9531 - val_loss: 621.9301 - val_mae: 621.9301 - val_mse: 1313324.3750\n",
      "Epoch 30/100\n",
      "17/18 [===========================>..] - ETA: 0s - loss: 117.4094 - mae: 117.4094 - mse: 80077.0859INFO:tensorflow:Assets written to: model_experiments\\model_1_dense\\assets\n",
      "18/18 [==============================] - 0s 25ms/step - loss: 116.8613 - mae: 116.8613 - mse: 79236.4609 - val_loss: 604.4055 - val_mae: 604.4055 - val_mse: 1283408.2500\n",
      "Epoch 31/100\n",
      "18/18 [==============================] - 0s 6ms/step - loss: 111.9375 - mae: 111.9375 - mse: 74849.0703 - val_loss: 609.3879 - val_mae: 609.3879 - val_mse: 1284505.8750\n",
      "Epoch 32/100\n",
      "16/18 [=========================>....] - ETA: 0s - loss: 111.2109 - mae: 111.2109 - mse: 74370.7578INFO:tensorflow:Assets written to: model_experiments\\model_1_dense\\assets\n",
      "18/18 [==============================] - 0s 26ms/step - loss: 112.4175 - mae: 112.4175 - mse: 77178.6016 - val_loss: 603.0585 - val_mae: 603.0585 - val_mse: 1273058.6250\n",
      "Epoch 33/100\n",
      "18/18 [==============================] - 0s 5ms/step - loss: 112.6697 - mae: 112.6697 - mse: 75788.0078 - val_loss: 645.6965 - val_mae: 645.6965 - val_mse: 1353254.0000\n",
      "Epoch 34/100\n",
      "18/18 [==============================] - 0s 5ms/step - loss: 111.9867 - mae: 111.9867 - mse: 77245.7266 - val_loss: 604.7639 - val_mae: 604.7639 - val_mse: 1289361.8750\n",
      "Epoch 35/100\n",
      "16/18 [=========================>....] - ETA: 0s - loss: 110.9354 - mae: 110.9354 - mse: 77063.3516INFO:tensorflow:Assets written to: model_experiments\\model_1_dense\\assets\n",
      "18/18 [==============================] - 0s 26ms/step - loss: 110.9451 - mae: 110.9451 - mse: 75301.8281 - val_loss: 593.4648 - val_mae: 593.4648 - val_mse: 1250491.8750\n",
      "Epoch 36/100\n",
      "18/18 [==============================] - 0s 5ms/step - loss: 114.4816 - mae: 114.4816 - mse: 76138.5703 - val_loss: 608.0067 - val_mae: 608.0067 - val_mse: 1269270.5000\n",
      "Epoch 37/100\n",
      "18/18 [==============================] - 0s 5ms/step - loss: 110.2016 - mae: 110.2016 - mse: 74635.3125 - val_loss: 597.2306 - val_mae: 597.2306 - val_mse: 1248473.8750\n",
      "Epoch 38/100\n",
      "18/18 [==============================] - 0s 5ms/step - loss: 112.2371 - mae: 112.2371 - mse: 75821.7266 - val_loss: 637.9808 - val_mae: 637.9808 - val_mse: 1366132.7500\n",
      "Epoch 39/100\n",
      "17/18 [===========================>..] - ETA: 0s - loss: 114.8986 - mae: 114.8986 - mse: 76431.7578 INFO:tensorflow:Assets written to: model_experiments\\model_1_dense\\assets\n",
      "18/18 [==============================] - 0s 24ms/step - loss: 115.1290 - mae: 115.1290 - mse: 76339.6797 - val_loss: 587.4678 - val_mae: 587.4678 - val_mse: 1233512.5000\n",
      "Epoch 40/100\n",
      "18/18 [==============================] - 0s 5ms/step - loss: 110.0854 - mae: 110.0854 - mse: 73528.5000 - val_loss: 592.7120 - val_mae: 592.7120 - val_mse: 1251474.8750\n",
      "Epoch 41/100\n",
      "18/18 [==============================] - 0s 5ms/step - loss: 110.6344 - mae: 110.6344 - mse: 73528.8281 - val_loss: 593.9002 - val_mae: 593.9002 - val_mse: 1253679.3750\n",
      "Epoch 42/100\n",
      "18/18 [==============================] - 0s 5ms/step - loss: 113.5762 - mae: 113.5762 - mse: 77076.7500 - val_loss: 636.3661 - val_mae: 636.3661 - val_mse: 1317280.6250\n",
      "Epoch 43/100\n",
      "18/18 [==============================] - 0s 5ms/step - loss: 116.2285 - mae: 116.2285 - mse: 74712.2109 - val_loss: 662.9277 - val_mae: 662.9277 - val_mse: 1419205.8750\n",
      "Epoch 44/100\n",
      "18/18 [==============================] - 0s 5ms/step - loss: 120.0193 - mae: 120.0193 - mse: 80971.9219 - val_loss: 635.6375 - val_mae: 635.6375 - val_mse: 1346002.8750\n",
      "Epoch 45/100\n",
      "18/18 [==============================] - 0s 5ms/step - loss: 110.9675 - mae: 110.9675 - mse: 74941.3203 - val_loss: 601.9918 - val_mae: 601.9918 - val_mse: 1244814.7500\n",
      "Epoch 46/100\n",
      "18/18 [==============================] - 0s 5ms/step - loss: 111.6012 - mae: 111.6012 - mse: 74565.6328 - val_loss: 593.3539 - val_mae: 593.3539 - val_mse: 1248765.8750\n",
      "Epoch 47/100\n",
      "18/18 [==============================] - 0s 5ms/step - loss: 109.6161 - mae: 109.6161 - mse: 74190.7422 - val_loss: 637.0000 - val_mae: 637.0000 - val_mse: 1314967.7500\n",
      "Epoch 48/100\n",
      "18/18 [==============================] - 0s 5ms/step - loss: 109.1368 - mae: 109.1368 - mse: 72792.5859 - val_loss: 598.4189 - val_mae: 598.4189 - val_mse: 1234608.6250\n",
      "Epoch 49/100\n",
      "17/18 [===========================>..] - ETA: 0s - loss: 112.7001 - mae: 112.7001 - mse: 74284.7109 INFO:tensorflow:Assets written to: model_experiments\\model_1_dense\\assets\n",
      "18/18 [==============================] - 0s 29ms/step - loss: 112.4355 - mae: 112.4355 - mse: 73980.3672 - val_loss: 579.7040 - val_mae: 579.7040 - val_mse: 1208301.8750\n",
      "Epoch 50/100\n",
      "18/18 [==============================] - 0s 6ms/step - loss: 110.2108 - mae: 110.2108 - mse: 72939.7188 - val_loss: 639.2337 - val_mae: 639.2337 - val_mse: 1347997.1250\n",
      "Epoch 51/100\n",
      "18/18 [==============================] - 0s 5ms/step - loss: 111.0958 - mae: 111.0958 - mse: 73281.9219 - val_loss: 597.3566 - val_mae: 597.3566 - val_mse: 1229789.8750\n",
      "Epoch 52/100\n",
      "18/18 [==============================] - 0s 5ms/step - loss: 110.7351 - mae: 110.7351 - mse: 74529.6328 - val_loss: 580.7230 - val_mae: 580.7230 - val_mse: 1215478.3750\n",
      "Epoch 53/100\n",
      "18/18 [==============================] - 0s 6ms/step - loss: 111.1785 - mae: 111.1785 - mse: 74149.5078 - val_loss: 648.3575 - val_mae: 648.3575 - val_mse: 1336948.3750\n",
      "Epoch 54/100\n",
      "18/18 [==============================] - 0s 6ms/step - loss: 114.0831 - mae: 114.0831 - mse: 74815.0859 - val_loss: 593.2001 - val_mae: 593.2001 - val_mse: 1220660.3750\n",
      "Epoch 55/100\n",
      "15/18 [========================>.....] - ETA: 0s - loss: 114.3634 - mae: 114.3634 - mse: 78397.8359 INFO:tensorflow:Assets written to: model_experiments\\model_1_dense\\assets\n",
      "18/18 [==============================] - 0s 25ms/step - loss: 110.4910 - mae: 110.4910 - mse: 74711.2500 - val_loss: 579.5068 - val_mae: 579.5068 - val_mse: 1211581.2500\n",
      "Epoch 56/100\n",
      "18/18 [==============================] - 0s 6ms/step - loss: 108.0488 - mae: 108.0488 - mse: 71844.1641 - val_loss: 807.3871 - val_mae: 807.3871 - val_mse: 1859299.5000\n",
      "Epoch 57/100\n",
      "18/18 [==============================] - 0s 6ms/step - loss: 125.0614 - mae: 125.0614 - mse: 84025.2734 - val_loss: 674.1669 - val_mae: 674.1669 - val_mse: 1437690.5000\n",
      "Epoch 58/100\n",
      "18/18 [==============================] - 0s 5ms/step - loss: 115.4340 - mae: 115.4340 - mse: 73710.7578 - val_loss: 582.2692 - val_mae: 582.2692 - val_mse: 1202679.1250\n",
      "Epoch 59/100\n",
      "18/18 [==============================] - 0s 6ms/step - loss: 110.0881 - mae: 110.0881 - mse: 72845.1328 - val_loss: 606.7650 - val_mae: 606.7650 - val_mse: 1267546.2500\n",
      "Epoch 60/100\n",
      "18/18 [==============================] - 0s 5ms/step - loss: 108.7156 - mae: 108.7156 - mse: 72675.7969 - val_loss: 602.3090 - val_mae: 602.3090 - val_mse: 1234688.2500\n",
      "Epoch 61/100\n",
      "15/18 [========================>.....] - ETA: 0s - loss: 110.2603 - mae: 110.2603 - mse: 75117.7031INFO:tensorflow:Assets written to: model_experiments\\model_1_dense\\assets\n",
      "18/18 [==============================] - 0s 25ms/step - loss: 108.1525 - mae: 108.1525 - mse: 72252.1250 - val_loss: 573.9988 - val_mae: 573.9988 - val_mse: 1189583.2500\n",
      "Epoch 62/100\n",
      "18/18 [==============================] - 0s 6ms/step - loss: 107.3727 - mae: 107.3727 - mse: 70822.8359 - val_loss: 581.7021 - val_mae: 581.7021 - val_mse: 1214007.3750\n",
      "Epoch 63/100\n",
      "18/18 [==============================] - 0s 6ms/step - loss: 110.7667 - mae: 110.7667 - mse: 73178.4688 - val_loss: 637.5234 - val_mae: 637.5234 - val_mse: 1311199.7500\n",
      "Epoch 64/100\n",
      "18/18 [==============================] - 0s 6ms/step - loss: 110.1539 - mae: 110.1539 - mse: 72588.2422 - val_loss: 586.6592 - val_mae: 586.6592 - val_mse: 1207115.2500\n",
      "Epoch 65/100\n",
      "15/18 [========================>.....] - ETA: 0s - loss: 106.9197 - mae: 106.9197 - mse: 71782.1484 INFO:tensorflow:Assets written to: model_experiments\\model_1_dense\\assets\n",
      "18/18 [==============================] - 0s 25ms/step - loss: 108.2325 - mae: 108.2325 - mse: 71962.0859 - val_loss: 573.5617 - val_mae: 573.5617 - val_mse: 1188986.2500\n",
      "Epoch 66/100\n",
      "13/18 [====================>.........] - ETA: 0s - loss: 105.7378 - mae: 105.7378 - mse: 66057.5156INFO:tensorflow:Assets written to: model_experiments\\model_1_dense\\assets\n",
      "18/18 [==============================] - 0s 28ms/step - loss: 108.6825 - mae: 108.6825 - mse: 71026.3672 - val_loss: 572.2206 - val_mae: 572.2206 - val_mse: 1187818.3750\n",
      "Epoch 67/100\n",
      "18/18 [==============================] - 0s 6ms/step - loss: 106.6371 - mae: 106.6371 - mse: 70166.2656 - val_loss: 646.6371 - val_mae: 646.6371 - val_mse: 1356396.2500\n",
      "Epoch 68/100\n",
      "18/18 [==============================] - 0s 6ms/step - loss: 114.1603 - mae: 114.1603 - mse: 71297.3281 - val_loss: 681.8581 - val_mae: 681.8581 - val_mse: 1455432.8750\n",
      "Epoch 69/100\n",
      "18/18 [==============================] - 0s 7ms/step - loss: 124.5514 - mae: 124.5514 - mse: 81239.0000 - val_loss: 655.9902 - val_mae: 655.9902 - val_mse: 1383327.2500\n",
      "Epoch 70/100\n",
      "18/18 [==============================] - 0s 6ms/step - loss: 125.0234 - mae: 125.0234 - mse: 83058.1953 - val_loss: 601.0046 - val_mae: 601.0046 - val_mse: 1256965.2500\n",
      "Epoch 71/100\n",
      "18/18 [==============================] - 0s 5ms/step - loss: 110.3651 - mae: 110.3651 - mse: 71691.5156 - val_loss: 595.3952 - val_mae: 595.3952 - val_mse: 1222770.1250\n",
      "Epoch 72/100\n",
      "18/18 [==============================] - 0s 6ms/step - loss: 107.9285 - mae: 107.9285 - mse: 71745.5391 - val_loss: 573.7084 - val_mae: 573.7084 - val_mse: 1192818.7500\n",
      "Epoch 73/100\n",
      "18/18 [==============================] - 0s 6ms/step - loss: 109.5085 - mae: 109.5085 - mse: 71691.1641 - val_loss: 580.4187 - val_mae: 580.4187 - val_mse: 1211318.3750\n",
      "Epoch 74/100\n",
      "18/18 [==============================] - 0s 9ms/step - loss: 108.7380 - mae: 108.7380 - mse: 72051.1328 - val_loss: 576.1218 - val_mae: 576.1218 - val_mse: 1199671.0000\n",
      "Epoch 75/100\n",
      "18/18 [==============================] - 0s 5ms/step - loss: 107.9404 - mae: 107.9404 - mse: 71043.1641 - val_loss: 591.1465 - val_mae: 591.1465 - val_mse: 1211106.3750\n",
      "Epoch 76/100\n",
      "18/18 [==============================] - 0s 5ms/step - loss: 109.4232 - mae: 109.4232 - mse: 72295.0547 - val_loss: 597.8621 - val_mae: 597.8621 - val_mse: 1243938.1250\n",
      "Epoch 77/100\n",
      "18/18 [==============================] - ETA: 0s - loss: 107.5879 - mae: 107.5879 - mse: 70333.8594INFO:tensorflow:Assets written to: model_experiments\\model_1_dense\\assets\n",
      "18/18 [==============================] - 0s 25ms/step - loss: 107.5879 - mae: 107.5879 - mse: 70333.8594 - val_loss: 571.9301 - val_mae: 571.9301 - val_mse: 1186830.2500\n",
      "Epoch 78/100\n",
      "18/18 [==============================] - 0s 5ms/step - loss: 108.1598 - mae: 108.1598 - mse: 70200.1094 - val_loss: 575.2389 - val_mae: 575.2389 - val_mse: 1195317.8750\n",
      "Epoch 79/100\n",
      "18/18 [==============================] - 0s 5ms/step - loss: 107.9175 - mae: 107.9175 - mse: 72451.6250 - val_loss: 617.3091 - val_mae: 617.3091 - val_mse: 1285513.8750\n",
      "Epoch 80/100\n",
      "18/18 [==============================] - 0s 5ms/step - loss: 108.9510 - mae: 108.9510 - mse: 72158.7969 - val_loss: 583.4837 - val_mae: 583.4837 - val_mse: 1194356.0000\n",
      "Epoch 81/100\n",
      "18/18 [==============================] - ETA: 0s - loss: 106.0505 - mae: 106.0505 - mse: 69690.9219INFO:tensorflow:Assets written to: model_experiments\\model_1_dense\\assets\n",
      "18/18 [==============================] - 0s 24ms/step - loss: 106.0505 - mae: 106.0505 - mse: 69690.9219 - val_loss: 570.0801 - val_mae: 570.0801 - val_mse: 1177237.6250\n",
      "Epoch 82/100\n",
      "18/18 [==============================] - 0s 5ms/step - loss: 115.6827 - mae: 115.6827 - mse: 76903.5000 - val_loss: 575.7390 - val_mae: 575.7390 - val_mse: 1194663.6250\n",
      "Epoch 83/100\n",
      "18/18 [==============================] - 0s 4ms/step - loss: 110.9379 - mae: 110.9379 - mse: 72968.3203 - val_loss: 659.6589 - val_mae: 659.6589 - val_mse: 1388833.0000\n",
      "Epoch 84/100\n",
      "18/18 [==============================] - 0s 4ms/step - loss: 111.4837 - mae: 111.4837 - mse: 73017.9531 - val_loss: 570.1957 - val_mae: 570.1957 - val_mse: 1177492.3750\n",
      "Epoch 85/100\n",
      "18/18 [==============================] - 0s 4ms/step - loss: 107.5949 - mae: 107.5949 - mse: 70728.2266 - val_loss: 601.5933 - val_mae: 601.5933 - val_mse: 1228450.1250\n",
      "Epoch 86/100\n",
      "18/18 [==============================] - 0s 4ms/step - loss: 108.9426 - mae: 108.9426 - mse: 70066.7812 - val_loss: 592.8096 - val_mae: 592.8096 - val_mse: 1209679.3750\n",
      "Epoch 87/100\n",
      "18/18 [==============================] - 0s 4ms/step - loss: 105.7717 - mae: 105.7717 - mse: 68382.3906 - val_loss: 603.6180 - val_mae: 603.6180 - val_mse: 1252411.3750\n",
      "Epoch 88/100\n",
      " 1/18 [>.............................] - ETA: 0s - loss: 135.4519 - mae: 135.4519 - mse: 130713.6172INFO:tensorflow:Assets written to: model_experiments\\model_1_dense\\assets\n",
      "18/18 [==============================] - 1s 31ms/step - loss: 107.9218 - mae: 107.9218 - mse: 71668.0859 - val_loss: 569.0501 - val_mae: 569.0501 - val_mse: 1174588.6250\n",
      "Epoch 89/100\n",
      "16/18 [=========================>....] - ETA: 0s - loss: 101.2451 - mae: 101.2451 - mse: 61805.3281INFO:tensorflow:Assets written to: model_experiments\\model_1_dense\\assets\n",
      "18/18 [==============================] - 0s 25ms/step - loss: 106.0344 - mae: 106.0344 - mse: 68979.1641 - val_loss: 568.9511 - val_mae: 568.9511 - val_mse: 1171743.8750\n",
      "Epoch 90/100\n",
      "18/18 [==============================] - 0s 5ms/step - loss: 105.4977 - mae: 105.4977 - mse: 67516.4922 - val_loss: 581.7675 - val_mae: 581.7675 - val_mse: 1190160.2500\n",
      "Epoch 91/100\n",
      "18/18 [==============================] - 0s 4ms/step - loss: 108.8468 - mae: 108.8468 - mse: 71112.3750 - val_loss: 573.6027 - val_mae: 573.6027 - val_mse: 1185216.8750\n",
      "Epoch 92/100\n",
      "18/18 [==============================] - 0s 4ms/step - loss: 110.8884 - mae: 110.8884 - mse: 73287.8359 - val_loss: 576.8241 - val_mae: 576.8241 - val_mse: 1181628.2500\n",
      "Epoch 93/100\n",
      "18/18 [==============================] - 0s 4ms/step - loss: 113.8781 - mae: 113.8781 - mse: 75236.4609 - val_loss: 608.3030 - val_mae: 608.3030 - val_mse: 1264208.1250\n",
      "Epoch 94/100\n",
      "18/18 [==============================] - 0s 5ms/step - loss: 110.5763 - mae: 110.5763 - mse: 72590.9219 - val_loss: 601.6036 - val_mae: 601.6036 - val_mse: 1229104.1250\n",
      "Epoch 95/100\n",
      "18/18 [==============================] - 0s 4ms/step - loss: 106.5906 - mae: 106.5906 - mse: 68612.3359 - val_loss: 570.3649 - val_mae: 570.3649 - val_mse: 1175759.1250\n",
      "Epoch 96/100\n",
      "18/18 [==============================] - 0s 4ms/step - loss: 116.9515 - mae: 116.9515 - mse: 75082.1328 - val_loss: 615.2593 - val_mae: 615.2593 - val_mse: 1277126.5000\n",
      "Epoch 97/100\n",
      "18/18 [==============================] - 0s 5ms/step - loss: 108.0739 - mae: 108.0739 - mse: 71321.4609 - val_loss: 580.3079 - val_mae: 580.3079 - val_mse: 1202623.2500\n",
      "Epoch 98/100\n",
      "18/18 [==============================] - 0s 4ms/step - loss: 108.7102 - mae: 108.7102 - mse: 70248.1328 - val_loss: 586.6506 - val_mae: 586.6506 - val_mse: 1200830.2500\n",
      "Epoch 99/100\n",
      "18/18 [==============================] - 0s 4ms/step - loss: 109.0488 - mae: 109.0488 - mse: 70913.1797 - val_loss: 570.0629 - val_mae: 570.0629 - val_mse: 1177064.3750\n",
      "Epoch 100/100\n",
      "18/18 [==============================] - 0s 4ms/step - loss: 106.1845 - mae: 106.1845 - mse: 68681.7344 - val_loss: 585.9753 - val_mae: 585.9753 - val_mse: 1197801.2500\n"
     ]
    },
    {
     "data": {
      "text/plain": [
       "<keras.callbacks.History at 0x1a13406f100>"
      ]
     },
     "execution_count": 43,
     "metadata": {},
     "output_type": "execute_result"
    }
   ],
   "source": [
    "import tensorflow as tf\n",
    "from tensorflow.keras import layers\n",
    "\n",
    "# Set random seed for reproducible results\n",
    "tf.random.set_seed(42)\n",
    "\n",
    "# 1. Build\n",
    "model_1 = tf.keras.Sequential([\n",
    "   layers.Dense(128, activation=\"relu\"),\n",
    "   layers.Dense(HORIZON, activation=\"linear\") # linera activation -> ouput is the same as input\n",
    "], name=\"model_1_dense\") # name the model so we can save it\n",
    "\n",
    "# 2. Compile\n",
    "model_1.compile(loss=\"mae\",\n",
    "                optimizer=tf.keras.optimizers.Adam(),\n",
    "                metrics=[\"mae\",\"mse\"])\n",
    "\n",
    "# 3. Fit the model\n",
    "model_1.fit(x=train_windows,\n",
    "            y=train_labels,\n",
    "            epochs=100,\n",
    "            verbose=1,\n",
    "            batch_size=128,\n",
    "            validation_data=(test_windows,test_labels),\n",
    "            callbacks=[create_model_checkpoint(model_name=model_1.name)])"
   ]
  },
  {
   "cell_type": "code",
   "execution_count": 44,
   "metadata": {},
   "outputs": [
    {
     "name": "stdout",
     "output_type": "stream",
     "text": [
      "18/18 [==============================] - 0s 2ms/step - loss: 585.9752 - mae: 585.9752 - mse: 1197801.2500\n"
     ]
    },
    {
     "data": {
      "text/plain": [
       "[585.9752197265625, 585.9752197265625, 1197801.25]"
      ]
     },
     "execution_count": 44,
     "metadata": {},
     "output_type": "execute_result"
    }
   ],
   "source": [
    "# Evaluate model on test data\n",
    "model_1.evaluate(test_windows,test_labels)"
   ]
  },
  {
   "cell_type": "code",
   "execution_count": 45,
   "metadata": {},
   "outputs": [
    {
     "name": "stdout",
     "output_type": "stream",
     "text": [
      "18/18 [==============================] - 0s 2ms/step - loss: 568.9510 - mae: 568.9510 - mse: 1171743.8750\n"
     ]
    },
    {
     "data": {
      "text/plain": [
       "[568.9510498046875, 568.9510498046875, 1171743.875]"
      ]
     },
     "execution_count": 45,
     "metadata": {},
     "output_type": "execute_result"
    }
   ],
   "source": [
    "# Load in saved best performing model_1 and evaluate it on test data\n",
    "model_1 = tf.keras.models.load_model(\"model_experiments/model_1_dense/\")\n",
    "model_1.evaluate(test_windows,test_labels)"
   ]
  },
  {
   "attachments": {},
   "cell_type": "markdown",
   "metadata": {},
   "source": [
    "## Making forecasts with a model (on the test dataset)\n",
    "\n",
    "To make \"forecasts\" on the test dataset (note: these won't be actual forecasts, they're only psuedo forecasts becasue actual forecasts are into the future), let's write a function to:\n",
    "\n",
    "1. Take in a trained model\n",
    "2. Takes in some input data (same kind of data the model was training on)\n",
    "3. Passes the input data to the model's `predict()` method\n",
    "4. Returns predictions"
   ]
  },
  {
   "cell_type": "code",
   "execution_count": 46,
   "metadata": {},
   "outputs": [],
   "source": [
    "def make_preds(model, input_data):\n",
    "    \"\"\"\n",
    "    Uses model to make predictions input_data\n",
    "    \"\"\"\n",
    "    forecast = model.predict(input_data)\n",
    "    return tf.squeeze(forecast) # return 1D array of predictions"
   ]
  },
  {
   "cell_type": "code",
   "execution_count": 47,
   "metadata": {},
   "outputs": [
    {
     "name": "stdout",
     "output_type": "stream",
     "text": [
      "18/18 [==============================] - 0s 939us/step\n"
     ]
    },
    {
     "data": {
      "text/plain": [
       "(556,\n",
       " <tf.Tensor: shape=(10,), dtype=float32, numpy=\n",
       " array([8861.713, 8769.888, 9015.712, 8795.52 , 8723.812, 8730.111,\n",
       "        8691.953, 8502.056, 8460.962, 8516.548], dtype=float32)>)"
      ]
     },
     "execution_count": 47,
     "metadata": {},
     "output_type": "execute_result"
    }
   ],
   "source": [
    "# Make predictions of model_1 on the test dataset and view results\n",
    "model_1_preds = make_preds(model_1, test_windows)\n",
    "len(model_1_preds), model_1_preds[:10]"
   ]
  },
  {
   "cell_type": "code",
   "execution_count": 55,
   "metadata": {},
   "outputs": [
    {
     "data": {
      "text/plain": [
       "{'mae': 568.9510498046875,\n",
       " 'mse': 1171743.875,\n",
       " 'rmse': 1082.47119140625,\n",
       " 'mape': 2.544898271560669,\n",
       " 'mase': 0.999489426612854}"
      ]
     },
     "execution_count": 55,
     "metadata": {},
     "output_type": "execute_result"
    }
   ],
   "source": [
    "# Evalaute preds\n",
    "model_1_results = evaluate_preds(y_true=tf.squeeze(test_labels),\n",
    "                                 y_pred=model_1_preds)\n",
    "model_1_results                                 "
   ]
  },
  {
   "attachments": {},
   "cell_type": "markdown",
   "metadata": {},
   "source": [
    "Save model results"
   ]
  },
  {
   "cell_type": "code",
   "execution_count": 56,
   "metadata": {},
   "outputs": [
    {
     "name": "stdout",
     "output_type": "stream",
     "text": [
      "Success! File written to destination.\n"
     ]
    }
   ],
   "source": [
    "from Functions.helper_functions import save_model_results_json\n",
    "\n",
    "des_path = r\"Saved Results\\10_time_series_forecasting_with_tensorflow\"\n",
    "\n",
    "save_model_results_json(filepath=des_path,\n",
    "                        var_to_save=model_1_results,\n",
    "                        file_string=\"model_1_results\")"
   ]
  },
  {
   "cell_type": "code",
   "execution_count": 65,
   "metadata": {},
   "outputs": [
    {
     "data": {
      "image/png": "[encoded data removed]",
      "text/plain": [
       "<Figure size 720x504 with 1 Axes>"
      ]
     },
     "metadata": {
      "needs_background": "light"
     },
     "output_type": "display_data"
    }
   ],
   "source": [
    "# Let's plot our model 1 predictions\n",
    "offset = 450\n",
    "plt.figure(figsize=(10,7))\n",
    "# Account for the test_window offset and index into test_labels to ensure correct plotting\n",
    "plot_time_series(timesteps=X_test[-len(test_windows):],\n",
    "                 values=test_labels[:,0],\n",
    "                 start=offset,\n",
    "                 label=\"Test Data\")\n",
    "\n",
    "plot_time_series(timesteps=X_test[-len(test_windows):],\n",
    "                 values=model_1_preds,\n",
    "                 start=offset,\n",
    "                 format=\"-\",\n",
    "                 label=\"model_1_preds\")\n"
   ]
  },
  {
   "attachments": {},
   "cell_type": "markdown",
   "metadata": {},
   "source": [
    "## Model 2: Dense (window = 30, horizon = 1)"
   ]
  },
  {
   "cell_type": "code",
   "execution_count": 66,
   "metadata": {},
   "outputs": [],
   "source": [
    "HORIZON = 1 # predict one step at a time\n",
    "WINDOW_SIZE = 30 # use 30 timesteps in past"
   ]
  },
  {
   "cell_type": "code",
   "execution_count": 68,
   "metadata": {},
   "outputs": [
    {
     "data": {
      "text/plain": [
       "(2757, 2757)"
      ]
     },
     "execution_count": 68,
     "metadata": {},
     "output_type": "execute_result"
    }
   ],
   "source": [
    "# Make windowed data with appropriate horizon and window sizes\n",
    "full_windows, full_labels = make_windows(prices, window_size=WINDOW_SIZE, horizon=HORIZON)\n",
    "len(full_windows), len(full_labels)"
   ]
  },
  {
   "cell_type": "code",
   "execution_count": 69,
   "metadata": {},
   "outputs": [
    {
     "data": {
      "text/plain": [
       "(2205, 552, 2205, 552)"
      ]
     },
     "execution_count": 69,
     "metadata": {},
     "output_type": "execute_result"
    }
   ],
   "source": [
    "# Make train and test windows\n",
    "train_windows, test_windows, train_labels, test_labels = make_train_test_splits(windows=full_windows,\n",
    "                                                                                labels=full_labels,\n",
    "                                                                                test_split=0.2)\n",
    "len(train_windows), len(test_windows), len(train_labels), len(test_labels)                                                                                "
   ]
  },
  {
   "cell_type": "code",
   "execution_count": 72,
   "metadata": {},
   "outputs": [
    {
     "name": "stdout",
     "output_type": "stream",
     "text": [
      "INFO:tensorflow:Assets written to: model_experiments\\model_2_dense\\assets\n",
      "INFO:tensorflow:Assets written to: model_experiments\\model_2_dense\\assets\n",
      "INFO:tensorflow:Assets written to: model_experiments\\model_2_dense\\assets\n",
      "INFO:tensorflow:Assets written to: model_experiments\\model_2_dense\\assets\n",
      "INFO:tensorflow:Assets written to: model_experiments\\model_2_dense\\assets\n",
      "INFO:tensorflow:Assets written to: model_experiments\\model_2_dense\\assets\n",
      "INFO:tensorflow:Assets written to: model_experiments\\model_2_dense\\assets\n",
      "INFO:tensorflow:Assets written to: model_experiments\\model_2_dense\\assets\n",
      "INFO:tensorflow:Assets written to: model_experiments\\model_2_dense\\assets\n",
      "INFO:tensorflow:Assets written to: model_experiments\\model_2_dense\\assets\n",
      "INFO:tensorflow:Assets written to: model_experiments\\model_2_dense\\assets\n",
      "INFO:tensorflow:Assets written to: model_experiments\\model_2_dense\\assets\n",
      "INFO:tensorflow:Assets written to: model_experiments\\model_2_dense\\assets\n",
      "INFO:tensorflow:Assets written to: model_experiments\\model_2_dense\\assets\n",
      "INFO:tensorflow:Assets written to: model_experiments\\model_2_dense\\assets\n",
      "INFO:tensorflow:Assets written to: model_experiments\\model_2_dense\\assets\n",
      "INFO:tensorflow:Assets written to: model_experiments\\model_2_dense\\assets\n",
      "INFO:tensorflow:Assets written to: model_experiments\\model_2_dense\\assets\n",
      "INFO:tensorflow:Assets written to: model_experiments\\model_2_dense\\assets\n",
      "INFO:tensorflow:Assets written to: model_experiments\\model_2_dense\\assets\n",
      "INFO:tensorflow:Assets written to: model_experiments\\model_2_dense\\assets\n",
      "INFO:tensorflow:Assets written to: model_experiments\\model_2_dense\\assets\n",
      "INFO:tensorflow:Assets written to: model_experiments\\model_2_dense\\assets\n",
      "INFO:tensorflow:Assets written to: model_experiments\\model_2_dense\\assets\n",
      "INFO:tensorflow:Assets written to: model_experiments\\model_2_dense\\assets\n",
      "INFO:tensorflow:Assets written to: model_experiments\\model_2_dense\\assets\n",
      "INFO:tensorflow:Assets written to: model_experiments\\model_2_dense\\assets\n"
     ]
    },
    {
     "data": {
      "text/plain": [
       "<keras.callbacks.History at 0x1a150479250>"
      ]
     },
     "execution_count": 72,
     "metadata": {},
     "output_type": "execute_result"
    }
   ],
   "source": [
    "tf.random.set_seed(42)\n",
    "\n",
    "# Create model\n",
    "model_2 = tf.keras.Sequential([\n",
    "    layers.Dense(128, activation=\"relu\"),\n",
    "    layers.Dense(HORIZON)\n",
    "], name=\"model_2_dense\")\n",
    "\n",
    "# Compile\n",
    "model_2.compile(loss=\"mae\",\n",
    "                optimizer=tf.keras.optimizers.Adam())\n",
    "\n",
    "# Fit \n",
    "model_2.fit(x=train_windows,\n",
    "            y=train_labels,\n",
    "            epochs=100,\n",
    "            batch_size=128,\n",
    "            verbose=False,\n",
    "            validation_data=(test_windows,test_labels),\n",
    "            callbacks=[create_model_checkpoint(model_name=model_2.name)])"
   ]
  },
  {
   "cell_type": "code",
   "execution_count": 73,
   "metadata": {},
   "outputs": [
    {
     "name": "stdout",
     "output_type": "stream",
     "text": [
      "18/18 [==============================] - 0s 2ms/step - loss: 608.9620\n"
     ]
    },
    {
     "data": {
      "text/plain": [
       "608.9619750976562"
      ]
     },
     "execution_count": 73,
     "metadata": {},
     "output_type": "execute_result"
    }
   ],
   "source": [
    "# Evaluate model 2 on test data\n",
    "model_2.evaluate(test_windows,test_labels)"
   ]
  },
  {
   "cell_type": "code",
   "execution_count": 76,
   "metadata": {},
   "outputs": [
    {
     "name": "stdout",
     "output_type": "stream",
     "text": [
      "18/18 [==============================] - 0s 2ms/step - loss: 608.9620\n"
     ]
    },
    {
     "data": {
      "text/plain": [
       "608.9619750976562"
      ]
     },
     "execution_count": 76,
     "metadata": {},
     "output_type": "execute_result"
    }
   ],
   "source": [
    "# Load in the best performing model\n",
    "model_2 = tf.keras.models.load_model(\"model_experiments/model_2_dense/\")\n",
    "model_2.evaluate(test_windows, test_labels)"
   ]
  },
  {
   "cell_type": "code",
   "execution_count": 78,
   "metadata": {},
   "outputs": [
    {
     "name": "stdout",
     "output_type": "stream",
     "text": [
      "18/18 [==============================] - 0s 2ms/step\n"
     ]
    },
    {
     "data": {
      "text/plain": [
       "<tf.Tensor: shape=(552,), dtype=float32, numpy=\n",
       "array([ 8946.984 ,  8967.847 ,  8820.252 ,  8615.827 ,  8485.794 ,\n",
       "        8384.622 ,  8307.78  ,  8171.7856,  8217.463 ,  7839.15  ,\n",
       "        7362.3716,  7241.631 ,  7111.7964,  7113.5   ,  7151.549 ,\n",
       "        7358.374 ,  7538.334 ,  7628.2505,  7645.452 ,  7465.5327,\n",
       "        7427.5684,  7281.351 ,  7320.043 ,  7380.991 ,  7541.0923,\n",
       "        7543.998 ,  7559.2783,  7436.662 ,  7194.824 ,  7270.313 ,\n",
       "        7158.483 ,  7335.815 ,  7157.436 ,  7235.8735,  6997.1646,\n",
       "        6768.8154,  7112.8486,  7281.932 ,  7126.0703,  7329.2383,\n",
       "        7272.7026,  7298.2256,  7298.365 ,  7241.6226,  7221.505 ,\n",
       "        7269.7383,  7257.2437,  7432.154 ,  7370.5024,  7196.894 ,\n",
       "        7278.009 ,  7004.2847,  7208.716 ,  7309.1733,  7451.58  ,\n",
       "        7698.1133,  8025.408 ,  8096.4185,  8007.9087,  8011.6904,\n",
       "        8135.065 ,  8216.162 ,  8226.958 ,  8601.827 ,  8900.414 ,\n",
       "        8842.8545,  8964.693 ,  8932.719 ,  8815.342 ,  8676.931 ,\n",
       "        8751.095 ,  8738.615 ,  8575.405 ,  8503.401 ,  8446.789 ,\n",
       "        8574.655 ,  8742.003 ,  9095.956 ,  9331.669 ,  9586.184 ,\n",
       "        9494.691 ,  9559.2705,  9500.517 ,  9349.378 ,  9242.9375,\n",
       "        9571.533 ,  9691.931 ,  9814.636 ,  9968.73  , 10127.313 ,\n",
       "        9986.633 , 10136.758 , 10368.243 , 10380.994 , 10466.803 ,\n",
       "       10189.41  , 10026.566 ,  9819.022 ,  9975.385 ,  9890.396 ,\n",
       "        9664.435 ,  9735.421 ,  9656.316 , 10027.296 ,  9711.787 ,\n",
       "        9577.718 ,  8995.883 ,  8855.97  ,  8780.13  ,  8694.372 ,\n",
       "        8662.341 ,  8785.279 ,  8945.727 ,  8683.8   ,  9044.295 ,\n",
       "        9030.281 ,  9131.664 ,  8431.861 ,  8029.185 ,  7938.8037,\n",
       "        7991.342 ,  6501.5923,  5660.3223,  5502.205 ,  5285.7744,\n",
       "        5471.833 ,  5514.527 ,  5883.3496,  6268.3906,  6509.365 ,\n",
       "        6285.8647,  6194.249 ,  6378.6763,  6787.8745,  6822.553 ,\n",
       "        6621.962 ,  6831.5996,  6394.1743,  6080.032 ,  5966.4795,\n",
       "        6410.853 ,  6312.698 ,  6869.003 ,  6608.63  ,  7139.192 ,\n",
       "        6865.2427,  7326.9663,  7170.043 ,  7425.996 ,  7429.907 ,\n",
       "        7162.4478,  7008.519 ,  7024.1655,  6998.982 ,  6870.5747,\n",
       "        6759.61  ,  6903.162 ,  7201.1724,  7309.2236,  7300.165 ,\n",
       "        7011.6084,  6938.083 ,  7075.5835,  7441.196 ,  7615.408 ,\n",
       "        7644.429 ,  7728.4805,  7727.296 ,  7836.4155,  8389.163 ,\n",
       "        8880.604 ,  8894.018 ,  9135.179 ,  8963.23  ,  9058.711 ,\n",
       "        9010.682 ,  9301.252 ,  9784.186 , 10069.722 ,  9783.833 ,\n",
       "        9156.527 ,  8818.3125,  8733.011 ,  9235.026 ,  9576.001 ,\n",
       "        9600.534 ,  9471.157 ,  9817.574 ,  9825.595 ,  9792.309 ,\n",
       "        9553.203 ,  9307.141 ,  9225.384 ,  9335.321 ,  9162.359 ,\n",
       "        9125.043 ,  8893.081 ,  8930.859 ,  9315.357 ,  9384.311 ,\n",
       "        9644.64  ,  9708.846 , 10179.693 ,  9892.876 ,  9641.993 ,\n",
       "        9814.351 ,  9719.9795,  9805.839 ,  9781.485 ,  9835.866 ,\n",
       "        9791.026 ,  9898.1   ,  9436.849 ,  9463.377 ,  9558.027 ,\n",
       "        9319.68  ,  9652.879 ,  9444.717 ,  9639.238 ,  9447.412 ,\n",
       "        9460.4375,  9241.044 ,  9424.817 ,  9547.571 ,  9751.981 ,\n",
       "        9448.635 ,  9320.808 ,  9289.246 ,  9093.8125,  9130.177 ,\n",
       "        9064.835 ,  9247.91  ,  9259.067 ,  9214.291 ,  9125.716 ,\n",
       "        9229.591 ,  9068.902 ,  9259.154 ,  9277.46  ,  9465.013 ,\n",
       "        9427.397 ,  9341.1   ,  9301.733 ,  9299.916 ,  9265.158 ,\n",
       "        9259.077 ,  9292.888 ,  9200.781 ,  9270.012 ,  9222.462 ,\n",
       "        9237.406 ,  9196.748 ,  9345.346 ,  9583.278 ,  9639.34  ,\n",
       "        9707.168 ,  9733.425 ,  9989.294 , 10821.169 , 11136.357 ,\n",
       "       11248.576 , 11380.957 , 11347.813 , 11832.678 , 11390.216 ,\n",
       "       11306.025 , 11312.7   , 11611.607 , 11860.883 , 11760.142 ,\n",
       "       11829.413 , 11717.339 , 11962.572 , 11438.478 , 11643.358 ,\n",
       "       11728.411 , 11999.29  , 12022.7   , 11980.902 , 12300.123 ,\n",
       "       12246.842 , 11917.318 , 11834.109 , 11707.764 , 11736.268 ,\n",
       "       11772.704 , 11742.789 , 11585.056 , 11505.22  , 11377.809 ,\n",
       "       11430.178 , 11502.983 , 11654.086 , 11820.434 , 11988.414 ,\n",
       "       11679.329 , 11014.676 , 10733.173 , 10174.105 , 10121.909 ,\n",
       "       10313.958 , 10147.39  , 10280.335 , 10328.009 , 10440.14  ,\n",
       "       10403.192 , 10400.665 , 10487.635 , 10978.043 , 11069.464 ,\n",
       "       11110.166 , 11085.714 , 11105.656 , 10917.266 , 10602.158 ,\n",
       "       10476.851 , 10366.668 , 10597.652 , 10811.463 , 10815.754 ,\n",
       "       10827.512 , 10894.957 , 10828.237 , 10830.523 , 10760.061 ,\n",
       "       10664.039 , 10728.181 , 10716.726 , 10761.772 , 10762.868 ,\n",
       "       10624.553 , 10874.519 , 10983.328 , 11335.845 , 11398.802 ,\n",
       "       11693.287 , 11632.86  , 11546.992 , 11549.163 , 11485.231 ,\n",
       "       11405.892 , 11498.483 , 11758.651 , 11962.906 , 12849.134 ,\n",
       "       13215.717 , 13117.75  , 13225.976 , 13062.236 , 13215.2   ,\n",
       "       13626.298 , 13564.398 , 13540.318 , 13778.187 , 13795.233 ,\n",
       "       13883.393 , 13710.381 , 13795.912 , 14162.711 , 15152.278 ,\n",
       "       15655.957 , 15221.213 , 15602.388 , 15454.21  , 15527.837 ,\n",
       "       15702.565 , 16188.123 , 16451.541 , 16428.477 , 16048.928 ,\n",
       "       16609.63  , 17451.28  , 17774.299 , 18069.012 , 18629.447 ,\n",
       "       18759.838 , 18960.266 , 18764.86  , 19017.652 , 18994.416 ,\n",
       "       17801.262 , 17175.236 , 17606.184 , 18069.734 , 19190.553 ,\n",
       "       19224.658 , 19182.592 , 19481.156 , 19185.002 , 19239.764 ,\n",
       "       19288.379 , 19223.97  , 19076.979 , 18773.96  , 18429.61  ,\n",
       "       18239.604 , 18840.387 , 18906.715 , 19190.83  , 19282.643 ,\n",
       "       20955.37  , 22751.352 , 23325.809 , 24000.023 , 23951.646 ,\n",
       "       23560.586 , 23528.016 , 23417.807 , 23808.158 , 24612.9   ,\n",
       "       26001.525 , 26621.66  , 26888.121 , 27052.578 , 28409.6   ,\n",
       "       29380.412 , 29526.287 , 31710.225 , 33302.01  , 32724.775 ,\n",
       "       34118.43  , 36068.016 , 38983.59  , 40896.004 , 40696.145 ,\n",
       "       39944.87  , 36545.75  , 34588.043 , 36314.99  , 38019.832 ,\n",
       "       37468.105 , 36585.75  , 36776.367 , 36437.67  , 36740.496 ,\n",
       "       35252.008 , 32451.598 , 32468.31  , 32711.562 , 32635.03  ,\n",
       "       33268.816 , 32247.7   , 31312.467 , 32227.814 , 33769.062 ,\n",
       "       34026.895 , 34459.17  , 34102.402 , 35402.938 , 37187.293 ,\n",
       "       37009.816 , 38022.53  , 39668.875 , 39565.637 , 42972.645 ,\n",
       "       46760.89  , 45556.797 , 48147.74  , 47982.062 , 48366.918 ,\n",
       "       48789.824 , 48991.074 , 48837.574 , 52453.324 , 52042.68  ,\n",
       "       54834.22  , 56258.996 , 56404.035 , 56148.105 , 50418.863 ,\n",
       "       49273.92  , 48150.883 , 47189.44  , 46610.72  , 46276.582 ,\n",
       "       47553.188 , 48754.574 , 49563.117 , 49016.176 , 49353.117 ,\n",
       "       49205.883 , 50828.17  , 51891.76  , 53957.85  , 57201.35  ,\n",
       "       58085.16  , 57713.918 , 59739.527 , 60069.492 , 58518.652 ,\n",
       "       56620.848 , 58579.85  , 58467.035 , 59518.23  , 58422.074 ,\n",
       "       58741.62  , 55501.71  , 55345.1   , 52761.41  , 53016.56  ,\n",
       "       53984.344 , 56387.793 , 56630.375 , 57378.58  , 58643.887 ,\n",
       "       59053.547 , 59599.664 , 58660.668 , 58069.203 , 58943.945 ,\n",
       "       59039.945 , 58727.586 , 57373.477 , 57698.69  , 57701.47  ,\n",
       "       58859.047 , 59596.793 , 60510.434 , 62807.473 , 63995.047 ,\n",
       "       63821.598 , 63230.01  , 61408.914 , 58668.68  , 56646.082 ,\n",
       "       56694.25  , 54773.113 , 53164.246 , 50777.402 , 50796.586 ,\n",
       "       49134.723 , 51652.676 , 54744.93  , 55016.254 , 54609.824 ,\n",
       "       56238.87  , 58790.57  , 57128.062 , 57652.676 , 54636.754 ,\n",
       "       56892.93  , 56547.36  , 56755.902 , 58942.652 , 58248.09  ,\n",
       "       56882.137 , 55981.207 , 54115.473 , 49856.297 , 51234.26  ,\n",
       "       48566.65  , 47169.    ], dtype=float32)>"
      ]
     },
     "execution_count": 78,
     "metadata": {},
     "output_type": "execute_result"
    }
   ],
   "source": [
    "# Get forecast predictions\n",
    "model_2_preds = make_preds(model_2,\n",
    "                         input_data=test_windows)\n",
    "model_2_preds                         "
   ]
  },
  {
   "cell_type": "code",
   "execution_count": 84,
   "metadata": {},
   "outputs": [
    {
     "data": {
      "text/plain": [
       "{'mae': 608.9619750976562,\n",
       " 'mse': 1281440.625,\n",
       " 'rmse': 1132.00732421875,\n",
       " 'mape': 2.769340991973877,\n",
       " 'mase': 1.0644714832305908}"
      ]
     },
     "execution_count": 84,
     "metadata": {},
     "output_type": "execute_result"
    }
   ],
   "source": [
    "# Evaluate results for model 2 predictions\n",
    "model_2_results = evaluate_preds(y_true=tf.squeeze(test_labels),\n",
    "                                 y_pred=model_2_preds)\n",
    "model_2_results                     "
   ]
  },
  {
   "cell_type": "code",
   "execution_count": 85,
   "metadata": {},
   "outputs": [
    {
     "name": "stdout",
     "output_type": "stream",
     "text": [
      "Success! File written to destination.\n"
     ]
    }
   ],
   "source": [
    "from Functions.helper_functions import save_model_results_json\n",
    "\n",
    "des_path = r\"Saved Results\\10_time_series_forecasting_with_tensorflow\"\n",
    "\n",
    "save_model_results_json(filepath=des_path,\n",
    "                        var_to_save=model_2_results,\n",
    "                        file_string=\"model_2_results\")"
   ]
  },
  {
   "cell_type": "code",
   "execution_count": 86,
   "metadata": {},
   "outputs": [
    {
     "data": {
      "image/png": "[encoded data removed]",
      "text/plain": [
       "<Figure size 720x504 with 1 Axes>"
      ]
     },
     "metadata": {
      "needs_background": "light"
     },
     "output_type": "display_data"
    }
   ],
   "source": [
    "offset = 300\n",
    "plt.figure(figsize=(10,7))\n",
    "# Account for test_window offset when plotting\n",
    "plot_time_series(timesteps=X_test[-len(test_windows):],values=test_labels[:,0],start=offset,label=\"Test Data\")\n",
    "plot_time_series(timesteps=X_test[-len(test_windows):],values=model_2_preds,start=offset,format=\"-\",label=\"model_2_preds\")"
   ]
  },
  {
   "cell_type": "code",
   "execution_count": null,
   "metadata": {},
   "outputs": [],
   "source": []
  }
 ],
 "metadata": {
  "kernelspec": {
   "display_name": "tf2.9",
   "language": "python",
   "name": "python3"
  },
  "language_info": {
   "codemirror_mode": {
    "name": "ipython",
    "version": 3
   },
   "file_extension": ".py",
   "mimetype": "text/x-python",
   "name": "python",
   "nbconvert_exporter": "python",
   "pygments_lexer": "ipython3",
   "version": "3.9.0"
  },
  "orig_nbformat": 4,
  "vscode": {
   "interpreter": {
    "hash": "3b857c820aa0d415be1b12344743bfddcf32111184ae560db226809c81026c4c"
   }
  }
 },
 "nbformat": 4,
 "nbformat_minor": 2
}

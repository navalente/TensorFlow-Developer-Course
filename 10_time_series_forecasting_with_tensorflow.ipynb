{
 "cells": [
  {
   "attachments": {},
   "cell_type": "markdown",
   "metadata": {},
   "source": [
    "# Time series forecasting fundamentals with TensorFlow + Milestone Project 3: BitPredict 💰"
   ]
  },
  {
   "cell_type": "markdown",
   "metadata": {},
   "source": [
    "## Get data\n",
    "\n",
    "We're going to be using the historical price of Bitcoin to try and predict the future price of Bitcoin"
   ]
  },
  {
   "cell_type": "code",
   "execution_count": 4,
   "metadata": {},
   "outputs": [
    {
     "name": "stderr",
     "output_type": "stream",
     "text": [
      "--2023-01-30 13:51:52--  https://raw.githubusercontent.com/mrdbourke/tensorflow-deep-learning/main/extras/BTC_USD_2013-10-01_2021-05-18-CoinDesk.csv\n",
      "Resolving raw.githubusercontent.com (raw.githubusercontent.com)... 185.199.108.133, 185.199.109.133, 185.199.110.133, ...\n",
      "Connecting to raw.githubusercontent.com (raw.githubusercontent.com)|185.199.108.133|:443... connected.\n",
      "HTTP request sent, awaiting response... 200 OK\n",
      "Length: 178509 (174K) [text/plain]\n",
      "Saving to: 'BTC_USD_2013-10-01_2021-05-18-CoinDesk.csv.1'\n",
      "\n",
      "     0K .......... .......... .......... .......... .......... 28% 4.71M 0s\n",
      "    50K .......... .......... .......... .......... .......... 57% 13.4M 0s\n",
      "   100K .......... .......... .......... .......... .......... 86% 6.49M 0s\n",
      "   150K .......... .......... ....                            100% 21.0M=0.02s\n",
      "\n",
      "2023-01-30 13:51:53 (7.51 MB/s) - 'BTC_USD_2013-10-01_2021-05-18-CoinDesk.csv.1' saved [178509/178509]\n",
      "\n"
     ]
    }
   ],
   "source": [
    "!wget https://raw.githubusercontent.com/mrdbourke/tensorflow-deep-learning/main/extras/BTC_USD_2013-10-01_2021-05-18-CoinDesk.csv"
   ]
  },
  {
   "attachments": {},
   "cell_type": "markdown",
   "metadata": {},
   "source": [
    "## Import time series data with Pandas"
   ]
  },
  {
   "cell_type": "code",
   "execution_count": 5,
   "metadata": {},
   "outputs": [
    {
     "data": {
      "text/html": [
       "<div>\n",
       "<style scoped>\n",
       "    .dataframe tbody tr th:only-of-type {\n",
       "        vertical-align: middle;\n",
       "    }\n",
       "\n",
       "    .dataframe tbody tr th {\n",
       "        vertical-align: top;\n",
       "    }\n",
       "\n",
       "    .dataframe thead th {\n",
       "        text-align: right;\n",
       "    }\n",
       "</style>\n",
       "<table border=\"1\" class=\"dataframe\">\n",
       "  <thead>\n",
       "    <tr style=\"text-align: right;\">\n",
       "      <th></th>\n",
       "      <th>Currency</th>\n",
       "      <th>Closing Price (USD)</th>\n",
       "      <th>24h Open (USD)</th>\n",
       "      <th>24h High (USD)</th>\n",
       "      <th>24h Low (USD)</th>\n",
       "    </tr>\n",
       "    <tr>\n",
       "      <th>Date</th>\n",
       "      <th></th>\n",
       "      <th></th>\n",
       "      <th></th>\n",
       "      <th></th>\n",
       "      <th></th>\n",
       "    </tr>\n",
       "  </thead>\n",
       "  <tbody>\n",
       "    <tr>\n",
       "      <th>2013-10-01</th>\n",
       "      <td>BTC</td>\n",
       "      <td>123.65499</td>\n",
       "      <td>124.30466</td>\n",
       "      <td>124.75166</td>\n",
       "      <td>122.56349</td>\n",
       "    </tr>\n",
       "    <tr>\n",
       "      <th>2013-10-02</th>\n",
       "      <td>BTC</td>\n",
       "      <td>125.45500</td>\n",
       "      <td>123.65499</td>\n",
       "      <td>125.75850</td>\n",
       "      <td>123.63383</td>\n",
       "    </tr>\n",
       "    <tr>\n",
       "      <th>2013-10-03</th>\n",
       "      <td>BTC</td>\n",
       "      <td>108.58483</td>\n",
       "      <td>125.45500</td>\n",
       "      <td>125.66566</td>\n",
       "      <td>83.32833</td>\n",
       "    </tr>\n",
       "    <tr>\n",
       "      <th>2013-10-04</th>\n",
       "      <td>BTC</td>\n",
       "      <td>118.67466</td>\n",
       "      <td>108.58483</td>\n",
       "      <td>118.67500</td>\n",
       "      <td>107.05816</td>\n",
       "    </tr>\n",
       "    <tr>\n",
       "      <th>2013-10-05</th>\n",
       "      <td>BTC</td>\n",
       "      <td>121.33866</td>\n",
       "      <td>118.67466</td>\n",
       "      <td>121.93633</td>\n",
       "      <td>118.00566</td>\n",
       "    </tr>\n",
       "  </tbody>\n",
       "</table>\n",
       "</div>"
      ],
      "text/plain": [
       "           Currency  Closing Price (USD)  24h Open (USD)  24h High (USD)  \\\n",
       "Date                                                                       \n",
       "2013-10-01      BTC            123.65499       124.30466       124.75166   \n",
       "2013-10-02      BTC            125.45500       123.65499       125.75850   \n",
       "2013-10-03      BTC            108.58483       125.45500       125.66566   \n",
       "2013-10-04      BTC            118.67466       108.58483       118.67500   \n",
       "2013-10-05      BTC            121.33866       118.67466       121.93633   \n",
       "\n",
       "            24h Low (USD)  \n",
       "Date                       \n",
       "2013-10-01      122.56349  \n",
       "2013-10-02      123.63383  \n",
       "2013-10-03       83.32833  \n",
       "2013-10-04      107.05816  \n",
       "2013-10-05      118.00566  "
      ]
     },
     "execution_count": 5,
     "metadata": {},
     "output_type": "execute_result"
    }
   ],
   "source": [
    "# Import pandas\n",
    "import pandas as pd\n",
    "\n",
    "# Let's read in the data\n",
    "df = pd.read_csv(\"BTC_USD_2013-10-01_2021-05-18-CoinDesk.csv\",\n",
    "                 parse_dates=[\"Date\"],\n",
    "                 index_col=[\"Date\"]) # parse the date column and tell pandas column 1 is a date time\n",
    "\n",
    "df.head()"
   ]
  },
  {
   "cell_type": "code",
   "execution_count": 6,
   "metadata": {},
   "outputs": [
    {
     "data": {
      "text/html": [
       "<div>\n",
       "<style scoped>\n",
       "    .dataframe tbody tr th:only-of-type {\n",
       "        vertical-align: middle;\n",
       "    }\n",
       "\n",
       "    .dataframe tbody tr th {\n",
       "        vertical-align: top;\n",
       "    }\n",
       "\n",
       "    .dataframe thead th {\n",
       "        text-align: right;\n",
       "    }\n",
       "</style>\n",
       "<table border=\"1\" class=\"dataframe\">\n",
       "  <thead>\n",
       "    <tr style=\"text-align: right;\">\n",
       "      <th></th>\n",
       "      <th>Currency</th>\n",
       "      <th>Closing Price (USD)</th>\n",
       "      <th>24h Open (USD)</th>\n",
       "      <th>24h High (USD)</th>\n",
       "      <th>24h Low (USD)</th>\n",
       "    </tr>\n",
       "    <tr>\n",
       "      <th>Date</th>\n",
       "      <th></th>\n",
       "      <th></th>\n",
       "      <th></th>\n",
       "      <th></th>\n",
       "      <th></th>\n",
       "    </tr>\n",
       "  </thead>\n",
       "  <tbody>\n",
       "    <tr>\n",
       "      <th>2021-05-14</th>\n",
       "      <td>BTC</td>\n",
       "      <td>49764.132082</td>\n",
       "      <td>49596.778891</td>\n",
       "      <td>51448.798576</td>\n",
       "      <td>46294.720180</td>\n",
       "    </tr>\n",
       "    <tr>\n",
       "      <th>2021-05-15</th>\n",
       "      <td>BTC</td>\n",
       "      <td>50032.693137</td>\n",
       "      <td>49717.354353</td>\n",
       "      <td>51578.312545</td>\n",
       "      <td>48944.346536</td>\n",
       "    </tr>\n",
       "    <tr>\n",
       "      <th>2021-05-16</th>\n",
       "      <td>BTC</td>\n",
       "      <td>47885.625255</td>\n",
       "      <td>49926.035067</td>\n",
       "      <td>50690.802950</td>\n",
       "      <td>47005.102292</td>\n",
       "    </tr>\n",
       "    <tr>\n",
       "      <th>2021-05-17</th>\n",
       "      <td>BTC</td>\n",
       "      <td>45604.615754</td>\n",
       "      <td>46805.537852</td>\n",
       "      <td>49670.414174</td>\n",
       "      <td>43868.638969</td>\n",
       "    </tr>\n",
       "    <tr>\n",
       "      <th>2021-05-18</th>\n",
       "      <td>BTC</td>\n",
       "      <td>43144.471291</td>\n",
       "      <td>46439.336570</td>\n",
       "      <td>46622.853437</td>\n",
       "      <td>42102.346430</td>\n",
       "    </tr>\n",
       "  </tbody>\n",
       "</table>\n",
       "</div>"
      ],
      "text/plain": [
       "           Currency  Closing Price (USD)  24h Open (USD)  24h High (USD)  \\\n",
       "Date                                                                       \n",
       "2021-05-14      BTC         49764.132082    49596.778891    51448.798576   \n",
       "2021-05-15      BTC         50032.693137    49717.354353    51578.312545   \n",
       "2021-05-16      BTC         47885.625255    49926.035067    50690.802950   \n",
       "2021-05-17      BTC         45604.615754    46805.537852    49670.414174   \n",
       "2021-05-18      BTC         43144.471291    46439.336570    46622.853437   \n",
       "\n",
       "            24h Low (USD)  \n",
       "Date                       \n",
       "2021-05-14   46294.720180  \n",
       "2021-05-15   48944.346536  \n",
       "2021-05-16   47005.102292  \n",
       "2021-05-17   43868.638969  \n",
       "2021-05-18   42102.346430  "
      ]
     },
     "execution_count": 6,
     "metadata": {},
     "output_type": "execute_result"
    }
   ],
   "source": [
    "# Last samples from the data set\n",
    "df.tail()"
   ]
  },
  {
   "cell_type": "code",
   "execution_count": 7,
   "metadata": {},
   "outputs": [
    {
     "name": "stdout",
     "output_type": "stream",
     "text": [
      "<class 'pandas.core.frame.DataFrame'>\n",
      "DatetimeIndex: 2787 entries, 2013-10-01 to 2021-05-18\n",
      "Data columns (total 5 columns):\n",
      " #   Column               Non-Null Count  Dtype  \n",
      "---  ------               --------------  -----  \n",
      " 0   Currency             2787 non-null   object \n",
      " 1   Closing Price (USD)  2787 non-null   float64\n",
      " 2   24h Open (USD)       2787 non-null   float64\n",
      " 3   24h High (USD)       2787 non-null   float64\n",
      " 4   24h Low (USD)        2787 non-null   float64\n",
      "dtypes: float64(4), object(1)\n",
      "memory usage: 130.6+ KB\n"
     ]
    }
   ],
   "source": [
    "# Grab info from the dataframe\n",
    "df.info()"
   ]
  },
  {
   "attachments": {},
   "cell_type": "markdown",
   "metadata": {},
   "source": [
    "We've collected the historical price of Bitcoin for the past ~8 years but there's 2787 samples. \n",
    "\n",
    "Typically, deep learning models like lots of samples. 1,000 - 10,000 - 1,000,000\n",
    "\n",
    "A smaller number of samples is something you'll often run into with time series data problems"
   ]
  },
  {
   "cell_type": "code",
   "execution_count": 8,
   "metadata": {},
   "outputs": [
    {
     "data": {
      "text/plain": [
       "2787"
      ]
     },
     "execution_count": 8,
     "metadata": {},
     "output_type": "execute_result"
    }
   ],
   "source": [
    "# How many samples\n",
    "len(df) # 365 * 8"
   ]
  },
  {
   "cell_type": "code",
   "execution_count": 9,
   "metadata": {},
   "outputs": [
    {
     "data": {
      "text/html": [
       "<div>\n",
       "<style scoped>\n",
       "    .dataframe tbody tr th:only-of-type {\n",
       "        vertical-align: middle;\n",
       "    }\n",
       "\n",
       "    .dataframe tbody tr th {\n",
       "        vertical-align: top;\n",
       "    }\n",
       "\n",
       "    .dataframe thead th {\n",
       "        text-align: right;\n",
       "    }\n",
       "</style>\n",
       "<table border=\"1\" class=\"dataframe\">\n",
       "  <thead>\n",
       "    <tr style=\"text-align: right;\">\n",
       "      <th></th>\n",
       "      <th>Price</th>\n",
       "    </tr>\n",
       "    <tr>\n",
       "      <th>Date</th>\n",
       "      <th></th>\n",
       "    </tr>\n",
       "  </thead>\n",
       "  <tbody>\n",
       "    <tr>\n",
       "      <th>2013-10-01</th>\n",
       "      <td>123.654990</td>\n",
       "    </tr>\n",
       "    <tr>\n",
       "      <th>2013-10-02</th>\n",
       "      <td>125.455000</td>\n",
       "    </tr>\n",
       "    <tr>\n",
       "      <th>2013-10-03</th>\n",
       "      <td>108.584830</td>\n",
       "    </tr>\n",
       "    <tr>\n",
       "      <th>2013-10-04</th>\n",
       "      <td>118.674660</td>\n",
       "    </tr>\n",
       "    <tr>\n",
       "      <th>2013-10-05</th>\n",
       "      <td>121.338660</td>\n",
       "    </tr>\n",
       "    <tr>\n",
       "      <th>...</th>\n",
       "      <td>...</td>\n",
       "    </tr>\n",
       "    <tr>\n",
       "      <th>2021-05-14</th>\n",
       "      <td>49764.132082</td>\n",
       "    </tr>\n",
       "    <tr>\n",
       "      <th>2021-05-15</th>\n",
       "      <td>50032.693137</td>\n",
       "    </tr>\n",
       "    <tr>\n",
       "      <th>2021-05-16</th>\n",
       "      <td>47885.625255</td>\n",
       "    </tr>\n",
       "    <tr>\n",
       "      <th>2021-05-17</th>\n",
       "      <td>45604.615754</td>\n",
       "    </tr>\n",
       "    <tr>\n",
       "      <th>2021-05-18</th>\n",
       "      <td>43144.471291</td>\n",
       "    </tr>\n",
       "  </tbody>\n",
       "</table>\n",
       "<p>2787 rows × 1 columns</p>\n",
       "</div>"
      ],
      "text/plain": [
       "                   Price\n",
       "Date                    \n",
       "2013-10-01    123.654990\n",
       "2013-10-02    125.455000\n",
       "2013-10-03    108.584830\n",
       "2013-10-04    118.674660\n",
       "2013-10-05    121.338660\n",
       "...                  ...\n",
       "2021-05-14  49764.132082\n",
       "2021-05-15  50032.693137\n",
       "2021-05-16  47885.625255\n",
       "2021-05-17  45604.615754\n",
       "2021-05-18  43144.471291\n",
       "\n",
       "[2787 rows x 1 columns]"
      ]
     },
     "execution_count": 9,
     "metadata": {},
     "output_type": "execute_result"
    }
   ],
   "source": [
    "# Only having the closing price for each day\n",
    "bitcoin_prices = pd.DataFrame(df[\"Closing Price (USD)\"]).rename(columns={\"Closing Price (USD)\":\"Price\"})\n",
    "bitcoin_prices"
   ]
  },
  {
   "cell_type": "code",
   "execution_count": 10,
   "metadata": {},
   "outputs": [
    {
     "data": {
      "image/png": "[encoded data removed]",
      "text/plain": [
       "<Figure size 720x504 with 1 Axes>"
      ]
     },
     "metadata": {
      "needs_background": "light"
     },
     "output_type": "display_data"
    }
   ],
   "source": [
    "import matplotlib.pyplot as plt\n",
    "bitcoin_prices.plot(figsize=(10,7))\n",
    "plt.ylabel(\"BTC Price\")\n",
    "plt.title(\"Price of Bitcoin from 1 Oct 2013 to 18 May 2021\",fontsize=16);\n",
    "plt.legend(fontsize=14);"
   ]
  },
  {
   "cell_type": "markdown",
   "metadata": {},
   "source": [
    "## Importing time series data with Python's CSV module"
   ]
  },
  {
   "cell_type": "code",
   "execution_count": 11,
   "metadata": {},
   "outputs": [
    {
     "data": {
      "text/plain": [
       "([datetime.datetime(2013, 10, 1, 0, 0),\n",
       "  datetime.datetime(2013, 10, 2, 0, 0),\n",
       "  datetime.datetime(2013, 10, 3, 0, 0),\n",
       "  datetime.datetime(2013, 10, 4, 0, 0),\n",
       "  datetime.datetime(2013, 10, 5, 0, 0),\n",
       "  datetime.datetime(2013, 10, 6, 0, 0),\n",
       "  datetime.datetime(2013, 10, 7, 0, 0),\n",
       "  datetime.datetime(2013, 10, 8, 0, 0),\n",
       "  datetime.datetime(2013, 10, 9, 0, 0),\n",
       "  datetime.datetime(2013, 10, 10, 0, 0)],\n",
       " [123.65499,\n",
       "  125.455,\n",
       "  108.58483,\n",
       "  118.67466,\n",
       "  121.33866,\n",
       "  120.65533,\n",
       "  121.795,\n",
       "  123.033,\n",
       "  124.049,\n",
       "  125.96116])"
      ]
     },
     "execution_count": 11,
     "metadata": {},
     "output_type": "execute_result"
    }
   ],
   "source": [
    "# Importing and formatting \n",
    "import csv\n",
    "from datetime import datetime\n",
    "\n",
    "timesteps = []\n",
    "btc_price = []\n",
    "\n",
    "with open(\"BTC_USD_2013-10-01_2021-05-18-CoinDesk.csv\",\"r\") as f:\n",
    "    csv_reader = csv.reader(f,delimiter=\",\")\n",
    "    next(csv_reader) # skip first line (gets ride of column titles)\n",
    "    for line in csv_reader:\n",
    "        timesteps.append(datetime.strptime(line[1],\"%Y-%m-%d\")) # Get the dates as dates (not strings)\n",
    "        btc_price.append(float(line[2])) # get the closing price as float\n",
    "\n",
    "# View first 10 of each\n",
    "timesteps[:10], btc_price[:10]        "
   ]
  },
  {
   "cell_type": "code",
   "execution_count": 12,
   "metadata": {},
   "outputs": [
    {
     "data": {
      "image/png": "[encoded data removed]",
      "text/plain": [
       "<Figure size 720x504 with 1 Axes>"
      ]
     },
     "metadata": {
      "needs_background": "light"
     },
     "output_type": "display_data"
    }
   ],
   "source": [
    "# Plot from csv\n",
    "import numpy as np\n",
    "plt.figure(figsize=(10,7))\n",
    "plt.plot(timesteps,btc_price)\n",
    "plt.ylabel(\"BTC Price\")\n",
    "plt.xlabel(\"Date\")\n",
    "plt.title(\"Price of Bitcoin from 1 Oct 2013 to 18 May 2021\",fontsize=16);"
   ]
  },
  {
   "attachments": {},
   "cell_type": "markdown",
   "metadata": {},
   "source": [
    "## Format data part 1: Create train and test sets of our time series data"
   ]
  },
  {
   "cell_type": "markdown",
   "metadata": {},
   "source": [
    "### Creating train and test sets with time series data (the wrong way)"
   ]
  },
  {
   "cell_type": "code",
   "execution_count": 13,
   "metadata": {},
   "outputs": [
    {
     "data": {
      "text/plain": [
       "(array(['2013-10-01T00:00:00.000000000', '2013-10-02T00:00:00.000000000',\n",
       "        '2013-10-03T00:00:00.000000000', '2013-10-04T00:00:00.000000000',\n",
       "        '2013-10-05T00:00:00.000000000', '2013-10-06T00:00:00.000000000',\n",
       "        '2013-10-07T00:00:00.000000000', '2013-10-08T00:00:00.000000000',\n",
       "        '2013-10-09T00:00:00.000000000', '2013-10-10T00:00:00.000000000'],\n",
       "       dtype='datetime64[ns]'),\n",
       " array([123.65499, 125.455  , 108.58483, 118.67466, 121.33866, 120.65533,\n",
       "        121.795  , 123.033  , 124.049  , 125.96116]))"
      ]
     },
     "execution_count": 13,
     "metadata": {},
     "output_type": "execute_result"
    }
   ],
   "source": [
    "# Get bitcoin date array\n",
    "timesteps = bitcoin_prices.index.to_numpy()\n",
    "prices = bitcoin_prices[\"Price\"].to_numpy()\n",
    "\n",
    "timesteps[:10], prices[:10]"
   ]
  },
  {
   "cell_type": "code",
   "execution_count": 14,
   "metadata": {},
   "outputs": [
    {
     "data": {
      "text/plain": [
       "((2229,), (558,), (2229,), (558,))"
      ]
     },
     "execution_count": 14,
     "metadata": {},
     "output_type": "execute_result"
    }
   ],
   "source": [
    "# Wrong way to make train/test sets\n",
    "from sklearn.model_selection import train_test_split\n",
    "\n",
    "X_train, X_test, y_train, y_test = train_test_split(timesteps, # dates\n",
    "                                                    prices, # prices\n",
    "                                                    test_size=0.2,\n",
    "                                                    random_state=42)\n",
    "\n",
    "X_train.shape, X_test.shape, y_train.shape, y_test.shape"
   ]
  },
  {
   "cell_type": "code",
   "execution_count": 15,
   "metadata": {},
   "outputs": [
    {
     "data": {
      "image/png": "[encoded data removed]",
      "text/plain": [
       "<Figure size 720x504 with 1 Axes>"
      ]
     },
     "metadata": {
      "needs_background": "light"
     },
     "output_type": "display_data"
    }
   ],
   "source": [
    "# Let's plot wrong train and test splits\n",
    "plt.figure(figsize=(10,7))\n",
    "plt.scatter(X_train,y_train,s=5,label=\"Train data\")\n",
    "plt.scatter(X_test,y_test,s=5,label=\"Test data\")\n",
    "plt.xlabel(\"Date\")\n",
    "plt.ylabel(\"BTC Price\")\n",
    "plt.legend(fontsize=14);\n",
    "plt.show();"
   ]
  },
  {
   "attachments": {},
   "cell_type": "markdown",
   "metadata": {},
   "source": [
    "### Create train & test sets for time series (the right way)"
   ]
  },
  {
   "cell_type": "code",
   "execution_count": 16,
   "metadata": {},
   "outputs": [
    {
     "data": {
      "text/plain": [
       "(2229, 558, 2229, 558)"
      ]
     },
     "execution_count": 16,
     "metadata": {},
     "output_type": "execute_result"
    }
   ],
   "source": [
    "# Create train and test splits the right way for time series data\n",
    "split_size = int(0.8*len(prices)) # 80% train, 20% test\n",
    "\n",
    "# Create train data splits (everything before the split)\n",
    "X_train, y_train = timesteps[:split_size], prices[:split_size]\n",
    "\n",
    "# Create test data splits (everything beyond the split)\n",
    "X_test, y_test = timesteps[split_size:], prices[split_size:]\n",
    "\n",
    "len(X_train), len(X_test), len(y_train), len(y_test)"
   ]
  },
  {
   "cell_type": "code",
   "execution_count": 17,
   "metadata": {},
   "outputs": [
    {
     "data": {
      "image/png": "[encoded data removed]",
      "text/plain": [
       "<Figure size 720x504 with 1 Axes>"
      ]
     },
     "metadata": {
      "needs_background": "light"
     },
     "output_type": "display_data"
    }
   ],
   "source": [
    "# Plot correctly made splits\n",
    "plt.figure(figsize=(10,7))\n",
    "plt.scatter(X_train,y_train,s=5,label=\"Train data\")\n",
    "plt.scatter(X_test,y_test,s=5,label=\"Test data\")\n",
    "plt.xlabel(\"Date\")\n",
    "plt.ylabel(\"BTC Price\")\n",
    "plt.legend(fontsize=14);\n",
    "plt.show();"
   ]
  },
  {
   "attachments": {},
   "cell_type": "markdown",
   "metadata": {},
   "source": [
    "## Create a plotting function\n",
    "\n",
    "Typing plotting code is tedious, let's functionize it."
   ]
  },
  {
   "cell_type": "code",
   "execution_count": 18,
   "metadata": {},
   "outputs": [],
   "source": [
    "# Create a function to plot time series data\n",
    "def plot_time_series(timesteps,values,format=\".\",start=0,end=None,label=None):\n",
    "    \"\"\"\n",
    "    Plots timesteps against values.\n",
    "\n",
    "    Parameters\n",
    "    ----------\n",
    "    timesteps: array of timestep values\n",
    "    values: array of values\n",
    "    format: style of plot, default \".\"\n",
    "    start: where to start the plot (index)\n",
    "    end: where to end the plot (index)\n",
    "    label: label to show on plot\n",
    "\n",
    "    \"\"\"\n",
    "    # Plot the series\n",
    "    plt.plot(timesteps[start:end],values[start:end],format,label=label)\n",
    "    plt.xlabel(\"Time (s)\")\n",
    "    plt.ylabel(\"BTC Price\")\n",
    "\n",
    "    if label:\n",
    "        plt.legend(fontsize=14)\n",
    "        \n",
    "    plt.grid(True)"
   ]
  },
  {
   "cell_type": "code",
   "execution_count": 19,
   "metadata": {},
   "outputs": [
    {
     "data": {
      "image/png": "[encoded data removed]",
      "text/plain": [
       "<Figure size 720x504 with 1 Axes>"
      ]
     },
     "metadata": {
      "needs_background": "light"
     },
     "output_type": "display_data"
    }
   ],
   "source": [
    "# Testing out plotting function\n",
    "plt.figure(figsize=(10,7))\n",
    "plot_time_series(timesteps=X_train,values=y_train,label=\"Train data\")\n",
    "plot_time_series(timesteps=X_test,values=y_test,label=\"Test data\")"
   ]
  },
  {
   "attachments": {},
   "cell_type": "markdown",
   "metadata": {},
   "source": [
    "## Modelling Experiements\n",
    "\n",
    "We've got Bitcoin data, let's run a series of modelling experiments.\n",
    "\n",
    "Terms to be familiar with:\n",
    "* **Horizon** = number of timesteps into the future we're going to predict\n",
    "* **Window size** = number of timesteps we're going to use to predict horizon\n",
    "\n",
    "Modelling experiments --- (Horizon size, Window size, Extra data):\n",
    "* 0. Naive model (baseline) --- **(NA, NA, NA)**\n",
    "* 1. Dense model --- **(1, 7, NA)**\n",
    "* 1. Same as 1 --- **(1, 30, NA)**\n",
    "* 2. Same as 1 --- **(7, 30, NA)**\n",
    "* 4. Conv 1D --- **(1, 7, NA)**\n",
    "* 5. LSTM --- **(1, 7, NA)**\n",
    "* 6. Same as 1 (but with multivariate data) --- **(1, 7, Block reward size)**\n",
    "* 7. N-BEATs Algorithm --- **(1, 7, NA)**\n",
    "* 8. Ensemble (multiple models optimized on different loss functions) --- **(1, 7, NA)**\n",
    "* 9. Future prediction model (model to predict future values) --- **(1, 7, NA)**\n",
    "* 10. Same as 1 (but with turkey data introduced) --- **(1, 7, NA)**"
   ]
  },
  {
   "cell_type": "markdown",
   "metadata": {},
   "source": [
    "> 🔑📚 : [Reference for Time Series Forecasting](https://otexts.com/fpp3/)"
   ]
  },
  {
   "attachments": {},
   "cell_type": "markdown",
   "metadata": {},
   "source": [
    "## Model 0: Naive forecast (baseline)\n",
    "\n",
    "The formula looks like this:\n",
    "\n",
    "$$\\hat{y}_{t} = y_{t-1}$$\n",
    "\n",
    "> The prediction at timestep t (y_hat) is equal to the value at timestep t-1 (previous timestep) - this is for a horizon of 1."
   ]
  },
  {
   "cell_type": "code",
   "execution_count": 20,
   "metadata": {},
   "outputs": [
    {
     "data": {
      "text/plain": [
       "(array([9226.48582088, 8794.35864452, 8798.04205463, 9081.18687849,\n",
       "        8711.53433917, 8760.89271814, 8749.52059102, 8656.97092235,\n",
       "        8500.64355816, 8469.2608989 ]),\n",
       " array([57107.12067189, 58788.20967893, 58102.19142623, 55715.54665129,\n",
       "        56573.5554719 , 52147.82118698, 49764.1320816 , 50032.69313676,\n",
       "        47885.62525472, 45604.61575361]))"
      ]
     },
     "execution_count": 20,
     "metadata": {},
     "output_type": "execute_result"
    }
   ],
   "source": [
    "# Create a naive forcecast\n",
    "naive_forecast = y_test[:-1]\n",
    "naive_forecast[:10],naive_forecast[-10:]"
   ]
  },
  {
   "cell_type": "code",
   "execution_count": 21,
   "metadata": {},
   "outputs": [
    {
     "data": {
      "image/png": "[encoded data removed]",
      "text/plain": [
       "<Figure size 720x504 with 1 Axes>"
      ]
     },
     "metadata": {
      "needs_background": "light"
     },
     "output_type": "display_data"
    }
   ],
   "source": [
    "# Plot naive forecast\n",
    "plt.figure(figsize=(10,7))\n",
    "plot_time_series(timesteps=X_train, values=y_train, label=\"Train data\")\n",
    "plot_time_series(timesteps=X_test, values=y_test, label=\"Test data\")\n",
    "plot_time_series(timesteps=X_test[1:], values=naive_forecast, format='-', label=\"Naive forecast\") # everything after first index"
   ]
  },
  {
   "attachments": {},
   "cell_type": "markdown",
   "metadata": {},
   "source": [
    "## Evaluating a time series model\n",
    "\n",
    "Let's look into some evaluation metrics for time series forecasting ...\n",
    "\n",
    "We're predicting a number, so that means we have a form of a regression problem.\n",
    "\n",
    "Because we're working on a regression problem, we'll need some regression-like metrics. \n",
    "\n",
    "A few common metrics (**the lower the better**):\n",
    "* MAE - mean absolute error\n",
    "* MSE - mean squared error\n",
    "\n",
    "The main thing we are evaluating is: how do our model's forecasts (y_pred) compare against the actual values"
   ]
  },
  {
   "cell_type": "code",
   "execution_count": 22,
   "metadata": {},
   "outputs": [],
   "source": [
    "import tensorflow as tf"
   ]
  },
  {
   "cell_type": "code",
   "execution_count": 23,
   "metadata": {},
   "outputs": [],
   "source": [
    "# MASE implementation\n",
    "def mean_absolute_scaled_error(y_true, y_pred):\n",
    "    \"\"\"\n",
    "    Implement MASE (assuming no seasonality).\n",
    "    \"\"\"\n",
    "    mae = tf.reduce_mean(tf.abs(y_true-y_pred))\n",
    "\n",
    "    # Find MAE of naive forecast (no seasonality)\n",
    "    mae_naive_no_season = tf.reduce_mean(tf.abs(y_true[1:]-y_true[:-1])) # our seasonality is 1 day (hence the shift of 1)\n",
    "\n",
    "    return mae / mae_naive_no_season"
   ]
  },
  {
   "attachments": {},
   "cell_type": "markdown",
   "metadata": {},
   "source": [
    "🔑 **Note**: For mean absolute scaled error (MASE), a scaled error is **> 1 if the forecast is worse than the naive** and **< 1 if the forecast is better than naive**."
   ]
  },
  {
   "cell_type": "code",
   "execution_count": 24,
   "metadata": {},
   "outputs": [
    {
     "data": {
      "text/plain": [
       "0.9995699939182624"
      ]
     },
     "execution_count": 24,
     "metadata": {},
     "output_type": "execute_result"
    }
   ],
   "source": [
    "# Test MASE (this vaue should = 1 or be very close to 1 with the naive forecast)\n",
    "mean_absolute_scaled_error(y_true=y_test[1:], y_pred=naive_forecast).numpy()"
   ]
  },
  {
   "cell_type": "code",
   "execution_count": 109,
   "metadata": {},
   "outputs": [],
   "source": [
    "def evaluate_preds(y_true, y_pred):\n",
    "  # Make sure float32 (for metric calculations)\n",
    "  y_true = tf.cast(y_true, dtype=tf.float32)\n",
    "  y_pred = tf.cast(y_pred, dtype=tf.float32)\n",
    "\n",
    "  # Calculate various metrics\n",
    "  mae = tf.keras.metrics.mean_absolute_error(y_true, y_pred)\n",
    "  mse = tf.keras.metrics.mean_squared_error(y_true, y_pred) # puts and emphasis on outliers (all errors get squared)\n",
    "  rmse = tf.sqrt(mse)\n",
    "  mape = tf.keras.metrics.mean_absolute_percentage_error(y_true, y_pred)\n",
    "  mase = mean_absolute_scaled_error(y_true, y_pred)\n",
    "\n",
    "  return  {\"mae\": float(mae.numpy()),\n",
    "          \"mse\": float(mse.numpy()),\n",
    "          \"rmse\": float(rmse.numpy()),\n",
    "          \"mape\": float(mape.numpy()),\n",
    "          \"mase\": float(mase.numpy())}"
   ]
  },
  {
   "cell_type": "code",
   "execution_count": 26,
   "metadata": {},
   "outputs": [
    {
     "data": {
      "text/plain": [
       "{'mae': 567.980224609375,\n",
       " 'mse': 1147547.0,\n",
       " 'rmse': 1071.2362060546875,\n",
       " 'mape': 2.5165250301361084,\n",
       " 'mase': 0.9995700120925903}"
      ]
     },
     "execution_count": 26,
     "metadata": {},
     "output_type": "execute_result"
    }
   ],
   "source": [
    "# Let's compute the evaluation metrics using our function\n",
    "naive_results = evaluate_preds(y_true=y_test[1:],\n",
    "                               y_pred=naive_forecast)\n",
    "\n",
    "naive_results              "
   ]
  },
  {
   "attachments": {},
   "cell_type": "markdown",
   "metadata": {},
   "source": [
    "Save model results"
   ]
  },
  {
   "cell_type": "code",
   "execution_count": 27,
   "metadata": {},
   "outputs": [
    {
     "name": "stdout",
     "output_type": "stream",
     "text": [
      "Success! File written to destination.\n"
     ]
    }
   ],
   "source": [
    "# Saving model results\n",
    "from Functions.helper_functions import save_model_results_json\n",
    "\n",
    "des_path = r\"Saved Results\\10_time_series_forecasting_with_tensorflow\"\n",
    "\n",
    "save_model_results_json(filepath=des_path,\n",
    "                        var_to_save=naive_results,\n",
    "                        file_string=\"model_0_results\")"
   ]
  },
  {
   "cell_type": "code",
   "execution_count": 28,
   "metadata": {},
   "outputs": [
    {
     "data": {
      "text/plain": [
       "(<tf.Tensor: shape=(), dtype=float64, numpy=20056.632963737222>,\n",
       " <tf.Tensor: shape=(), dtype=float64, numpy=4944.7023359837>,\n",
       " <tf.Tensor: shape=(), dtype=float64, numpy=63346.7890351052>)"
      ]
     },
     "execution_count": 28,
     "metadata": {},
     "output_type": "execute_result"
    }
   ],
   "source": [
    "# What does the dataset look like?\n",
    "tf.reduce_mean(y_test), tf.reduce_min(y_test), tf.reduce_max(y_test)"
   ]
  },
  {
   "cell_type": "code",
   "execution_count": 29,
   "metadata": {},
   "outputs": [
    {
     "name": "stdout",
     "output_type": "stream",
     "text": [
      "We want to use: [123.65499, 125.455, 108.58483, 118.67466, 121.33866, 120.65533, 121.795] to predict this: 123.033\n"
     ]
    }
   ],
   "source": [
    "# What we want to do with our Bitcoin data\n",
    "print(f\"We want to use: {btc_price[:7]} to predict this: {btc_price[7]}\")"
   ]
  },
  {
   "attachments": {},
   "cell_type": "markdown",
   "metadata": {},
   "source": [
    "## Format Data Part 2: Windowing our dataset\n",
    "\n",
    "Why do we window? \n",
    "\n",
    "We window our time series dataset to turn our data into a supervised learning problem."
   ]
  },
  {
   "cell_type": "code",
   "execution_count": 30,
   "metadata": {},
   "outputs": [
    {
     "name": "stdout",
     "output_type": "stream",
     "text": [
      "We want to use: [123.65499, 125.455, 108.58483, 118.67466, 121.33866, 120.65533, 121.795] to predict this: 123.033\n"
     ]
    }
   ],
   "source": [
    "# What we want to do with our Bitcoin data\n",
    "print(f\"We want to use: {btc_price[:7]} to predict this: {btc_price[7]}\")"
   ]
  },
  {
   "cell_type": "code",
   "execution_count": 31,
   "metadata": {},
   "outputs": [],
   "source": [
    "# Let's setup global variables for window and horizon\n",
    "HORIZON = 1 # predict next 1 day\n",
    "WINDOW_SIZE = 7 # use the past week of Bitcoin data to make prediction"
   ]
  },
  {
   "cell_type": "code",
   "execution_count": 32,
   "metadata": {},
   "outputs": [],
   "source": [
    "# Create function to label window data\n",
    "def get_labeled_windows(x, horizon=HORIZON):\n",
    "    \"\"\"\n",
    "    Creates labels for windowed dataset.\n",
    "\n",
    "    e.g. if horizon = 1\n",
    "    Input: [0, 1, 2, 3, 4, 5, 6, 7] -> Output: ([0, 1, 2, 3, 4, 5, 6], [7])\n",
    "\n",
    "    \"\"\"\n",
    "    return x[:,:-horizon], x[:,-horizon:]"
   ]
  },
  {
   "cell_type": "code",
   "execution_count": 33,
   "metadata": {},
   "outputs": [
    {
     "name": "stdout",
     "output_type": "stream",
     "text": [
      "Window: [0 1 2 3 4 5 6] -> Label: 7\n"
     ]
    }
   ],
   "source": [
    "# Test out the window labelling function\n",
    "test_window, test_label = get_labeled_windows(tf.expand_dims(tf.range(8),axis = 0))\n",
    "print(f\"Window: {tf.squeeze(test_window).numpy()} -> Label: {tf.squeeze(test_label).numpy()}\")"
   ]
  },
  {
   "cell_type": "markdown",
   "metadata": {},
   "source": [
    "We've got a way to label our windowed data. However, this only works on a small scale. We need a way to do the above across our entire time series.\n",
    "\n",
    "Our function will:\n",
    "1. Create a window step of specific window size\n",
    "2. Use NumPy indexing to create a 2D array of multiple window steps\n",
    "3. Uses the 2D array of multiple window steps (from 2.) to index on a target series (e.g. the historical price of Bitcoin)\n",
    "4. Uses our `get_labeled_windows()` function we created above to turn the window steps into windows with a specified horizon"
   ]
  },
  {
   "cell_type": "code",
   "execution_count": 34,
   "metadata": {},
   "outputs": [],
   "source": [
    "# Import numpy\n",
    "import numpy as np"
   ]
  },
  {
   "cell_type": "code",
   "execution_count": 91,
   "metadata": {},
   "outputs": [],
   "source": [
    "# Create function to view NumPy arrays as windows \n",
    "def make_windows(x, window_size=7, horizon=1):\n",
    "  \"\"\"\n",
    "  Turns a 1D array into a 2D array of sequential windows of window_size.\n",
    "  \"\"\"\n",
    "  # 1. Create a window of specific window_size (add the horizon on the end for later labelling)\n",
    "  window_step = np.expand_dims(np.arange(window_size+horizon), axis=0)\n",
    "  # print(f\"Window step:\\n {window_step}\")\n",
    "\n",
    "  # 2. Create a 2D array of multiple window steps (minus 1 to account for 0 indexing)\n",
    "  window_indexes = window_step + np.expand_dims(np.arange(len(x)-(window_size+horizon-1)), axis=0).T # create 2D array of windows of size window_size\n",
    "  # print(f\"Window indexes:\\n {window_indexes[:3], window_indexes[-3:], window_indexes.shape}\")\n",
    "\n",
    "  # 3. Index on the target array (time series) with 2D array of multiple window steps\n",
    "  windowed_array = x[window_indexes]\n",
    "\n",
    "  # 4. Get the labelled windows\n",
    "  windows, labels = get_labeled_windows(windowed_array, horizon=horizon)\n",
    "\n",
    "  return windows, labels"
   ]
  },
  {
   "cell_type": "code",
   "execution_count": 36,
   "metadata": {},
   "outputs": [
    {
     "data": {
      "text/plain": [
       "(2780, 2780)"
      ]
     },
     "execution_count": 36,
     "metadata": {},
     "output_type": "execute_result"
    }
   ],
   "source": [
    "# Generate full windows and labels\n",
    "full_windows, full_labels = make_windows(prices,window_size=WINDOW_SIZE,horizon=HORIZON)\n",
    "len(full_windows), len(full_labels)"
   ]
  },
  {
   "cell_type": "code",
   "execution_count": 37,
   "metadata": {},
   "outputs": [
    {
     "name": "stdout",
     "output_type": "stream",
     "text": [
      "Window: [123.65499 125.455   108.58483 118.67466 121.33866 120.65533 121.795  ]-> Label: [123.033]\n",
      "Window: [125.455   108.58483 118.67466 121.33866 120.65533 121.795   123.033  ]-> Label: [124.049]\n",
      "Window: [108.58483 118.67466 121.33866 120.65533 121.795   123.033   124.049  ]-> Label: [125.96116]\n"
     ]
    }
   ],
   "source": [
    "# View the first 3 windows/labels\n",
    "for i in range(3):\n",
    "    print(f\"Window: {full_windows[i]}-> Label: {full_labels[i]}\")"
   ]
  },
  {
   "cell_type": "code",
   "execution_count": 38,
   "metadata": {},
   "outputs": [
    {
     "name": "stdout",
     "output_type": "stream",
     "text": [
      "Window: [58788.20967893 58102.19142623 55715.54665129 56573.5554719\n",
      " 52147.82118698 49764.1320816  50032.69313676]-> Label: [47885.62525472]\n",
      "Window: [58102.19142623 55715.54665129 56573.5554719  52147.82118698\n",
      " 49764.1320816  50032.69313676 47885.62525472]-> Label: [45604.61575361]\n",
      "Window: [55715.54665129 56573.5554719  52147.82118698 49764.1320816\n",
      " 50032.69313676 47885.62525472 45604.61575361]-> Label: [43144.47129086]\n"
     ]
    }
   ],
   "source": [
    "# View the last 3 windows/labels\n",
    "for i in range(3):\n",
    "    print(f\"Window: {full_windows[i-3]}-> Label: {full_labels[i-3]}\")"
   ]
  },
  {
   "cell_type": "markdown",
   "metadata": {},
   "source": [
    "> 🔑 **Note**: There is a function that does similar to the one above [`tf.keras.utils.timeseries_dataset_from_array()`](https://www.tensorflow.org/api_docs/python/tf/keras/utils/timeseries_dataset_from_array)"
   ]
  },
  {
   "cell_type": "markdown",
   "metadata": {},
   "source": [
    "## Turning windows into training and test sets"
   ]
  },
  {
   "cell_type": "code",
   "execution_count": 39,
   "metadata": {},
   "outputs": [],
   "source": [
    "# Make the train/test splits\n",
    "def make_train_test_splits(windows, labels, test_split=0.2):\n",
    "  \"\"\"\n",
    "  Splits matching pairs of windows and labels into train and test splits.\n",
    "  \"\"\"\n",
    "  split_size = int(len(windows) * (1-test_split)) # this will default to 80% train/20% test\n",
    "  \n",
    "  train_windows = windows[:split_size]\n",
    "  train_labels = labels[:split_size]\n",
    "  \n",
    "  test_windows = windows[split_size:]\n",
    "  test_labels = labels[split_size:]\n",
    "\n",
    "  return train_windows, test_windows, train_labels, test_labels"
   ]
  },
  {
   "cell_type": "code",
   "execution_count": 40,
   "metadata": {},
   "outputs": [
    {
     "data": {
      "text/plain": [
       "(2224, 556, 2224, 556)"
      ]
     },
     "execution_count": 40,
     "metadata": {},
     "output_type": "execute_result"
    }
   ],
   "source": [
    "# Create train and test windows\n",
    "train_windows, test_windows, train_labels, test_labels = make_train_test_splits(full_windows, full_labels)\n",
    "len(train_windows), len(test_windows), len(train_labels), len(test_labels)"
   ]
  },
  {
   "cell_type": "code",
   "execution_count": 41,
   "metadata": {},
   "outputs": [
    {
     "data": {
      "text/plain": [
       "(array([[123.65499, 125.455  , 108.58483, 118.67466, 121.33866, 120.65533,\n",
       "         121.795  ],\n",
       "        [125.455  , 108.58483, 118.67466, 121.33866, 120.65533, 121.795  ,\n",
       "         123.033  ],\n",
       "        [108.58483, 118.67466, 121.33866, 120.65533, 121.795  , 123.033  ,\n",
       "         124.049  ],\n",
       "        [118.67466, 121.33866, 120.65533, 121.795  , 123.033  , 124.049  ,\n",
       "         125.96116],\n",
       "        [121.33866, 120.65533, 121.795  , 123.033  , 124.049  , 125.96116,\n",
       "         125.27966]]),\n",
       " array([[123.033  ],\n",
       "        [124.049  ],\n",
       "        [125.96116],\n",
       "        [125.27966],\n",
       "        [125.9275 ]]))"
      ]
     },
     "execution_count": 41,
     "metadata": {},
     "output_type": "execute_result"
    }
   ],
   "source": [
    "train_windows[:5], train_labels[:5]"
   ]
  },
  {
   "cell_type": "markdown",
   "metadata": {},
   "source": [
    "## Make a modelling checkpoint callback\n",
    "\n",
    "Because our model's performance will fluctuate from experiment to experiment, we're going to write a model checkpoint so we can compare apples to apples.\n",
    "\n",
    "More specifically, we want to compare each of our model's best performances against the other model's best performances. \n",
    "\n",
    "For example if our model performs the best on epoch 55 (but we're training for 100 epochs), we want to load and evaluate the model saved on epoch 55."
   ]
  },
  {
   "cell_type": "code",
   "execution_count": 42,
   "metadata": {},
   "outputs": [],
   "source": [
    "import os\n",
    "\n",
    "# Create a function to implement a ModelCheckpoint callback with a specific filename\n",
    "def create_model_checkpoint(model_name, save_path =\"model_experiments\"):\n",
    "    return tf.keras.callbacks.ModelCheckpoint(filepath=os.path.join(save_path,model_name),\n",
    "                                              monitor=\"val_loss\",\n",
    "                                              verbose=0,\n",
    "                                              save_best_only=True)"
   ]
  },
  {
   "attachments": {},
   "cell_type": "markdown",
   "metadata": {},
   "source": [
    "## Model 1: Dense model (window = 7, horizon = 1)\n",
    "\n",
    "Our first deep model is going to be a simple dense model: \n",
    "* A single dense layer with 128 hidden units and Relu activation\n",
    "* An output layer with linear activation (no activation)\n",
    "* Adam optimizer and MAE loss function\n",
    "* Batch size of 128 (previously we've used 32)\n",
    "* 100 epochs"
   ]
  },
  {
   "cell_type": "code",
   "execution_count": 43,
   "metadata": {},
   "outputs": [
    {
     "name": "stdout",
     "output_type": "stream",
     "text": [
      "Epoch 1/100\n",
      " 1/18 [>.............................] - ETA: 11s - loss: 2111.0571 - mae: 2111.0571 - mse: 9255782.0000INFO:tensorflow:Assets written to: model_experiments\\model_1_dense\\assets\n",
      "18/18 [==============================] - 1s 41ms/step - loss: 780.3455 - mae: 780.3455 - mse: 2312725.7500 - val_loss: 2279.6528 - val_mae: 2279.6528 - val_mse: 12772731.0000\n",
      "Epoch 2/100\n",
      " 1/18 [>.............................] - ETA: 0s - loss: 348.8859 - mae: 348.8859 - mse: 600802.5625INFO:tensorflow:Assets written to: model_experiments\\model_1_dense\\assets\n",
      "18/18 [==============================] - 0s 25ms/step - loss: 247.6756 - mae: 247.6756 - mse: 285481.1875 - val_loss: 1005.9992 - val_mae: 1005.9992 - val_mse: 3441833.5000\n",
      "Epoch 3/100\n",
      " 1/18 [>.............................] - ETA: 0s - loss: 134.4855 - mae: 134.4855 - mse: 70765.6875INFO:tensorflow:Assets written to: model_experiments\\model_1_dense\\assets\n",
      "18/18 [==============================] - 0s 24ms/step - loss: 188.4116 - mae: 188.4116 - mse: 171891.5938 - val_loss: 923.2863 - val_mae: 923.2863 - val_mse: 2868221.2500\n",
      "Epoch 4/100\n",
      "16/18 [=========================>....] - ETA: 0s - loss: 169.4214 - mae: 169.4214 - mse: 153927.8438INFO:tensorflow:Assets written to: model_experiments\\model_1_dense\\assets\n",
      "18/18 [==============================] - 1s 30ms/step - loss: 169.4340 - mae: 169.4340 - mse: 151700.5625 - val_loss: 900.5872 - val_mae: 900.5872 - val_mse: 2683715.7500\n",
      "Epoch 5/100\n",
      "17/18 [===========================>..] - ETA: 0s - loss: 166.6893 - mae: 166.6893 - mse: 147769.2188INFO:tensorflow:Assets written to: model_experiments\\model_1_dense\\assets\n",
      "18/18 [==============================] - 0s 26ms/step - loss: 165.0895 - mae: 165.0895 - mse: 145490.8125 - val_loss: 895.2236 - val_mae: 895.2236 - val_mse: 2564574.5000\n",
      "Epoch 6/100\n",
      "14/18 [======================>.......] - ETA: 0s - loss: 155.6029 - mae: 155.6029 - mse: 118222.0547INFO:tensorflow:Assets written to: model_experiments\\model_1_dense\\assets\n",
      "18/18 [==============================] - 0s 26ms/step - loss: 158.5210 - mae: 158.5210 - mse: 133817.7500 - val_loss: 855.1985 - val_mae: 855.1985 - val_mse: 2481873.7500\n",
      "Epoch 7/100\n",
      "18/18 [==============================] - ETA: 0s - loss: 151.3566 - mae: 151.3566 - mse: 123446.9922INFO:tensorflow:Assets written to: model_experiments\\model_1_dense\\assets\n",
      "18/18 [==============================] - 0s 25ms/step - loss: 151.3566 - mae: 151.3566 - mse: 123446.9922 - val_loss: 840.9167 - val_mae: 840.9166 - val_mse: 2276452.0000\n",
      "Epoch 8/100\n",
      "17/18 [===========================>..] - ETA: 0s - loss: 145.3278 - mae: 145.3278 - mse: 118771.5781INFO:tensorflow:Assets written to: model_experiments\\model_1_dense\\assets\n",
      "18/18 [==============================] - 0s 25ms/step - loss: 145.2560 - mae: 145.2560 - mse: 117694.5000 - val_loss: 803.5959 - val_mae: 803.5959 - val_mse: 2140574.7500\n",
      "Epoch 9/100\n",
      "17/18 [===========================>..] - ETA: 0s - loss: 144.6505 - mae: 144.6505 - mse: 116260.0859INFO:tensorflow:Assets written to: model_experiments\\model_1_dense\\assets\n",
      "18/18 [==============================] - 0s 25ms/step - loss: 144.3546 - mae: 144.3546 - mse: 115269.3125 - val_loss: 799.5455 - val_mae: 799.5455 - val_mse: 2049208.1250\n",
      "Epoch 10/100\n",
      "18/18 [==============================] - ETA: 0s - loss: 141.2943 - mae: 141.2943 - mse: 112394.5938INFO:tensorflow:Assets written to: model_experiments\\model_1_dense\\assets\n",
      "18/18 [==============================] - 0s 24ms/step - loss: 141.2943 - mae: 141.2943 - mse: 112394.5938 - val_loss: 763.5010 - val_mae: 763.5010 - val_mse: 1933141.0000\n",
      "Epoch 11/100\n",
      "18/18 [==============================] - 0s 5ms/step - loss: 135.6595 - mae: 135.6595 - mse: 104118.2578 - val_loss: 771.3354 - val_mae: 771.3354 - val_mse: 1885849.5000\n",
      "Epoch 12/100\n",
      "18/18 [==============================] - 0s 5ms/step - loss: 134.1700 - mae: 134.1700 - mse: 101780.8672 - val_loss: 782.8077 - val_mae: 782.8077 - val_mse: 1881726.8750\n",
      "Epoch 13/100\n",
      "18/18 [==============================] - 0s 5ms/step - loss: 134.6015 - mae: 134.6015 - mse: 102345.2500 - val_loss: 784.4446 - val_mae: 784.4446 - val_mse: 1860995.0000\n",
      "Epoch 14/100\n",
      "17/18 [===========================>..] - ETA: 0s - loss: 127.6787 - mae: 127.6787 - mse: 91905.3594INFO:tensorflow:Assets written to: model_experiments\\model_1_dense\\assets\n",
      "18/18 [==============================] - 0s 25ms/step - loss: 130.6127 - mae: 130.6127 - mse: 96225.1484 - val_loss: 751.3230 - val_mae: 751.3231 - val_mse: 1749608.5000\n",
      "Epoch 15/100\n",
      "17/18 [===========================>..] - ETA: 0s - loss: 128.8021 - mae: 128.8021 - mse: 94575.9688INFO:tensorflow:Assets written to: model_experiments\\model_1_dense\\assets\n",
      "18/18 [==============================] - 0s 25ms/step - loss: 128.8347 - mae: 128.8347 - mse: 94307.0156 - val_loss: 696.5756 - val_mae: 696.5756 - val_mse: 1606352.6250\n",
      "Epoch 16/100\n",
      "18/18 [==============================] - 0s 6ms/step - loss: 124.7738 - mae: 124.7738 - mse: 90394.9297 - val_loss: 702.4695 - val_mae: 702.4695 - val_mse: 1592415.5000\n",
      "Epoch 17/100\n",
      "18/18 [==============================] - 0s 5ms/step - loss: 123.4474 - mae: 123.4474 - mse: 89247.6953 - val_loss: 704.9236 - val_mae: 704.9236 - val_mse: 1580782.5000\n",
      "Epoch 18/100\n",
      " 1/18 [>.............................] - ETA: 0s - loss: 137.2540 - mae: 137.2540 - mse: 95732.7656INFO:tensorflow:Assets written to: model_experiments\\model_1_dense\\assets\n",
      "18/18 [==============================] - 0s 25ms/step - loss: 122.2105 - mae: 122.2105 - mse: 87607.6016 - val_loss: 667.9723 - val_mae: 667.9723 - val_mse: 1498881.8750\n",
      "Epoch 19/100\n",
      "18/18 [==============================] - 0s 5ms/step - loss: 121.7262 - mae: 121.7262 - mse: 86632.2734 - val_loss: 718.8792 - val_mae: 718.8792 - val_mse: 1589298.0000\n",
      "Epoch 20/100\n",
      "17/18 [===========================>..] - ETA: 0s - loss: 119.0798 - mae: 119.0798 - mse: 84785.1172 INFO:tensorflow:Assets written to: model_experiments\\model_1_dense\\assets\n",
      "18/18 [==============================] - 0s 25ms/step - loss: 119.2420 - mae: 119.2420 - mse: 84334.3281 - val_loss: 657.0665 - val_mae: 657.0665 - val_mse: 1447500.7500\n",
      "Epoch 21/100\n",
      "17/18 [===========================>..] - ETA: 0s - loss: 120.3041 - mae: 120.3041 - mse: 81402.6562INFO:tensorflow:Assets written to: model_experiments\\model_1_dense\\assets\n",
      "18/18 [==============================] - 0s 24ms/step - loss: 121.2275 - mae: 121.2275 - mse: 85743.3984 - val_loss: 637.0330 - val_mae: 637.0330 - val_mse: 1401774.0000\n",
      "Epoch 22/100\n",
      "18/18 [==============================] - 0s 5ms/step - loss: 119.9544 - mae: 119.9544 - mse: 84050.1016 - val_loss: 671.2486 - val_mae: 671.2486 - val_mse: 1447895.7500\n",
      "Epoch 23/100\n",
      " 1/18 [>.............................] - ETA: 0s - loss: 116.0426 - mae: 116.0426 - mse: 57999.4727INFO:tensorflow:Assets written to: model_experiments\\model_1_dense\\assets\n",
      "18/18 [==============================] - 1s 31ms/step - loss: 121.9248 - mae: 121.9248 - mse: 83746.1250 - val_loss: 633.3590 - val_mae: 633.3590 - val_mse: 1367377.5000\n",
      "Epoch 24/100\n",
      "17/18 [===========================>..] - ETA: 0s - loss: 117.7409 - mae: 117.7409 - mse: 82912.0625INFO:tensorflow:Assets written to: model_experiments\\model_1_dense\\assets\n",
      "18/18 [==============================] - 0s 25ms/step - loss: 116.3665 - mae: 116.3665 - mse: 81446.6797 - val_loss: 624.4853 - val_mae: 624.4853 - val_mse: 1348961.2500\n",
      "Epoch 25/100\n",
      "17/18 [===========================>..] - ETA: 0s - loss: 115.1250 - mae: 115.1250 - mse: 79750.3750INFO:tensorflow:Assets written to: model_experiments\\model_1_dense\\assets\n",
      "18/18 [==============================] - 0s 24ms/step - loss: 114.6816 - mae: 114.6816 - mse: 78912.8438 - val_loss: 619.7573 - val_mae: 619.7573 - val_mse: 1351090.1250\n",
      "Epoch 26/100\n",
      "16/18 [=========================>....] - ETA: 0s - loss: 118.2556 - mae: 118.2556 - mse: 78681.4141INFO:tensorflow:Assets written to: model_experiments\\model_1_dense\\assets\n",
      "18/18 [==============================] - 0s 24ms/step - loss: 116.4456 - mae: 116.4456 - mse: 79365.5938 - val_loss: 615.6364 - val_mae: 615.6364 - val_mse: 1321514.6250\n",
      "Epoch 27/100\n",
      "18/18 [==============================] - 0s 5ms/step - loss: 116.5868 - mae: 116.5868 - mse: 78672.9453 - val_loss: 615.9629 - val_mae: 615.9629 - val_mse: 1313077.7500\n",
      "Epoch 28/100\n",
      "16/18 [=========================>....] - ETA: 0s - loss: 112.7727 - mae: 112.7727 - mse: 78248.2188INFO:tensorflow:Assets written to: model_experiments\\model_1_dense\\assets\n",
      "18/18 [==============================] - 0s 25ms/step - loss: 113.4691 - mae: 113.4691 - mse: 77440.1250 - val_loss: 608.0922 - val_mae: 608.0922 - val_mse: 1309775.7500\n",
      "Epoch 29/100\n",
      "18/18 [==============================] - 0s 5ms/step - loss: 113.7598 - mae: 113.7598 - mse: 78506.9531 - val_loss: 621.9301 - val_mae: 621.9301 - val_mse: 1313324.3750\n",
      "Epoch 30/100\n",
      "17/18 [===========================>..] - ETA: 0s - loss: 117.4094 - mae: 117.4094 - mse: 80077.0859INFO:tensorflow:Assets written to: model_experiments\\model_1_dense\\assets\n",
      "18/18 [==============================] - 0s 25ms/step - loss: 116.8613 - mae: 116.8613 - mse: 79236.4609 - val_loss: 604.4055 - val_mae: 604.4055 - val_mse: 1283408.2500\n",
      "Epoch 31/100\n",
      "18/18 [==============================] - 0s 6ms/step - loss: 111.9375 - mae: 111.9375 - mse: 74849.0703 - val_loss: 609.3879 - val_mae: 609.3879 - val_mse: 1284505.8750\n",
      "Epoch 32/100\n",
      "16/18 [=========================>....] - ETA: 0s - loss: 111.2109 - mae: 111.2109 - mse: 74370.7578INFO:tensorflow:Assets written to: model_experiments\\model_1_dense\\assets\n",
      "18/18 [==============================] - 0s 26ms/step - loss: 112.4175 - mae: 112.4175 - mse: 77178.6016 - val_loss: 603.0585 - val_mae: 603.0585 - val_mse: 1273058.6250\n",
      "Epoch 33/100\n",
      "18/18 [==============================] - 0s 5ms/step - loss: 112.6697 - mae: 112.6697 - mse: 75788.0078 - val_loss: 645.6965 - val_mae: 645.6965 - val_mse: 1353254.0000\n",
      "Epoch 34/100\n",
      "18/18 [==============================] - 0s 5ms/step - loss: 111.9867 - mae: 111.9867 - mse: 77245.7266 - val_loss: 604.7639 - val_mae: 604.7639 - val_mse: 1289361.8750\n",
      "Epoch 35/100\n",
      "16/18 [=========================>....] - ETA: 0s - loss: 110.9354 - mae: 110.9354 - mse: 77063.3516INFO:tensorflow:Assets written to: model_experiments\\model_1_dense\\assets\n",
      "18/18 [==============================] - 0s 26ms/step - loss: 110.9451 - mae: 110.9451 - mse: 75301.8281 - val_loss: 593.4648 - val_mae: 593.4648 - val_mse: 1250491.8750\n",
      "Epoch 36/100\n",
      "18/18 [==============================] - 0s 5ms/step - loss: 114.4816 - mae: 114.4816 - mse: 76138.5703 - val_loss: 608.0067 - val_mae: 608.0067 - val_mse: 1269270.5000\n",
      "Epoch 37/100\n",
      "18/18 [==============================] - 0s 5ms/step - loss: 110.2016 - mae: 110.2016 - mse: 74635.3125 - val_loss: 597.2306 - val_mae: 597.2306 - val_mse: 1248473.8750\n",
      "Epoch 38/100\n",
      "18/18 [==============================] - 0s 5ms/step - loss: 112.2371 - mae: 112.2371 - mse: 75821.7266 - val_loss: 637.9808 - val_mae: 637.9808 - val_mse: 1366132.7500\n",
      "Epoch 39/100\n",
      "17/18 [===========================>..] - ETA: 0s - loss: 114.8986 - mae: 114.8986 - mse: 76431.7578 INFO:tensorflow:Assets written to: model_experiments\\model_1_dense\\assets\n",
      "18/18 [==============================] - 0s 24ms/step - loss: 115.1290 - mae: 115.1290 - mse: 76339.6797 - val_loss: 587.4678 - val_mae: 587.4678 - val_mse: 1233512.5000\n",
      "Epoch 40/100\n",
      "18/18 [==============================] - 0s 5ms/step - loss: 110.0854 - mae: 110.0854 - mse: 73528.5000 - val_loss: 592.7120 - val_mae: 592.7120 - val_mse: 1251474.8750\n",
      "Epoch 41/100\n",
      "18/18 [==============================] - 0s 5ms/step - loss: 110.6344 - mae: 110.6344 - mse: 73528.8281 - val_loss: 593.9002 - val_mae: 593.9002 - val_mse: 1253679.3750\n",
      "Epoch 42/100\n",
      "18/18 [==============================] - 0s 5ms/step - loss: 113.5762 - mae: 113.5762 - mse: 77076.7500 - val_loss: 636.3661 - val_mae: 636.3661 - val_mse: 1317280.6250\n",
      "Epoch 43/100\n",
      "18/18 [==============================] - 0s 5ms/step - loss: 116.2285 - mae: 116.2285 - mse: 74712.2109 - val_loss: 662.9277 - val_mae: 662.9277 - val_mse: 1419205.8750\n",
      "Epoch 44/100\n",
      "18/18 [==============================] - 0s 5ms/step - loss: 120.0193 - mae: 120.0193 - mse: 80971.9219 - val_loss: 635.6375 - val_mae: 635.6375 - val_mse: 1346002.8750\n",
      "Epoch 45/100\n",
      "18/18 [==============================] - 0s 5ms/step - loss: 110.9675 - mae: 110.9675 - mse: 74941.3203 - val_loss: 601.9918 - val_mae: 601.9918 - val_mse: 1244814.7500\n",
      "Epoch 46/100\n",
      "18/18 [==============================] - 0s 5ms/step - loss: 111.6012 - mae: 111.6012 - mse: 74565.6328 - val_loss: 593.3539 - val_mae: 593.3539 - val_mse: 1248765.8750\n",
      "Epoch 47/100\n",
      "18/18 [==============================] - 0s 5ms/step - loss: 109.6161 - mae: 109.6161 - mse: 74190.7422 - val_loss: 637.0000 - val_mae: 637.0000 - val_mse: 1314967.7500\n",
      "Epoch 48/100\n",
      "18/18 [==============================] - 0s 5ms/step - loss: 109.1368 - mae: 109.1368 - mse: 72792.5859 - val_loss: 598.4189 - val_mae: 598.4189 - val_mse: 1234608.6250\n",
      "Epoch 49/100\n",
      "17/18 [===========================>..] - ETA: 0s - loss: 112.7001 - mae: 112.7001 - mse: 74284.7109 INFO:tensorflow:Assets written to: model_experiments\\model_1_dense\\assets\n",
      "18/18 [==============================] - 0s 29ms/step - loss: 112.4355 - mae: 112.4355 - mse: 73980.3672 - val_loss: 579.7040 - val_mae: 579.7040 - val_mse: 1208301.8750\n",
      "Epoch 50/100\n",
      "18/18 [==============================] - 0s 6ms/step - loss: 110.2108 - mae: 110.2108 - mse: 72939.7188 - val_loss: 639.2337 - val_mae: 639.2337 - val_mse: 1347997.1250\n",
      "Epoch 51/100\n",
      "18/18 [==============================] - 0s 5ms/step - loss: 111.0958 - mae: 111.0958 - mse: 73281.9219 - val_loss: 597.3566 - val_mae: 597.3566 - val_mse: 1229789.8750\n",
      "Epoch 52/100\n",
      "18/18 [==============================] - 0s 5ms/step - loss: 110.7351 - mae: 110.7351 - mse: 74529.6328 - val_loss: 580.7230 - val_mae: 580.7230 - val_mse: 1215478.3750\n",
      "Epoch 53/100\n",
      "18/18 [==============================] - 0s 6ms/step - loss: 111.1785 - mae: 111.1785 - mse: 74149.5078 - val_loss: 648.3575 - val_mae: 648.3575 - val_mse: 1336948.3750\n",
      "Epoch 54/100\n",
      "18/18 [==============================] - 0s 6ms/step - loss: 114.0831 - mae: 114.0831 - mse: 74815.0859 - val_loss: 593.2001 - val_mae: 593.2001 - val_mse: 1220660.3750\n",
      "Epoch 55/100\n",
      "15/18 [========================>.....] - ETA: 0s - loss: 114.3634 - mae: 114.3634 - mse: 78397.8359 INFO:tensorflow:Assets written to: model_experiments\\model_1_dense\\assets\n",
      "18/18 [==============================] - 0s 25ms/step - loss: 110.4910 - mae: 110.4910 - mse: 74711.2500 - val_loss: 579.5068 - val_mae: 579.5068 - val_mse: 1211581.2500\n",
      "Epoch 56/100\n",
      "18/18 [==============================] - 0s 6ms/step - loss: 108.0488 - mae: 108.0488 - mse: 71844.1641 - val_loss: 807.3871 - val_mae: 807.3871 - val_mse: 1859299.5000\n",
      "Epoch 57/100\n",
      "18/18 [==============================] - 0s 6ms/step - loss: 125.0614 - mae: 125.0614 - mse: 84025.2734 - val_loss: 674.1669 - val_mae: 674.1669 - val_mse: 1437690.5000\n",
      "Epoch 58/100\n",
      "18/18 [==============================] - 0s 5ms/step - loss: 115.4340 - mae: 115.4340 - mse: 73710.7578 - val_loss: 582.2692 - val_mae: 582.2692 - val_mse: 1202679.1250\n",
      "Epoch 59/100\n",
      "18/18 [==============================] - 0s 6ms/step - loss: 110.0881 - mae: 110.0881 - mse: 72845.1328 - val_loss: 606.7650 - val_mae: 606.7650 - val_mse: 1267546.2500\n",
      "Epoch 60/100\n",
      "18/18 [==============================] - 0s 5ms/step - loss: 108.7156 - mae: 108.7156 - mse: 72675.7969 - val_loss: 602.3090 - val_mae: 602.3090 - val_mse: 1234688.2500\n",
      "Epoch 61/100\n",
      "15/18 [========================>.....] - ETA: 0s - loss: 110.2603 - mae: 110.2603 - mse: 75117.7031INFO:tensorflow:Assets written to: model_experiments\\model_1_dense\\assets\n",
      "18/18 [==============================] - 0s 25ms/step - loss: 108.1525 - mae: 108.1525 - mse: 72252.1250 - val_loss: 573.9988 - val_mae: 573.9988 - val_mse: 1189583.2500\n",
      "Epoch 62/100\n",
      "18/18 [==============================] - 0s 6ms/step - loss: 107.3727 - mae: 107.3727 - mse: 70822.8359 - val_loss: 581.7021 - val_mae: 581.7021 - val_mse: 1214007.3750\n",
      "Epoch 63/100\n",
      "18/18 [==============================] - 0s 6ms/step - loss: 110.7667 - mae: 110.7667 - mse: 73178.4688 - val_loss: 637.5234 - val_mae: 637.5234 - val_mse: 1311199.7500\n",
      "Epoch 64/100\n",
      "18/18 [==============================] - 0s 6ms/step - loss: 110.1539 - mae: 110.1539 - mse: 72588.2422 - val_loss: 586.6592 - val_mae: 586.6592 - val_mse: 1207115.2500\n",
      "Epoch 65/100\n",
      "15/18 [========================>.....] - ETA: 0s - loss: 106.9197 - mae: 106.9197 - mse: 71782.1484 INFO:tensorflow:Assets written to: model_experiments\\model_1_dense\\assets\n",
      "18/18 [==============================] - 0s 25ms/step - loss: 108.2325 - mae: 108.2325 - mse: 71962.0859 - val_loss: 573.5617 - val_mae: 573.5617 - val_mse: 1188986.2500\n",
      "Epoch 66/100\n",
      "13/18 [====================>.........] - ETA: 0s - loss: 105.7378 - mae: 105.7378 - mse: 66057.5156INFO:tensorflow:Assets written to: model_experiments\\model_1_dense\\assets\n",
      "18/18 [==============================] - 0s 28ms/step - loss: 108.6825 - mae: 108.6825 - mse: 71026.3672 - val_loss: 572.2206 - val_mae: 572.2206 - val_mse: 1187818.3750\n",
      "Epoch 67/100\n",
      "18/18 [==============================] - 0s 6ms/step - loss: 106.6371 - mae: 106.6371 - mse: 70166.2656 - val_loss: 646.6371 - val_mae: 646.6371 - val_mse: 1356396.2500\n",
      "Epoch 68/100\n",
      "18/18 [==============================] - 0s 6ms/step - loss: 114.1603 - mae: 114.1603 - mse: 71297.3281 - val_loss: 681.8581 - val_mae: 681.8581 - val_mse: 1455432.8750\n",
      "Epoch 69/100\n",
      "18/18 [==============================] - 0s 7ms/step - loss: 124.5514 - mae: 124.5514 - mse: 81239.0000 - val_loss: 655.9902 - val_mae: 655.9902 - val_mse: 1383327.2500\n",
      "Epoch 70/100\n",
      "18/18 [==============================] - 0s 6ms/step - loss: 125.0234 - mae: 125.0234 - mse: 83058.1953 - val_loss: 601.0046 - val_mae: 601.0046 - val_mse: 1256965.2500\n",
      "Epoch 71/100\n",
      "18/18 [==============================] - 0s 5ms/step - loss: 110.3651 - mae: 110.3651 - mse: 71691.5156 - val_loss: 595.3952 - val_mae: 595.3952 - val_mse: 1222770.1250\n",
      "Epoch 72/100\n",
      "18/18 [==============================] - 0s 6ms/step - loss: 107.9285 - mae: 107.9285 - mse: 71745.5391 - val_loss: 573.7084 - val_mae: 573.7084 - val_mse: 1192818.7500\n",
      "Epoch 73/100\n",
      "18/18 [==============================] - 0s 6ms/step - loss: 109.5085 - mae: 109.5085 - mse: 71691.1641 - val_loss: 580.4187 - val_mae: 580.4187 - val_mse: 1211318.3750\n",
      "Epoch 74/100\n",
      "18/18 [==============================] - 0s 9ms/step - loss: 108.7380 - mae: 108.7380 - mse: 72051.1328 - val_loss: 576.1218 - val_mae: 576.1218 - val_mse: 1199671.0000\n",
      "Epoch 75/100\n",
      "18/18 [==============================] - 0s 5ms/step - loss: 107.9404 - mae: 107.9404 - mse: 71043.1641 - val_loss: 591.1465 - val_mae: 591.1465 - val_mse: 1211106.3750\n",
      "Epoch 76/100\n",
      "18/18 [==============================] - 0s 5ms/step - loss: 109.4232 - mae: 109.4232 - mse: 72295.0547 - val_loss: 597.8621 - val_mae: 597.8621 - val_mse: 1243938.1250\n",
      "Epoch 77/100\n",
      "18/18 [==============================] - ETA: 0s - loss: 107.5879 - mae: 107.5879 - mse: 70333.8594INFO:tensorflow:Assets written to: model_experiments\\model_1_dense\\assets\n",
      "18/18 [==============================] - 0s 25ms/step - loss: 107.5879 - mae: 107.5879 - mse: 70333.8594 - val_loss: 571.9301 - val_mae: 571.9301 - val_mse: 1186830.2500\n",
      "Epoch 78/100\n",
      "18/18 [==============================] - 0s 5ms/step - loss: 108.1598 - mae: 108.1598 - mse: 70200.1094 - val_loss: 575.2389 - val_mae: 575.2389 - val_mse: 1195317.8750\n",
      "Epoch 79/100\n",
      "18/18 [==============================] - 0s 5ms/step - loss: 107.9175 - mae: 107.9175 - mse: 72451.6250 - val_loss: 617.3091 - val_mae: 617.3091 - val_mse: 1285513.8750\n",
      "Epoch 80/100\n",
      "18/18 [==============================] - 0s 5ms/step - loss: 108.9510 - mae: 108.9510 - mse: 72158.7969 - val_loss: 583.4837 - val_mae: 583.4837 - val_mse: 1194356.0000\n",
      "Epoch 81/100\n",
      "18/18 [==============================] - ETA: 0s - loss: 106.0505 - mae: 106.0505 - mse: 69690.9219INFO:tensorflow:Assets written to: model_experiments\\model_1_dense\\assets\n",
      "18/18 [==============================] - 0s 24ms/step - loss: 106.0505 - mae: 106.0505 - mse: 69690.9219 - val_loss: 570.0801 - val_mae: 570.0801 - val_mse: 1177237.6250\n",
      "Epoch 82/100\n",
      "18/18 [==============================] - 0s 5ms/step - loss: 115.6827 - mae: 115.6827 - mse: 76903.5000 - val_loss: 575.7390 - val_mae: 575.7390 - val_mse: 1194663.6250\n",
      "Epoch 83/100\n",
      "18/18 [==============================] - 0s 4ms/step - loss: 110.9379 - mae: 110.9379 - mse: 72968.3203 - val_loss: 659.6589 - val_mae: 659.6589 - val_mse: 1388833.0000\n",
      "Epoch 84/100\n",
      "18/18 [==============================] - 0s 4ms/step - loss: 111.4837 - mae: 111.4837 - mse: 73017.9531 - val_loss: 570.1957 - val_mae: 570.1957 - val_mse: 1177492.3750\n",
      "Epoch 85/100\n",
      "18/18 [==============================] - 0s 4ms/step - loss: 107.5949 - mae: 107.5949 - mse: 70728.2266 - val_loss: 601.5933 - val_mae: 601.5933 - val_mse: 1228450.1250\n",
      "Epoch 86/100\n",
      "18/18 [==============================] - 0s 4ms/step - loss: 108.9426 - mae: 108.9426 - mse: 70066.7812 - val_loss: 592.8096 - val_mae: 592.8096 - val_mse: 1209679.3750\n",
      "Epoch 87/100\n",
      "18/18 [==============================] - 0s 4ms/step - loss: 105.7717 - mae: 105.7717 - mse: 68382.3906 - val_loss: 603.6180 - val_mae: 603.6180 - val_mse: 1252411.3750\n",
      "Epoch 88/100\n",
      " 1/18 [>.............................] - ETA: 0s - loss: 135.4519 - mae: 135.4519 - mse: 130713.6172INFO:tensorflow:Assets written to: model_experiments\\model_1_dense\\assets\n",
      "18/18 [==============================] - 1s 31ms/step - loss: 107.9218 - mae: 107.9218 - mse: 71668.0859 - val_loss: 569.0501 - val_mae: 569.0501 - val_mse: 1174588.6250\n",
      "Epoch 89/100\n",
      "16/18 [=========================>....] - ETA: 0s - loss: 101.2451 - mae: 101.2451 - mse: 61805.3281INFO:tensorflow:Assets written to: model_experiments\\model_1_dense\\assets\n",
      "18/18 [==============================] - 0s 25ms/step - loss: 106.0344 - mae: 106.0344 - mse: 68979.1641 - val_loss: 568.9511 - val_mae: 568.9511 - val_mse: 1171743.8750\n",
      "Epoch 90/100\n",
      "18/18 [==============================] - 0s 5ms/step - loss: 105.4977 - mae: 105.4977 - mse: 67516.4922 - val_loss: 581.7675 - val_mae: 581.7675 - val_mse: 1190160.2500\n",
      "Epoch 91/100\n",
      "18/18 [==============================] - 0s 4ms/step - loss: 108.8468 - mae: 108.8468 - mse: 71112.3750 - val_loss: 573.6027 - val_mae: 573.6027 - val_mse: 1185216.8750\n",
      "Epoch 92/100\n",
      "18/18 [==============================] - 0s 4ms/step - loss: 110.8884 - mae: 110.8884 - mse: 73287.8359 - val_loss: 576.8241 - val_mae: 576.8241 - val_mse: 1181628.2500\n",
      "Epoch 93/100\n",
      "18/18 [==============================] - 0s 4ms/step - loss: 113.8781 - mae: 113.8781 - mse: 75236.4609 - val_loss: 608.3030 - val_mae: 608.3030 - val_mse: 1264208.1250\n",
      "Epoch 94/100\n",
      "18/18 [==============================] - 0s 5ms/step - loss: 110.5763 - mae: 110.5763 - mse: 72590.9219 - val_loss: 601.6036 - val_mae: 601.6036 - val_mse: 1229104.1250\n",
      "Epoch 95/100\n",
      "18/18 [==============================] - 0s 4ms/step - loss: 106.5906 - mae: 106.5906 - mse: 68612.3359 - val_loss: 570.3649 - val_mae: 570.3649 - val_mse: 1175759.1250\n",
      "Epoch 96/100\n",
      "18/18 [==============================] - 0s 4ms/step - loss: 116.9515 - mae: 116.9515 - mse: 75082.1328 - val_loss: 615.2593 - val_mae: 615.2593 - val_mse: 1277126.5000\n",
      "Epoch 97/100\n",
      "18/18 [==============================] - 0s 5ms/step - loss: 108.0739 - mae: 108.0739 - mse: 71321.4609 - val_loss: 580.3079 - val_mae: 580.3079 - val_mse: 1202623.2500\n",
      "Epoch 98/100\n",
      "18/18 [==============================] - 0s 4ms/step - loss: 108.7102 - mae: 108.7102 - mse: 70248.1328 - val_loss: 586.6506 - val_mae: 586.6506 - val_mse: 1200830.2500\n",
      "Epoch 99/100\n",
      "18/18 [==============================] - 0s 4ms/step - loss: 109.0488 - mae: 109.0488 - mse: 70913.1797 - val_loss: 570.0629 - val_mae: 570.0629 - val_mse: 1177064.3750\n",
      "Epoch 100/100\n",
      "18/18 [==============================] - 0s 4ms/step - loss: 106.1845 - mae: 106.1845 - mse: 68681.7344 - val_loss: 585.9753 - val_mae: 585.9753 - val_mse: 1197801.2500\n"
     ]
    },
    {
     "data": {
      "text/plain": [
       "<keras.callbacks.History at 0x1a13406f100>"
      ]
     },
     "execution_count": 43,
     "metadata": {},
     "output_type": "execute_result"
    }
   ],
   "source": [
    "import tensorflow as tf\n",
    "from tensorflow.keras import layers\n",
    "\n",
    "# Set random seed for reproducible results\n",
    "tf.random.set_seed(42)\n",
    "\n",
    "# 1. Build\n",
    "model_1 = tf.keras.Sequential([\n",
    "   layers.Dense(128, activation=\"relu\"),\n",
    "   layers.Dense(HORIZON, activation=\"linear\") # linera activation -> ouput is the same as input\n",
    "], name=\"model_1_dense\") # name the model so we can save it\n",
    "\n",
    "# 2. Compile\n",
    "model_1.compile(loss=\"mae\",\n",
    "                optimizer=tf.keras.optimizers.Adam(),\n",
    "                metrics=[\"mae\",\"mse\"])\n",
    "\n",
    "# 3. Fit the model\n",
    "model_1.fit(x=train_windows,\n",
    "            y=train_labels,\n",
    "            epochs=100,\n",
    "            verbose=1,\n",
    "            batch_size=128,\n",
    "            validation_data=(test_windows,test_labels),\n",
    "            callbacks=[create_model_checkpoint(model_name=model_1.name)])"
   ]
  },
  {
   "cell_type": "code",
   "execution_count": 44,
   "metadata": {},
   "outputs": [
    {
     "name": "stdout",
     "output_type": "stream",
     "text": [
      "18/18 [==============================] - 0s 2ms/step - loss: 585.9752 - mae: 585.9752 - mse: 1197801.2500\n"
     ]
    },
    {
     "data": {
      "text/plain": [
       "[585.9752197265625, 585.9752197265625, 1197801.25]"
      ]
     },
     "execution_count": 44,
     "metadata": {},
     "output_type": "execute_result"
    }
   ],
   "source": [
    "# Evaluate model on test data\n",
    "model_1.evaluate(test_windows,test_labels)"
   ]
  },
  {
   "cell_type": "code",
   "execution_count": 45,
   "metadata": {},
   "outputs": [
    {
     "name": "stdout",
     "output_type": "stream",
     "text": [
      "18/18 [==============================] - 0s 2ms/step - loss: 568.9510 - mae: 568.9510 - mse: 1171743.8750\n"
     ]
    },
    {
     "data": {
      "text/plain": [
       "[568.9510498046875, 568.9510498046875, 1171743.875]"
      ]
     },
     "execution_count": 45,
     "metadata": {},
     "output_type": "execute_result"
    }
   ],
   "source": [
    "# Load in saved best performing model_1 and evaluate it on test data\n",
    "model_1 = tf.keras.models.load_model(\"model_experiments/model_1_dense/\")\n",
    "model_1.evaluate(test_windows,test_labels)"
   ]
  },
  {
   "attachments": {},
   "cell_type": "markdown",
   "metadata": {},
   "source": [
    "## Making forecasts with a model (on the test dataset)\n",
    "\n",
    "To make \"forecasts\" on the test dataset (note: these won't be actual forecasts, they're only psuedo forecasts becasue actual forecasts are into the future), let's write a function to:\n",
    "\n",
    "1. Take in a trained model\n",
    "2. Takes in some input data (same kind of data the model was training on)\n",
    "3. Passes the input data to the model's `predict()` method\n",
    "4. Returns predictions"
   ]
  },
  {
   "cell_type": "code",
   "execution_count": 46,
   "metadata": {},
   "outputs": [],
   "source": [
    "def make_preds(model, input_data):\n",
    "    \"\"\"\n",
    "    Uses model to make predictions input_data\n",
    "    \"\"\"\n",
    "    forecast = model.predict(input_data)\n",
    "    return tf.squeeze(forecast) # return 1D array of predictions"
   ]
  },
  {
   "cell_type": "code",
   "execution_count": 47,
   "metadata": {},
   "outputs": [
    {
     "name": "stdout",
     "output_type": "stream",
     "text": [
      "18/18 [==============================] - 0s 939us/step\n"
     ]
    },
    {
     "data": {
      "text/plain": [
       "(556,\n",
       " <tf.Tensor: shape=(10,), dtype=float32, numpy=\n",
       " array([8861.713, 8769.888, 9015.712, 8795.52 , 8723.812, 8730.111,\n",
       "        8691.953, 8502.056, 8460.962, 8516.548], dtype=float32)>)"
      ]
     },
     "execution_count": 47,
     "metadata": {},
     "output_type": "execute_result"
    }
   ],
   "source": [
    "# Make predictions of model_1 on the test dataset and view results\n",
    "model_1_preds = make_preds(model_1, test_windows)\n",
    "len(model_1_preds), model_1_preds[:10]"
   ]
  },
  {
   "cell_type": "code",
   "execution_count": 55,
   "metadata": {},
   "outputs": [
    {
     "data": {
      "text/plain": [
       "{'mae': 568.9510498046875,\n",
       " 'mse': 1171743.875,\n",
       " 'rmse': 1082.47119140625,\n",
       " 'mape': 2.544898271560669,\n",
       " 'mase': 0.999489426612854}"
      ]
     },
     "execution_count": 55,
     "metadata": {},
     "output_type": "execute_result"
    }
   ],
   "source": [
    "# Evalaute preds\n",
    "model_1_results = evaluate_preds(y_true=tf.squeeze(test_labels),\n",
    "                                 y_pred=model_1_preds)\n",
    "model_1_results                                 "
   ]
  },
  {
   "attachments": {},
   "cell_type": "markdown",
   "metadata": {},
   "source": [
    "Save model results"
   ]
  },
  {
   "cell_type": "code",
   "execution_count": 56,
   "metadata": {},
   "outputs": [
    {
     "name": "stdout",
     "output_type": "stream",
     "text": [
      "Success! File written to destination.\n"
     ]
    }
   ],
   "source": [
    "from Functions.helper_functions import save_model_results_json\n",
    "\n",
    "des_path = r\"Saved Results\\10_time_series_forecasting_with_tensorflow\"\n",
    "\n",
    "save_model_results_json(filepath=des_path,\n",
    "                        var_to_save=model_1_results,\n",
    "                        file_string=\"model_1_results\")"
   ]
  },
  {
   "cell_type": "code",
   "execution_count": 65,
   "metadata": {},
   "outputs": [
    {
     "data": {
      "image/png": "[encoded data removed]",
      "text/plain": [
       "<Figure size 720x504 with 1 Axes>"
      ]
     },
     "metadata": {
      "needs_background": "light"
     },
     "output_type": "display_data"
    }
   ],
   "source": [
    "# Let's plot our model 1 predictions\n",
    "offset = 450\n",
    "plt.figure(figsize=(10,7))\n",
    "# Account for the test_window offset and index into test_labels to ensure correct plotting\n",
    "plot_time_series(timesteps=X_test[-len(test_windows):],\n",
    "                 values=test_labels[:,0],\n",
    "                 start=offset,\n",
    "                 label=\"Test Data\")\n",
    "\n",
    "plot_time_series(timesteps=X_test[-len(test_windows):],\n",
    "                 values=model_1_preds,\n",
    "                 start=offset,\n",
    "                 format=\"-\",\n",
    "                 label=\"model_1_preds\")\n"
   ]
  },
  {
   "attachments": {},
   "cell_type": "markdown",
   "metadata": {},
   "source": [
    "## Model 2: Dense (window = 30, horizon = 1)"
   ]
  },
  {
   "cell_type": "code",
   "execution_count": 66,
   "metadata": {},
   "outputs": [],
   "source": [
    "HORIZON = 1 # predict one step at a time\n",
    "WINDOW_SIZE = 30 # use 30 timesteps in past"
   ]
  },
  {
   "cell_type": "code",
   "execution_count": 68,
   "metadata": {},
   "outputs": [
    {
     "data": {
      "text/plain": [
       "(2757, 2757)"
      ]
     },
     "execution_count": 68,
     "metadata": {},
     "output_type": "execute_result"
    }
   ],
   "source": [
    "# Make windowed data with appropriate horizon and window sizes\n",
    "full_windows, full_labels = make_windows(prices, window_size=WINDOW_SIZE, horizon=HORIZON)\n",
    "len(full_windows), len(full_labels)"
   ]
  },
  {
   "cell_type": "code",
   "execution_count": 69,
   "metadata": {},
   "outputs": [
    {
     "data": {
      "text/plain": [
       "(2205, 552, 2205, 552)"
      ]
     },
     "execution_count": 69,
     "metadata": {},
     "output_type": "execute_result"
    }
   ],
   "source": [
    "# Make train and test windows\n",
    "train_windows, test_windows, train_labels, test_labels = make_train_test_splits(windows=full_windows,\n",
    "                                                                                labels=full_labels,\n",
    "                                                                                test_split=0.2)\n",
    "len(train_windows), len(test_windows), len(train_labels), len(test_labels)                                                                                "
   ]
  },
  {
   "cell_type": "code",
   "execution_count": 72,
   "metadata": {},
   "outputs": [
    {
     "name": "stdout",
     "output_type": "stream",
     "text": [
      "INFO:tensorflow:Assets written to: model_experiments\\model_2_dense\\assets\n",
      "INFO:tensorflow:Assets written to: model_experiments\\model_2_dense\\assets\n",
      "INFO:tensorflow:Assets written to: model_experiments\\model_2_dense\\assets\n",
      "INFO:tensorflow:Assets written to: model_experiments\\model_2_dense\\assets\n",
      "INFO:tensorflow:Assets written to: model_experiments\\model_2_dense\\assets\n",
      "INFO:tensorflow:Assets written to: model_experiments\\model_2_dense\\assets\n",
      "INFO:tensorflow:Assets written to: model_experiments\\model_2_dense\\assets\n",
      "INFO:tensorflow:Assets written to: model_experiments\\model_2_dense\\assets\n",
      "INFO:tensorflow:Assets written to: model_experiments\\model_2_dense\\assets\n",
      "INFO:tensorflow:Assets written to: model_experiments\\model_2_dense\\assets\n",
      "INFO:tensorflow:Assets written to: model_experiments\\model_2_dense\\assets\n",
      "INFO:tensorflow:Assets written to: model_experiments\\model_2_dense\\assets\n",
      "INFO:tensorflow:Assets written to: model_experiments\\model_2_dense\\assets\n",
      "INFO:tensorflow:Assets written to: model_experiments\\model_2_dense\\assets\n",
      "INFO:tensorflow:Assets written to: model_experiments\\model_2_dense\\assets\n",
      "INFO:tensorflow:Assets written to: model_experiments\\model_2_dense\\assets\n",
      "INFO:tensorflow:Assets written to: model_experiments\\model_2_dense\\assets\n",
      "INFO:tensorflow:Assets written to: model_experiments\\model_2_dense\\assets\n",
      "INFO:tensorflow:Assets written to: model_experiments\\model_2_dense\\assets\n",
      "INFO:tensorflow:Assets written to: model_experiments\\model_2_dense\\assets\n",
      "INFO:tensorflow:Assets written to: model_experiments\\model_2_dense\\assets\n",
      "INFO:tensorflow:Assets written to: model_experiments\\model_2_dense\\assets\n",
      "INFO:tensorflow:Assets written to: model_experiments\\model_2_dense\\assets\n",
      "INFO:tensorflow:Assets written to: model_experiments\\model_2_dense\\assets\n",
      "INFO:tensorflow:Assets written to: model_experiments\\model_2_dense\\assets\n",
      "INFO:tensorflow:Assets written to: model_experiments\\model_2_dense\\assets\n",
      "INFO:tensorflow:Assets written to: model_experiments\\model_2_dense\\assets\n"
     ]
    },
    {
     "data": {
      "text/plain": [
       "<keras.callbacks.History at 0x1a150479250>"
      ]
     },
     "execution_count": 72,
     "metadata": {},
     "output_type": "execute_result"
    }
   ],
   "source": [
    "tf.random.set_seed(42)\n",
    "\n",
    "# Create model\n",
    "model_2 = tf.keras.Sequential([\n",
    "    layers.Dense(128, activation=\"relu\"),\n",
    "    layers.Dense(HORIZON)\n",
    "], name=\"model_2_dense\")\n",
    "\n",
    "# Compile\n",
    "model_2.compile(loss=\"mae\",\n",
    "                optimizer=tf.keras.optimizers.Adam())\n",
    "\n",
    "# Fit \n",
    "model_2.fit(x=train_windows,\n",
    "            y=train_labels,\n",
    "            epochs=100,\n",
    "            batch_size=128,\n",
    "            verbose=False,\n",
    "            validation_data=(test_windows,test_labels),\n",
    "            callbacks=[create_model_checkpoint(model_name=model_2.name)])"
   ]
  },
  {
   "cell_type": "code",
   "execution_count": 73,
   "metadata": {},
   "outputs": [
    {
     "name": "stdout",
     "output_type": "stream",
     "text": [
      "18/18 [==============================] - 0s 2ms/step - loss: 608.9620\n"
     ]
    },
    {
     "data": {
      "text/plain": [
       "608.9619750976562"
      ]
     },
     "execution_count": 73,
     "metadata": {},
     "output_type": "execute_result"
    }
   ],
   "source": [
    "# Evaluate model 2 on test data\n",
    "model_2.evaluate(test_windows,test_labels)"
   ]
  },
  {
   "cell_type": "code",
   "execution_count": 76,
   "metadata": {},
   "outputs": [
    {
     "name": "stdout",
     "output_type": "stream",
     "text": [
      "18/18 [==============================] - 0s 2ms/step - loss: 608.9620\n"
     ]
    },
    {
     "data": {
      "text/plain": [
       "608.9619750976562"
      ]
     },
     "execution_count": 76,
     "metadata": {},
     "output_type": "execute_result"
    }
   ],
   "source": [
    "# Load in the best performing model\n",
    "model_2 = tf.keras.models.load_model(\"model_experiments/model_2_dense/\")\n",
    "model_2.evaluate(test_windows, test_labels)"
   ]
  },
  {
   "cell_type": "code",
   "execution_count": 78,
   "metadata": {},
   "outputs": [
    {
     "name": "stdout",
     "output_type": "stream",
     "text": [
      "18/18 [==============================] - 0s 2ms/step\n"
     ]
    },
    {
     "data": {
      "text/plain": [
       "<tf.Tensor: shape=(552,), dtype=float32, numpy=\n",
       "array([ 8946.984 ,  8967.847 ,  8820.252 ,  8615.827 ,  8485.794 ,\n",
       "        8384.622 ,  8307.78  ,  8171.7856,  8217.463 ,  7839.15  ,\n",
       "        7362.3716,  7241.631 ,  7111.7964,  7113.5   ,  7151.549 ,\n",
       "        7358.374 ,  7538.334 ,  7628.2505,  7645.452 ,  7465.5327,\n",
       "        7427.5684,  7281.351 ,  7320.043 ,  7380.991 ,  7541.0923,\n",
       "        7543.998 ,  7559.2783,  7436.662 ,  7194.824 ,  7270.313 ,\n",
       "        7158.483 ,  7335.815 ,  7157.436 ,  7235.8735,  6997.1646,\n",
       "        6768.8154,  7112.8486,  7281.932 ,  7126.0703,  7329.2383,\n",
       "        7272.7026,  7298.2256,  7298.365 ,  7241.6226,  7221.505 ,\n",
       "        7269.7383,  7257.2437,  7432.154 ,  7370.5024,  7196.894 ,\n",
       "        7278.009 ,  7004.2847,  7208.716 ,  7309.1733,  7451.58  ,\n",
       "        7698.1133,  8025.408 ,  8096.4185,  8007.9087,  8011.6904,\n",
       "        8135.065 ,  8216.162 ,  8226.958 ,  8601.827 ,  8900.414 ,\n",
       "        8842.8545,  8964.693 ,  8932.719 ,  8815.342 ,  8676.931 ,\n",
       "        8751.095 ,  8738.615 ,  8575.405 ,  8503.401 ,  8446.789 ,\n",
       "        8574.655 ,  8742.003 ,  9095.956 ,  9331.669 ,  9586.184 ,\n",
       "        9494.691 ,  9559.2705,  9500.517 ,  9349.378 ,  9242.9375,\n",
       "        9571.533 ,  9691.931 ,  9814.636 ,  9968.73  , 10127.313 ,\n",
       "        9986.633 , 10136.758 , 10368.243 , 10380.994 , 10466.803 ,\n",
       "       10189.41  , 10026.566 ,  9819.022 ,  9975.385 ,  9890.396 ,\n",
       "        9664.435 ,  9735.421 ,  9656.316 , 10027.296 ,  9711.787 ,\n",
       "        9577.718 ,  8995.883 ,  8855.97  ,  8780.13  ,  8694.372 ,\n",
       "        8662.341 ,  8785.279 ,  8945.727 ,  8683.8   ,  9044.295 ,\n",
       "        9030.281 ,  9131.664 ,  8431.861 ,  8029.185 ,  7938.8037,\n",
       "        7991.342 ,  6501.5923,  5660.3223,  5502.205 ,  5285.7744,\n",
       "        5471.833 ,  5514.527 ,  5883.3496,  6268.3906,  6509.365 ,\n",
       "        6285.8647,  6194.249 ,  6378.6763,  6787.8745,  6822.553 ,\n",
       "        6621.962 ,  6831.5996,  6394.1743,  6080.032 ,  5966.4795,\n",
       "        6410.853 ,  6312.698 ,  6869.003 ,  6608.63  ,  7139.192 ,\n",
       "        6865.2427,  7326.9663,  7170.043 ,  7425.996 ,  7429.907 ,\n",
       "        7162.4478,  7008.519 ,  7024.1655,  6998.982 ,  6870.5747,\n",
       "        6759.61  ,  6903.162 ,  7201.1724,  7309.2236,  7300.165 ,\n",
       "        7011.6084,  6938.083 ,  7075.5835,  7441.196 ,  7615.408 ,\n",
       "        7644.429 ,  7728.4805,  7727.296 ,  7836.4155,  8389.163 ,\n",
       "        8880.604 ,  8894.018 ,  9135.179 ,  8963.23  ,  9058.711 ,\n",
       "        9010.682 ,  9301.252 ,  9784.186 , 10069.722 ,  9783.833 ,\n",
       "        9156.527 ,  8818.3125,  8733.011 ,  9235.026 ,  9576.001 ,\n",
       "        9600.534 ,  9471.157 ,  9817.574 ,  9825.595 ,  9792.309 ,\n",
       "        9553.203 ,  9307.141 ,  9225.384 ,  9335.321 ,  9162.359 ,\n",
       "        9125.043 ,  8893.081 ,  8930.859 ,  9315.357 ,  9384.311 ,\n",
       "        9644.64  ,  9708.846 , 10179.693 ,  9892.876 ,  9641.993 ,\n",
       "        9814.351 ,  9719.9795,  9805.839 ,  9781.485 ,  9835.866 ,\n",
       "        9791.026 ,  9898.1   ,  9436.849 ,  9463.377 ,  9558.027 ,\n",
       "        9319.68  ,  9652.879 ,  9444.717 ,  9639.238 ,  9447.412 ,\n",
       "        9460.4375,  9241.044 ,  9424.817 ,  9547.571 ,  9751.981 ,\n",
       "        9448.635 ,  9320.808 ,  9289.246 ,  9093.8125,  9130.177 ,\n",
       "        9064.835 ,  9247.91  ,  9259.067 ,  9214.291 ,  9125.716 ,\n",
       "        9229.591 ,  9068.902 ,  9259.154 ,  9277.46  ,  9465.013 ,\n",
       "        9427.397 ,  9341.1   ,  9301.733 ,  9299.916 ,  9265.158 ,\n",
       "        9259.077 ,  9292.888 ,  9200.781 ,  9270.012 ,  9222.462 ,\n",
       "        9237.406 ,  9196.748 ,  9345.346 ,  9583.278 ,  9639.34  ,\n",
       "        9707.168 ,  9733.425 ,  9989.294 , 10821.169 , 11136.357 ,\n",
       "       11248.576 , 11380.957 , 11347.813 , 11832.678 , 11390.216 ,\n",
       "       11306.025 , 11312.7   , 11611.607 , 11860.883 , 11760.142 ,\n",
       "       11829.413 , 11717.339 , 11962.572 , 11438.478 , 11643.358 ,\n",
       "       11728.411 , 11999.29  , 12022.7   , 11980.902 , 12300.123 ,\n",
       "       12246.842 , 11917.318 , 11834.109 , 11707.764 , 11736.268 ,\n",
       "       11772.704 , 11742.789 , 11585.056 , 11505.22  , 11377.809 ,\n",
       "       11430.178 , 11502.983 , 11654.086 , 11820.434 , 11988.414 ,\n",
       "       11679.329 , 11014.676 , 10733.173 , 10174.105 , 10121.909 ,\n",
       "       10313.958 , 10147.39  , 10280.335 , 10328.009 , 10440.14  ,\n",
       "       10403.192 , 10400.665 , 10487.635 , 10978.043 , 11069.464 ,\n",
       "       11110.166 , 11085.714 , 11105.656 , 10917.266 , 10602.158 ,\n",
       "       10476.851 , 10366.668 , 10597.652 , 10811.463 , 10815.754 ,\n",
       "       10827.512 , 10894.957 , 10828.237 , 10830.523 , 10760.061 ,\n",
       "       10664.039 , 10728.181 , 10716.726 , 10761.772 , 10762.868 ,\n",
       "       10624.553 , 10874.519 , 10983.328 , 11335.845 , 11398.802 ,\n",
       "       11693.287 , 11632.86  , 11546.992 , 11549.163 , 11485.231 ,\n",
       "       11405.892 , 11498.483 , 11758.651 , 11962.906 , 12849.134 ,\n",
       "       13215.717 , 13117.75  , 13225.976 , 13062.236 , 13215.2   ,\n",
       "       13626.298 , 13564.398 , 13540.318 , 13778.187 , 13795.233 ,\n",
       "       13883.393 , 13710.381 , 13795.912 , 14162.711 , 15152.278 ,\n",
       "       15655.957 , 15221.213 , 15602.388 , 15454.21  , 15527.837 ,\n",
       "       15702.565 , 16188.123 , 16451.541 , 16428.477 , 16048.928 ,\n",
       "       16609.63  , 17451.28  , 17774.299 , 18069.012 , 18629.447 ,\n",
       "       18759.838 , 18960.266 , 18764.86  , 19017.652 , 18994.416 ,\n",
       "       17801.262 , 17175.236 , 17606.184 , 18069.734 , 19190.553 ,\n",
       "       19224.658 , 19182.592 , 19481.156 , 19185.002 , 19239.764 ,\n",
       "       19288.379 , 19223.97  , 19076.979 , 18773.96  , 18429.61  ,\n",
       "       18239.604 , 18840.387 , 18906.715 , 19190.83  , 19282.643 ,\n",
       "       20955.37  , 22751.352 , 23325.809 , 24000.023 , 23951.646 ,\n",
       "       23560.586 , 23528.016 , 23417.807 , 23808.158 , 24612.9   ,\n",
       "       26001.525 , 26621.66  , 26888.121 , 27052.578 , 28409.6   ,\n",
       "       29380.412 , 29526.287 , 31710.225 , 33302.01  , 32724.775 ,\n",
       "       34118.43  , 36068.016 , 38983.59  , 40896.004 , 40696.145 ,\n",
       "       39944.87  , 36545.75  , 34588.043 , 36314.99  , 38019.832 ,\n",
       "       37468.105 , 36585.75  , 36776.367 , 36437.67  , 36740.496 ,\n",
       "       35252.008 , 32451.598 , 32468.31  , 32711.562 , 32635.03  ,\n",
       "       33268.816 , 32247.7   , 31312.467 , 32227.814 , 33769.062 ,\n",
       "       34026.895 , 34459.17  , 34102.402 , 35402.938 , 37187.293 ,\n",
       "       37009.816 , 38022.53  , 39668.875 , 39565.637 , 42972.645 ,\n",
       "       46760.89  , 45556.797 , 48147.74  , 47982.062 , 48366.918 ,\n",
       "       48789.824 , 48991.074 , 48837.574 , 52453.324 , 52042.68  ,\n",
       "       54834.22  , 56258.996 , 56404.035 , 56148.105 , 50418.863 ,\n",
       "       49273.92  , 48150.883 , 47189.44  , 46610.72  , 46276.582 ,\n",
       "       47553.188 , 48754.574 , 49563.117 , 49016.176 , 49353.117 ,\n",
       "       49205.883 , 50828.17  , 51891.76  , 53957.85  , 57201.35  ,\n",
       "       58085.16  , 57713.918 , 59739.527 , 60069.492 , 58518.652 ,\n",
       "       56620.848 , 58579.85  , 58467.035 , 59518.23  , 58422.074 ,\n",
       "       58741.62  , 55501.71  , 55345.1   , 52761.41  , 53016.56  ,\n",
       "       53984.344 , 56387.793 , 56630.375 , 57378.58  , 58643.887 ,\n",
       "       59053.547 , 59599.664 , 58660.668 , 58069.203 , 58943.945 ,\n",
       "       59039.945 , 58727.586 , 57373.477 , 57698.69  , 57701.47  ,\n",
       "       58859.047 , 59596.793 , 60510.434 , 62807.473 , 63995.047 ,\n",
       "       63821.598 , 63230.01  , 61408.914 , 58668.68  , 56646.082 ,\n",
       "       56694.25  , 54773.113 , 53164.246 , 50777.402 , 50796.586 ,\n",
       "       49134.723 , 51652.676 , 54744.93  , 55016.254 , 54609.824 ,\n",
       "       56238.87  , 58790.57  , 57128.062 , 57652.676 , 54636.754 ,\n",
       "       56892.93  , 56547.36  , 56755.902 , 58942.652 , 58248.09  ,\n",
       "       56882.137 , 55981.207 , 54115.473 , 49856.297 , 51234.26  ,\n",
       "       48566.65  , 47169.    ], dtype=float32)>"
      ]
     },
     "execution_count": 78,
     "metadata": {},
     "output_type": "execute_result"
    }
   ],
   "source": [
    "# Get forecast predictions\n",
    "model_2_preds = make_preds(model_2,\n",
    "                          input_data=test_windows)\n",
    "model_2_preds                         "
   ]
  },
  {
   "cell_type": "code",
   "execution_count": 84,
   "metadata": {},
   "outputs": [
    {
     "data": {
      "text/plain": [
       "{'mae': 608.9619750976562,\n",
       " 'mse': 1281440.625,\n",
       " 'rmse': 1132.00732421875,\n",
       " 'mape': 2.769340991973877,\n",
       " 'mase': 1.0644714832305908}"
      ]
     },
     "execution_count": 84,
     "metadata": {},
     "output_type": "execute_result"
    }
   ],
   "source": [
    "# Evaluate results for model 2 predictions\n",
    "model_2_results = evaluate_preds(y_true=tf.squeeze(test_labels),\n",
    "                                 y_pred=model_2_preds)\n",
    "model_2_results                     "
   ]
  },
  {
   "cell_type": "code",
   "execution_count": 85,
   "metadata": {},
   "outputs": [
    {
     "name": "stdout",
     "output_type": "stream",
     "text": [
      "Success! File written to destination.\n"
     ]
    }
   ],
   "source": [
    "from Functions.helper_functions import save_model_results_json\n",
    "\n",
    "des_path = r\"Saved Results\\10_time_series_forecasting_with_tensorflow\"\n",
    "\n",
    "save_model_results_json(filepath=des_path,\n",
    "                        var_to_save=model_2_results,\n",
    "                        file_string=\"model_2_results\")"
   ]
  },
  {
   "cell_type": "code",
   "execution_count": 86,
   "metadata": {},
   "outputs": [
    {
     "data": {
      "image/png": "[encoded data removed]",
      "text/plain": [
       "<Figure size 720x504 with 1 Axes>"
      ]
     },
     "metadata": {
      "needs_background": "light"
     },
     "output_type": "display_data"
    }
   ],
   "source": [
    "offset = 300\n",
    "plt.figure(figsize=(10,7))\n",
    "# Account for test_window offset when plotting\n",
    "plot_time_series(timesteps=X_test[-len(test_windows):],values=test_labels[:,0],start=offset,label=\"Test Data\")\n",
    "plot_time_series(timesteps=X_test[-len(test_windows):],values=model_2_preds,start=offset,format=\"-\",label=\"model_2_preds\")"
   ]
  },
  {
   "cell_type": "markdown",
   "metadata": {},
   "source": [
    "## Model 3: Dense (window = 30, horizon = 7)"
   ]
  },
  {
   "cell_type": "code",
   "execution_count": 92,
   "metadata": {},
   "outputs": [
    {
     "data": {
      "text/plain": [
       "(2751, 2751)"
      ]
     },
     "execution_count": 92,
     "metadata": {},
     "output_type": "execute_result"
    }
   ],
   "source": [
    "HORIZON = 7\n",
    "WINDOW_SIZE = 30\n",
    "\n",
    "full_windows, full_labels = make_windows(prices, window_size=WINDOW_SIZE, horizon=HORIZON)\n",
    "len(full_windows), len(full_labels)"
   ]
  },
  {
   "cell_type": "code",
   "execution_count": 95,
   "metadata": {},
   "outputs": [
    {
     "data": {
      "text/plain": [
       "(2200, 551, 2200, 551)"
      ]
     },
     "execution_count": 95,
     "metadata": {},
     "output_type": "execute_result"
    }
   ],
   "source": [
    "train_windows, test_windows, train_labels, test_labels = make_train_test_splits(windows=full_windows,labels=full_labels,test_split=0.2)\n",
    "len(train_windows), len(test_windows), len(train_labels), len(test_labels)"
   ]
  },
  {
   "cell_type": "code",
   "execution_count": 96,
   "metadata": {},
   "outputs": [
    {
     "name": "stdout",
     "output_type": "stream",
     "text": [
      "INFO:tensorflow:Assets written to: model_experiments\\model_3_dense\\assets\n",
      "INFO:tensorflow:Assets written to: model_experiments\\model_3_dense\\assets\n",
      "INFO:tensorflow:Assets written to: model_experiments\\model_3_dense\\assets\n",
      "INFO:tensorflow:Assets written to: model_experiments\\model_3_dense\\assets\n",
      "INFO:tensorflow:Assets written to: model_experiments\\model_3_dense\\assets\n",
      "INFO:tensorflow:Assets written to: model_experiments\\model_3_dense\\assets\n",
      "INFO:tensorflow:Assets written to: model_experiments\\model_3_dense\\assets\n",
      "INFO:tensorflow:Assets written to: model_experiments\\model_3_dense\\assets\n",
      "INFO:tensorflow:Assets written to: model_experiments\\model_3_dense\\assets\n",
      "INFO:tensorflow:Assets written to: model_experiments\\model_3_dense\\assets\n",
      "INFO:tensorflow:Assets written to: model_experiments\\model_3_dense\\assets\n",
      "INFO:tensorflow:Assets written to: model_experiments\\model_3_dense\\assets\n",
      "INFO:tensorflow:Assets written to: model_experiments\\model_3_dense\\assets\n",
      "INFO:tensorflow:Assets written to: model_experiments\\model_3_dense\\assets\n",
      "INFO:tensorflow:Assets written to: model_experiments\\model_3_dense\\assets\n",
      "INFO:tensorflow:Assets written to: model_experiments\\model_3_dense\\assets\n",
      "INFO:tensorflow:Assets written to: model_experiments\\model_3_dense\\assets\n",
      "INFO:tensorflow:Assets written to: model_experiments\\model_3_dense\\assets\n",
      "INFO:tensorflow:Assets written to: model_experiments\\model_3_dense\\assets\n",
      "INFO:tensorflow:Assets written to: model_experiments\\model_3_dense\\assets\n",
      "INFO:tensorflow:Assets written to: model_experiments\\model_3_dense\\assets\n",
      "INFO:tensorflow:Assets written to: model_experiments\\model_3_dense\\assets\n",
      "INFO:tensorflow:Assets written to: model_experiments\\model_3_dense\\assets\n",
      "INFO:tensorflow:Assets written to: model_experiments\\model_3_dense\\assets\n"
     ]
    },
    {
     "data": {
      "text/plain": [
       "<keras.callbacks.History at 0x1a2571b7370>"
      ]
     },
     "execution_count": 96,
     "metadata": {},
     "output_type": "execute_result"
    }
   ],
   "source": [
    "tf.random.set_seed(42)\n",
    "\n",
    "# Create model\n",
    "model_3 = tf.keras.Sequential([\n",
    "    layers.Dense(128, activation=\"relu\"),\n",
    "    layers.Dense(HORIZON, activation=\"linear\")\n",
    "], name=\"model_3_dense\")\n",
    "\n",
    "# Compile\n",
    "model_3.compile(loss=\"mae\",\n",
    "                optimizer=tf.keras.optimizers.Adam())\n",
    "\n",
    "# Fit\n",
    "model_3.fit(x=train_windows,\n",
    "            y=train_labels,\n",
    "            epochs=100,\n",
    "            batch_size=128,\n",
    "            verbose=False,\n",
    "            validation_data=(test_windows,test_labels),\n",
    "            callbacks=[create_model_checkpoint(model_name=model_3.name)])                "
   ]
  },
  {
   "cell_type": "code",
   "execution_count": 97,
   "metadata": {},
   "outputs": [
    {
     "name": "stdout",
     "output_type": "stream",
     "text": [
      "18/18 [==============================] - 0s 2ms/step - loss: 1340.4274\n"
     ]
    },
    {
     "data": {
      "text/plain": [
       "1340.4273681640625"
      ]
     },
     "execution_count": 97,
     "metadata": {},
     "output_type": "execute_result"
    }
   ],
   "source": [
    "# Evaluate\n",
    "model_3.evaluate(test_windows,test_labels)"
   ]
  },
  {
   "cell_type": "code",
   "execution_count": 100,
   "metadata": {},
   "outputs": [
    {
     "name": "stdout",
     "output_type": "stream",
     "text": [
      "18/18 [==============================] - 0s 3ms/step - loss: 1234.8838\n"
     ]
    },
    {
     "data": {
      "text/plain": [
       "1234.8837890625"
      ]
     },
     "execution_count": 100,
     "metadata": {},
     "output_type": "execute_result"
    }
   ],
   "source": [
    "# Load in model\n",
    "model_3 = tf.keras.models.load_model(\"model_experiments/model_3_dense/\")\n",
    "model_3.evaluate(test_windows,test_labels)"
   ]
  },
  {
   "cell_type": "code",
   "execution_count": 104,
   "metadata": {},
   "outputs": [
    {
     "name": "stdout",
     "output_type": "stream",
     "text": [
      "18/18 [==============================] - 0s 2ms/step\n"
     ]
    },
    {
     "data": {
      "text/plain": [
       "<tf.Tensor: shape=(5, 7), dtype=float32, numpy=\n",
       "array([[9250.798, 9279.124, 9394.039, 9400.203, 9479.183, 9375.264,\n",
       "        9302.472],\n",
       "       [8945.557, 9029.439, 9164.761, 8997.948, 9077.654, 8971.883,\n",
       "        9081.854],\n",
       "       [8883.711, 8987.258, 9057.071, 8901.714, 9001.872, 8817.509,\n",
       "        8971.558],\n",
       "       [9090.947, 9014.501, 9010.567, 9096.448, 9052.973, 9016.151,\n",
       "        9001.476],\n",
       "       [9002.045, 8972.497, 8869.771, 8980.389, 9212.569, 9072.293,\n",
       "        8887.335]], dtype=float32)>"
      ]
     },
     "execution_count": 104,
     "metadata": {},
     "output_type": "execute_result"
    }
   ],
   "source": [
    "# Make predictions\n",
    "model_3_preds = make_preds(model=model_3,\n",
    "                           input_data=test_windows)\n",
    "model_3_preds[:5]                       "
   ]
  },
  {
   "cell_type": "code",
   "execution_count": 106,
   "metadata": {},
   "outputs": [
    {
     "data": {
      "text/plain": [
       "(TensorShape([551, 7]), TensorShape([551, 7]))"
      ]
     },
     "execution_count": 106,
     "metadata": {},
     "output_type": "execute_result"
    }
   ],
   "source": [
    "tf.squeeze(test_labels).shape, model_3_preds.shape"
   ]
  },
  {
   "cell_type": "code",
   "execution_count": 108,
   "metadata": {},
   "outputs": [
    {
     "data": {
      "text/plain": [
       "{'mae': array([  561.2253  ,   301.9714  ,   297.9478  ,   413.84305 ,\n",
       "          445.20926 ,   540.59717 ,   527.2284  ,   441.84564 ,\n",
       "          498.7735  ,   639.1921  ,   803.132   ,   731.72614 ,\n",
       "          678.61707 ,   797.1857  ,   575.334   ,   280.21143 ,\n",
       "          239.92166 ,   246.152   ,   276.387   ,   285.75473 ,\n",
       "          118.8042  ,   135.45557 ,   191.11852 ,   251.82582 ,\n",
       "          170.28934 ,   154.20027 ,   107.244835,    97.662735,\n",
       "          111.26402 ,   139.854   ,   269.1739  ,   369.81207 ,\n",
       "          270.48102 ,   263.1211  ,   247.72252 ,   255.50502 ,\n",
       "          298.48172 ,   245.26402 ,   243.13086 ,   255.7583  ,\n",
       "          416.62576 ,   150.97021 ,    94.16588 ,   101.62012 ,\n",
       "           93.76974 ,    86.75321 ,    73.27923 ,    79.045204,\n",
       "           89.541084,    93.11977 ,   106.79862 ,   141.0957  ,\n",
       "          178.73674 ,   145.46994 ,   256.4566  ,   392.8164  ,\n",
       "          560.9116  ,   552.8188  ,   536.1548  ,   535.2687  ,\n",
       "          448.70453 ,   267.23285 ,   286.56223 ,   320.78607 ,\n",
       "          430.77686 ,   472.82574 ,   523.6725  ,   519.43665 ,\n",
       "          138.85686 ,   239.4022  ,   224.7853  ,   415.00668 ,\n",
       "          534.72906 ,   394.11887 ,   295.50433 ,   370.85757 ,\n",
       "          338.87027 ,   389.1006  ,   508.34222 ,   640.41925 ,\n",
       "          802.7972  ,   636.0081  ,   290.3602  ,   165.47195 ,\n",
       "          232.60547 ,   207.31906 ,   235.00334 ,   301.6727  ,\n",
       "          355.2101  ,   553.64844 ,   428.6024  ,   428.93344 ,\n",
       "          347.44308 ,   230.37918 ,   159.03264 ,   270.9191  ,\n",
       "          293.357   ,   511.3838  ,   631.4808  ,   789.19324 ,\n",
       "          536.7952  ,   321.4195  ,   224.59822 ,   344.917   ,\n",
       "          372.03543 ,   370.58383 ,   460.56528 ,   568.7952  ,\n",
       "          946.44794 ,   925.5294  ,   857.2789  ,   375.33023 ,\n",
       "          180.05984 ,   221.4407  ,   203.34612 ,   361.68814 ,\n",
       "          294.16092 ,   421.77295 ,   553.40125 ,   975.4745  ,\n",
       "         1585.931   ,  2153.3953  ,  1954.6543  ,  2105.9724  ,\n",
       "         2259.286   ,  2632.2498  ,  1333.1326  ,   703.96027 ,\n",
       "          434.42084 ,   391.23578 ,   521.80676 ,   439.03012 ,\n",
       "          501.90506 ,   309.05225 ,   324.98856 ,   299.01373 ,\n",
       "          346.78842 ,   293.72537 ,   316.86078 ,   323.0729  ,\n",
       "          344.85233 ,   371.30588 ,   278.71094 ,   582.9793  ,\n",
       "          689.0112  ,   443.01947 ,   378.4694  ,   223.80379 ,\n",
       "          291.30865 ,   195.35324 ,   248.76457 ,   507.26596 ,\n",
       "          341.92465 ,   543.29156 ,   418.87027 ,   382.89447 ,\n",
       "          180.18973 ,   199.54192 ,   199.4624  ,   154.98479 ,\n",
       "          269.2018  ,   259.3533  ,   238.77644 ,   267.3847  ,\n",
       "          324.78934 ,   360.83957 ,   507.24582 ,   700.3563  ,\n",
       "          530.32526 ,   612.0955  ,   830.44586 ,   884.72455 ,\n",
       "          982.63226 ,  1086.1188  ,   503.73257 ,   266.38727 ,\n",
       "          341.75168 ,   403.29672 ,   413.48117 ,   389.97797 ,\n",
       "          480.06625 ,   466.98703 ,   606.72864 ,   970.3312  ,\n",
       "          874.8507  ,   292.25223 ,   491.87695 ,   725.5872  ,\n",
       "          363.09738 ,   230.4036  ,   267.63742 ,   226.10672 ,\n",
       "          364.41754 ,   435.1543  ,   659.5251  ,   633.8712  ,\n",
       "          382.49066 ,   288.37625 ,   300.92914 ,   289.74164 ,\n",
       "          524.566   ,   748.52106 ,   712.2687  ,   468.84445 ,\n",
       "          281.6568  ,   128.74721 ,   196.07701 ,   298.2405  ,\n",
       "          144.905   ,   144.90932 ,   311.8132  ,   164.77623 ,\n",
       "          190.95424 ,   203.23381 ,   282.5939  ,   371.06976 ,\n",
       "          524.85126 ,   136.68527 ,   126.046875,   143.39928 ,\n",
       "          135.3517  ,   187.13058 ,   178.33315 ,   164.73479 ,\n",
       "          134.88924 ,   144.69783 ,   173.16881 ,   189.59445 ,\n",
       "          260.71246 ,   562.91254 ,   267.06332 ,   274.89355 ,\n",
       "          132.04533 ,    73.8238  ,    53.49149 ,    89.57701 ,\n",
       "          114.22224 ,   150.2698  ,   126.19308 ,   172.46889 ,\n",
       "           94.38407 ,   179.96596 ,    71.33427 ,    70.9308  ,\n",
       "          197.24805 ,   138.7772  ,   137.05482 ,    75.78251 ,\n",
       "           75.475586,   117.950615,   160.43918 ,   150.30734 ,\n",
       "          144.7694  ,   187.92703 ,   260.4305  ,   324.55273 ,\n",
       "          612.9019  ,   711.0586  ,   817.63715 ,   921.0964  ,\n",
       "         1136.7288  ,  1354.3525  ,  1324.7189  ,   531.8509  ,\n",
       "          235.42383 ,   246.95787 ,   255.0007  ,   280.46527 ,\n",
       "          381.0982  ,   126.34947 ,   107.87946 ,   198.59348 ,\n",
       "          115.717354,   279.292   ,   292.4764  ,   283.1822  ,\n",
       "          247.37473 ,   335.71457 ,   197.911   ,   173.42062 ,\n",
       "          151.9502  ,   197.19434 ,   171.21861 ,   266.20328 ,\n",
       "          445.2391  ,   626.52484 ,   296.1638  ,   304.2422  ,\n",
       "          185.74289 ,   258.2899  ,   351.0088  ,   294.51785 ,\n",
       "          138.96889 ,   195.71191 ,   253.21861 ,   376.69574 ,\n",
       "          578.7729  ,   779.92316 ,  1034.1582  ,  1459.0443  ,\n",
       "         1371.5557  ,   888.5561  ,   575.3118  ,   137.59055 ,\n",
       "          196.69936 ,   197.15764 ,   315.0357  ,   421.34515 ,\n",
       "          432.91965 ,   431.11734 ,   468.19977 ,   411.5057  ,\n",
       "          237.40709 ,   110.6695  ,   297.33035 ,   438.86188 ,\n",
       "          356.8439  ,   492.6723  ,   312.75977 ,   146.44504 ,\n",
       "          175.33873 ,   319.63965 ,   170.95996 ,    99.01214 ,\n",
       "          135.82576 ,   215.45744 ,   316.37152 ,   267.53265 ,\n",
       "          172.05371 ,   149.94908 ,   164.1151  ,   242.63588 ,\n",
       "          319.56918 ,   442.61356 ,   552.08234 ,   660.8863  ,\n",
       "          608.48175 ,   512.0466  ,   167.54283 ,    93.320595,\n",
       "          306.3821  ,   248.24289 ,   407.00113 ,   600.6366  ,\n",
       "          734.36035 ,  1024.6749  ,  1189.7373  ,  1191.9963  ,\n",
       "         1213.835   ,   414.75864 ,   238.51883 ,   254.38142 ,\n",
       "          320.94992 ,   282.3909  ,   257.5392  ,   229.80705 ,\n",
       "          169.95158 ,   396.17075 ,   586.7235  ,   697.4237  ,\n",
       "          865.0865  ,  1101.0883  ,  1164.0701  ,  1168.6115  ,\n",
       "          440.2775  ,   518.75653 ,   384.29117 ,   318.33383 ,\n",
       "          531.3942  ,   789.1124  ,   777.8888  ,   805.1823  ,\n",
       "         1074.362   ,  1294.0443  ,  1792.1755  ,  1516.3976  ,\n",
       "          989.66046 ,   514.30164 ,   450.96652 ,   611.9629  ,\n",
       "          922.9542  ,  1132.9227  ,  1093.5826  ,  1153.0228  ,\n",
       "          952.3597  ,   743.63196 ,  1142.7494  ,  1314.8292  ,\n",
       "         1269.1663  ,   325.77036 ,   256.58035 ,   492.59125 ,\n",
       "          828.8979  ,   637.9464  ,   678.0993  ,   596.0165  ,\n",
       "          603.78546 ,   600.04407 ,   788.31415 ,  1474.5625  ,\n",
       "         2504.613   ,  2764.2915  ,  3115.9556  ,  3350.7385  ,\n",
       "         3558.936   ,  2359.0298  ,   956.7648  ,   536.6683  ,\n",
       "          992.6755  ,  1291.6934  ,  1389.5916  ,  1696.4177  ,\n",
       "         2485.2363  ,  3017.9565  ,  2985.4885  ,  2384.554   ,\n",
       "         2572.5845  ,  2860.4011  ,  3514.9158  ,  3310.3806  ,\n",
       "         4064.073   ,  4992.681   ,  4371.6753  ,  4108.1157  ,\n",
       "         4344.4614  ,  3016.4275  ,  2627.2456  ,  2377.2131  ,\n",
       "         4406.529   ,  5825.09    ,  5359.434   ,  1512.5876  ,\n",
       "          998.8549  ,   853.38116 ,  2798.112   ,  3251.1172  ,\n",
       "         3368.8538  ,  3257.3845  ,  3149.0945  ,  3699.1616  ,\n",
       "         3922.4187  ,  1093.8826  ,  1413.7168  ,  1229.8223  ,\n",
       "         1252.4479  ,  1244.6191  ,  2318.2559  ,  3654.865   ,\n",
       "         3421.8865  ,  2468.0352  ,  2857.668   ,  3193.1658  ,\n",
       "         4877.4453  ,  5430.5938  ,  4569.6694  ,  4913.6104  ,\n",
       "         6024.833   ,  6040.84    ,  8098.107   ,  4656.5737  ,\n",
       "         1519.6523  ,  1565.0603  ,  1623.0022  ,  2473.9653  ,\n",
       "         2522.4944  ,  3345.5295  ,  2859.8064  ,  3505.7366  ,\n",
       "         2622.5989  ,  3181.4487  ,  5686.222   ,  7068.962   ,\n",
       "        10159.011   ,  9195.29    ,  5213.328   ,  3096.9458  ,\n",
       "         2172.101   ,  1295.8214  ,  2360.0286  ,  3748.7122  ,\n",
       "         2681.0408  ,  2770.842   ,  3032.5586  ,  3957.7869  ,\n",
       "         5340.5903  ,  6390.0923  ,  6141.483   ,  5543.7495  ,\n",
       "         4377.4814  ,  2162.284   ,  1958.875   ,  1428.2272  ,\n",
       "         1494.9537  ,  2972.1658  ,  1756.8069  ,  1585.6747  ,\n",
       "         2969.3777  ,  4168.249   ,  5691.254   ,  5425.8096  ,\n",
       "         5282.374   ,  1467.7908  ,  2095.7947  ,  2822.6753  ,\n",
       "         3762.4558  ,  4497.3774  ,  2443.27    ,  2640.0369  ,\n",
       "         1537.173   ,   712.88837 ,   712.52344 ,   827.5179  ,\n",
       "          839.1774  ,   657.03906 ,  1154.5927  ,  1314.6819  ,\n",
       "         1498.0039  ,  2523.2183  ,  3304.8208  ,  3580.2087  ,\n",
       "         2486.023   ,  2461.557   ,  2453.1472  ,  3343.5754  ,\n",
       "         5525.032   ,  7342.4985  ,  8799.321   ,  8409.528   ,\n",
       "         6354.384   ,  4577.6836  ,  4530.335   ,  2686.8333  ,\n",
       "         1951.067   ,  2977.4683  ,  4358.715   ,  6178.878   ,\n",
       "         3880.2903  ,  1868.25    ,  2122.1106  ,  2401.5012  ,\n",
       "         1403.1775  ,  1713.0636  ,  1281.6619  ,  1998.3867  ,\n",
       "         1947.087   ,  1843.4381  ,  2305.3845  ,  3362.2043  ,\n",
       "         5559.337   ,  7160.6353  ,  7830.9844  ], dtype=float32),\n",
       " 'mse': array([3.33726438e+05, 1.18670641e+05, 9.96525000e+04, 1.84162328e+05,\n",
       "        2.40925141e+05, 3.31727906e+05, 3.18016969e+05, 2.69757500e+05,\n",
       "        3.67174250e+05, 5.42461875e+05, 8.00997125e+05, 6.79113562e+05,\n",
       "        5.58362562e+05, 6.65754125e+05, 3.71143281e+05, 1.16226766e+05,\n",
       "        8.35010234e+04, 7.92568828e+04, 9.43463359e+04, 9.78526172e+04,\n",
       "        2.37816621e+04, 2.37380938e+04, 5.15203438e+04, 9.23035469e+04,\n",
       "        4.20248203e+04, 3.22508887e+04, 1.59168525e+04, 1.38397080e+04,\n",
       "        1.36361191e+04, 2.83066230e+04, 8.77488750e+04, 1.41271125e+05,\n",
       "        8.98754141e+04, 1.21973062e+05, 1.12811500e+05, 1.20598164e+05,\n",
       "        1.39918859e+05, 1.02662016e+05, 9.07288594e+04, 7.70607109e+04,\n",
       "        1.86782328e+05, 2.96705195e+04, 1.16199873e+04, 1.36673594e+04,\n",
       "        1.33246973e+04, 1.24737188e+04, 7.50149268e+03, 7.43271143e+03,\n",
       "        8.48148633e+03, 1.53447168e+04, 1.84381719e+04, 2.96825469e+04,\n",
       "        4.34096680e+04, 3.84010547e+04, 1.50886000e+05, 2.61322906e+05,\n",
       "        3.98611062e+05, 3.89748000e+05, 3.58793438e+05, 3.11940562e+05,\n",
       "        2.18966891e+05, 1.58429672e+05, 1.76462984e+05, 2.09291109e+05,\n",
       "        3.21955906e+05, 3.00176594e+05, 3.21956000e+05, 2.80942812e+05,\n",
       "        2.96574160e+04, 7.67345859e+04, 6.54605273e+04, 1.93905641e+05,\n",
       "        3.04698500e+05, 1.83742172e+05, 1.21349766e+05, 1.73527672e+05,\n",
       "        1.35285500e+05, 2.34013781e+05, 3.69003906e+05, 5.10364938e+05,\n",
       "        6.87154625e+05, 4.18430281e+05, 9.55904141e+04, 4.08526289e+04,\n",
       "        6.32684102e+04, 5.73107930e+04, 7.59408359e+04, 1.30285734e+05,\n",
       "        1.62379266e+05, 3.37326844e+05, 2.59514281e+05, 2.36138156e+05,\n",
       "        1.44373125e+05, 7.78642969e+04, 3.52125039e+04, 8.04477578e+04,\n",
       "        1.50259656e+05, 3.37513281e+05, 4.59169250e+05, 6.58017562e+05,\n",
       "        3.20740344e+05, 1.33061656e+05, 5.87249805e+04, 1.28244148e+05,\n",
       "        2.25128578e+05, 2.76193531e+05, 3.53759906e+05, 4.57278062e+05,\n",
       "        1.05387062e+06, 9.36517688e+05, 7.60386875e+05, 1.64037969e+05,\n",
       "        4.65556367e+04, 7.80365078e+04, 5.18684727e+04, 1.48228219e+05,\n",
       "        1.31790031e+05, 2.30929859e+05, 3.52204562e+05, 1.81976612e+06,\n",
       "        3.74979650e+06, 6.05941750e+06, 5.17881100e+06, 5.76029500e+06,\n",
       "        5.91834100e+06, 7.01621200e+06, 1.88590112e+06, 6.11417562e+05,\n",
       "        2.17509359e+05, 2.11132953e+05, 3.73220500e+05, 3.03584688e+05,\n",
       "        3.21958562e+05, 1.72256547e+05, 1.71718797e+05, 1.18439586e+05,\n",
       "        1.48257047e+05, 1.12111453e+05, 1.52994922e+05, 1.89576766e+05,\n",
       "        2.11239078e+05, 2.07179047e+05, 1.03452742e+05, 4.05683094e+05,\n",
       "        5.37861062e+05, 2.66393844e+05, 1.78269781e+05, 6.25859023e+04,\n",
       "        1.07051484e+05, 5.58048828e+04, 6.88216953e+04, 2.88668125e+05,\n",
       "        1.54089516e+05, 3.25091719e+05, 2.10473422e+05, 1.62372750e+05,\n",
       "        3.72359570e+04, 5.15569570e+04, 5.99091914e+04, 4.06764375e+04,\n",
       "        9.57963281e+04, 9.38126719e+04, 7.11753672e+04, 8.48455000e+04,\n",
       "        1.14091625e+05, 1.71689922e+05, 3.12196062e+05, 7.02099812e+05,\n",
       "        5.61761938e+05, 6.87882875e+05, 1.05554425e+06, 1.05882012e+06,\n",
       "        1.12562138e+06, 1.18562512e+06, 3.25741156e+05, 2.10954219e+05,\n",
       "        2.86802969e+05, 2.37318203e+05, 2.00987641e+05, 1.98731250e+05,\n",
       "        2.62999562e+05, 3.18549812e+05, 6.32966000e+05, 1.09172400e+06,\n",
       "        9.02775375e+05, 1.83075172e+05, 3.16092188e+05, 5.78356125e+05,\n",
       "        1.54290156e+05, 7.35794141e+04, 1.10565164e+05, 8.31921250e+04,\n",
       "        2.14472078e+05, 2.25768828e+05, 4.80493656e+05, 4.28426312e+05,\n",
       "        1.99940094e+05, 9.92743203e+04, 9.91875859e+04, 1.09896289e+05,\n",
       "        4.03638438e+05, 7.17518688e+05, 5.64797438e+05, 3.12538281e+05,\n",
       "        1.89819906e+05, 5.35124062e+04, 9.76377344e+04, 1.10487250e+05,\n",
       "        3.26702656e+04, 2.71972793e+04, 1.28170523e+05, 5.05949102e+04,\n",
       "        5.79322930e+04, 6.51397305e+04, 1.05959914e+05, 1.86676344e+05,\n",
       "        2.87949438e+05, 2.65589941e+04, 2.13125840e+04, 2.61786230e+04,\n",
       "        4.51324922e+04, 4.12718125e+04, 4.02395625e+04, 2.94368184e+04,\n",
       "        2.49562930e+04, 2.69205176e+04, 4.24990000e+04, 5.06393477e+04,\n",
       "        9.42587344e+04, 3.21661938e+05, 8.20932891e+04, 8.34925000e+04,\n",
       "        2.15422246e+04, 1.06261855e+04, 4.10540674e+03, 1.01081064e+04,\n",
       "        1.80301816e+04, 2.75234883e+04, 2.87735273e+04, 3.46790977e+04,\n",
       "        1.31124287e+04, 4.07523750e+04, 6.75683496e+03, 7.49356006e+03,\n",
       "        4.27127930e+04, 2.12714902e+04, 2.08292012e+04, 6.89120557e+03,\n",
       "        7.94924756e+03, 1.87734395e+04, 2.80580996e+04, 2.74817344e+04,\n",
       "        4.67436953e+04, 6.39327773e+04, 1.02622734e+05, 1.54422781e+05,\n",
       "        7.13448812e+05, 9.74551125e+05, 1.21437762e+06, 1.31954200e+06,\n",
       "        1.68307812e+06, 2.12208650e+06, 1.82460588e+06, 3.50587000e+05,\n",
       "        9.39960547e+04, 8.03993047e+04, 7.31112969e+04, 9.43348359e+04,\n",
       "        2.05101281e+05, 2.76546914e+04, 2.32067383e+04, 5.38158672e+04,\n",
       "        2.62649883e+04, 1.15992750e+05, 1.22646633e+05, 1.26874516e+05,\n",
       "        9.48498359e+04, 1.55124609e+05, 9.15201094e+04, 7.55591094e+04,\n",
       "        5.65148945e+04, 5.81007852e+04, 4.34580859e+04, 8.36420859e+04,\n",
       "        2.21365828e+05, 4.09360344e+05, 1.18835500e+05, 1.18802188e+05,\n",
       "        4.77623672e+04, 1.08798086e+05, 1.62374328e+05, 1.04008898e+05,\n",
       "        4.12893789e+04, 1.03147953e+05, 1.11014148e+05, 2.18157422e+05,\n",
       "        5.06101594e+05, 8.98636312e+05, 1.38499662e+06, 2.33315250e+06,\n",
       "        1.93356900e+06, 8.33013125e+05, 3.57809656e+05, 3.16058965e+04,\n",
       "        4.87739102e+04, 7.21054297e+04, 1.67481375e+05, 2.91566688e+05,\n",
       "        2.83258031e+05, 2.61482875e+05, 2.61772172e+05, 1.82567922e+05,\n",
       "        7.08163906e+04, 2.29461348e+04, 1.28332297e+05, 2.44600859e+05,\n",
       "        1.86532844e+05, 2.98313031e+05, 1.41799406e+05, 4.33737188e+04,\n",
       "        4.18532227e+04, 1.08706539e+05, 3.61393203e+04, 1.17647236e+04,\n",
       "        2.82066309e+04, 7.87706484e+04, 1.19436812e+05, 8.70028359e+04,\n",
       "        3.89529297e+04, 2.54043164e+04, 4.88407266e+04, 1.21033625e+05,\n",
       "        1.84796891e+05, 2.98226781e+05, 4.05246188e+05, 4.93381719e+05,\n",
       "        4.07399062e+05, 2.83152062e+05, 4.76927500e+04, 1.46156738e+04,\n",
       "        1.16768500e+05, 6.70501484e+04, 3.79445812e+05, 7.42879625e+05,\n",
       "        9.27919938e+05, 1.49810862e+06, 1.71774225e+06, 1.58948562e+06,\n",
       "        1.56526975e+06, 2.63973594e+05, 7.75850078e+04, 7.37791016e+04,\n",
       "        1.15302109e+05, 1.19707500e+05, 8.27386797e+04, 7.10491328e+04,\n",
       "        4.81503711e+04, 5.07770781e+05, 9.37226375e+05, 8.90595062e+05,\n",
       "        1.06742200e+06, 1.57102375e+06, 1.54109762e+06, 1.47812112e+06,\n",
       "        3.83573062e+05, 3.74889750e+05, 2.21564219e+05, 1.22595977e+05,\n",
       "        4.04133344e+05, 1.03330081e+06, 1.13375250e+06, 9.70256562e+05,\n",
       "        1.54385362e+06, 2.14589850e+06, 3.66092575e+06, 2.49183050e+06,\n",
       "        1.20374912e+06, 3.88591844e+05, 2.92313188e+05, 8.08243125e+05,\n",
       "        1.36701412e+06, 1.88843600e+06, 1.79997825e+06, 2.03837288e+06,\n",
       "        1.56413088e+06, 7.30201125e+05, 1.79431888e+06, 1.88373700e+06,\n",
       "        1.76249712e+06, 1.37185016e+05, 7.49278281e+04, 3.14445969e+05,\n",
       "        8.06189312e+05, 5.44051125e+05, 5.94486688e+05, 5.22807812e+05,\n",
       "        4.99202688e+05, 4.26265281e+05, 1.12050925e+06, 4.34282900e+06,\n",
       "        9.04387600e+06, 1.13475090e+07, 1.31673610e+07, 1.34771310e+07,\n",
       "        1.32121090e+07, 5.78247100e+06, 1.13130188e+06, 5.76764562e+05,\n",
       "        1.43331062e+06, 2.24769100e+06, 2.76617025e+06, 3.93275350e+06,\n",
       "        8.43724300e+06, 1.10442450e+07, 1.05090690e+07, 9.83867100e+06,\n",
       "        1.15131120e+07, 1.16015600e+07, 1.65308900e+07, 1.74689840e+07,\n",
       "        2.66746200e+07, 3.69651600e+07, 2.98057220e+07, 2.12807080e+07,\n",
       "        2.41527000e+07, 1.35803290e+07, 7.84651550e+06, 1.01479470e+07,\n",
       "        2.43554740e+07, 3.72968640e+07, 3.02107320e+07, 3.16941150e+06,\n",
       "        1.57896238e+06, 1.10197538e+06, 9.51851000e+06, 1.40185010e+07,\n",
       "        1.60469230e+07, 1.53325710e+07, 1.20162670e+07, 1.56482570e+07,\n",
       "        1.62261030e+07, 1.51269225e+06, 2.95707175e+06, 2.83866050e+06,\n",
       "        1.97962938e+06, 2.10015550e+06, 6.45362550e+06, 1.60897780e+07,\n",
       "        1.56116890e+07, 9.09514800e+06, 1.08362190e+07, 1.33895280e+07,\n",
       "        3.21196660e+07, 4.54238720e+07, 3.56680720e+07, 3.62145000e+07,\n",
       "        4.76370000e+07, 4.21587160e+07, 6.71461920e+07, 2.39333340e+07,\n",
       "        3.04824725e+06, 4.99010800e+06, 4.66270450e+06, 1.03568050e+07,\n",
       "        1.07705200e+07, 1.66432310e+07, 1.13261670e+07, 1.46496790e+07,\n",
       "        8.20142100e+06, 1.19715750e+07, 4.60190120e+07, 6.44261680e+07,\n",
       "        1.11489336e+08, 8.69196000e+07, 3.14187420e+07, 1.41668750e+07,\n",
       "        6.51357850e+06, 2.39536100e+06, 6.63372850e+06, 1.54293040e+07,\n",
       "        1.10395930e+07, 1.20784260e+07, 1.82203920e+07, 2.52749380e+07,\n",
       "        3.80717160e+07, 5.30344560e+07, 4.86432640e+07, 3.48258360e+07,\n",
       "        2.05255680e+07, 7.95056250e+06, 4.43125250e+06, 3.09636175e+06,\n",
       "        3.20022750e+06, 1.00226590e+07, 6.46612700e+06, 4.52926250e+06,\n",
       "        1.41592150e+07, 2.53465100e+07, 3.88927920e+07, 3.31398900e+07,\n",
       "        3.04334360e+07, 3.71927650e+06, 6.42252700e+06, 1.08717130e+07,\n",
       "        1.65572660e+07, 2.23030840e+07, 6.36749450e+06, 7.30343100e+06,\n",
       "        3.20448850e+06, 6.84750812e+05, 8.10465875e+05, 1.00761594e+06,\n",
       "        9.94972625e+05, 7.12413062e+05, 1.70937488e+06, 2.51827875e+06,\n",
       "        4.01922775e+06, 1.04513340e+07, 1.57187690e+07, 1.64243290e+07,\n",
       "        8.05424150e+06, 7.72865950e+06, 7.43385600e+06, 1.89167900e+07,\n",
       "        4.17982200e+07, 6.26705000e+07, 8.70586000e+07, 7.75266960e+07,\n",
       "        4.88232120e+07, 2.63575960e+07, 2.51629140e+07, 9.96781500e+06,\n",
       "        5.22333750e+06, 1.07158740e+07, 2.34497020e+07, 4.05963880e+07,\n",
       "        1.74019820e+07, 4.56206100e+06, 5.11086450e+06, 7.09879700e+06,\n",
       "        3.09619350e+06, 4.58717150e+06, 2.98884975e+06, 5.16106100e+06,\n",
       "        5.18047200e+06, 4.92478500e+06, 9.32121800e+06, 2.14728520e+07,\n",
       "        4.57733320e+07, 6.61740720e+07, 7.94449520e+07], dtype=float32),\n",
       " 'rmse': array([  577.6906  ,   344.48605 ,   315.67783 ,   429.1414  ,\n",
       "          490.84125 ,   575.95825 ,   563.92993 ,   519.38184 ,\n",
       "          605.94904 ,   736.5201  ,   894.98444 ,   824.08344 ,\n",
       "          747.23663 ,   815.93756 ,   609.2153  ,   340.92047 ,\n",
       "          288.96542 ,   281.52597 ,   307.15848 ,   312.81403 ,\n",
       "          154.21304 ,   154.07172 ,   226.98093 ,   303.81497 ,\n",
       "          204.99956 ,   179.58533 ,   126.16201 ,   117.64229 ,\n",
       "          116.773796,   168.24571 ,   296.22437 ,   375.8605  ,\n",
       "          299.7923  ,   349.2464  ,   335.87424 ,   347.27246 ,\n",
       "          374.05728 ,   320.40912 ,   301.2123  ,   277.5981  ,\n",
       "          432.1832  ,   172.25133 ,   107.79604 ,   116.907486,\n",
       "          115.43265 ,   111.6858  ,    86.61115 ,    86.21317 ,\n",
       "           92.094986,   123.873795,   135.78723 ,   172.28624 ,\n",
       "          208.34987 ,   195.96187 ,   388.44046 ,   511.1975  ,\n",
       "          631.3565  ,   624.298   ,   598.99365 ,   558.51636 ,\n",
       "          467.939   ,   398.03226 ,   420.07498 ,   457.48343 ,\n",
       "          567.41156 ,   547.8837  ,   567.4117  ,   530.0404  ,\n",
       "          172.21329 ,   277.01007 ,   255.85255 ,   440.34717 ,\n",
       "          551.995   ,   428.65158 ,   348.35294 ,   416.56653 ,\n",
       "          367.81177 ,   483.7497  ,   607.4569  ,   714.3983  ,\n",
       "          828.94794 ,   646.8619  ,   309.177   ,   202.12033 ,\n",
       "          251.53212 ,   239.39673 ,   275.57364 ,   360.95114 ,\n",
       "          402.9631  ,   580.79846 ,   509.42545 ,   485.9405  ,\n",
       "          379.96463 ,   279.04175 ,   187.64995 ,   283.63312 ,\n",
       "          387.6334  ,   580.9589  ,   677.62024 ,   811.1828  ,\n",
       "          566.3394  ,   364.77618 ,   242.33238 ,   358.1119  ,\n",
       "          474.47717 ,   525.54114 ,   594.77716 ,   676.2234  ,\n",
       "         1026.582   ,   967.7384  ,   872.00165 ,   405.016   ,\n",
       "          215.76755 ,   279.35016 ,   227.7465  ,   385.00418 ,\n",
       "          363.02896 ,   480.5516  ,   593.46826 ,  1348.987   ,\n",
       "         1936.4391  ,  2461.5884  ,  2275.7     ,  2400.0615  ,\n",
       "         2432.764   ,  2648.8132  ,  1373.2811  ,   781.93195 ,\n",
       "          466.37897 ,   459.49207 ,   610.9177  ,   550.98517 ,\n",
       "          567.41394 ,   415.038   ,   414.38968 ,   344.1505  ,\n",
       "          385.0416  ,   334.83047 ,   391.14566 ,   435.40414 ,\n",
       "          459.6075  ,   455.16925 ,   321.6407  ,   636.93256 ,\n",
       "          733.39014 ,   516.13354 ,   422.22006 ,   250.17174 ,\n",
       "          327.18723 ,   236.23058 ,   262.3389  ,   537.27844 ,\n",
       "          392.54236 ,   570.16815 ,   458.77383 ,   402.95502 ,\n",
       "          192.9662  ,   227.06157 ,   244.76353 ,   201.684   ,\n",
       "          309.50983 ,   306.28854 ,   266.7871  ,   291.2825  ,\n",
       "          337.7745  ,   414.35483 ,   558.74506 ,   837.91394 ,\n",
       "          749.5078  ,   829.3871  ,  1027.3969  ,  1028.9899  ,\n",
       "         1060.953   ,  1088.8641  ,   570.73737 ,   459.29752 ,\n",
       "          535.53986 ,   487.15317 ,   448.31644 ,   445.79282 ,\n",
       "          512.83484 ,   564.40216 ,   795.5916  ,  1044.856   ,\n",
       "          950.1449  ,   427.87283 ,   562.22076 ,   760.4973  ,\n",
       "          392.79785 ,   271.25525 ,   332.5134  ,   288.43045 ,\n",
       "          463.1113  ,   475.15137 ,   693.1765  ,   654.54285 ,\n",
       "          447.1466  ,   315.07828 ,   314.9406  ,   331.50607 ,\n",
       "          635.32544 ,   847.06476 ,   751.5301  ,   559.0512  ,\n",
       "          435.68326 ,   231.32748 ,   312.47037 ,   332.3962  ,\n",
       "          180.74918 ,   164.91597 ,   358.0091  ,   224.93312 ,\n",
       "          240.69128 ,   255.22485 ,   325.51483 ,   432.06058 ,\n",
       "          536.6092  ,   162.9693  ,   145.9883  ,   161.7981  ,\n",
       "          212.44409 ,   203.15465 ,   200.598   ,   171.57161 ,\n",
       "          157.9756  ,   164.07472 ,   206.15285 ,   225.03188 ,\n",
       "          307.01584 ,   567.15247 ,   286.51926 ,   288.95068 ,\n",
       "          146.77269 ,   103.08339 ,    64.07345 ,   100.53908 ,\n",
       "          134.2765  ,   165.90204 ,   169.62761 ,   186.22325 ,\n",
       "          114.509514,   201.87218 ,    82.19997 ,    86.565346,\n",
       "          206.67073 ,   145.84749 ,   144.32324 ,    83.01328 ,\n",
       "           89.158554,   137.0162  ,   167.50552 ,   165.77615 ,\n",
       "          216.2029  ,   252.84932 ,   320.34784 ,   392.96664 ,\n",
       "          844.659   ,   987.19354 ,  1101.988   ,  1148.7131  ,\n",
       "         1297.335   ,  1456.7383  ,  1350.7797  ,   592.1039  ,\n",
       "          306.58777 ,   283.5477  ,   270.391   ,   307.13977 ,\n",
       "          452.88107 ,   166.297   ,   152.33757 ,   231.98247 ,\n",
       "          162.06476 ,   340.5771  ,   350.2094  ,   356.1945  ,\n",
       "          307.977   ,   393.8586  ,   302.5229  ,   274.88016 ,\n",
       "          237.7286  ,   241.04105 ,   208.46603 ,   289.2094  ,\n",
       "          470.4953  ,   639.81274 ,   344.72525 ,   344.67694 ,\n",
       "          218.54602 ,   329.84555 ,   402.95697 ,   322.5041  ,\n",
       "          203.19788 ,   321.16653 ,   333.18784 ,   467.07324 ,\n",
       "          711.40814 ,   947.9643  ,  1176.8588  ,  1527.466   ,\n",
       "         1390.5283  ,   912.69556 ,   598.17194 ,   177.78047 ,\n",
       "          220.84816 ,   268.52454 ,   409.24487 ,   539.9691  ,\n",
       "          532.2199  ,   511.35397 ,   511.63675 ,   427.27966 ,\n",
       "          266.1135  ,   151.47981 ,   358.23495 ,   494.57138 ,\n",
       "          431.89447 ,   546.1804  ,   376.56262 ,   208.26358 ,\n",
       "          204.5806  ,   329.70673 ,   190.10344 ,   108.46531 ,\n",
       "          167.94829 ,   280.6611  ,   345.5963  ,   294.96243 ,\n",
       "          197.36496 ,   159.38731 ,   220.99937 ,   347.89886 ,\n",
       "          429.88007 ,   546.10144 ,   636.5895  ,   702.4114  ,\n",
       "          638.2782  ,   532.12036 ,   218.38669 ,   120.8953  ,\n",
       "          341.71405 ,   258.94043 ,   615.9917  ,   861.90466 ,\n",
       "          963.286   ,  1223.9724  ,  1310.6267  ,  1260.748   ,\n",
       "         1251.1074  ,   513.78357 ,   278.54086 ,   271.62308 ,\n",
       "          339.56165 ,   345.9877  ,   287.6433  ,   266.5504  ,\n",
       "          219.43193 ,   712.5804  ,   968.1045  ,   943.71344 ,\n",
       "         1033.1611  ,  1253.4049  ,  1241.4095  ,  1215.78    ,\n",
       "          619.33276 ,   612.2824  ,   470.7061  ,   350.1371  ,\n",
       "          635.71484 ,  1016.51404 ,  1064.7781  ,   985.016   ,\n",
       "         1242.519   ,  1464.8885  ,  1913.3546  ,  1578.5532  ,\n",
       "         1097.155   ,   623.37134 ,   540.66    ,   899.02344 ,\n",
       "         1169.1937  ,  1374.2037  ,  1341.6327  ,  1427.716   ,\n",
       "         1250.6521  ,   854.51807 ,  1339.5219  ,  1372.4929  ,\n",
       "         1327.5907  ,   370.38495 ,   273.72946 ,   560.7548  ,\n",
       "          897.88043 ,   737.5982  ,   771.0296  ,   723.0545  ,\n",
       "          706.5428  ,   652.88995 ,  1058.541   ,  2083.9456  ,\n",
       "         3007.3037  ,  3368.6064  ,  3628.6858  ,  3671.121   ,\n",
       "         3634.8464  ,  2404.6768  ,  1063.6267  ,   759.45013 ,\n",
       "         1197.2095  ,  1499.2301  ,  1663.1808  ,  1983.1171  ,\n",
       "         2904.693   ,  3323.2883  ,  3241.7693  ,  3136.6655  ,\n",
       "         3393.0977  ,  3406.1062  ,  4065.8196  ,  4179.5913  ,\n",
       "         5164.748   ,  6079.898   ,  5459.462   ,  4613.1016  ,\n",
       "         4914.5396  ,  3685.1497  ,  2801.163   ,  3185.5842  ,\n",
       "         4935.1265  ,  6107.1157  ,  5496.4287  ,  1780.284   ,\n",
       "         1256.5676  ,  1049.7501  ,  3085.2083  ,  3744.129   ,\n",
       "         4005.861   ,  3915.6826  ,  3466.4487  ,  3955.7876  ,\n",
       "         4028.1636  ,  1229.9155  ,  1719.6138  ,  1684.8325  ,\n",
       "         1406.993   ,  1449.1913  ,  2540.3987  ,  4011.2065  ,\n",
       "         3951.1628  ,  3015.8162  ,  3291.8413  ,  3659.1704  ,\n",
       "         5667.4214  ,  6739.7236  ,  5972.2754  ,  6017.848   ,\n",
       "         6901.956   ,  6492.974   ,  8194.277   ,  4892.1704  ,\n",
       "         1745.923   ,  2233.855   ,  2159.3296  ,  3218.199   ,\n",
       "         3281.847   ,  4079.6116  ,  3365.437   ,  3827.49    ,\n",
       "         2863.8123  ,  3459.9963  ,  6783.7314  ,  8026.5913  ,\n",
       "        10558.851   ,  9323.068   ,  5605.242   ,  3763.8909  ,\n",
       "         2552.1714  ,  1547.6953  ,  2575.6025  ,  3928.0151  ,\n",
       "         3322.5881  ,  3475.4028  ,  4268.535   ,  5027.4185  ,\n",
       "         6170.228   ,  7282.476   ,  6974.472   ,  5901.342   ,\n",
       "         4530.515   ,  2819.674   ,  2105.054   ,  1759.6482  ,\n",
       "         1788.918   ,  3165.8584  ,  2542.858   ,  2128.2063  ,\n",
       "         3762.8733  ,  5034.5317  ,  6236.408   ,  5756.7256  ,\n",
       "         5516.651   ,  1928.5426  ,  2534.2705  ,  3297.228   ,\n",
       "         4069.062   ,  4722.614   ,  2523.3894  ,  2702.486   ,\n",
       "         1790.1085  ,   827.4967  ,   900.2588  ,  1003.8008  ,\n",
       "          997.48315 ,   844.04565 ,  1307.4307  ,  1586.9086  ,\n",
       "         2004.8011  ,  3232.8523  ,  3964.6902  ,  4052.694   ,\n",
       "         2837.9995  ,  2780.0466  ,  2726.5098  ,  4349.3438  ,\n",
       "         6465.1543  ,  7916.47    ,  9330.52    ,  8804.924   ,\n",
       "         6987.361   ,  5133.965   ,  5016.2646  ,  3157.1846  ,\n",
       "         2285.4622  ,  3273.511   ,  4842.4893  ,  6371.5293  ,\n",
       "         4171.5684  ,  2135.8982  ,  2260.7222  ,  2664.3567  ,\n",
       "         1759.6003  ,  2141.7683  ,  1728.829   ,  2271.7969  ,\n",
       "         2276.065   ,  2219.1855  ,  3053.067   ,  4633.881   ,\n",
       "         6765.599   ,  8134.7446  ,  8913.189   ], dtype=float32),\n",
       " 'mape': array([ 6.402216  ,  3.4828815 ,  3.4431703 ,  4.814514  ,  5.2501206 ,\n",
       "         6.4475975 ,  6.36366   ,  5.504966  ,  6.4530835 ,  8.412183  ,\n",
       "        10.812407  , 10.018681  ,  9.390732  , 10.984663  ,  7.969259  ,\n",
       "         3.8788433 ,  3.2717142 ,  3.2767992 ,  3.680485  ,  3.8053162 ,\n",
       "         1.5777829 ,  1.8264445 ,  2.6076572 ,  3.4431155 ,  2.323638  ,\n",
       "         2.0961525 ,  1.4504983 ,  1.320293  ,  1.5050786 ,  1.9309852 ,\n",
       "         3.7361302 ,  5.143545  ,  3.818385  ,  3.8403716 ,  3.6166575 ,\n",
       "         3.7264526 ,  4.3471136 ,  3.565406  ,  3.518527  ,  3.6079187 ,\n",
       "         5.740897  ,  2.0916014 ,  1.3064938 ,  1.4054013 ,  1.3008808 ,\n",
       "         1.1898992 ,  1.0046678 ,  1.0865264 ,  1.2365253 ,  1.3051628 ,\n",
       "         1.4897233 ,  1.9780602 ,  2.499534  ,  1.9876529 ,  3.336764  ,\n",
       "         5.0422044 ,  7.1869397 ,  6.977991  ,  6.702786  ,  6.6651807 ,\n",
       "         5.5535936 ,  3.1811523 ,  3.346138  ,  3.679968  ,  4.89399   ,\n",
       "         5.362765  ,  5.948993  ,  5.903399  ,  1.5691562 ,  2.752611  ,\n",
       "         2.6124136 ,  4.841758  ,  6.2836185 ,  4.6467524 ,  3.4937446 ,\n",
       "         4.357769  ,  3.8951643 ,  4.2588763 ,  5.4910593 ,  6.870596  ,\n",
       "         8.6002    ,  6.7951045 ,  3.0961006 ,  1.7480325 ,  2.4826975 ,\n",
       "         2.199186  ,  2.4712372 ,  3.0934827 ,  3.607532  ,  5.5655847 ,\n",
       "         4.2267113 ,  4.217011  ,  3.3967535 ,  2.2435186 ,  1.5774537 ,\n",
       "         2.6919284 ,  2.968511  ,  5.1926727 ,  6.443034  ,  8.086339  ,\n",
       "         5.528312  ,  3.3189085 ,  2.2886477 ,  3.583926  ,  4.0196733 ,\n",
       "         4.1130037 ,  5.1569986 ,  6.426432  , 10.78317   , 10.567295  ,\n",
       "         9.819863  ,  4.3096247 ,  2.0667822 ,  2.4875412 ,  2.2791946 ,\n",
       "         4.0895486 ,  3.4803514 ,  5.076515  ,  6.729632  , 14.254507  ,\n",
       "        24.41942   , 35.145283  , 33.97126   , 38.66389   , 41.849747  ,\n",
       "        48.970966  , 24.795246  , 13.221221  ,  7.808541  ,  6.7715964 ,\n",
       "         8.515181  ,  6.972835  ,  7.7713194 ,  4.6685786 ,  5.1530414 ,\n",
       "         4.6405206 ,  5.25614   ,  4.4815087 ,  5.0253844 ,  5.1926026 ,\n",
       "         5.557058  ,  5.9186463 ,  4.318839  ,  8.669055  , 10.030429  ,\n",
       "         6.3234577 ,  5.3590794 ,  3.1647015 ,  4.050002  ,  2.7812748 ,\n",
       "         3.4750276 ,  7.211811  ,  4.929823  ,  7.876942  ,  6.0926514 ,\n",
       "         5.5466156 ,  2.5615249 ,  2.8352401 ,  2.8009787 ,  2.1997576 ,\n",
       "         3.7677963 ,  3.59978   ,  3.281973  ,  3.6857512 ,  4.4813786 ,\n",
       "         4.768123  ,  6.639625  ,  8.726228  ,  6.2781916 ,  7.076139  ,\n",
       "         9.485285  , 10.01832   , 11.098317  , 12.231513  ,  5.565991  ,\n",
       "         2.7756512 ,  3.500035  ,  4.2158875 ,  4.3586617 ,  4.179992  ,\n",
       "         5.1347475 ,  5.1729517 ,  6.8602047 , 10.774761  ,  9.741141  ,\n",
       "         3.284539  ,  5.127909  ,  7.5441346 ,  3.7667997 ,  2.4416876 ,\n",
       "         2.871244  ,  2.4297316 ,  3.9688506 ,  4.7632866 ,  7.2815695 ,\n",
       "         7.016708  ,  4.247946  ,  3.1550114 ,  3.272138  ,  3.1011522 ,\n",
       "         5.3963594 ,  7.699847  ,  7.3331423 ,  4.763161  ,  2.8166478 ,\n",
       "         1.2909509 ,  1.9594301 ,  3.0859206 ,  1.4951537 ,  1.4875928 ,\n",
       "         3.2553442 ,  1.7390473 ,  2.005551  ,  2.1535234 ,  2.9998367 ,\n",
       "         3.9502594 ,  5.578895  ,  1.4510117 ,  1.3431975 ,  1.5289481 ,\n",
       "         1.4513797 ,  1.9947838 ,  1.895986  ,  1.7524998 ,  1.4290482 ,\n",
       "         1.5443308 ,  1.8393692 ,  2.0262854 ,  2.8496866 ,  6.1434097 ,\n",
       "         2.9179592 ,  3.0133605 ,  1.4513704 ,  0.806231  ,  0.5856781 ,\n",
       "         0.9755166 ,  1.2496895 ,  1.632818  ,  1.3588635 ,  1.8587917 ,\n",
       "         1.0164237 ,  1.9338545 ,  0.76604384,  0.7613707 ,  2.1339889 ,\n",
       "         1.5049397 ,  1.4876472 ,  0.823672  ,  0.8219799 ,  1.2857302 ,\n",
       "         1.7466615 ,  1.6188232 ,  1.522662  ,  1.9710753 ,  2.7174342 ,\n",
       "         3.3450274 ,  5.9319944 ,  6.6759186 ,  7.4671693 ,  8.338852  ,\n",
       "        10.214081  , 12.002157  , 11.723641  ,  4.679185  ,  2.0538    ,\n",
       "         2.1624117 ,  2.2227657 ,  2.442202  ,  3.3622172 ,  1.1063685 ,\n",
       "         0.93746036,  1.6955471 ,  1.0021045 ,  2.4178262 ,  2.5291371 ,\n",
       "         2.449822  ,  2.1346395 ,  2.8605502 ,  1.6263386 ,  1.4222105 ,\n",
       "         1.252562  ,  1.6541828 ,  1.4312806 ,  2.2483711 ,  3.7983823 ,\n",
       "         5.382372  ,  2.5632617 ,  2.6514978 ,  1.6168703 ,  2.2624955 ,\n",
       "         3.0703886 ,  2.572759  ,  1.1891351 ,  1.666384  ,  2.2252057 ,\n",
       "         3.3929164 ,  5.40227   ,  7.45392   ,  9.941702  , 14.118745  ,\n",
       "        13.346375  ,  8.691146  ,  5.6362424 ,  1.3427945 ,  1.9050751 ,\n",
       "         1.8971828 ,  2.9675512 ,  3.914798  ,  3.9951417 ,  3.9610815 ,\n",
       "         4.2889814 ,  3.76481   ,  2.1690722 ,  1.0335467 ,  2.8200297 ,\n",
       "         4.1567316 ,  3.3976858 ,  4.678817  ,  2.9806461 ,  1.3975667 ,\n",
       "         1.6483104 ,  2.9721801 ,  1.58853   ,  0.9248038 ,  1.2767423 ,\n",
       "         2.029714  ,  2.9757273 ,  2.5210547 ,  1.6239319 ,  1.4070543 ,\n",
       "         1.5125978 ,  2.1878903 ,  2.8571823 ,  3.9093368 ,  4.851466  ,\n",
       "         5.80589   ,  5.316624  ,  4.466472  ,  1.4555005 ,  0.81144285,\n",
       "         2.6826189 ,  2.1527636 ,  3.2972999 ,  4.731304  ,  5.723331  ,\n",
       "         7.9325213 ,  9.18386   ,  9.152781  ,  9.196856  ,  3.1121776 ,\n",
       "         1.7977009 ,  1.9023778 ,  2.382734  ,  2.0674813 ,  1.8813792 ,\n",
       "         1.6977551 ,  1.2270128 ,  2.6628716 ,  3.8428242 ,  4.629814  ,\n",
       "         5.7090287 ,  7.2109685 ,  7.5990334 ,  7.5568333 ,  2.7865524 ,\n",
       "         3.3382378 ,  2.397691  ,  2.0094888 ,  3.2599967 ,  4.69113   ,\n",
       "         4.4948125 ,  4.6255646 ,  6.089243  ,  7.179712  ,  9.83978   ,\n",
       "         8.266896  ,  5.318734  ,  2.743976  ,  2.4733753 ,  3.5107594 ,\n",
       "         5.2569437 ,  6.452813  ,  6.2210374 ,  6.5662494 ,  5.4480915 ,\n",
       "         3.9997835 ,  5.9628596 ,  6.879171  ,  6.6124268 ,  1.7025077 ,\n",
       "         1.3503834 ,  2.6160398 ,  4.423636  ,  3.4459    ,  3.6616855 ,\n",
       "         3.2289808 ,  3.2606993 ,  3.2204964 ,  3.9875221 ,  6.9387035 ,\n",
       "        11.624275  , 12.298483  , 13.599433  , 14.515331  , 15.360525  ,\n",
       "        10.099567  ,  4.0681505 ,  2.2315593 ,  4.054519  ,  5.2055597 ,\n",
       "         5.4062457 ,  6.472563  ,  9.172665  , 10.942372  , 10.613153  ,\n",
       "         7.9582863 ,  8.24456   ,  9.144945  , 10.903898  ,  9.740186  ,\n",
       "        11.297313  , 13.340826  , 11.247776  , 10.670068  , 11.147956  ,\n",
       "         7.6491156 ,  6.866442  ,  6.6784034 , 12.24365   , 16.208025  ,\n",
       "        14.951216  ,  4.207533  ,  2.6856244 ,  2.3191197 ,  8.157188  ,\n",
       "         9.668839  , 10.254631  , 10.080647  ,  9.740136  , 11.513623  ,\n",
       "        12.358547  ,  3.412747  ,  4.3834615 ,  3.7224135 ,  3.7576873 ,\n",
       "         3.764214  ,  6.770426  , 10.383638  ,  9.50648   ,  6.720392  ,\n",
       "         7.6151123 ,  8.350168  , 12.150836  , 12.733213  , 10.302471  ,\n",
       "        10.816615  , 13.041726  , 12.998533  , 17.210749  ,  9.764074  ,\n",
       "         3.1822193 ,  3.1218848 ,  3.2214012 ,  4.7363634 ,  4.7192683 ,\n",
       "         6.1523414 ,  5.218858  ,  6.4583874 ,  4.9900503 ,  6.193294  ,\n",
       "        11.75486   , 14.816992  , 21.48871   , 19.504026  , 11.145401  ,\n",
       "         6.672235  ,  4.6338086 ,  2.6931677 ,  4.8198333 ,  7.5707445 ,\n",
       "         5.3186135 ,  5.346154  ,  5.607081  ,  7.168313  ,  9.590032  ,\n",
       "        11.162838  , 10.50085   ,  9.507164  ,  7.5070596 ,  3.6392617 ,\n",
       "         3.3445194 ,  2.4078    ,  2.6060457 ,  5.164933  ,  3.1383135 ,\n",
       "         2.842047  ,  5.4313416 ,  7.7314005 , 10.536132  , 10.046471  ,\n",
       "         9.802412  ,  2.7302206 ,  3.833478  ,  4.92407   ,  6.509036  ,\n",
       "         7.732568  ,  4.1993046 ,  4.5184035 ,  2.6188655 ,  1.2180879 ,\n",
       "         1.2371453 ,  1.438322  ,  1.4578974 ,  1.1382282 ,  1.9892586 ,\n",
       "         2.2655964 ,  2.4883645 ,  4.0949297 ,  5.315864  ,  5.7467093 ,\n",
       "         3.984756  ,  3.9883215 ,  4.0904284 ,  5.8275642 ,  9.767983  ,\n",
       "        13.232     , 16.274822  , 15.870044  , 12.382068  ,  8.973197  ,\n",
       "         8.8803005 ,  5.2906775 ,  3.8086002 ,  5.524464  ,  7.8812084 ,\n",
       "        11.078926  ,  6.8733916 ,  3.3009703 ,  3.761163  ,  4.2070985 ,\n",
       "         2.5168707 ,  3.0634851 ,  2.2868152 ,  3.5653017 ,  3.3792694 ,\n",
       "         3.3126872 ,  4.333622  ,  6.570369  , 11.058972  , 14.624603  ,\n",
       "        16.685299  ], dtype=float32),\n",
       " 'mase': 2.1974065}"
      ]
     },
     "execution_count": 108,
     "metadata": {},
     "output_type": "execute_result"
    }
   ],
   "source": [
    "# Evaluate results\n",
    "model_3_results = evaluate_preds(y_true=tf.squeeze(test_labels),\n",
    "                                 y_pred=model_3_preds)\n",
    "model_3_results"
   ]
  },
  {
   "attachments": {},
   "cell_type": "markdown",
   "metadata": {},
   "source": [
    "## Make our evaluation function work for larger horizons\n",
    "\n"
   ]
  },
  {
   "cell_type": "code",
   "execution_count": 110,
   "metadata": {},
   "outputs": [],
   "source": [
    "def evaluate_preds(y_true, y_pred):\n",
    "  # Make sure float32 (for metric calculations)\n",
    "  y_true = tf.cast(y_true, dtype=tf.float32)\n",
    "  y_pred = tf.cast(y_pred, dtype=tf.float32)\n",
    "\n",
    "  # Calculate various metrics\n",
    "  mae = tf.keras.metrics.mean_absolute_error(y_true, y_pred)\n",
    "  mse = tf.keras.metrics.mean_squared_error(y_true, y_pred)\n",
    "  rmse = tf.sqrt(mse)\n",
    "  mape = tf.keras.metrics.mean_absolute_percentage_error(y_true, y_pred)\n",
    "  mase = mean_absolute_scaled_error(y_true, y_pred)\n",
    "\n",
    "  # Account for different sized metrics (for longer horizons, reduce to single number)\n",
    "  if mae.ndim > 0: # if mae isn't already a scalar, reduce it to one by aggregating tensors to mean\n",
    "    mae = tf.reduce_mean(mae)\n",
    "    mse = tf.reduce_mean(mse)\n",
    "    rmse = tf.reduce_mean(rmse)\n",
    "    mape = tf.reduce_mean(mape)\n",
    "    mase = tf.reduce_mean(mase)\n",
    "\n",
    "  return {\"mae\": float(mae.numpy()),\n",
    "          \"mse\": float(mse.numpy()),\n",
    "          \"rmse\": float(rmse.numpy()),\n",
    "          \"mape\": float(mape.numpy()),\n",
    "          \"mase\": float(mase.numpy())}"
   ]
  },
  {
   "cell_type": "code",
   "execution_count": 111,
   "metadata": {},
   "outputs": [
    {
     "data": {
      "text/plain": [
       "{'mae': 1234.8836669921875,\n",
       " 'mse': 5393734.0,\n",
       " 'rmse': 1419.13623046875,\n",
       " 'mape': 5.487498760223389,\n",
       " 'mase': 2.197406530380249}"
      ]
     },
     "execution_count": 111,
     "metadata": {},
     "output_type": "execute_result"
    }
   ],
   "source": [
    "# Evaluate results\n",
    "model_3_results = evaluate_preds(y_true=tf.squeeze(test_labels),\n",
    "                                 y_pred=model_3_preds)\n",
    "model_3_results"
   ]
  },
  {
   "attachments": {},
   "cell_type": "markdown",
   "metadata": {},
   "source": [
    "Save model results"
   ]
  },
  {
   "cell_type": "code",
   "execution_count": 112,
   "metadata": {},
   "outputs": [
    {
     "name": "stdout",
     "output_type": "stream",
     "text": [
      "Success! File written to destination.\n"
     ]
    }
   ],
   "source": [
    "from Functions.helper_functions import save_model_results_json\n",
    "\n",
    "des_path = r\"Saved Results\\10_time_series_forecasting_with_tensorflow\"\n",
    "\n",
    "save_model_results_json(filepath=des_path,\n",
    "                        var_to_save=model_3_results,\n",
    "                        file_string=\"model_3_results\")"
   ]
  },
  {
   "attachments": {},
   "cell_type": "markdown",
   "metadata": {},
   "source": [
    "We've  made and evaluated predictions with `model_3`, let's visualize the results"
   ]
  },
  {
   "cell_type": "code",
   "execution_count": 124,
   "metadata": {},
   "outputs": [
    {
     "data": {
      "image/png": "[encoded data removed]",
      "text/plain": [
       "<Figure size 720x504 with 1 Axes>"
      ]
     },
     "metadata": {
      "needs_background": "light"
     },
     "output_type": "display_data"
    }
   ],
   "source": [
    "offset = 300\n",
    "plt.figure(figsize=(10,7))\n",
    "plot_time_series(timesteps=X_test[-len(test_windows):],values=test_labels[:,0],start=offset,format=\"-\",label=\"Test data\")\n",
    "plot_time_series(timesteps=X_test[-len(test_windows):],values=model_3_preds,start=offset,format=\".\",label=\"model_3_preds\")"
   ]
  },
  {
   "cell_type": "code",
   "execution_count": 127,
   "metadata": {},
   "outputs": [
    {
     "data": {
      "text/plain": [
       "<tf.Tensor: shape=(7,), dtype=float32, numpy=\n",
       "array([9250.798, 9279.124, 9394.039, 9400.203, 9479.183, 9375.264,\n",
       "       9302.472], dtype=float32)>"
      ]
     },
     "execution_count": 127,
     "metadata": {},
     "output_type": "execute_result"
    }
   ],
   "source": [
    "# Let's see what our data looks like\n",
    "model_3_preds[0]"
   ]
  },
  {
   "cell_type": "code",
   "execution_count": 134,
   "metadata": {},
   "outputs": [
    {
     "data": {
      "text/plain": [
       "<tf.Tensor: shape=(), dtype=float32, numpy=9354.44>"
      ]
     },
     "execution_count": 134,
     "metadata": {},
     "output_type": "execute_result"
    }
   ],
   "source": [
    "# Reduce mean because data is across 7 days\n",
    "tf.reduce_mean(model_3_preds[0])"
   ]
  },
  {
   "cell_type": "code",
   "execution_count": 126,
   "metadata": {},
   "outputs": [
    {
     "data": {
      "image/png": "[encoded data removed]",
      "text/plain": [
       "<Figure size 720x504 with 1 Axes>"
      ]
     },
     "metadata": {
      "needs_background": "light"
     },
     "output_type": "display_data"
    }
   ],
   "source": [
    "offset = 300\n",
    "plt.figure(figsize=(10,7))\n",
    "plot_time_series(timesteps=X_test[-len(test_windows):],values=test_labels[:,0],start=offset,format=\".\",label=\"Test data\")\n",
    "plot_time_series(timesteps=X_test[-len(test_windows):],values=tf.reduce_mean(model_3_preds,axis=1),start=offset,format=\"-\",label=\"model_3_preds\")"
   ]
  },
  {
   "attachments": {},
   "cell_type": "markdown",
   "metadata": {},
   "source": [
    "## Which of our models is performing the best so far? \n",
    "\n",
    "So we've trained a few models, now let's compare them and see how they've gone ..."
   ]
  },
  {
   "cell_type": "code",
   "execution_count": 141,
   "metadata": {},
   "outputs": [
    {
     "data": {
      "image/png": "[encoded data removed]",
      "text/plain": [
       "<Figure size 720x504 with 1 Axes>"
      ]
     },
     "metadata": {
      "needs_background": "light"
     },
     "output_type": "display_data"
    }
   ],
   "source": [
    "# Create data frame to compare results\n",
    "pd.DataFrame({\"naive\": naive_results[\"mae\"],\n",
    "              \"horizon_1_window_7\": model_1_results[\"mae\"],\n",
    "              \"horizon_1_window_30\": model_2_results[\"mae\"],\n",
    "              \"horizon_7_window_30\": model_3_results[\"mae\"]}, index=[\"mae\"]).plot(figsize=(10,7), kind=\"bar\");"
   ]
  },
  {
   "attachments": {},
   "cell_type": "markdown",
   "metadata": {},
   "source": [
    "## Model 4: Conv1D"
   ]
  },
  {
   "cell_type": "code",
   "execution_count": 142,
   "metadata": {},
   "outputs": [],
   "source": [
    "HORIZON = 1 # predict next day\n",
    "WINDOW_SIZE = 7 # use a week of data"
   ]
  },
  {
   "cell_type": "code",
   "execution_count": 143,
   "metadata": {},
   "outputs": [
    {
     "data": {
      "text/plain": [
       "(2780, 2780)"
      ]
     },
     "execution_count": 143,
     "metadata": {},
     "output_type": "execute_result"
    }
   ],
   "source": [
    "# Create windowed data\n",
    "full_windows, full_labels = make_windows(prices,window_size=WINDOW_SIZE,horizon=HORIZON)\n",
    "len(full_windows), len(full_labels)"
   ]
  },
  {
   "cell_type": "code",
   "execution_count": 144,
   "metadata": {},
   "outputs": [
    {
     "data": {
      "text/plain": [
       "(2224, 2224, 556, 556)"
      ]
     },
     "execution_count": 144,
     "metadata": {},
     "output_type": "execute_result"
    }
   ],
   "source": [
    "# Create train/test sets\n",
    "train_windows, test_windows, train_labels, test_labels = make_train_test_splits(full_windows, full_labels)\n",
    "len(train_windows), len(train_labels), len(test_windows), len(test_labels) "
   ]
  },
  {
   "attachments": {},
   "cell_type": "markdown",
   "metadata": {},
   "source": [
    "To use the Conv1D layer, we need an input shape of: `(batch_size, timesteps, input_dim)`"
   ]
  },
  {
   "cell_type": "code",
   "execution_count": 146,
   "metadata": {},
   "outputs": [
    {
     "data": {
      "text/plain": [
       "(7,)"
      ]
     },
     "execution_count": 146,
     "metadata": {},
     "output_type": "execute_result"
    }
   ],
   "source": [
    "# Check data input sjape\n",
    "train_windows[0].shape # returns window size"
   ]
  },
  {
   "cell_type": "code",
   "execution_count": 147,
   "metadata": {},
   "outputs": [
    {
     "data": {
      "text/plain": [
       "<tf.Tensor: shape=(7,), dtype=float64, numpy=\n",
       "array([123.65499, 125.455  , 108.58483, 118.67466, 121.33866, 120.65533,\n",
       "       121.795  ])>"
      ]
     },
     "execution_count": 147,
     "metadata": {},
     "output_type": "execute_result"
    }
   ],
   "source": [
    "# Before we pass our data to the Conv1D layer, we have to reshape it in order to make sure it works\n",
    "x = tf.constant(train_windows[0])\n",
    "x"
   ]
  },
  {
   "cell_type": "code",
   "execution_count": 148,
   "metadata": {},
   "outputs": [],
   "source": [
    "expand_dims_layer = layers.Lambda(lambda x: tf.expand_dims(x, axis = 1)) # add extra dimension for `input_dim`"
   ]
  },
  {
   "cell_type": "code",
   "execution_count": 152,
   "metadata": {},
   "outputs": [
    {
     "name": "stdout",
     "output_type": "stream",
     "text": [
      "Original shape: (7,)\n",
      "Expanded shape: (7, 1)\n",
      "Original values with expanded shape:\n",
      " [[123.65499]\n",
      " [125.455  ]\n",
      " [108.58483]\n",
      " [118.67466]\n",
      " [121.33866]\n",
      " [120.65533]\n",
      " [121.795  ]]\n"
     ]
    }
   ],
   "source": [
    "# Test out our lambda layer \n",
    "print(f\"Original shape: {x.shape}\") # Window size\n",
    "print(f\"Expanded shape: {expand_dims_layer(x).shape}\") # (window_size, horizon)\n",
    "print(f\"Original values with expanded shape:\\n {expand_dims_layer(x)}\")"
   ]
  },
  {
   "cell_type": "code",
   "execution_count": null,
   "metadata": {},
   "outputs": [],
   "source": [
    "# Create Conv1D model\n",
    "tf.random.set_seed(42)\n",
    "\n",
    "model_4 = tf.keras.Sequential([\n",
    "  # Create Lambda layer to reshape inputs, without this layer, the model will error\n",
    "  layers.Lambda(lambda x: tf.expand_dims(x, axis=1)), # resize the inputs to adjust for window size / Conv1D 3D input requirements\n",
    "  layers.Conv1D(filters=128, kernel_size=5, padding=\"causal\", activation=\"relu\"),\n",
    "  layers.Dense(HORIZON)\n",
    "], name=\"model_4_conv1D\")\n",
    "\n",
    "# Compile model\n",
    "model_4.compile(loss=\"mae\",\n",
    "                optimizer=tf.keras.optimizers.Adam())\n",
    "\n",
    "# Fit\n",
    "model_4.fit(x=train_windows,\n",
    "            y=train_labels,\n",
    "            epochs=100,\n",
    "            verbose=False,\n",
    "            batch_size=128,\n",
    "            validation_data=(test_windows,test_labels),\n",
    "            callbacks=[create_model_checkpoint(model_name=model_4.name)])"
   ]
  },
  {
   "cell_type": "code",
   "execution_count": 155,
   "metadata": {},
   "outputs": [
    {
     "name": "stdout",
     "output_type": "stream",
     "text": [
      "Model: \"model_4_conv1D\"\n",
      "_________________________________________________________________\n",
      " Layer (type)                Output Shape              Param #   \n",
      "=================================================================\n",
      " lambda_1 (Lambda)           (None, 1, 7)              0         \n",
      "                                                                 \n",
      " conv1d (Conv1D)             (None, 1, 128)            4608      \n",
      "                                                                 \n",
      " dense_8 (Dense)             (None, 1, 1)              129       \n",
      "                                                                 \n",
      "=================================================================\n",
      "Total params: 4,737\n",
      "Trainable params: 4,737\n",
      "Non-trainable params: 0\n",
      "_________________________________________________________________\n"
     ]
    }
   ],
   "source": [
    "# Get model summary\n",
    "model_4.summary()"
   ]
  },
  {
   "cell_type": "code",
   "execution_count": 156,
   "metadata": {},
   "outputs": [
    {
     "name": "stdout",
     "output_type": "stream",
     "text": [
      "18/18 [==============================] - 0s 6ms/step - loss: 610.1540\n"
     ]
    },
    {
     "data": {
      "text/plain": [
       "610.1539916992188"
      ]
     },
     "execution_count": 156,
     "metadata": {},
     "output_type": "execute_result"
    }
   ],
   "source": [
    "# Evlauate model\n",
    "model_4.evaluate(test_windows,test_labels)"
   ]
  },
  {
   "cell_type": "code",
   "execution_count": 158,
   "metadata": {},
   "outputs": [
    {
     "name": "stdout",
     "output_type": "stream",
     "text": [
      "18/18 [==============================] - 0s 6ms/step - loss: 570.8284\n"
     ]
    },
    {
     "data": {
      "text/plain": [
       "570.828369140625"
      ]
     },
     "execution_count": 158,
     "metadata": {},
     "output_type": "execute_result"
    }
   ],
   "source": [
    "# Load in best epoch\n",
    "model_4 = tf.keras.models.load_model(\"model_experiments/model_4_conv1D\")\n",
    "model_4.evaluate(test_windows,test_labels)"
   ]
  },
  {
   "cell_type": "code",
   "execution_count": 161,
   "metadata": {},
   "outputs": [
    {
     "name": "stdout",
     "output_type": "stream",
     "text": [
      "18/18 [==============================] - 0s 4ms/step\n"
     ]
    },
    {
     "data": {
      "text/plain": [
       "<tf.Tensor: shape=(10,), dtype=float32, numpy=\n",
       "array([8851.464, 8754.47 , 8983.928, 8759.671, 8703.627, 8708.293,\n",
       "       8661.669, 8494.839, 8435.317, 8492.116], dtype=float32)>"
      ]
     },
     "execution_count": 161,
     "metadata": {},
     "output_type": "execute_result"
    }
   ],
   "source": [
    "# Make predictions\n",
    "model_4_preds = make_preds(model=model_4, input_data=test_windows)\n",
    "model_4_preds[:10]"
   ]
  },
  {
   "cell_type": "code",
   "execution_count": 163,
   "metadata": {},
   "outputs": [
    {
     "data": {
      "text/plain": [
       "({'mae': 570.828369140625,\n",
       "  'mse': 1176671.25,\n",
       "  'rmse': 1084.7447509765625,\n",
       "  'mape': 2.559335708618164,\n",
       "  'mase': 1.0027873516082764},\n",
       " {'mae': 567.980224609375,\n",
       "  'mse': 1147547.0,\n",
       "  'rmse': 1071.2362060546875,\n",
       "  'mape': 2.5165250301361084,\n",
       "  'mase': 0.9995700120925903})"
      ]
     },
     "execution_count": 163,
     "metadata": {},
     "output_type": "execute_result"
    }
   ],
   "source": [
    "# Evaluate predictions\n",
    "model_4_results = evaluate_preds(y_true=tf.squeeze(test_labels),\n",
    "                                 y_pred=model_4_preds)\n",
    "model_4_results                     "
   ]
  },
  {
   "attachments": {},
   "cell_type": "markdown",
   "metadata": {},
   "source": [
    "Save model results"
   ]
  },
  {
   "cell_type": "code",
   "execution_count": 164,
   "metadata": {},
   "outputs": [
    {
     "name": "stdout",
     "output_type": "stream",
     "text": [
      "Success! File written to destination.\n"
     ]
    }
   ],
   "source": [
    "from Functions.helper_functions import save_model_results_json\n",
    "\n",
    "des_path = r\"Saved Results\\10_time_series_forecasting_with_tensorflow\"\n",
    "\n",
    "save_model_results_json(filepath=des_path,\n",
    "                        var_to_save=model_4_results,\n",
    "                        file_string=\"model_4_results\")"
   ]
  },
  {
   "attachments": {},
   "cell_type": "markdown",
   "metadata": {},
   "source": [
    "## Model 5: RNN (LSTM)\n",
    "\n",
    "Let's build an RNN model for our time series data.\n",
    "\n",
    "We'll use the same data we created previously."
   ]
  },
  {
   "cell_type": "code",
   "execution_count": null,
   "metadata": {},
   "outputs": [],
   "source": [
    "tf.random.set_seed(42)\n",
    "\n",
    "tf.random.set_seed(42)\n",
    "\n",
    "# Let's build an LSTM model with the Functional API\n",
    "inputs = layers.Input(shape=(WINDOW_SIZE))\n",
    "x = layers.Lambda(lambda x: tf.expand_dims(x, axis=1))(inputs) \n",
    "x = layers.LSTM(128, activation=\"relu\")(x) \n",
    "output = layers.Dense(HORIZON)(x)\n",
    "model_5 = tf.keras.Model(inputs=inputs, outputs=output, name=\"model_5_lstm\")\n",
    "\n",
    "# Compile model\n",
    "model_5.compile(loss=\"mae\",\n",
    "                optimizer=tf.keras.optimizers.Adam())\n",
    "\n",
    "model_5.fit(train_windows,\n",
    "            train_labels,\n",
    "            epochs=100,\n",
    "            verbose=True,\n",
    "            batch_size=128,\n",
    "            validation_data=(test_windows, test_labels),\n",
    "            callbacks=[create_model_checkpoint(model_name=model_5.name)])        "
   ]
  },
  {
   "cell_type": "code",
   "execution_count": 172,
   "metadata": {},
   "outputs": [
    {
     "name": "stdout",
     "output_type": "stream",
     "text": [
      "WARNING:tensorflow:Layer lstm_5 will not use cuDNN kernels since it doesn't meet the criteria. It will use a generic GPU kernel as fallback when running on GPU.\n"
     ]
    },
    {
     "name": "stderr",
     "output_type": "stream",
     "text": [
      "WARNING:tensorflow:Layer lstm_5 will not use cuDNN kernels since it doesn't meet the criteria. It will use a generic GPU kernel as fallback when running on GPU.\n"
     ]
    },
    {
     "name": "stdout",
     "output_type": "stream",
     "text": [
      "18/18 [==============================] - 0s 3ms/step - loss: 597.4624\n"
     ]
    },
    {
     "data": {
      "text/plain": [
       "597.46240234375"
      ]
     },
     "execution_count": 172,
     "metadata": {},
     "output_type": "execute_result"
    }
   ],
   "source": [
    "# Load in the best version of model_5\n",
    "model_5 = tf.keras.models.load_model(\"model_experiments/model_5_lstm/\")\n",
    "model_5.evaluate(test_windows,test_labels)"
   ]
  },
  {
   "cell_type": "code",
   "execution_count": 174,
   "metadata": {},
   "outputs": [
    {
     "name": "stdout",
     "output_type": "stream",
     "text": [
      "18/18 [==============================] - 0s 3ms/step\n"
     ]
    },
    {
     "data": {
      "text/plain": [
       "<tf.Tensor: shape=(5,), dtype=float32, numpy=array([8992.637, 8824.648, 9010.125, 8848.681, 8743.077], dtype=float32)>"
      ]
     },
     "execution_count": 174,
     "metadata": {},
     "output_type": "execute_result"
    }
   ],
   "source": [
    "# Make predictions\n",
    "model_5_preds = make_preds(model=model_5, input_data=test_windows)\n",
    "model_5_preds[:5]"
   ]
  },
  {
   "cell_type": "code",
   "execution_count": 177,
   "metadata": {},
   "outputs": [
    {
     "data": {
      "text/plain": [
       "{'mae': 597.4623413085938,\n",
       " 'mse': 1275416.0,\n",
       " 'rmse': 1129.3431396484375,\n",
       " 'mape': 2.6910972595214844,\n",
       " 'mase': 1.0495758056640625}"
      ]
     },
     "execution_count": 177,
     "metadata": {},
     "output_type": "execute_result"
    }
   ],
   "source": [
    "# Evaluate model_5 predictions\n",
    "model_5_results = evaluate_preds(y_true=tf.squeeze(test_labels),\n",
    "                                 y_pred=model_5_preds)\n",
    "model_5_results                              "
   ]
  },
  {
   "attachments": {},
   "cell_type": "markdown",
   "metadata": {},
   "source": [
    "Save model results"
   ]
  },
  {
   "cell_type": "code",
   "execution_count": 178,
   "metadata": {},
   "outputs": [
    {
     "name": "stdout",
     "output_type": "stream",
     "text": [
      "Success! File written to destination.\n"
     ]
    }
   ],
   "source": [
    "from Functions.helper_functions import save_model_results_json\n",
    "\n",
    "des_path = r\"Saved Results\\10_time_series_forecasting_with_tensorflow\"\n",
    "\n",
    "save_model_results_json(filepath=des_path,\n",
    "                        var_to_save=model_5_results,\n",
    "                        file_string=\"model_5_results\")"
   ]
  },
  {
   "attachments": {},
   "cell_type": "markdown",
   "metadata": {},
   "source": [
    "## Make a multivariate time series dataset\n",
    "\n",
    "Before we add a feature to our time series, what is a feature we can use? \n",
    "\n",
    "One feature we could add is whether or not Dan tweeted on that day ...\n",
    "\n",
    "* day 1 - 0\n",
    "* day 2 - 1\n",
    "* day 3 - 0\n",
    "\n",
    "What's a better feature to use?\n",
    "\n",
    "How about the bitcoin halving events?\n"
   ]
  },
  {
   "cell_type": "code",
   "execution_count": 179,
   "metadata": {},
   "outputs": [
    {
     "data": {
      "text/html": [
       "<div>\n",
       "<style scoped>\n",
       "    .dataframe tbody tr th:only-of-type {\n",
       "        vertical-align: middle;\n",
       "    }\n",
       "\n",
       "    .dataframe tbody tr th {\n",
       "        vertical-align: top;\n",
       "    }\n",
       "\n",
       "    .dataframe thead th {\n",
       "        text-align: right;\n",
       "    }\n",
       "</style>\n",
       "<table border=\"1\" class=\"dataframe\">\n",
       "  <thead>\n",
       "    <tr style=\"text-align: right;\">\n",
       "      <th></th>\n",
       "      <th>Price</th>\n",
       "    </tr>\n",
       "    <tr>\n",
       "      <th>Date</th>\n",
       "      <th></th>\n",
       "    </tr>\n",
       "  </thead>\n",
       "  <tbody>\n",
       "    <tr>\n",
       "      <th>2013-10-01</th>\n",
       "      <td>123.65499</td>\n",
       "    </tr>\n",
       "    <tr>\n",
       "      <th>2013-10-02</th>\n",
       "      <td>125.45500</td>\n",
       "    </tr>\n",
       "    <tr>\n",
       "      <th>2013-10-03</th>\n",
       "      <td>108.58483</td>\n",
       "    </tr>\n",
       "    <tr>\n",
       "      <th>2013-10-04</th>\n",
       "      <td>118.67466</td>\n",
       "    </tr>\n",
       "    <tr>\n",
       "      <th>2013-10-05</th>\n",
       "      <td>121.33866</td>\n",
       "    </tr>\n",
       "  </tbody>\n",
       "</table>\n",
       "</div>"
      ],
      "text/plain": [
       "                Price\n",
       "Date                 \n",
       "2013-10-01  123.65499\n",
       "2013-10-02  125.45500\n",
       "2013-10-03  108.58483\n",
       "2013-10-04  118.67466\n",
       "2013-10-05  121.33866"
      ]
     },
     "execution_count": 179,
     "metadata": {},
     "output_type": "execute_result"
    }
   ],
   "source": [
    "# Let's make a multivariate time series\n",
    "bitcoin_prices.head()"
   ]
  },
  {
   "cell_type": "code",
   "execution_count": 180,
   "metadata": {},
   "outputs": [],
   "source": [
    "# Let's add the bitcoin halving events to our dataset\n",
    "block_reward_1 = 50 # 3 January 2009 - this block reward isn't in our dataset\n",
    "block_reward_2 = 25 # 8 November 2012\n",
    "block_reward_3 = 12.5 # 9 July 2016\n",
    "block_reward_4 = 6.25 # 18 May 2020\n",
    "\n",
    "# Block reward dates\n",
    "block_reward_2_datetime = np.datetime64(\"2012-11-28\")\n",
    "block_reward_3_datetime = np.datetime64(\"2016-07-09\")\n",
    "block_reward_4_datetime = np.datetime64(\"2020-05-18\")"
   ]
  },
  {
   "cell_type": "code",
   "execution_count": 184,
   "metadata": {},
   "outputs": [
    {
     "data": {
      "text/plain": [
       "(1012, 2421)"
      ]
     },
     "execution_count": 184,
     "metadata": {},
     "output_type": "execute_result"
    }
   ],
   "source": [
    "# Create date ranges of where specific block_reward values should be\n",
    "block_reward_2_days = (block_reward_3_datetime - bitcoin_prices.index[0]).days\n",
    "block_reward_3_days = (block_reward_4_datetime - bitcoin_prices.index[0]).days\n",
    "\n",
    "block_reward_2_days, block_reward_3_days"
   ]
  },
  {
   "cell_type": "code",
   "execution_count": 188,
   "metadata": {},
   "outputs": [
    {
     "data": {
      "text/html": [
       "<div>\n",
       "<style scoped>\n",
       "    .dataframe tbody tr th:only-of-type {\n",
       "        vertical-align: middle;\n",
       "    }\n",
       "\n",
       "    .dataframe tbody tr th {\n",
       "        vertical-align: top;\n",
       "    }\n",
       "\n",
       "    .dataframe thead th {\n",
       "        text-align: right;\n",
       "    }\n",
       "</style>\n",
       "<table border=\"1\" class=\"dataframe\">\n",
       "  <thead>\n",
       "    <tr style=\"text-align: right;\">\n",
       "      <th></th>\n",
       "      <th>Price</th>\n",
       "      <th>block_reward</th>\n",
       "    </tr>\n",
       "    <tr>\n",
       "      <th>Date</th>\n",
       "      <th></th>\n",
       "      <th></th>\n",
       "    </tr>\n",
       "  </thead>\n",
       "  <tbody>\n",
       "    <tr>\n",
       "      <th>2013-10-01</th>\n",
       "      <td>123.65499</td>\n",
       "      <td>None</td>\n",
       "    </tr>\n",
       "    <tr>\n",
       "      <th>2013-10-02</th>\n",
       "      <td>125.45500</td>\n",
       "      <td>None</td>\n",
       "    </tr>\n",
       "    <tr>\n",
       "      <th>2013-10-03</th>\n",
       "      <td>108.58483</td>\n",
       "      <td>None</td>\n",
       "    </tr>\n",
       "    <tr>\n",
       "      <th>2013-10-04</th>\n",
       "      <td>118.67466</td>\n",
       "      <td>None</td>\n",
       "    </tr>\n",
       "    <tr>\n",
       "      <th>2013-10-05</th>\n",
       "      <td>121.33866</td>\n",
       "      <td>None</td>\n",
       "    </tr>\n",
       "  </tbody>\n",
       "</table>\n",
       "</div>"
      ],
      "text/plain": [
       "                Price block_reward\n",
       "Date                              \n",
       "2013-10-01  123.65499         None\n",
       "2013-10-02  125.45500         None\n",
       "2013-10-03  108.58483         None\n",
       "2013-10-04  118.67466         None\n",
       "2013-10-05  121.33866         None"
      ]
     },
     "execution_count": 188,
     "metadata": {},
     "output_type": "execute_result"
    }
   ],
   "source": [
    "# Add in a block_reward column\n",
    "bitcoin_prices_block = bitcoin_prices.copy()\n",
    "bitcoin_prices_block[\"block_reward\"] = None\n",
    "bitcoin_prices_block.head()"
   ]
  },
  {
   "cell_type": "code",
   "execution_count": 189,
   "metadata": {},
   "outputs": [],
   "source": [
    "# Add in block_reward values as a feature to our dataframe\n",
    "bitcoin_prices_block.iloc[:block_reward_2_days,-1] = block_reward_2\n",
    "bitcoin_prices_block.iloc[block_reward_2_days:block_reward_3_days,-1] = block_reward_3\n",
    "bitcoin_prices_block.iloc[block_reward_3_days:,-1] = block_reward_4"
   ]
  },
  {
   "cell_type": "code",
   "execution_count": 190,
   "metadata": {},
   "outputs": [
    {
     "data": {
      "text/plain": [
       "(                Price block_reward\n",
       " Date                              \n",
       " 2013-10-01  123.65499           25\n",
       " 2013-10-02  125.45500           25\n",
       " 2013-10-03  108.58483           25\n",
       " 2013-10-04  118.67466           25\n",
       " 2013-10-05  121.33866           25,\n",
       "                    Price block_reward\n",
       " Date                                 \n",
       " 2021-05-14  49764.132082         6.25\n",
       " 2021-05-15  50032.693137         6.25\n",
       " 2021-05-16  47885.625255         6.25\n",
       " 2021-05-17  45604.615754         6.25\n",
       " 2021-05-18  43144.471291         6.25)"
      ]
     },
     "execution_count": 190,
     "metadata": {},
     "output_type": "execute_result"
    }
   ],
   "source": [
    "# Visualize\n",
    "bitcoin_prices_block.head(), bitcoin_prices_block.tail()"
   ]
  },
  {
   "cell_type": "code",
   "execution_count": 195,
   "metadata": {},
   "outputs": [
    {
     "data": {
      "image/png": "[encoded data removed]",
      "text/plain": [
       "<Figure size 720x504 with 1 Axes>"
      ]
     },
     "metadata": {
      "needs_background": "light"
     },
     "output_type": "display_data"
    }
   ],
   "source": [
    "# Plot the block reward vs price over time\n",
    "from sklearn.preprocessing import minmax_scale\n",
    "scaled_price_block_df = pd.DataFrame(minmax_scale(bitcoin_prices_block[[\"Price\",\"block_reward\"]]),\n",
    "                                                                       columns=bitcoin_prices_block.columns,\n",
    "                                                                       index=bitcoin_prices_block.index)\n",
    "\n",
    "scaled_price_block_df.plot(figsize=(10,7));"
   ]
  },
  {
   "attachments": {},
   "cell_type": "markdown",
   "metadata": {},
   "source": [
    "## Making a windowed dataset with pandas\n",
    "\n",
    "Previously, we've turned our univariate time series into windowed dataset using the helper functions.\n",
    "\n",
    "However, since we've got multivariate data, these functions won't work.\n",
    "\n",
    "We can use the `pandas.DataFrame.shift()` method to window our multivariate data"
   ]
  },
  {
   "cell_type": "code",
   "execution_count": 196,
   "metadata": {},
   "outputs": [],
   "source": [
    "# Setup dataset hyperparameters\n",
    "HORIZON = 1\n",
    "WINDOW_SIZE = 7"
   ]
  },
  {
   "cell_type": "code",
   "execution_count": 199,
   "metadata": {},
   "outputs": [
    {
     "data": {
      "text/html": [
       "<div>\n",
       "<style scoped>\n",
       "    .dataframe tbody tr th:only-of-type {\n",
       "        vertical-align: middle;\n",
       "    }\n",
       "\n",
       "    .dataframe tbody tr th {\n",
       "        vertical-align: top;\n",
       "    }\n",
       "\n",
       "    .dataframe thead th {\n",
       "        text-align: right;\n",
       "    }\n",
       "</style>\n",
       "<table border=\"1\" class=\"dataframe\">\n",
       "  <thead>\n",
       "    <tr style=\"text-align: right;\">\n",
       "      <th></th>\n",
       "      <th>Price</th>\n",
       "      <th>block_reward</th>\n",
       "      <th>Price+1</th>\n",
       "      <th>Price+2</th>\n",
       "      <th>Price+3</th>\n",
       "      <th>Price+4</th>\n",
       "      <th>Price+5</th>\n",
       "      <th>Price+6</th>\n",
       "      <th>Price+7</th>\n",
       "    </tr>\n",
       "    <tr>\n",
       "      <th>Date</th>\n",
       "      <th></th>\n",
       "      <th></th>\n",
       "      <th></th>\n",
       "      <th></th>\n",
       "      <th></th>\n",
       "      <th></th>\n",
       "      <th></th>\n",
       "      <th></th>\n",
       "      <th></th>\n",
       "    </tr>\n",
       "  </thead>\n",
       "  <tbody>\n",
       "    <tr>\n",
       "      <th>2013-10-01</th>\n",
       "      <td>123.65499</td>\n",
       "      <td>25</td>\n",
       "      <td>NaN</td>\n",
       "      <td>NaN</td>\n",
       "      <td>NaN</td>\n",
       "      <td>NaN</td>\n",
       "      <td>NaN</td>\n",
       "      <td>NaN</td>\n",
       "      <td>NaN</td>\n",
       "    </tr>\n",
       "    <tr>\n",
       "      <th>2013-10-02</th>\n",
       "      <td>125.45500</td>\n",
       "      <td>25</td>\n",
       "      <td>123.65499</td>\n",
       "      <td>NaN</td>\n",
       "      <td>NaN</td>\n",
       "      <td>NaN</td>\n",
       "      <td>NaN</td>\n",
       "      <td>NaN</td>\n",
       "      <td>NaN</td>\n",
       "    </tr>\n",
       "    <tr>\n",
       "      <th>2013-10-03</th>\n",
       "      <td>108.58483</td>\n",
       "      <td>25</td>\n",
       "      <td>125.45500</td>\n",
       "      <td>123.65499</td>\n",
       "      <td>NaN</td>\n",
       "      <td>NaN</td>\n",
       "      <td>NaN</td>\n",
       "      <td>NaN</td>\n",
       "      <td>NaN</td>\n",
       "    </tr>\n",
       "    <tr>\n",
       "      <th>2013-10-04</th>\n",
       "      <td>118.67466</td>\n",
       "      <td>25</td>\n",
       "      <td>108.58483</td>\n",
       "      <td>125.45500</td>\n",
       "      <td>123.65499</td>\n",
       "      <td>NaN</td>\n",
       "      <td>NaN</td>\n",
       "      <td>NaN</td>\n",
       "      <td>NaN</td>\n",
       "    </tr>\n",
       "    <tr>\n",
       "      <th>2013-10-05</th>\n",
       "      <td>121.33866</td>\n",
       "      <td>25</td>\n",
       "      <td>118.67466</td>\n",
       "      <td>108.58483</td>\n",
       "      <td>125.45500</td>\n",
       "      <td>123.65499</td>\n",
       "      <td>NaN</td>\n",
       "      <td>NaN</td>\n",
       "      <td>NaN</td>\n",
       "    </tr>\n",
       "    <tr>\n",
       "      <th>2013-10-06</th>\n",
       "      <td>120.65533</td>\n",
       "      <td>25</td>\n",
       "      <td>121.33866</td>\n",
       "      <td>118.67466</td>\n",
       "      <td>108.58483</td>\n",
       "      <td>125.45500</td>\n",
       "      <td>123.65499</td>\n",
       "      <td>NaN</td>\n",
       "      <td>NaN</td>\n",
       "    </tr>\n",
       "    <tr>\n",
       "      <th>2013-10-07</th>\n",
       "      <td>121.79500</td>\n",
       "      <td>25</td>\n",
       "      <td>120.65533</td>\n",
       "      <td>121.33866</td>\n",
       "      <td>118.67466</td>\n",
       "      <td>108.58483</td>\n",
       "      <td>125.45500</td>\n",
       "      <td>123.65499</td>\n",
       "      <td>NaN</td>\n",
       "    </tr>\n",
       "    <tr>\n",
       "      <th>2013-10-08</th>\n",
       "      <td>123.03300</td>\n",
       "      <td>25</td>\n",
       "      <td>121.79500</td>\n",
       "      <td>120.65533</td>\n",
       "      <td>121.33866</td>\n",
       "      <td>118.67466</td>\n",
       "      <td>108.58483</td>\n",
       "      <td>125.45500</td>\n",
       "      <td>123.65499</td>\n",
       "    </tr>\n",
       "    <tr>\n",
       "      <th>2013-10-09</th>\n",
       "      <td>124.04900</td>\n",
       "      <td>25</td>\n",
       "      <td>123.03300</td>\n",
       "      <td>121.79500</td>\n",
       "      <td>120.65533</td>\n",
       "      <td>121.33866</td>\n",
       "      <td>118.67466</td>\n",
       "      <td>108.58483</td>\n",
       "      <td>125.45500</td>\n",
       "    </tr>\n",
       "    <tr>\n",
       "      <th>2013-10-10</th>\n",
       "      <td>125.96116</td>\n",
       "      <td>25</td>\n",
       "      <td>124.04900</td>\n",
       "      <td>123.03300</td>\n",
       "      <td>121.79500</td>\n",
       "      <td>120.65533</td>\n",
       "      <td>121.33866</td>\n",
       "      <td>118.67466</td>\n",
       "      <td>108.58483</td>\n",
       "    </tr>\n",
       "  </tbody>\n",
       "</table>\n",
       "</div>"
      ],
      "text/plain": [
       "                Price block_reward    Price+1    Price+2    Price+3  \\\n",
       "Date                                                                  \n",
       "2013-10-01  123.65499           25        NaN        NaN        NaN   \n",
       "2013-10-02  125.45500           25  123.65499        NaN        NaN   \n",
       "2013-10-03  108.58483           25  125.45500  123.65499        NaN   \n",
       "2013-10-04  118.67466           25  108.58483  125.45500  123.65499   \n",
       "2013-10-05  121.33866           25  118.67466  108.58483  125.45500   \n",
       "2013-10-06  120.65533           25  121.33866  118.67466  108.58483   \n",
       "2013-10-07  121.79500           25  120.65533  121.33866  118.67466   \n",
       "2013-10-08  123.03300           25  121.79500  120.65533  121.33866   \n",
       "2013-10-09  124.04900           25  123.03300  121.79500  120.65533   \n",
       "2013-10-10  125.96116           25  124.04900  123.03300  121.79500   \n",
       "\n",
       "              Price+4    Price+5    Price+6    Price+7  \n",
       "Date                                                    \n",
       "2013-10-01        NaN        NaN        NaN        NaN  \n",
       "2013-10-02        NaN        NaN        NaN        NaN  \n",
       "2013-10-03        NaN        NaN        NaN        NaN  \n",
       "2013-10-04        NaN        NaN        NaN        NaN  \n",
       "2013-10-05  123.65499        NaN        NaN        NaN  \n",
       "2013-10-06  125.45500  123.65499        NaN        NaN  \n",
       "2013-10-07  108.58483  125.45500  123.65499        NaN  \n",
       "2013-10-08  118.67466  108.58483  125.45500  123.65499  \n",
       "2013-10-09  121.33866  118.67466  108.58483  125.45500  \n",
       "2013-10-10  120.65533  121.33866  118.67466  108.58483  "
      ]
     },
     "execution_count": 199,
     "metadata": {},
     "output_type": "execute_result"
    }
   ],
   "source": [
    "# Make a copy of the bitcoin historical data\n",
    "bitcoin_prices_windowed = bitcoin_prices_block.copy()\n",
    "\n",
    "# Add windowed columns\n",
    "for i in range(WINDOW_SIZE):\n",
    "    bitcoin_prices_windowed[f\"Price+{i+1}\"] = bitcoin_prices_windowed[\"Price\"].shift(periods=i+1)\n",
    "\n",
    "bitcoin_prices_windowed.head(10)"
   ]
  },
  {
   "attachments": {},
   "cell_type": "markdown",
   "metadata": {},
   "source": [
    "We've created a way to window our data directly from a pandas dataframe"
   ]
  },
  {
   "cell_type": "code",
   "execution_count": 200,
   "metadata": {},
   "outputs": [
    {
     "data": {
      "text/plain": [
       "(            block_reward     Price+1     Price+2     Price+3     Price+4  \\\n",
       " Date                                                                       \n",
       " 2013-10-08          25.0  121.794998  120.655327  121.338661  118.674660   \n",
       " 2013-10-09          25.0  123.032997  121.794998  120.655327  121.338661   \n",
       " 2013-10-10          25.0  124.049004  123.032997  121.794998  120.655327   \n",
       " 2013-10-11          25.0  125.961159  124.049004  123.032997  121.794998   \n",
       " 2013-10-12          25.0  125.279663  125.961159  124.049004  123.032997   \n",
       " \n",
       "                Price+5     Price+6     Price+7  \n",
       " Date                                            \n",
       " 2013-10-08  108.584831  125.455002  123.654991  \n",
       " 2013-10-09  118.674660  108.584831  125.455002  \n",
       " 2013-10-10  121.338661  118.674660  108.584831  \n",
       " 2013-10-11  120.655327  121.338661  118.674660  \n",
       " 2013-10-12  121.794998  120.655327  121.338661  ,\n",
       " Date\n",
       " 2013-10-08    123.032997\n",
       " 2013-10-09    124.049004\n",
       " 2013-10-10    125.961159\n",
       " 2013-10-11    125.279663\n",
       " 2013-10-12    125.927498\n",
       " Name: Price, dtype: float32)"
      ]
     },
     "execution_count": 200,
     "metadata": {},
     "output_type": "execute_result"
    }
   ],
   "source": [
    "# Create X (windows) and y (horizon) features\n",
    "X = bitcoin_prices_windowed.dropna().drop(\"Price\", axis=1).astype(np.float32)\n",
    "y = bitcoin_prices_windowed.dropna()[\"Price\"].astype(np.float32)\n",
    "\n",
    "X.head(), y.head()"
   ]
  },
  {
   "cell_type": "code",
   "execution_count": 201,
   "metadata": {},
   "outputs": [
    {
     "data": {
      "text/plain": [
       "(2224, 2224, 556, 556)"
      ]
     },
     "execution_count": 201,
     "metadata": {},
     "output_type": "execute_result"
    }
   ],
   "source": [
    "# Make train and test sets using indexing\n",
    "split_size = int(len(X)*0.8)\n",
    "\n",
    "X_train, y_train = X[:split_size], y[:split_size]\n",
    "X_test, y_test = X[split_size:], y[split_size:]\n",
    "\n",
    "len(X_train), len(y_train), len(X_test), len(y_test)"
   ]
  },
  {
   "attachments": {},
   "cell_type": "markdown",
   "metadata": {},
   "source": [
    "## Model 6: Dense (multivariate time series)"
   ]
  },
  {
   "cell_type": "code",
   "execution_count": 202,
   "metadata": {},
   "outputs": [
    {
     "name": "stdout",
     "output_type": "stream",
     "text": [
      "Epoch 1/100\n",
      "14/18 [======================>.......] - ETA: 0s - loss: 1470.3951INFO:tensorflow:Assets written to: model_experiments\\model_6_dense_multivariate\\assets\n"
     ]
    },
    {
     "name": "stderr",
     "output_type": "stream",
     "text": [
      "INFO:tensorflow:Assets written to: model_experiments\\model_6_dense_multivariate\\assets\n"
     ]
    },
    {
     "name": "stdout",
     "output_type": "stream",
     "text": [
      "18/18 [==============================] - 1s 32ms/step - loss: 1234.6805 - val_loss: 2061.9075\n",
      "Epoch 2/100\n",
      "11/18 [=================>............] - ETA: 0s - loss: 415.2233INFO:tensorflow:Assets written to: model_experiments\\model_6_dense_multivariate\\assets\n"
     ]
    },
    {
     "name": "stderr",
     "output_type": "stream",
     "text": [
      "INFO:tensorflow:Assets written to: model_experiments\\model_6_dense_multivariate\\assets\n"
     ]
    },
    {
     "name": "stdout",
     "output_type": "stream",
     "text": [
      "18/18 [==============================] - 0s 27ms/step - loss: 351.5054 - val_loss: 1908.6731\n",
      "Epoch 3/100\n",
      "12/18 [===================>..........] - ETA: 0s - loss: 244.0423INFO:tensorflow:Assets written to: model_experiments\\model_6_dense_multivariate\\assets\n"
     ]
    },
    {
     "name": "stderr",
     "output_type": "stream",
     "text": [
      "INFO:tensorflow:Assets written to: model_experiments\\model_6_dense_multivariate\\assets\n"
     ]
    },
    {
     "name": "stdout",
     "output_type": "stream",
     "text": [
      "18/18 [==============================] - 0s 28ms/step - loss: 235.4153 - val_loss: 1329.0583\n",
      "Epoch 4/100\n",
      "12/18 [===================>..........] - ETA: 0s - loss: 221.0886INFO:tensorflow:Assets written to: model_experiments\\model_6_dense_multivariate\\assets\n"
     ]
    },
    {
     "name": "stderr",
     "output_type": "stream",
     "text": [
      "INFO:tensorflow:Assets written to: model_experiments\\model_6_dense_multivariate\\assets\n"
     ]
    },
    {
     "name": "stdout",
     "output_type": "stream",
     "text": [
      "18/18 [==============================] - 0s 28ms/step - loss: 208.6112 - val_loss: 1102.1342\n",
      "Epoch 5/100\n",
      "18/18 [==============================] - 0s 7ms/step - loss: 196.5770 - val_loss: 1107.8473\n",
      "Epoch 6/100\n",
      "12/18 [===================>..........] - ETA: 0s - loss: 183.4700INFO:tensorflow:Assets written to: model_experiments\\model_6_dense_multivariate\\assets\n"
     ]
    },
    {
     "name": "stderr",
     "output_type": "stream",
     "text": [
      "INFO:tensorflow:Assets written to: model_experiments\\model_6_dense_multivariate\\assets\n"
     ]
    },
    {
     "name": "stdout",
     "output_type": "stream",
     "text": [
      "18/18 [==============================] - 0s 26ms/step - loss: 187.2244 - val_loss: 1036.1720\n",
      "Epoch 7/100\n",
      "12/18 [===================>..........] - ETA: 0s - loss: 189.9648INFO:tensorflow:Assets written to: model_experiments\\model_6_dense_multivariate\\assets\n"
     ]
    },
    {
     "name": "stderr",
     "output_type": "stream",
     "text": [
      "INFO:tensorflow:Assets written to: model_experiments\\model_6_dense_multivariate\\assets\n"
     ]
    },
    {
     "name": "stdout",
     "output_type": "stream",
     "text": [
      "18/18 [==============================] - 0s 26ms/step - loss: 182.0246 - val_loss: 1019.2927\n",
      "Epoch 8/100\n",
      "11/18 [=================>............] - ETA: 0s - loss: 172.6063INFO:tensorflow:Assets written to: model_experiments\\model_6_dense_multivariate\\assets\n"
     ]
    },
    {
     "name": "stderr",
     "output_type": "stream",
     "text": [
      "INFO:tensorflow:Assets written to: model_experiments\\model_6_dense_multivariate\\assets\n"
     ]
    },
    {
     "name": "stdout",
     "output_type": "stream",
     "text": [
      "18/18 [==============================] - 0s 27ms/step - loss: 175.7059 - val_loss: 977.8487\n",
      "Epoch 9/100\n",
      "13/18 [====================>.........] - ETA: 0s - loss: 169.5873INFO:tensorflow:Assets written to: model_experiments\\model_6_dense_multivariate\\assets\n"
     ]
    },
    {
     "name": "stderr",
     "output_type": "stream",
     "text": [
      "INFO:tensorflow:Assets written to: model_experiments\\model_6_dense_multivariate\\assets\n"
     ]
    },
    {
     "name": "stdout",
     "output_type": "stream",
     "text": [
      "18/18 [==============================] - 0s 26ms/step - loss: 170.1784 - val_loss: 954.4036\n",
      "Epoch 10/100\n",
      "13/18 [====================>.........] - ETA: 0s - loss: 159.3377INFO:tensorflow:Assets written to: model_experiments\\model_6_dense_multivariate\\assets\n"
     ]
    },
    {
     "name": "stderr",
     "output_type": "stream",
     "text": [
      "INFO:tensorflow:Assets written to: model_experiments\\model_6_dense_multivariate\\assets\n"
     ]
    },
    {
     "name": "stdout",
     "output_type": "stream",
     "text": [
      "18/18 [==============================] - 0s 26ms/step - loss: 164.4430 - val_loss: 913.5146\n",
      "Epoch 11/100\n",
      "11/18 [=================>............] - ETA: 0s - loss: 165.2946INFO:tensorflow:Assets written to: model_experiments\\model_6_dense_multivariate\\assets\n"
     ]
    },
    {
     "name": "stderr",
     "output_type": "stream",
     "text": [
      "INFO:tensorflow:Assets written to: model_experiments\\model_6_dense_multivariate\\assets\n"
     ]
    },
    {
     "name": "stdout",
     "output_type": "stream",
     "text": [
      "18/18 [==============================] - 0s 27ms/step - loss: 158.6892 - val_loss: 874.2505\n",
      "Epoch 12/100\n",
      "12/18 [===================>..........] - ETA: 0s - loss: 149.9489INFO:tensorflow:Assets written to: model_experiments\\model_6_dense_multivariate\\assets\n"
     ]
    },
    {
     "name": "stderr",
     "output_type": "stream",
     "text": [
      "INFO:tensorflow:Assets written to: model_experiments\\model_6_dense_multivariate\\assets\n"
     ]
    },
    {
     "name": "stdout",
     "output_type": "stream",
     "text": [
      "18/18 [==============================] - 0s 26ms/step - loss: 152.0732 - val_loss: 861.0416\n",
      "Epoch 13/100\n",
      "18/18 [==============================] - 0s 6ms/step - loss: 151.1057 - val_loss: 886.1204\n",
      "Epoch 14/100\n",
      "12/18 [===================>..........] - ETA: 0s - loss: 141.9705INFO:tensorflow:Assets written to: model_experiments\\model_6_dense_multivariate\\assets\n"
     ]
    },
    {
     "name": "stderr",
     "output_type": "stream",
     "text": [
      "INFO:tensorflow:Assets written to: model_experiments\\model_6_dense_multivariate\\assets\n"
     ]
    },
    {
     "name": "stdout",
     "output_type": "stream",
     "text": [
      "18/18 [==============================] - 1s 39ms/step - loss: 147.5482 - val_loss: 837.8613\n",
      "Epoch 15/100\n",
      "12/18 [===================>..........] - ETA: 0s - loss: 137.3095INFO:tensorflow:Assets written to: model_experiments\\model_6_dense_multivariate\\assets\n"
     ]
    },
    {
     "name": "stderr",
     "output_type": "stream",
     "text": [
      "INFO:tensorflow:Assets written to: model_experiments\\model_6_dense_multivariate\\assets\n"
     ]
    },
    {
     "name": "stdout",
     "output_type": "stream",
     "text": [
      "18/18 [==============================] - 0s 27ms/step - loss: 142.3497 - val_loss: 794.4786\n",
      "Epoch 16/100\n",
      "13/18 [====================>.........] - ETA: 0s - loss: 140.2361INFO:tensorflow:Assets written to: model_experiments\\model_6_dense_multivariate\\assets\n"
     ]
    },
    {
     "name": "stderr",
     "output_type": "stream",
     "text": [
      "INFO:tensorflow:Assets written to: model_experiments\\model_6_dense_multivariate\\assets\n"
     ]
    },
    {
     "name": "stdout",
     "output_type": "stream",
     "text": [
      "18/18 [==============================] - 0s 28ms/step - loss: 137.5206 - val_loss: 778.4050\n",
      "Epoch 17/100\n",
      "13/18 [====================>.........] - ETA: 0s - loss: 136.5130INFO:tensorflow:Assets written to: model_experiments\\model_6_dense_multivariate\\assets\n"
     ]
    },
    {
     "name": "stderr",
     "output_type": "stream",
     "text": [
      "INFO:tensorflow:Assets written to: model_experiments\\model_6_dense_multivariate\\assets\n"
     ]
    },
    {
     "name": "stdout",
     "output_type": "stream",
     "text": [
      "18/18 [==============================] - 0s 26ms/step - loss: 135.8190 - val_loss: 772.4529\n",
      "Epoch 18/100\n",
      "13/18 [====================>.........] - ETA: 0s - loss: 142.5321INFO:tensorflow:Assets written to: model_experiments\\model_6_dense_multivariate\\assets\n"
     ]
    },
    {
     "name": "stderr",
     "output_type": "stream",
     "text": [
      "INFO:tensorflow:Assets written to: model_experiments\\model_6_dense_multivariate\\assets\n"
     ]
    },
    {
     "name": "stdout",
     "output_type": "stream",
     "text": [
      "18/18 [==============================] - 0s 26ms/step - loss: 134.8562 - val_loss: 747.4801\n",
      "Epoch 19/100\n",
      "18/18 [==============================] - 0s 6ms/step - loss: 130.3347 - val_loss: 761.0552\n",
      "Epoch 20/100\n",
      "15/18 [========================>.....] - ETA: 0s - loss: 129.3624INFO:tensorflow:Assets written to: model_experiments\\model_6_dense_multivariate\\assets\n"
     ]
    },
    {
     "name": "stderr",
     "output_type": "stream",
     "text": [
      "INFO:tensorflow:Assets written to: model_experiments\\model_6_dense_multivariate\\assets\n"
     ]
    },
    {
     "name": "stdout",
     "output_type": "stream",
     "text": [
      "18/18 [==============================] - 0s 25ms/step - loss: 128.6775 - val_loss: 701.8977\n",
      "Epoch 21/100\n",
      "14/18 [======================>.......] - ETA: 0s - loss: 129.3929INFO:tensorflow:Assets written to: model_experiments\\model_6_dense_multivariate\\assets\n"
     ]
    },
    {
     "name": "stderr",
     "output_type": "stream",
     "text": [
      "INFO:tensorflow:Assets written to: model_experiments\\model_6_dense_multivariate\\assets\n"
     ]
    },
    {
     "name": "stdout",
     "output_type": "stream",
     "text": [
      "18/18 [==============================] - 0s 26ms/step - loss: 129.5576 - val_loss: 691.0127\n",
      "Epoch 22/100\n",
      "12/18 [===================>..........] - ETA: 0s - loss: 137.3746INFO:tensorflow:Assets written to: model_experiments\\model_6_dense_multivariate\\assets\n"
     ]
    },
    {
     "name": "stderr",
     "output_type": "stream",
     "text": [
      "INFO:tensorflow:Assets written to: model_experiments\\model_6_dense_multivariate\\assets\n"
     ]
    },
    {
     "name": "stdout",
     "output_type": "stream",
     "text": [
      "18/18 [==============================] - 0s 26ms/step - loss: 125.8060 - val_loss: 684.4120\n",
      "Epoch 23/100\n",
      "18/18 [==============================] - 0s 7ms/step - loss: 125.5263 - val_loss: 692.1295\n",
      "Epoch 24/100\n",
      "12/18 [===================>..........] - ETA: 0s - loss: 125.0286INFO:tensorflow:Assets written to: model_experiments\\model_6_dense_multivariate\\assets\n"
     ]
    },
    {
     "name": "stderr",
     "output_type": "stream",
     "text": [
      "INFO:tensorflow:Assets written to: model_experiments\\model_6_dense_multivariate\\assets\n"
     ]
    },
    {
     "name": "stdout",
     "output_type": "stream",
     "text": [
      "18/18 [==============================] - 0s 29ms/step - loss: 122.4765 - val_loss: 674.2214\n",
      "Epoch 25/100\n",
      "15/18 [========================>.....] - ETA: 0s - loss: 125.8067INFO:tensorflow:Assets written to: model_experiments\\model_6_dense_multivariate\\assets\n"
     ]
    },
    {
     "name": "stderr",
     "output_type": "stream",
     "text": [
      "INFO:tensorflow:Assets written to: model_experiments\\model_6_dense_multivariate\\assets\n"
     ]
    },
    {
     "name": "stdout",
     "output_type": "stream",
     "text": [
      "18/18 [==============================] - 0s 26ms/step - loss: 121.1171 - val_loss: 669.6443\n",
      "Epoch 26/100\n",
      "18/18 [==============================] - 0s 6ms/step - loss: 127.2623 - val_loss: 690.0407\n",
      "Epoch 27/100\n",
      "15/18 [========================>.....] - ETA: 0s - loss: 125.5024INFO:tensorflow:Assets written to: model_experiments\\model_6_dense_multivariate\\assets\n"
     ]
    },
    {
     "name": "stderr",
     "output_type": "stream",
     "text": [
      "INFO:tensorflow:Assets written to: model_experiments\\model_6_dense_multivariate\\assets\n"
     ]
    },
    {
     "name": "stdout",
     "output_type": "stream",
     "text": [
      "18/18 [==============================] - 0s 26ms/step - loss: 124.6204 - val_loss: 643.9725\n",
      "Epoch 28/100\n",
      "18/18 [==============================] - 0s 6ms/step - loss: 118.2544 - val_loss: 656.2766\n",
      "Epoch 29/100\n",
      "18/18 [==============================] - ETA: 0s - loss: 119.6374INFO:tensorflow:Assets written to: model_experiments\\model_6_dense_multivariate\\assets\n"
     ]
    },
    {
     "name": "stderr",
     "output_type": "stream",
     "text": [
      "INFO:tensorflow:Assets written to: model_experiments\\model_6_dense_multivariate\\assets\n"
     ]
    },
    {
     "name": "stdout",
     "output_type": "stream",
     "text": [
      "18/18 [==============================] - 0s 26ms/step - loss: 119.6374 - val_loss: 633.4545\n",
      "Epoch 30/100\n",
      "14/18 [======================>.......] - ETA: 0s - loss: 119.7359INFO:tensorflow:Assets written to: model_experiments\\model_6_dense_multivariate\\assets\n"
     ]
    },
    {
     "name": "stderr",
     "output_type": "stream",
     "text": [
      "INFO:tensorflow:Assets written to: model_experiments\\model_6_dense_multivariate\\assets\n"
     ]
    },
    {
     "name": "stdout",
     "output_type": "stream",
     "text": [
      "18/18 [==============================] - 0s 26ms/step - loss: 119.5001 - val_loss: 625.3953\n",
      "Epoch 31/100\n",
      "18/18 [==============================] - 0s 6ms/step - loss: 114.5633 - val_loss: 668.5062\n",
      "Epoch 32/100\n",
      "17/18 [===========================>..] - ETA: 0s - loss: 117.6070INFO:tensorflow:Assets written to: model_experiments\\model_6_dense_multivariate\\assets\n"
     ]
    },
    {
     "name": "stderr",
     "output_type": "stream",
     "text": [
      "INFO:tensorflow:Assets written to: model_experiments\\model_6_dense_multivariate\\assets\n"
     ]
    },
    {
     "name": "stdout",
     "output_type": "stream",
     "text": [
      "18/18 [==============================] - 0s 26ms/step - loss: 116.9750 - val_loss: 617.1060\n",
      "Epoch 33/100\n",
      "18/18 [==============================] - 0s 5ms/step - loss: 115.2439 - val_loss: 649.0987\n",
      "Epoch 34/100\n",
      "18/18 [==============================] - 0s 5ms/step - loss: 114.5187 - val_loss: 632.1377\n",
      "Epoch 35/100\n",
      "17/18 [===========================>..] - ETA: 0s - loss: 113.9084INFO:tensorflow:Assets written to: model_experiments\\model_6_dense_multivariate\\assets\n"
     ]
    },
    {
     "name": "stderr",
     "output_type": "stream",
     "text": [
      "INFO:tensorflow:Assets written to: model_experiments\\model_6_dense_multivariate\\assets\n"
     ]
    },
    {
     "name": "stdout",
     "output_type": "stream",
     "text": [
      "18/18 [==============================] - 0s 25ms/step - loss: 113.6357 - val_loss: 607.4173\n",
      "Epoch 36/100\n",
      "18/18 [==============================] - 0s 5ms/step - loss: 115.2605 - val_loss: 626.4316\n",
      "Epoch 37/100\n",
      "18/18 [==============================] - ETA: 0s - loss: 113.7021INFO:tensorflow:Assets written to: model_experiments\\model_6_dense_multivariate\\assets\n"
     ]
    },
    {
     "name": "stderr",
     "output_type": "stream",
     "text": [
      "INFO:tensorflow:Assets written to: model_experiments\\model_6_dense_multivariate\\assets\n"
     ]
    },
    {
     "name": "stdout",
     "output_type": "stream",
     "text": [
      "18/18 [==============================] - 0s 25ms/step - loss: 113.7021 - val_loss: 606.2318\n",
      "Epoch 38/100\n",
      "14/18 [======================>.......] - ETA: 0s - loss: 114.6104INFO:tensorflow:Assets written to: model_experiments\\model_6_dense_multivariate\\assets\n"
     ]
    },
    {
     "name": "stderr",
     "output_type": "stream",
     "text": [
      "INFO:tensorflow:Assets written to: model_experiments\\model_6_dense_multivariate\\assets\n"
     ]
    },
    {
     "name": "stdout",
     "output_type": "stream",
     "text": [
      "18/18 [==============================] - 1s 29ms/step - loss: 111.4061 - val_loss: 603.2921\n",
      "Epoch 39/100\n",
      "17/18 [===========================>..] - ETA: 0s - loss: 112.3874INFO:tensorflow:Assets written to: model_experiments\\model_6_dense_multivariate\\assets\n"
     ]
    },
    {
     "name": "stderr",
     "output_type": "stream",
     "text": [
      "INFO:tensorflow:Assets written to: model_experiments\\model_6_dense_multivariate\\assets\n"
     ]
    },
    {
     "name": "stdout",
     "output_type": "stream",
     "text": [
      "18/18 [==============================] - 0s 27ms/step - loss: 112.7722 - val_loss: 596.0060\n",
      "Epoch 40/100\n",
      "14/18 [======================>.......] - ETA: 0s - loss: 111.8962INFO:tensorflow:Assets written to: model_experiments\\model_6_dense_multivariate\\assets\n"
     ]
    },
    {
     "name": "stderr",
     "output_type": "stream",
     "text": [
      "INFO:tensorflow:Assets written to: model_experiments\\model_6_dense_multivariate\\assets\n"
     ]
    },
    {
     "name": "stdout",
     "output_type": "stream",
     "text": [
      "18/18 [==============================] - 0s 28ms/step - loss: 110.5418 - val_loss: 593.2171\n",
      "Epoch 41/100\n",
      "18/18 [==============================] - 0s 6ms/step - loss: 110.8671 - val_loss: 609.1066\n",
      "Epoch 42/100\n",
      "18/18 [==============================] - 0s 6ms/step - loss: 115.7249 - val_loss: 607.4874\n",
      "Epoch 43/100\n",
      "18/18 [==============================] - 0s 6ms/step - loss: 111.3313 - val_loss: 606.2032\n",
      "Epoch 44/100\n",
      "16/18 [=========================>....] - ETA: 0s - loss: 109.1248INFO:tensorflow:Assets written to: model_experiments\\model_6_dense_multivariate\\assets\n"
     ]
    },
    {
     "name": "stderr",
     "output_type": "stream",
     "text": [
      "INFO:tensorflow:Assets written to: model_experiments\\model_6_dense_multivariate\\assets\n"
     ]
    },
    {
     "name": "stdout",
     "output_type": "stream",
     "text": [
      "18/18 [==============================] - 0s 27ms/step - loss: 109.7027 - val_loss: 586.1216\n",
      "Epoch 45/100\n",
      "18/18 [==============================] - 0s 5ms/step - loss: 107.8748 - val_loss: 593.8448\n",
      "Epoch 46/100\n",
      "18/18 [==============================] - 0s 5ms/step - loss: 109.8641 - val_loss: 586.4579\n",
      "Epoch 47/100\n",
      "18/18 [==============================] - 0s 6ms/step - loss: 112.3586 - val_loss: 655.4484\n",
      "Epoch 48/100\n",
      "18/18 [==============================] - 0s 5ms/step - loss: 109.1614 - val_loss: 598.7231\n",
      "Epoch 49/100\n",
      "18/18 [==============================] - 0s 5ms/step - loss: 109.3029 - val_loss: 589.2485\n",
      "Epoch 50/100\n",
      "18/18 [==============================] - 0s 5ms/step - loss: 111.1971 - val_loss: 649.3793\n",
      "Epoch 51/100\n",
      "18/18 [==============================] - 0s 5ms/step - loss: 110.8514 - val_loss: 602.7662\n",
      "Epoch 52/100\n",
      "18/18 [==============================] - 0s 6ms/step - loss: 111.8331 - val_loss: 599.2961\n",
      "Epoch 53/100\n",
      "18/18 [==============================] - 0s 5ms/step - loss: 110.8895 - val_loss: 652.1635\n",
      "Epoch 54/100\n",
      "18/18 [==============================] - 0s 5ms/step - loss: 113.8169 - val_loss: 600.8454\n",
      "Epoch 55/100\n",
      "17/18 [===========================>..] - ETA: 0s - loss: 111.8568INFO:tensorflow:Assets written to: model_experiments\\model_6_dense_multivariate\\assets\n"
     ]
    },
    {
     "name": "stderr",
     "output_type": "stream",
     "text": [
      "INFO:tensorflow:Assets written to: model_experiments\\model_6_dense_multivariate\\assets\n"
     ]
    },
    {
     "name": "stdout",
     "output_type": "stream",
     "text": [
      "18/18 [==============================] - 1s 30ms/step - loss: 110.4068 - val_loss: 575.7750\n",
      "Epoch 56/100\n",
      "18/18 [==============================] - 0s 5ms/step - loss: 108.6609 - val_loss: 785.9762\n",
      "Epoch 57/100\n",
      "18/18 [==============================] - 0s 5ms/step - loss: 124.9823 - val_loss: 670.3788\n",
      "Epoch 58/100\n",
      "18/18 [==============================] - 0s 6ms/step - loss: 112.8591 - val_loss: 580.2877\n",
      "Epoch 59/100\n",
      "18/18 [==============================] - 0s 6ms/step - loss: 107.2513 - val_loss: 597.5089\n",
      "Epoch 60/100\n",
      "18/18 [==============================] - 0s 6ms/step - loss: 109.2322 - val_loss: 632.2950\n",
      "Epoch 61/100\n",
      "18/18 [==============================] - 0s 7ms/step - loss: 109.3518 - val_loss: 591.5407\n",
      "Epoch 62/100\n",
      "18/18 [==============================] - 0s 5ms/step - loss: 108.4084 - val_loss: 617.5809\n",
      "Epoch 63/100\n",
      "18/18 [==============================] - 0s 7ms/step - loss: 113.5326 - val_loss: 613.1470\n",
      "Epoch 64/100\n",
      "18/18 [==============================] - 0s 6ms/step - loss: 110.6625 - val_loss: 689.1790\n",
      "Epoch 65/100\n",
      "16/18 [=========================>....] - ETA: 0s - loss: 111.6607INFO:tensorflow:Assets written to: model_experiments\\model_6_dense_multivariate\\assets\n"
     ]
    },
    {
     "name": "stderr",
     "output_type": "stream",
     "text": [
      "INFO:tensorflow:Assets written to: model_experiments\\model_6_dense_multivariate\\assets\n"
     ]
    },
    {
     "name": "stdout",
     "output_type": "stream",
     "text": [
      "18/18 [==============================] - 0s 26ms/step - loss: 112.0475 - val_loss: 575.5544\n",
      "Epoch 66/100\n",
      "18/18 [==============================] - 0s 6ms/step - loss: 111.2831 - val_loss: 590.7808\n",
      "Epoch 67/100\n",
      "18/18 [==============================] - 0s 6ms/step - loss: 106.7917 - val_loss: 586.8846\n",
      "Epoch 68/100\n",
      "18/18 [==============================] - 0s 5ms/step - loss: 112.2987 - val_loss: 696.5298\n",
      "Epoch 69/100\n",
      "18/18 [==============================] - 0s 6ms/step - loss: 124.7808 - val_loss: 698.5273\n",
      "Epoch 70/100\n",
      "18/18 [==============================] - 0s 6ms/step - loss: 119.3443 - val_loss: 581.2105\n",
      "Epoch 71/100\n",
      "18/18 [==============================] - 0s 5ms/step - loss: 109.9960 - val_loss: 607.6736\n",
      "Epoch 72/100\n",
      "17/18 [===========================>..] - ETA: 0s - loss: 104.7824INFO:tensorflow:Assets written to: model_experiments\\model_6_dense_multivariate\\assets\n"
     ]
    },
    {
     "name": "stderr",
     "output_type": "stream",
     "text": [
      "INFO:tensorflow:Assets written to: model_experiments\\model_6_dense_multivariate\\assets\n"
     ]
    },
    {
     "name": "stdout",
     "output_type": "stream",
     "text": [
      "18/18 [==============================] - 0s 26ms/step - loss: 106.7711 - val_loss: 573.6143\n",
      "Epoch 73/100\n",
      "18/18 [==============================] - 0s 6ms/step - loss: 110.2485 - val_loss: 618.8953\n",
      "Epoch 74/100\n",
      "18/18 [==============================] - 0s 6ms/step - loss: 105.5330 - val_loss: 574.9455\n",
      "Epoch 75/100\n",
      "18/18 [==============================] - 0s 5ms/step - loss: 107.3177 - val_loss: 606.1971\n",
      "Epoch 76/100\n",
      "18/18 [==============================] - 0s 5ms/step - loss: 107.8084 - val_loss: 582.2407\n",
      "Epoch 77/100\n",
      "15/18 [========================>.....] - ETA: 0s - loss: 109.5127INFO:tensorflow:Assets written to: model_experiments\\model_6_dense_multivariate\\assets\n"
     ]
    },
    {
     "name": "stderr",
     "output_type": "stream",
     "text": [
      "INFO:tensorflow:Assets written to: model_experiments\\model_6_dense_multivariate\\assets\n"
     ]
    },
    {
     "name": "stdout",
     "output_type": "stream",
     "text": [
      "18/18 [==============================] - 0s 25ms/step - loss: 107.2528 - val_loss: 571.8566\n",
      "Epoch 78/100\n",
      "18/18 [==============================] - 0s 5ms/step - loss: 106.2309 - val_loss: 572.2827\n",
      "Epoch 79/100\n",
      "18/18 [==============================] - 0s 5ms/step - loss: 105.8568 - val_loss: 596.5466\n",
      "Epoch 80/100\n",
      "18/18 [==============================] - 0s 5ms/step - loss: 107.8419 - val_loss: 577.2398\n",
      "Epoch 81/100\n",
      "15/18 [========================>.....] - ETA: 0s - loss: 106.1016INFO:tensorflow:Assets written to: model_experiments\\model_6_dense_multivariate\\assets\n"
     ]
    },
    {
     "name": "stderr",
     "output_type": "stream",
     "text": [
      "INFO:tensorflow:Assets written to: model_experiments\\model_6_dense_multivariate\\assets\n"
     ]
    },
    {
     "name": "stdout",
     "output_type": "stream",
     "text": [
      "18/18 [==============================] - 0s 25ms/step - loss: 105.1100 - val_loss: 568.4897\n",
      "Epoch 82/100\n",
      "18/18 [==============================] - 0s 5ms/step - loss: 114.1867 - val_loss: 592.5615\n",
      "Epoch 83/100\n",
      "18/18 [==============================] - 0s 5ms/step - loss: 107.9631 - val_loss: 651.6220\n",
      "Epoch 84/100\n",
      "18/18 [==============================] - 0s 5ms/step - loss: 109.6690 - val_loss: 568.9340\n",
      "Epoch 85/100\n",
      "18/18 [==============================] - 0s 5ms/step - loss: 105.8219 - val_loss: 571.5331\n",
      "Epoch 86/100\n",
      "18/18 [==============================] - 0s 5ms/step - loss: 104.8628 - val_loss: 579.3854\n",
      "Epoch 87/100\n",
      "18/18 [==============================] - 0s 7ms/step - loss: 104.7148 - val_loss: 582.9182\n",
      "Epoch 88/100\n",
      "18/18 [==============================] - 0s 7ms/step - loss: 106.8899 - val_loss: 569.0820\n",
      "Epoch 89/100\n",
      "18/18 [==============================] - 0s 7ms/step - loss: 105.4376 - val_loss: 569.3439\n",
      "Epoch 90/100\n",
      "18/18 [==============================] - 0s 7ms/step - loss: 104.9081 - val_loss: 597.7662\n",
      "Epoch 91/100\n",
      "18/18 [==============================] - 0s 5ms/step - loss: 111.0515 - val_loss: 645.6418\n",
      "Epoch 92/100\n",
      "18/18 [==============================] - 0s 6ms/step - loss: 106.7720 - val_loss: 593.7665\n",
      "Epoch 93/100\n",
      "18/18 [==============================] - 0s 6ms/step - loss: 113.1876 - val_loss: 643.8378\n",
      "Epoch 94/100\n",
      "18/18 [==============================] - 0s 7ms/step - loss: 109.1489 - val_loss: 571.6637\n",
      "Epoch 95/100\n",
      "18/18 [==============================] - 0s 6ms/step - loss: 104.2674 - val_loss: 569.3417\n",
      "Epoch 96/100\n",
      "18/18 [==============================] - 0s 6ms/step - loss: 110.6049 - val_loss: 649.0352\n",
      "Epoch 97/100\n",
      "18/18 [==============================] - 0s 5ms/step - loss: 108.4132 - val_loss: 570.1169\n",
      "Epoch 98/100\n",
      "18/18 [==============================] - 0s 5ms/step - loss: 105.7977 - val_loss: 583.0422\n",
      "Epoch 99/100\n",
      "17/18 [===========================>..] - ETA: 0s - loss: 106.5186INFO:tensorflow:Assets written to: model_experiments\\model_6_dense_multivariate\\assets\n"
     ]
    },
    {
     "name": "stderr",
     "output_type": "stream",
     "text": [
      "INFO:tensorflow:Assets written to: model_experiments\\model_6_dense_multivariate\\assets\n"
     ]
    },
    {
     "name": "stdout",
     "output_type": "stream",
     "text": [
      "18/18 [==============================] - 0s 26ms/step - loss: 106.1837 - val_loss: 568.0361\n",
      "Epoch 100/100\n",
      "18/18 [==============================] - 0s 6ms/step - loss: 115.8590 - val_loss: 639.6246\n"
     ]
    },
    {
     "data": {
      "text/plain": [
       "<keras.callbacks.History at 0x1a27392fa30>"
      ]
     },
     "execution_count": 202,
     "metadata": {},
     "output_type": "execute_result"
    }
   ],
   "source": [
    "tf.random.set_seed(42)\n",
    "\n",
    "# Make multivariate time seires model\n",
    "model_6 = tf.keras.Sequential([\n",
    "    layers.Dense(128, activation=\"relu\"),\n",
    "    layers.Dense(HORIZON)\n",
    "], name=\"model_6_dense_multivariate\")\n",
    "\n",
    "# Compile\n",
    "model_6.compile(loss=\"mae\",\n",
    "                optimizer=tf.keras.optimizers.Adam())\n",
    "\n",
    "# Fit\n",
    "model_6.fit(x=X_train,\n",
    "            y=y_train,\n",
    "            epochs=100,\n",
    "            batch_size=128,\n",
    "            verbose=1,\n",
    "            validation_data=(X_test,y_test),\n",
    "            callbacks=[create_model_checkpoint(model_name=model_6.name)])"
   ]
  },
  {
   "cell_type": "code",
   "execution_count": 203,
   "metadata": {},
   "outputs": [
    {
     "name": "stdout",
     "output_type": "stream",
     "text": [
      "18/18 [==============================] - 0s 4ms/step - loss: 639.6246\n"
     ]
    },
    {
     "data": {
      "text/plain": [
       "639.6245727539062"
      ]
     },
     "execution_count": 203,
     "metadata": {},
     "output_type": "execute_result"
    }
   ],
   "source": [
    "# Evaluate \n",
    "model_6.evaluate(X_test,y_test)"
   ]
  },
  {
   "cell_type": "code",
   "execution_count": 204,
   "metadata": {},
   "outputs": [
    {
     "name": "stdout",
     "output_type": "stream",
     "text": [
      "18/18 [==============================] - 0s 2ms/step - loss: 568.0360\n"
     ]
    },
    {
     "data": {
      "text/plain": [
       "568.0360107421875"
      ]
     },
     "execution_count": 204,
     "metadata": {},
     "output_type": "execute_result"
    }
   ],
   "source": [
    "# Load in best model\n",
    "model_6 = tf.keras.models.load_model(\"model_experiments/model_6_dense_multivariate/\")\n",
    "model_6.evaluate(X_test,y_test)"
   ]
  },
  {
   "cell_type": "code",
   "execution_count": 206,
   "metadata": {},
   "outputs": [
    {
     "name": "stdout",
     "output_type": "stream",
     "text": [
      "18/18 [==============================] - 0s 1ms/step\n"
     ]
    },
    {
     "data": {
      "text/plain": [
       "<tf.Tensor: shape=(5,), dtype=float32, numpy=\n",
       "array([8849.693 , 8777.459 , 9053.712 , 8753.832 , 8731.5205],\n",
       "      dtype=float32)>"
      ]
     },
     "execution_count": 206,
     "metadata": {},
     "output_type": "execute_result"
    }
   ],
   "source": [
    "# Make predictions\n",
    "model_6_preds = make_preds(model=model_6, input_data=X_test)\n",
    "model_6_preds[:5]"
   ]
  },
  {
   "cell_type": "code",
   "execution_count": 208,
   "metadata": {},
   "outputs": [
    {
     "data": {
      "text/plain": [
       "{'mae': 568.0359497070312,\n",
       " 'mse': 1166216.0,\n",
       " 'rmse': 1079.914794921875,\n",
       " 'mape': 2.5465989112854004,\n",
       " 'mase': 0.9978818297386169}"
      ]
     },
     "execution_count": 208,
     "metadata": {},
     "output_type": "execute_result"
    }
   ],
   "source": [
    "# Evaluate the predictions\n",
    "model_6_results = evaluate_preds(y_true=y_test,\n",
    "                                 y_pred=model_6_preds)\n",
    "model_6_results                         "
   ]
  },
  {
   "attachments": {},
   "cell_type": "markdown",
   "metadata": {},
   "source": [
    "Save model results"
   ]
  },
  {
   "cell_type": "code",
   "execution_count": 209,
   "metadata": {},
   "outputs": [
    {
     "name": "stdout",
     "output_type": "stream",
     "text": [
      "Success! File written to destination.\n"
     ]
    }
   ],
   "source": [
    "from Functions.helper_functions import save_model_results_json\n",
    "\n",
    "des_path = r\"Saved Results\\10_time_series_forecasting_with_tensorflow\"\n",
    "\n",
    "save_model_results_json(filepath=des_path,\n",
    "                        var_to_save=model_6_results,\n",
    "                        file_string=\"model_6_results\")"
   ]
  },
  {
   "attachments": {},
   "cell_type": "markdown",
   "metadata": {},
   "source": [
    "## Model 7: N-BEATS algorithm\n",
    "\n",
    "Let's now try building the biggest time series forecasting model we've built so far.\n",
    "\n",
    "Why?\n",
    "* This will allow us to practice replicating a paper with TensorFlow code\n",
    "* We will see how to use TensorFlow layer subclassing (to make our own custom layers)\n",
    "* Get experience using the Functional API to create a custom architecture\n",
    "* Potentially get state-of-the-art results on our data"
   ]
  },
  {
   "attachments": {},
   "cell_type": "markdown",
   "metadata": {},
   "source": [
    "### Building and testing the N-BEATS block layer\n",
    "\n",
    "Because the N-BEATS block layer doesn't exist in TensorFlow, we've got to create it.\n",
    "\n",
    "To create custom layers and models in TensorFlow we can use [subclassing](https://www.tensorflow.org/guide/keras/custom_layers_and_models)."
   ]
  },
  {
   "cell_type": "code",
   "execution_count": 211,
   "metadata": {},
   "outputs": [],
   "source": [
    "# Create NBeatBlock custom layer\n",
    "class NBeatsBlock(tf.keras.layers.Layer):\n",
    "    def __init__(self,\n",
    "                 input_size: int,\n",
    "                 theta_size: int,\n",
    "                 horizon: int,\n",
    "                 n_neurons: int,\n",
    "                 n_layers: int,\n",
    "                 **kwargs): # the **kwargs argument takes care of all the arguments for the parent class\n",
    "    \n",
    "        super().__init__(**kwargs)\n",
    "        self.input_size = input_size\n",
    "        self.theta_size = theta_size\n",
    "        self.horizon = horizon\n",
    "        self.n_neurons = n_neurons\n",
    "        self.n_layers = n_layers\n",
    "\n",
    "        # Block contains stack of 4 fully connected layers\n",
    "        self.hidden = [tf.keras.layers.Dense(n_neurons, activation=\"relu\") for _ in range(n_layers)]\n",
    "        # Output of block is a theta layer with linear activation\n",
    "        self.theta_layer = tf.keras.layers.Dense(theta_size, activation=\"linear\", name=\"theta\")\n",
    "\n",
    "    def call(self, inputs):\n",
    "        x = inputs\n",
    "        for layer in self.hidden:\n",
    "            x = layer(x)\n",
    "        theta = self.theta_layer(x)\n",
    "        # Output the backcast and forecast from theta\n",
    "        backcast, forecast = theta[:,:self.input_size], theta[:, -self.horizon:]\n",
    "        return backcast, forecast"
   ]
  },
  {
   "attachments": {},
   "cell_type": "markdown",
   "metadata": {},
   "source": [
    "Let's test our NBeatsBlock class.\n",
    "\n",
    "To do we'll make some dummy inputs and outputs."
   ]
  },
  {
   "cell_type": "code",
   "execution_count": 216,
   "metadata": {},
   "outputs": [],
   "source": [
    "# Set up a dummy NBeatsBlock layer to represent inputs and outputs\n",
    "tf.random.set_seed(42)\n",
    "dummy_nbeats_block_layer = NBeatsBlock(input_size=WINDOW_SIZE,\n",
    "                                       theta_size=WINDOW_SIZE+HORIZON, # backcast + forecast\n",
    "                                       horizon=HORIZON,\n",
    "                                       n_neurons=128,\n",
    "                                       n_layers=4)"
   ]
  },
  {
   "cell_type": "code",
   "execution_count": 217,
   "metadata": {},
   "outputs": [
    {
     "data": {
      "text/plain": [
       "<tf.Tensor: shape=(1, 7), dtype=int32, numpy=array([[1, 2, 3, 4, 5, 6, 7]])>"
      ]
     },
     "execution_count": 217,
     "metadata": {},
     "output_type": "execute_result"
    }
   ],
   "source": [
    "# Create dummy inputs (have to be same size as input size)\n",
    "dummy_inputs = tf.expand_dims(tf.range(WINDOW_SIZE)+1, axis=0)  # input_shape to the model has to reflect dense layer input requirements\n",
    "dummy_inputs"
   ]
  },
  {
   "cell_type": "code",
   "execution_count": 218,
   "metadata": {},
   "outputs": [
    {
     "name": "stdout",
     "output_type": "stream",
     "text": [
      "Backcast: [ 0.07960155  0.3251205  -0.8428683  -0.69389856 -0.31720546 -0.56987345\n",
      " -0.6396661 ]\n",
      "Forecast: 1.0071648359298706\n"
     ]
    }
   ],
   "source": [
    "# Pass dummy inputs to NBeatsBlock Layer\n",
    "backcast, forecast = dummy_nbeats_block_layer(dummy_inputs)\n",
    "# These are the activation outputs of the theta layer (they'll be random due to no trianing of the model)\n",
    "print(f\"Backcast: {tf.squeeze(backcast.numpy())}\")\n",
    "print(f\"Forecast: {tf.squeeze(forecast.numpy())}\")"
   ]
  },
  {
   "attachments": {},
   "cell_type": "markdown",
   "metadata": {},
   "source": [
    "### Preparing data for the N-BEATS algorithm using `tf.data`\n",
    "\n",
    "To make our input data load as fast as possible we're going to be adhering to the performant data pipeline steps in the [TensorFlow Data Guide](https://www.tensorflow.org/guide/data_performance)"
   ]
  },
  {
   "cell_type": "code",
   "execution_count": 219,
   "metadata": {},
   "outputs": [],
   "source": [
    "HORIZON = 1\n",
    "WINDOW_SIZE = 7"
   ]
  },
  {
   "cell_type": "code",
   "execution_count": 220,
   "metadata": {},
   "outputs": [
    {
     "data": {
      "text/html": [
       "<div>\n",
       "<style scoped>\n",
       "    .dataframe tbody tr th:only-of-type {\n",
       "        vertical-align: middle;\n",
       "    }\n",
       "\n",
       "    .dataframe tbody tr th {\n",
       "        vertical-align: top;\n",
       "    }\n",
       "\n",
       "    .dataframe thead th {\n",
       "        text-align: right;\n",
       "    }\n",
       "</style>\n",
       "<table border=\"1\" class=\"dataframe\">\n",
       "  <thead>\n",
       "    <tr style=\"text-align: right;\">\n",
       "      <th></th>\n",
       "      <th>Price</th>\n",
       "    </tr>\n",
       "    <tr>\n",
       "      <th>Date</th>\n",
       "      <th></th>\n",
       "    </tr>\n",
       "  </thead>\n",
       "  <tbody>\n",
       "    <tr>\n",
       "      <th>2013-10-01</th>\n",
       "      <td>123.65499</td>\n",
       "    </tr>\n",
       "    <tr>\n",
       "      <th>2013-10-02</th>\n",
       "      <td>125.45500</td>\n",
       "    </tr>\n",
       "    <tr>\n",
       "      <th>2013-10-03</th>\n",
       "      <td>108.58483</td>\n",
       "    </tr>\n",
       "    <tr>\n",
       "      <th>2013-10-04</th>\n",
       "      <td>118.67466</td>\n",
       "    </tr>\n",
       "    <tr>\n",
       "      <th>2013-10-05</th>\n",
       "      <td>121.33866</td>\n",
       "    </tr>\n",
       "  </tbody>\n",
       "</table>\n",
       "</div>"
      ],
      "text/plain": [
       "                Price\n",
       "Date                 \n",
       "2013-10-01  123.65499\n",
       "2013-10-02  125.45500\n",
       "2013-10-03  108.58483\n",
       "2013-10-04  118.67466\n",
       "2013-10-05  121.33866"
      ]
     },
     "execution_count": 220,
     "metadata": {},
     "output_type": "execute_result"
    }
   ],
   "source": [
    "# Create NBEATS data inputs (NBEATS works with univariate time series)\n",
    "bitcoin_prices.head()"
   ]
  },
  {
   "cell_type": "code",
   "execution_count": 222,
   "metadata": {},
   "outputs": [
    {
     "data": {
      "text/html": [
       "<div>\n",
       "<style scoped>\n",
       "    .dataframe tbody tr th:only-of-type {\n",
       "        vertical-align: middle;\n",
       "    }\n",
       "\n",
       "    .dataframe tbody tr th {\n",
       "        vertical-align: top;\n",
       "    }\n",
       "\n",
       "    .dataframe thead th {\n",
       "        text-align: right;\n",
       "    }\n",
       "</style>\n",
       "<table border=\"1\" class=\"dataframe\">\n",
       "  <thead>\n",
       "    <tr style=\"text-align: right;\">\n",
       "      <th></th>\n",
       "      <th>Price</th>\n",
       "      <th>Price+1</th>\n",
       "      <th>Price+2</th>\n",
       "      <th>Price+3</th>\n",
       "      <th>Price+4</th>\n",
       "      <th>Price+5</th>\n",
       "      <th>Price+6</th>\n",
       "      <th>Price+7</th>\n",
       "    </tr>\n",
       "    <tr>\n",
       "      <th>Date</th>\n",
       "      <th></th>\n",
       "      <th></th>\n",
       "      <th></th>\n",
       "      <th></th>\n",
       "      <th></th>\n",
       "      <th></th>\n",
       "      <th></th>\n",
       "      <th></th>\n",
       "    </tr>\n",
       "  </thead>\n",
       "  <tbody>\n",
       "    <tr>\n",
       "      <th>2013-10-01</th>\n",
       "      <td>123.65499</td>\n",
       "      <td>NaN</td>\n",
       "      <td>NaN</td>\n",
       "      <td>NaN</td>\n",
       "      <td>NaN</td>\n",
       "      <td>NaN</td>\n",
       "      <td>NaN</td>\n",
       "      <td>NaN</td>\n",
       "    </tr>\n",
       "    <tr>\n",
       "      <th>2013-10-02</th>\n",
       "      <td>125.45500</td>\n",
       "      <td>123.65499</td>\n",
       "      <td>NaN</td>\n",
       "      <td>NaN</td>\n",
       "      <td>NaN</td>\n",
       "      <td>NaN</td>\n",
       "      <td>NaN</td>\n",
       "      <td>NaN</td>\n",
       "    </tr>\n",
       "    <tr>\n",
       "      <th>2013-10-03</th>\n",
       "      <td>108.58483</td>\n",
       "      <td>125.45500</td>\n",
       "      <td>123.65499</td>\n",
       "      <td>NaN</td>\n",
       "      <td>NaN</td>\n",
       "      <td>NaN</td>\n",
       "      <td>NaN</td>\n",
       "      <td>NaN</td>\n",
       "    </tr>\n",
       "    <tr>\n",
       "      <th>2013-10-04</th>\n",
       "      <td>118.67466</td>\n",
       "      <td>108.58483</td>\n",
       "      <td>125.45500</td>\n",
       "      <td>123.65499</td>\n",
       "      <td>NaN</td>\n",
       "      <td>NaN</td>\n",
       "      <td>NaN</td>\n",
       "      <td>NaN</td>\n",
       "    </tr>\n",
       "    <tr>\n",
       "      <th>2013-10-05</th>\n",
       "      <td>121.33866</td>\n",
       "      <td>118.67466</td>\n",
       "      <td>108.58483</td>\n",
       "      <td>125.45500</td>\n",
       "      <td>123.65499</td>\n",
       "      <td>NaN</td>\n",
       "      <td>NaN</td>\n",
       "      <td>NaN</td>\n",
       "    </tr>\n",
       "  </tbody>\n",
       "</table>\n",
       "</div>"
      ],
      "text/plain": [
       "                Price    Price+1    Price+2    Price+3    Price+4  Price+5  \\\n",
       "Date                                                                         \n",
       "2013-10-01  123.65499        NaN        NaN        NaN        NaN      NaN   \n",
       "2013-10-02  125.45500  123.65499        NaN        NaN        NaN      NaN   \n",
       "2013-10-03  108.58483  125.45500  123.65499        NaN        NaN      NaN   \n",
       "2013-10-04  118.67466  108.58483  125.45500  123.65499        NaN      NaN   \n",
       "2013-10-05  121.33866  118.67466  108.58483  125.45500  123.65499      NaN   \n",
       "\n",
       "            Price+6  Price+7  \n",
       "Date                          \n",
       "2013-10-01      NaN      NaN  \n",
       "2013-10-02      NaN      NaN  \n",
       "2013-10-03      NaN      NaN  \n",
       "2013-10-04      NaN      NaN  \n",
       "2013-10-05      NaN      NaN  "
      ]
     },
     "execution_count": 222,
     "metadata": {},
     "output_type": "execute_result"
    }
   ],
   "source": [
    "# Add windowed columns\n",
    "bitcoin_prices_nbeats = bitcoin_prices.copy()\n",
    "for i in range(WINDOW_SIZE):\n",
    "    bitcoin_prices_nbeats[f\"Price+{i+1}\"] = bitcoin_prices_nbeats[\"Price\"].shift(periods=i+1)\n",
    "bitcoin_prices_nbeats.head()"
   ]
  },
  {
   "cell_type": "code",
   "execution_count": 225,
   "metadata": {},
   "outputs": [
    {
     "data": {
      "text/plain": [
       "(2224, 2224, 556, 556)"
      ]
     },
     "execution_count": 225,
     "metadata": {},
     "output_type": "execute_result"
    }
   ],
   "source": [
    "# Make features and labels\n",
    "X = bitcoin_prices_nbeats.dropna().drop(\"Price\", axis=1) # drop \"Price\" because that is our label\n",
    "y = bitcoin_prices_nbeats.dropna()[\"Price\"]\n",
    "\n",
    "# Make train and test sets\n",
    "split_size = int(len(X)*0.8)\n",
    "X_train, y_train = X[:split_size], y[:split_size]\n",
    "X_test, y_test = X[split_size:], y[split_size:]\n",
    "len(X_train), len(y_train), len(X_test), len(y_test)"
   ]
  },
  {
   "cell_type": "code",
   "execution_count": 226,
   "metadata": {},
   "outputs": [
    {
     "data": {
      "text/plain": [
       "(<PrefetchDataset element_spec=(TensorSpec(shape=(None, 7), dtype=tf.float64, name=None), TensorSpec(shape=(None,), dtype=tf.float64, name=None))>,\n",
       " <PrefetchDataset element_spec=(TensorSpec(shape=(None, 7), dtype=tf.float64, name=None), TensorSpec(shape=(None,), dtype=tf.float64, name=None))>)"
      ]
     },
     "execution_count": 226,
     "metadata": {},
     "output_type": "execute_result"
    }
   ],
   "source": [
    "# Time to make our dataset performant\n",
    "train_features_dataset = tf.data.Dataset.from_tensor_slices(X_train)\n",
    "train_labels_dataset = tf.data.Dataset.from_tensor_slices(y_train)\n",
    "\n",
    "test_features_dataset = tf.data.Dataset.from_tensor_slices(X_test)\n",
    "test_labels_dataset = tf.data.Dataset.from_tensor_slices(y_test)\n",
    "\n",
    "# Combine labels and features by zipping together\n",
    "train_dataset = tf.data.Dataset.zip((train_features_dataset,train_labels_dataset))\n",
    "test_dataset = tf.data.Dataset.zip((test_features_dataset,test_labels_dataset))\n",
    "\n",
    "# Batch and prefetch\n",
    "BATCH_SIZE = 1024\n",
    "train_dataset = train_dataset.batch(BATCH_SIZE).prefetch(tf.data.AUTOTUNE)\n",
    "test_dataset = test_dataset.batch(BATCH_SIZE).prefetch(tf.data.AUTOTUNE)\n",
    "\n",
    "train_dataset, test_dataset"
   ]
  },
  {
   "attachments": {},
   "cell_type": "markdown",
   "metadata": {},
   "source": [
    "### Setting up hyperparameters for N-BEATS algorithm\n",
    "\n",
    "The N-BEATS algorithm has a fair few number of parameters many of them can be found in Table 18 from the [paper](https://arxiv.org/pdf/1905.10437.pdf) \n"
   ]
  },
  {
   "cell_type": "code",
   "execution_count": 228,
   "metadata": {},
   "outputs": [
    {
     "data": {
      "text/plain": [
       "(7, 8)"
      ]
     },
     "execution_count": 228,
     "metadata": {},
     "output_type": "execute_result"
    }
   ],
   "source": [
    "# Values from N-BEATS paper\n",
    "N_EPOCHS = 5000\n",
    "N_NEURONS = 512\n",
    "N_LAYERS = 4\n",
    "N_STACKS = 30\n",
    "\n",
    "INPUT_SIZE = WINDOW_SIZE * HORIZON\n",
    "THETA_SIZE = INPUT_SIZE + HORIZON\n",
    "\n",
    "INPUT_SIZE, THETA_SIZE"
   ]
  },
  {
   "attachments": {},
   "cell_type": "markdown",
   "metadata": {},
   "source": [
    "### Getting ready for the residual connections\n",
    "\n",
    "We need two layers for the residuals connections (subtract) & (add)"
   ]
  },
  {
   "cell_type": "code",
   "execution_count": 232,
   "metadata": {},
   "outputs": [
    {
     "name": "stdout",
     "output_type": "stream",
     "text": [
      "Input tensors: [10 11 12 13 14 15 16 17 18 19] & [0 1 2 3 4 5 6 7 8 9]\n",
      "Subtracted: [10 10 10 10 10 10 10 10 10 10]\n",
      "Added: [10 12 14 16 18 20 22 24 26 28]\n"
     ]
    }
   ],
   "source": [
    "# Make tensors\n",
    "tensor_1  = tf.range(10) + 10\n",
    "tensor_2 = tf.range(10)\n",
    "\n",
    "# Subtract\n",
    "subtracted = layers.subtract([tensor_1, tensor_2])\n",
    "\n",
    "# Add\n",
    "added = layers.add([tensor_1, tensor_2])\n",
    "\n",
    "print(f\"Input tensors: {tensor_1.numpy()} & {tensor_2.numpy()}\")\n",
    "print(f\"Subtracted: {subtracted.numpy()}\")\n",
    "print(f\"Added: {added.numpy()}\")"
   ]
  }
 ],
 "metadata": {
  "kernelspec": {
   "display_name": "tf2.9",
   "language": "python",
   "name": "python3"
  },
  "language_info": {
   "codemirror_mode": {
    "name": "ipython",
    "version": 3
   },
   "file_extension": ".py",
   "mimetype": "text/x-python",
   "name": "python",
   "nbconvert_exporter": "python",
   "pygments_lexer": "ipython3",
   "version": "3.9.0"
  },
  "orig_nbformat": 4,
  "vscode": {
   "interpreter": {
    "hash": "3b857c820aa0d415be1b12344743bfddcf32111184ae560db226809c81026c4c"
   }
  }
 },
 "nbformat": 4,
 "nbformat_minor": 2
}

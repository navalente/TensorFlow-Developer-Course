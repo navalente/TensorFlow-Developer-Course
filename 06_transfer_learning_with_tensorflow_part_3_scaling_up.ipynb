{
 "cells": [
  {
   "cell_type": "markdown",
   "metadata": {},
   "source": [
    "# Transfer Learning with TensorFlow Part 3: Scaling Up (Food Vision)\n",
    "\n",
    "We've seen the power of transfer learning feature extraction and fine-tuning, now it's time to scale up to all of the classes in Food101 (101 classes of food).\n",
    "\n",
    "Our goal is to beat the original Food101 paper with 10% of the training data (leveraging the power of deep learning)\n",
    "\n",
    "Our baseline to beat is 50.76% accuracy across 101 classes"
   ]
  },
  {
   "cell_type": "markdown",
   "metadata": {},
   "source": [
    "## Creating helper functions\n",
    "\n",
    "In previous notebooks, we've created a series of helper function to do different tasks, let's download and import them"
   ]
  },
  {
   "cell_type": "code",
   "execution_count": 1,
   "metadata": {},
   "outputs": [],
   "source": [
    "from helper_functions import create_tensorboard_callback, plot_loss_curves, unzip_data, compare_historys, walk_through_dir"
   ]
  },
  {
   "cell_type": "markdown",
   "metadata": {},
   "source": [
    "##  101 Food Classes: Working with less data\n",
    "\n",
    "Our goal is to beat the original Food101 paper with 10% of the training data, so let's download it.\n",
    "\n",
    "The data we're downloading comes from the original Food101 dataset but has been preprocessed using the `image_data_modification` notebook"
   ]
  },
  {
   "cell_type": "code",
   "execution_count": 2,
   "metadata": {},
   "outputs": [],
   "source": [
    "# Unzip the data\n",
    "unzip_data(\"101_food_classes_10_percent.zip\")"
   ]
  },
  {
   "cell_type": "code",
   "execution_count": 3,
   "metadata": {},
   "outputs": [],
   "source": [
    "# Setup directories\n",
    "train_dir=\"101_food_classes_10_percent/train/\"\n",
    "test_dir=\"101_food_classes_10_percent/test/\""
   ]
  },
  {
   "cell_type": "code",
   "execution_count": 4,
   "metadata": {},
   "outputs": [
    {
     "name": "stdout",
     "output_type": "stream",
     "text": [
      "There are 2 directories and 0 images in '101_food_classes_10_percent'.\n",
      "There are 101 directories and 0 images in '101_food_classes_10_percent\\test'.\n",
      "There are 0 directories and 250 images in '101_food_classes_10_percent\\test\\foie_gras'.\n",
      "There are 0 directories and 250 images in '101_food_classes_10_percent\\test\\club_sandwich'.\n",
      "There are 0 directories and 250 images in '101_food_classes_10_percent\\test\\cheese_plate'.\n",
      "There are 0 directories and 250 images in '101_food_classes_10_percent\\test\\cup_cakes'.\n",
      "There are 0 directories and 250 images in '101_food_classes_10_percent\\test\\garlic_bread'.\n",
      "There are 0 directories and 250 images in '101_food_classes_10_percent\\test\\gnocchi'.\n",
      "There are 0 directories and 250 images in '101_food_classes_10_percent\\test\\ice_cream'.\n",
      "There are 0 directories and 250 images in '101_food_classes_10_percent\\test\\samosa'.\n",
      "There are 0 directories and 250 images in '101_food_classes_10_percent\\test\\donuts'.\n",
      "There are 0 directories and 250 images in '101_food_classes_10_percent\\test\\tuna_tartare'.\n",
      "There are 0 directories and 250 images in '101_food_classes_10_percent\\test\\filet_mignon'.\n",
      "There are 0 directories and 250 images in '101_food_classes_10_percent\\test\\seaweed_salad'.\n",
      "There are 0 directories and 250 images in '101_food_classes_10_percent\\test\\french_toast'.\n",
      "There are 0 directories and 250 images in '101_food_classes_10_percent\\test\\chicken_curry'.\n",
      "There are 0 directories and 250 images in '101_food_classes_10_percent\\test\\shrimp_and_grits'.\n",
      "There are 0 directories and 250 images in '101_food_classes_10_percent\\test\\steak'.\n",
      "There are 0 directories and 250 images in '101_food_classes_10_percent\\test\\cheesecake'.\n",
      "There are 0 directories and 250 images in '101_food_classes_10_percent\\test\\red_velvet_cake'.\n",
      "There are 0 directories and 250 images in '101_food_classes_10_percent\\test\\waffles'.\n",
      "There are 0 directories and 250 images in '101_food_classes_10_percent\\test\\churros'.\n",
      "There are 0 directories and 250 images in '101_food_classes_10_percent\\test\\gyoza'.\n",
      "There are 0 directories and 250 images in '101_food_classes_10_percent\\test\\lobster_roll_sandwich'.\n",
      "There are 0 directories and 250 images in '101_food_classes_10_percent\\test\\huevos_rancheros'.\n",
      "There are 0 directories and 250 images in '101_food_classes_10_percent\\test\\breakfast_burrito'.\n",
      "There are 0 directories and 250 images in '101_food_classes_10_percent\\test\\grilled_cheese_sandwich'.\n",
      "There are 0 directories and 250 images in '101_food_classes_10_percent\\test\\spaghetti_bolognese'.\n",
      "There are 0 directories and 250 images in '101_food_classes_10_percent\\test\\falafel'.\n",
      "There are 0 directories and 250 images in '101_food_classes_10_percent\\test\\poutine'.\n",
      "There are 0 directories and 250 images in '101_food_classes_10_percent\\test\\greek_salad'.\n",
      "There are 0 directories and 250 images in '101_food_classes_10_percent\\test\\beef_tartare'.\n",
      "There are 0 directories and 250 images in '101_food_classes_10_percent\\test\\fried_calamari'.\n",
      "There are 0 directories and 250 images in '101_food_classes_10_percent\\test\\guacamole'.\n",
      "There are 0 directories and 250 images in '101_food_classes_10_percent\\test\\ravioli'.\n",
      "There are 0 directories and 250 images in '101_food_classes_10_percent\\test\\lobster_bisque'.\n",
      "There are 0 directories and 250 images in '101_food_classes_10_percent\\test\\beet_salad'.\n",
      "There are 0 directories and 250 images in '101_food_classes_10_percent\\test\\risotto'.\n",
      "There are 0 directories and 250 images in '101_food_classes_10_percent\\test\\crab_cakes'.\n",
      "There are 0 directories and 250 images in '101_food_classes_10_percent\\test\\strawberry_shortcake'.\n",
      "There are 0 directories and 250 images in '101_food_classes_10_percent\\test\\edamame'.\n",
      "There are 0 directories and 250 images in '101_food_classes_10_percent\\test\\ceviche'.\n",
      "There are 0 directories and 250 images in '101_food_classes_10_percent\\test\\hot_and_sour_soup'.\n",
      "There are 0 directories and 250 images in '101_food_classes_10_percent\\test\\spring_rolls'.\n",
      "There are 0 directories and 250 images in '101_food_classes_10_percent\\test\\sashimi'.\n",
      "There are 0 directories and 250 images in '101_food_classes_10_percent\\test\\paella'.\n",
      "There are 0 directories and 250 images in '101_food_classes_10_percent\\test\\clam_chowder'.\n",
      "There are 0 directories and 250 images in '101_food_classes_10_percent\\test\\miso_soup'.\n",
      "There are 0 directories and 250 images in '101_food_classes_10_percent\\test\\escargots'.\n",
      "There are 0 directories and 250 images in '101_food_classes_10_percent\\test\\hot_dog'.\n",
      "There are 0 directories and 250 images in '101_food_classes_10_percent\\test\\pulled_pork_sandwich'.\n",
      "There are 0 directories and 250 images in '101_food_classes_10_percent\\test\\bruschetta'.\n",
      "There are 0 directories and 250 images in '101_food_classes_10_percent\\test\\panna_cotta'.\n",
      "There are 0 directories and 250 images in '101_food_classes_10_percent\\test\\fish_and_chips'.\n",
      "There are 0 directories and 250 images in '101_food_classes_10_percent\\test\\pad_thai'.\n",
      "There are 0 directories and 250 images in '101_food_classes_10_percent\\test\\tiramisu'.\n",
      "There are 0 directories and 250 images in '101_food_classes_10_percent\\test\\takoyaki'.\n",
      "There are 0 directories and 250 images in '101_food_classes_10_percent\\test\\macarons'.\n",
      "There are 0 directories and 250 images in '101_food_classes_10_percent\\test\\apple_pie'.\n",
      "There are 0 directories and 250 images in '101_food_classes_10_percent\\test\\cannoli'.\n",
      "There are 0 directories and 250 images in '101_food_classes_10_percent\\test\\scallops'.\n",
      "There are 0 directories and 250 images in '101_food_classes_10_percent\\test\\frozen_yogurt'.\n",
      "There are 0 directories and 250 images in '101_food_classes_10_percent\\test\\chicken_quesadilla'.\n",
      "There are 0 directories and 250 images in '101_food_classes_10_percent\\test\\mussels'.\n",
      "There are 0 directories and 250 images in '101_food_classes_10_percent\\test\\beef_carpaccio'.\n",
      "There are 0 directories and 250 images in '101_food_classes_10_percent\\test\\eggs_benedict'.\n",
      "There are 0 directories and 250 images in '101_food_classes_10_percent\\test\\spaghetti_carbonara'.\n",
      "There are 0 directories and 250 images in '101_food_classes_10_percent\\test\\omelette'.\n",
      "There are 0 directories and 250 images in '101_food_classes_10_percent\\test\\sushi'.\n",
      "There are 0 directories and 250 images in '101_food_classes_10_percent\\test\\chocolate_mousse'.\n",
      "There are 0 directories and 250 images in '101_food_classes_10_percent\\test\\beignets'.\n",
      "There are 0 directories and 250 images in '101_food_classes_10_percent\\test\\bibimbap'.\n",
      "There are 0 directories and 250 images in '101_food_classes_10_percent\\test\\hummus'.\n",
      "There are 0 directories and 250 images in '101_food_classes_10_percent\\test\\pork_chop'.\n",
      "There are 0 directories and 250 images in '101_food_classes_10_percent\\test\\chicken_wings'.\n",
      "There are 0 directories and 250 images in '101_food_classes_10_percent\\test\\grilled_salmon'.\n",
      "There are 0 directories and 250 images in '101_food_classes_10_percent\\test\\chocolate_cake'.\n",
      "There are 0 directories and 250 images in '101_food_classes_10_percent\\test\\tacos'.\n",
      "There are 0 directories and 250 images in '101_food_classes_10_percent\\test\\hamburger'.\n",
      "There are 0 directories and 250 images in '101_food_classes_10_percent\\test\\baby_back_ribs'.\n",
      "There are 0 directories and 250 images in '101_food_classes_10_percent\\test\\pancakes'.\n",
      "There are 0 directories and 250 images in '101_food_classes_10_percent\\test\\prime_rib'.\n",
      "There are 0 directories and 250 images in '101_food_classes_10_percent\\test\\pizza'.\n",
      "There are 0 directories and 250 images in '101_food_classes_10_percent\\test\\nachos'.\n",
      "There are 0 directories and 250 images in '101_food_classes_10_percent\\test\\macaroni_and_cheese'.\n",
      "There are 0 directories and 250 images in '101_food_classes_10_percent\\test\\bread_pudding'.\n",
      "There are 0 directories and 250 images in '101_food_classes_10_percent\\test\\ramen'.\n",
      "There are 0 directories and 250 images in '101_food_classes_10_percent\\test\\croque_madame'.\n",
      "There are 0 directories and 250 images in '101_food_classes_10_percent\\test\\lasagna'.\n",
      "There are 0 directories and 250 images in '101_food_classes_10_percent\\test\\peking_duck'.\n",
      "There are 0 directories and 250 images in '101_food_classes_10_percent\\test\\deviled_eggs'.\n",
      "There are 0 directories and 250 images in '101_food_classes_10_percent\\test\\french_fries'.\n",
      "There are 0 directories and 250 images in '101_food_classes_10_percent\\test\\dumplings'.\n",
      "There are 0 directories and 250 images in '101_food_classes_10_percent\\test\\fried_rice'.\n",
      "There are 0 directories and 250 images in '101_food_classes_10_percent\\test\\french_onion_soup'.\n",
      "There are 0 directories and 250 images in '101_food_classes_10_percent\\test\\pho'.\n",
      "There are 0 directories and 250 images in '101_food_classes_10_percent\\test\\caprese_salad'.\n",
      "There are 0 directories and 250 images in '101_food_classes_10_percent\\test\\oysters'.\n",
      "There are 0 directories and 250 images in '101_food_classes_10_percent\\test\\baklava'.\n",
      "There are 0 directories and 250 images in '101_food_classes_10_percent\\test\\creme_brulee'.\n",
      "There are 0 directories and 250 images in '101_food_classes_10_percent\\test\\carrot_cake'.\n",
      "There are 0 directories and 250 images in '101_food_classes_10_percent\\test\\onion_rings'.\n",
      "There are 0 directories and 250 images in '101_food_classes_10_percent\\test\\caesar_salad'.\n",
      "There are 101 directories and 0 images in '101_food_classes_10_percent\\train'.\n",
      "There are 0 directories and 75 images in '101_food_classes_10_percent\\train\\foie_gras'.\n",
      "There are 0 directories and 75 images in '101_food_classes_10_percent\\train\\club_sandwich'.\n",
      "There are 0 directories and 75 images in '101_food_classes_10_percent\\train\\cheese_plate'.\n",
      "There are 0 directories and 75 images in '101_food_classes_10_percent\\train\\cup_cakes'.\n",
      "There are 0 directories and 75 images in '101_food_classes_10_percent\\train\\garlic_bread'.\n",
      "There are 0 directories and 75 images in '101_food_classes_10_percent\\train\\gnocchi'.\n",
      "There are 0 directories and 75 images in '101_food_classes_10_percent\\train\\ice_cream'.\n",
      "There are 0 directories and 75 images in '101_food_classes_10_percent\\train\\samosa'.\n",
      "There are 0 directories and 75 images in '101_food_classes_10_percent\\train\\donuts'.\n",
      "There are 0 directories and 75 images in '101_food_classes_10_percent\\train\\tuna_tartare'.\n",
      "There are 0 directories and 75 images in '101_food_classes_10_percent\\train\\filet_mignon'.\n",
      "There are 0 directories and 75 images in '101_food_classes_10_percent\\train\\seaweed_salad'.\n",
      "There are 0 directories and 75 images in '101_food_classes_10_percent\\train\\french_toast'.\n",
      "There are 0 directories and 75 images in '101_food_classes_10_percent\\train\\chicken_curry'.\n",
      "There are 0 directories and 75 images in '101_food_classes_10_percent\\train\\shrimp_and_grits'.\n",
      "There are 0 directories and 75 images in '101_food_classes_10_percent\\train\\steak'.\n",
      "There are 0 directories and 75 images in '101_food_classes_10_percent\\train\\cheesecake'.\n",
      "There are 0 directories and 75 images in '101_food_classes_10_percent\\train\\red_velvet_cake'.\n",
      "There are 0 directories and 75 images in '101_food_classes_10_percent\\train\\waffles'.\n",
      "There are 0 directories and 75 images in '101_food_classes_10_percent\\train\\churros'.\n",
      "There are 0 directories and 75 images in '101_food_classes_10_percent\\train\\gyoza'.\n",
      "There are 0 directories and 75 images in '101_food_classes_10_percent\\train\\lobster_roll_sandwich'.\n",
      "There are 0 directories and 75 images in '101_food_classes_10_percent\\train\\huevos_rancheros'.\n",
      "There are 0 directories and 75 images in '101_food_classes_10_percent\\train\\breakfast_burrito'.\n",
      "There are 0 directories and 75 images in '101_food_classes_10_percent\\train\\grilled_cheese_sandwich'.\n",
      "There are 0 directories and 75 images in '101_food_classes_10_percent\\train\\spaghetti_bolognese'.\n",
      "There are 0 directories and 75 images in '101_food_classes_10_percent\\train\\falafel'.\n",
      "There are 0 directories and 75 images in '101_food_classes_10_percent\\train\\poutine'.\n",
      "There are 0 directories and 75 images in '101_food_classes_10_percent\\train\\greek_salad'.\n",
      "There are 0 directories and 75 images in '101_food_classes_10_percent\\train\\beef_tartare'.\n",
      "There are 0 directories and 75 images in '101_food_classes_10_percent\\train\\fried_calamari'.\n",
      "There are 0 directories and 75 images in '101_food_classes_10_percent\\train\\guacamole'.\n",
      "There are 0 directories and 75 images in '101_food_classes_10_percent\\train\\ravioli'.\n",
      "There are 0 directories and 75 images in '101_food_classes_10_percent\\train\\lobster_bisque'.\n",
      "There are 0 directories and 75 images in '101_food_classes_10_percent\\train\\beet_salad'.\n",
      "There are 0 directories and 75 images in '101_food_classes_10_percent\\train\\risotto'.\n",
      "There are 0 directories and 75 images in '101_food_classes_10_percent\\train\\crab_cakes'.\n",
      "There are 0 directories and 75 images in '101_food_classes_10_percent\\train\\strawberry_shortcake'.\n",
      "There are 0 directories and 75 images in '101_food_classes_10_percent\\train\\edamame'.\n",
      "There are 0 directories and 75 images in '101_food_classes_10_percent\\train\\ceviche'.\n",
      "There are 0 directories and 75 images in '101_food_classes_10_percent\\train\\hot_and_sour_soup'.\n",
      "There are 0 directories and 75 images in '101_food_classes_10_percent\\train\\spring_rolls'.\n",
      "There are 0 directories and 75 images in '101_food_classes_10_percent\\train\\sashimi'.\n",
      "There are 0 directories and 75 images in '101_food_classes_10_percent\\train\\paella'.\n",
      "There are 0 directories and 75 images in '101_food_classes_10_percent\\train\\clam_chowder'.\n",
      "There are 0 directories and 75 images in '101_food_classes_10_percent\\train\\miso_soup'.\n",
      "There are 0 directories and 75 images in '101_food_classes_10_percent\\train\\escargots'.\n",
      "There are 0 directories and 75 images in '101_food_classes_10_percent\\train\\hot_dog'.\n",
      "There are 0 directories and 75 images in '101_food_classes_10_percent\\train\\pulled_pork_sandwich'.\n",
      "There are 0 directories and 75 images in '101_food_classes_10_percent\\train\\bruschetta'.\n",
      "There are 0 directories and 75 images in '101_food_classes_10_percent\\train\\panna_cotta'.\n",
      "There are 0 directories and 75 images in '101_food_classes_10_percent\\train\\fish_and_chips'.\n",
      "There are 0 directories and 75 images in '101_food_classes_10_percent\\train\\pad_thai'.\n",
      "There are 0 directories and 75 images in '101_food_classes_10_percent\\train\\tiramisu'.\n",
      "There are 0 directories and 75 images in '101_food_classes_10_percent\\train\\takoyaki'.\n",
      "There are 0 directories and 75 images in '101_food_classes_10_percent\\train\\macarons'.\n",
      "There are 0 directories and 75 images in '101_food_classes_10_percent\\train\\apple_pie'.\n",
      "There are 0 directories and 75 images in '101_food_classes_10_percent\\train\\cannoli'.\n",
      "There are 0 directories and 75 images in '101_food_classes_10_percent\\train\\scallops'.\n",
      "There are 0 directories and 75 images in '101_food_classes_10_percent\\train\\frozen_yogurt'.\n",
      "There are 0 directories and 75 images in '101_food_classes_10_percent\\train\\chicken_quesadilla'.\n",
      "There are 0 directories and 75 images in '101_food_classes_10_percent\\train\\mussels'.\n",
      "There are 0 directories and 75 images in '101_food_classes_10_percent\\train\\beef_carpaccio'.\n",
      "There are 0 directories and 75 images in '101_food_classes_10_percent\\train\\eggs_benedict'.\n",
      "There are 0 directories and 75 images in '101_food_classes_10_percent\\train\\spaghetti_carbonara'.\n",
      "There are 0 directories and 75 images in '101_food_classes_10_percent\\train\\omelette'.\n",
      "There are 0 directories and 75 images in '101_food_classes_10_percent\\train\\sushi'.\n",
      "There are 0 directories and 75 images in '101_food_classes_10_percent\\train\\chocolate_mousse'.\n",
      "There are 0 directories and 75 images in '101_food_classes_10_percent\\train\\beignets'.\n",
      "There are 0 directories and 75 images in '101_food_classes_10_percent\\train\\bibimbap'.\n",
      "There are 0 directories and 75 images in '101_food_classes_10_percent\\train\\hummus'.\n",
      "There are 0 directories and 75 images in '101_food_classes_10_percent\\train\\pork_chop'.\n",
      "There are 0 directories and 75 images in '101_food_classes_10_percent\\train\\chicken_wings'.\n",
      "There are 0 directories and 75 images in '101_food_classes_10_percent\\train\\grilled_salmon'.\n",
      "There are 0 directories and 75 images in '101_food_classes_10_percent\\train\\chocolate_cake'.\n",
      "There are 0 directories and 75 images in '101_food_classes_10_percent\\train\\tacos'.\n",
      "There are 0 directories and 75 images in '101_food_classes_10_percent\\train\\hamburger'.\n",
      "There are 0 directories and 75 images in '101_food_classes_10_percent\\train\\baby_back_ribs'.\n",
      "There are 0 directories and 75 images in '101_food_classes_10_percent\\train\\pancakes'.\n",
      "There are 0 directories and 75 images in '101_food_classes_10_percent\\train\\prime_rib'.\n",
      "There are 0 directories and 75 images in '101_food_classes_10_percent\\train\\pizza'.\n",
      "There are 0 directories and 75 images in '101_food_classes_10_percent\\train\\nachos'.\n",
      "There are 0 directories and 75 images in '101_food_classes_10_percent\\train\\macaroni_and_cheese'.\n",
      "There are 0 directories and 75 images in '101_food_classes_10_percent\\train\\bread_pudding'.\n",
      "There are 0 directories and 75 images in '101_food_classes_10_percent\\train\\ramen'.\n",
      "There are 0 directories and 75 images in '101_food_classes_10_percent\\train\\croque_madame'.\n",
      "There are 0 directories and 75 images in '101_food_classes_10_percent\\train\\lasagna'.\n",
      "There are 0 directories and 75 images in '101_food_classes_10_percent\\train\\peking_duck'.\n",
      "There are 0 directories and 75 images in '101_food_classes_10_percent\\train\\deviled_eggs'.\n",
      "There are 0 directories and 75 images in '101_food_classes_10_percent\\train\\french_fries'.\n",
      "There are 0 directories and 75 images in '101_food_classes_10_percent\\train\\dumplings'.\n",
      "There are 0 directories and 75 images in '101_food_classes_10_percent\\train\\fried_rice'.\n",
      "There are 0 directories and 75 images in '101_food_classes_10_percent\\train\\french_onion_soup'.\n",
      "There are 0 directories and 75 images in '101_food_classes_10_percent\\train\\pho'.\n",
      "There are 0 directories and 75 images in '101_food_classes_10_percent\\train\\caprese_salad'.\n",
      "There are 0 directories and 75 images in '101_food_classes_10_percent\\train\\oysters'.\n",
      "There are 0 directories and 75 images in '101_food_classes_10_percent\\train\\baklava'.\n",
      "There are 0 directories and 75 images in '101_food_classes_10_percent\\train\\creme_brulee'.\n",
      "There are 0 directories and 75 images in '101_food_classes_10_percent\\train\\carrot_cake'.\n",
      "There are 0 directories and 75 images in '101_food_classes_10_percent\\train\\onion_rings'.\n",
      "There are 0 directories and 75 images in '101_food_classes_10_percent\\train\\caesar_salad'.\n"
     ]
    }
   ],
   "source": [
    "# How many images/class in our dataset\n",
    "walk_through_dir(\"101_food_classes_10_percent\")"
   ]
  },
  {
   "cell_type": "code",
   "execution_count": 7,
   "metadata": {},
   "outputs": [
    {
     "name": "stdout",
     "output_type": "stream",
     "text": [
      "Found 7575 files belonging to 101 classes.\n",
      "Found 25250 files belonging to 101 classes.\n"
     ]
    }
   ],
   "source": [
    "# Setup our data loaders \n",
    "import tensorflow as tf\n",
    "IMG_SIZE=(224,224)\n",
    "BATCH_SIZE=32\n",
    "\n",
    "train_data_all_10_percent=tf.keras.preprocessing.image_dataset_from_directory(train_dir,\n",
    "                                                                              image_size=IMG_SIZE,\n",
    "                                                                              batch_size=BATCH_SIZE,\n",
    "                                                                              label_mode=\"categorical\")\n",
    "\n",
    "test_data=tf.keras.preprocessing.image_dataset_from_directory(test_dir,\n",
    "                                                              image_size=IMG_SIZE,\n",
    "                                                              batch_size=BATCH_SIZE,\n",
    "                                                              label_mode=\"categorical\",\n",
    "                                                              shuffle=False) # don't shuffle test data for prediction analysis                                                                                                                                                                                                                                                         "
   ]
  },
  {
   "cell_type": "markdown",
   "metadata": {},
   "source": [
    "## Train a big model with transfer learning on 10% of 101 food classes\n",
    "\n",
    "Here are the steps we're going to take:\n",
    "* Create a `ModelCheckpoint` callback\n",
    "* Create a data augmentation layer to build data augmentation right into the model\n",
    "* Build a headless (no top layers) Functional EfficientNetB0 backboned-model (we'll create our own output layer)\n",
    "* Compile our model\n",
    "* Feature extract for 5 full passes (5 epochs on the train dataset and validate on 15% of the test data, to save epoch time)\n"
   ]
  },
  {
   "cell_type": "code",
   "execution_count": 9,
   "metadata": {},
   "outputs": [],
   "source": [
    "# Create checkpoint callback\n",
    "checkpoint_path=\"101_food_classes_10_percent_data_model_checkpoint\"\n",
    "checkpoint_callback=tf.keras.callbacks.ModelCheckpoint(filepath=checkpoint_path,\n",
    "                                                       save_weights_only=True,\n",
    "                                                       monitor=\"val_accuracy\",\n",
    "                                                       save_best_only=True)"
   ]
  },
  {
   "cell_type": "code",
   "execution_count": 12,
   "metadata": {},
   "outputs": [],
   "source": [
    "# Create data augmentation layer to incorporate it right into the model\n",
    "from tensorflow import keras\n",
    "from tensorflow.keras import layers\n",
    "from tensorflow.keras.layers.experimental import preprocessing\n",
    "\n",
    "data_augmentation=tf.keras.Sequential([\n",
    "    preprocessing.RandomFlip(\"horizontal\"),\n",
    "    preprocessing.RandomZoom(0.2),\n",
    "    preprocessing.RandomHeight(0.2),\n",
    "    preprocessing.RandomWidth(0.2)\n",
    "],name=\"data_augmentation\")"
   ]
  },
  {
   "cell_type": "code",
   "execution_count": 13,
   "metadata": {},
   "outputs": [],
   "source": [
    "# Build a headless model (no top layers) Functional EfficientNetB0 model\n",
    "\n",
    "# Input shape of the data\n",
    "input_shape=(224,224,3)\n",
    "\n",
    "# Create a frozen base model\n",
    "base_model=tf.keras.applications.EfficientNetB0(include_top=False)\n",
    "base_model.trainable=False\n",
    "\n",
    "# Create layers\n",
    "inputs=layers.Input(shape=input_shape,name=\"input_layer\")\n",
    "x=data_augmentation(inputs)\n",
    "x=base_model(x,training=False)\n",
    "x=layers.GlobalAveragePooling2D(name=\"global_avg_pool_layer\")(x)\n",
    "outputs=layers.Dense(len(train_data_all_10_percent.class_names),activation=\"softmax\",name=\"output_layer\")(x)\n",
    "\n",
    "# Construct model\n",
    "model=tf.keras.Model(inputs,outputs)        "
   ]
  },
  {
   "cell_type": "code",
   "execution_count": 14,
   "metadata": {},
   "outputs": [
    {
     "name": "stdout",
     "output_type": "stream",
     "text": [
      "Model: \"model\"\n",
      "_________________________________________________________________\n",
      " Layer (type)                Output Shape              Param #   \n",
      "=================================================================\n",
      " input_layer (InputLayer)    [(None, 224, 224, 3)]     0         \n",
      "                                                                 \n",
      " data_augmentation (Sequenti  (None, 224, 224, 3)      0         \n",
      " al)                                                             \n",
      "                                                                 \n",
      " efficientnetb0 (Functional)  (None, None, None, 1280)  4049571  \n",
      "                                                                 \n",
      " global_avg_pool_layer (Glob  (None, 1280)             0         \n",
      " alAveragePooling2D)                                             \n",
      "                                                                 \n",
      " output_layer (Dense)        (None, 101)               129381    \n",
      "                                                                 \n",
      "=================================================================\n",
      "Total params: 4,178,952\n",
      "Trainable params: 129,381\n",
      "Non-trainable params: 4,049,571\n",
      "_________________________________________________________________\n"
     ]
    }
   ],
   "source": [
    "# Get a summary of the model we created\n",
    "model.summary()"
   ]
  },
  {
   "cell_type": "code",
   "execution_count": 17,
   "metadata": {},
   "outputs": [
    {
     "name": "stdout",
     "output_type": "stream",
     "text": [
      "Epoch 1/5\n",
      "237/237 [==============================] - 116s 436ms/step - loss: 3.2035 - accuracy: 0.3133 - val_loss: 2.3757 - val_accuracy: 0.4725\n",
      "Epoch 2/5\n",
      "237/237 [==============================] - 83s 349ms/step - loss: 1.9558 - accuracy: 0.5607 - val_loss: 1.9356 - val_accuracy: 0.5273\n",
      "Epoch 3/5\n",
      "237/237 [==============================] - 77s 325ms/step - loss: 1.5658 - accuracy: 0.6350 - val_loss: 1.7846 - val_accuracy: 0.5474\n",
      "Epoch 4/5\n",
      "237/237 [==============================] - 72s 302ms/step - loss: 1.3362 - accuracy: 0.6845 - val_loss: 1.6932 - val_accuracy: 0.5630\n",
      "Epoch 5/5\n",
      "237/237 [==============================] - 69s 291ms/step - loss: 1.1725 - accuracy: 0.7250 - val_loss: 1.6381 - val_accuracy: 0.5673\n"
     ]
    }
   ],
   "source": [
    "# Compile the model\n",
    "model.compile(loss=\"categorical_crossentropy\",\n",
    "              optimizer=tf.keras.optimizers.Adam(),\n",
    "              metrics=[\"accuracy\"])\n",
    "\n",
    "# Fit the model \n",
    "history_all_classes_10_percent = model.fit(train_data_all_10_percent,\n",
    "                                           epochs=5,\n",
    "                                           validation_data=test_data,\n",
    "                                           validation_steps=int(0.15*len(test_data)), # validate on only 15% of the data\n",
    "                                           callbacks=[checkpoint_callback])\n"
   ]
  },
  {
   "cell_type": "code",
   "execution_count": 20,
   "metadata": {},
   "outputs": [
    {
     "name": "stdout",
     "output_type": "stream",
     "text": [
      "790/790 [==============================] - 99s 125ms/step - loss: 1.4689 - accuracy: 0.6116\n"
     ]
    }
   ],
   "source": [
    "# Evaluate on the whole test dataset\n",
    "feature_extraction_results=model.evaluate(test_data)"
   ]
  },
  {
   "cell_type": "code",
   "execution_count": 21,
   "metadata": {},
   "outputs": [
    {
     "data": {
      "image/png": "[encoded data removed]",
      "text/plain": [
       "<Figure size 432x288 with 1 Axes>"
      ]
     },
     "metadata": {
      "needs_background": "light"
     },
     "output_type": "display_data"
    },
    {
     "data": {
      "image/png": "[encoded data removed]",
      "text/plain": [
       "<Figure size 432x288 with 1 Axes>"
      ]
     },
     "metadata": {
      "needs_background": "light"
     },
     "output_type": "display_data"
    }
   ],
   "source": [
    "# Let's look at the loss curves\n",
    "plot_loss_curves(history_all_classes_10_percent)"
   ]
  },
  {
   "cell_type": "markdown",
   "metadata": {},
   "source": [
    "**Note**: It appears that our model is overfitting (performing too well on the training data and not generalizing to unseen data)"
   ]
  },
  {
   "cell_type": "markdown",
   "metadata": {},
   "source": [
    "## Fine-tuning"
   ]
  },
  {
   "cell_type": "code",
   "execution_count": 22,
   "metadata": {},
   "outputs": [],
   "source": [
    "# Unfreeze all of the layers in the base model\n",
    "base_model.trainable=True\n",
    "\n",
    "# Refreeze every layer but the last 5\n",
    "for layer in base_model.layers[:-5]:\n",
    "    layer.trainable=False"
   ]
  },
  {
   "cell_type": "code",
   "execution_count": 33,
   "metadata": {},
   "outputs": [],
   "source": [
    "# Recompile the model with lower learning_rate\n",
    "model.compile(loss=\"categorical_crossentropy\",\n",
    "              optimizer=tf.keras.optimizers.Adam(learning_rate=0.0001), # learning rate lowered by 10x\n",
    "              metrics=[\"accuracy\"])"
   ]
  },
  {
   "cell_type": "code",
   "execution_count": 27,
   "metadata": {},
   "outputs": [
    {
     "name": "stdout",
     "output_type": "stream",
     "text": [
      "input_layer True\n",
      "data_augmentation True\n",
      "efficientnetb0 True\n",
      "global_avg_pool_layer True\n",
      "output_layer True\n"
     ]
    }
   ],
   "source": [
    "# What layers in the model are trainable\n",
    "for layer in model.layers:\n",
    "    print(layer.name,layer.trainable)"
   ]
  },
  {
   "cell_type": "code",
   "execution_count": 29,
   "metadata": {},
   "outputs": [
    {
     "name": "stdout",
     "output_type": "stream",
     "text": [
      "0 input_1 False\n",
      "1 rescaling False\n",
      "2 normalization False\n",
      "3 tf.math.truediv False\n",
      "4 stem_conv_pad False\n",
      "5 stem_conv False\n",
      "6 stem_bn False\n",
      "7 stem_activation False\n",
      "8 block1a_dwconv False\n",
      "9 block1a_bn False\n",
      "10 block1a_activation False\n",
      "11 block1a_se_squeeze False\n",
      "12 block1a_se_reshape False\n",
      "13 block1a_se_reduce False\n",
      "14 block1a_se_expand False\n",
      "15 block1a_se_excite False\n",
      "16 block1a_project_conv False\n",
      "17 block1a_project_bn False\n",
      "18 block2a_expand_conv False\n",
      "19 block2a_expand_bn False\n",
      "20 block2a_expand_activation False\n",
      "21 block2a_dwconv_pad False\n",
      "22 block2a_dwconv False\n",
      "23 block2a_bn False\n",
      "24 block2a_activation False\n",
      "25 block2a_se_squeeze False\n",
      "26 block2a_se_reshape False\n",
      "27 block2a_se_reduce False\n",
      "28 block2a_se_expand False\n",
      "29 block2a_se_excite False\n",
      "30 block2a_project_conv False\n",
      "31 block2a_project_bn False\n",
      "32 block2b_expand_conv False\n",
      "33 block2b_expand_bn False\n",
      "34 block2b_expand_activation False\n",
      "35 block2b_dwconv False\n",
      "36 block2b_bn False\n",
      "37 block2b_activation False\n",
      "38 block2b_se_squeeze False\n",
      "39 block2b_se_reshape False\n",
      "40 block2b_se_reduce False\n",
      "41 block2b_se_expand False\n",
      "42 block2b_se_excite False\n",
      "43 block2b_project_conv False\n",
      "44 block2b_project_bn False\n",
      "45 block2b_drop False\n",
      "46 block2b_add False\n",
      "47 block3a_expand_conv False\n",
      "48 block3a_expand_bn False\n",
      "49 block3a_expand_activation False\n",
      "50 block3a_dwconv_pad False\n",
      "51 block3a_dwconv False\n",
      "52 block3a_bn False\n",
      "53 block3a_activation False\n",
      "54 block3a_se_squeeze False\n",
      "55 block3a_se_reshape False\n",
      "56 block3a_se_reduce False\n",
      "57 block3a_se_expand False\n",
      "58 block3a_se_excite False\n",
      "59 block3a_project_conv False\n",
      "60 block3a_project_bn False\n",
      "61 block3b_expand_conv False\n",
      "62 block3b_expand_bn False\n",
      "63 block3b_expand_activation False\n",
      "64 block3b_dwconv False\n",
      "65 block3b_bn False\n",
      "66 block3b_activation False\n",
      "67 block3b_se_squeeze False\n",
      "68 block3b_se_reshape False\n",
      "69 block3b_se_reduce False\n",
      "70 block3b_se_expand False\n",
      "71 block3b_se_excite False\n",
      "72 block3b_project_conv False\n",
      "73 block3b_project_bn False\n",
      "74 block3b_drop False\n",
      "75 block3b_add False\n",
      "76 block4a_expand_conv False\n",
      "77 block4a_expand_bn False\n",
      "78 block4a_expand_activation False\n",
      "79 block4a_dwconv_pad False\n",
      "80 block4a_dwconv False\n",
      "81 block4a_bn False\n",
      "82 block4a_activation False\n",
      "83 block4a_se_squeeze False\n",
      "84 block4a_se_reshape False\n",
      "85 block4a_se_reduce False\n",
      "86 block4a_se_expand False\n",
      "87 block4a_se_excite False\n",
      "88 block4a_project_conv False\n",
      "89 block4a_project_bn False\n",
      "90 block4b_expand_conv False\n",
      "91 block4b_expand_bn False\n",
      "92 block4b_expand_activation False\n",
      "93 block4b_dwconv False\n",
      "94 block4b_bn False\n",
      "95 block4b_activation False\n",
      "96 block4b_se_squeeze False\n",
      "97 block4b_se_reshape False\n",
      "98 block4b_se_reduce False\n",
      "99 block4b_se_expand False\n",
      "100 block4b_se_excite False\n",
      "101 block4b_project_conv False\n",
      "102 block4b_project_bn False\n",
      "103 block4b_drop False\n",
      "104 block4b_add False\n",
      "105 block4c_expand_conv False\n",
      "106 block4c_expand_bn False\n",
      "107 block4c_expand_activation False\n",
      "108 block4c_dwconv False\n",
      "109 block4c_bn False\n",
      "110 block4c_activation False\n",
      "111 block4c_se_squeeze False\n",
      "112 block4c_se_reshape False\n",
      "113 block4c_se_reduce False\n",
      "114 block4c_se_expand False\n",
      "115 block4c_se_excite False\n",
      "116 block4c_project_conv False\n",
      "117 block4c_project_bn False\n",
      "118 block4c_drop False\n",
      "119 block4c_add False\n",
      "120 block5a_expand_conv False\n",
      "121 block5a_expand_bn False\n",
      "122 block5a_expand_activation False\n",
      "123 block5a_dwconv False\n",
      "124 block5a_bn False\n",
      "125 block5a_activation False\n",
      "126 block5a_se_squeeze False\n",
      "127 block5a_se_reshape False\n",
      "128 block5a_se_reduce False\n",
      "129 block5a_se_expand False\n",
      "130 block5a_se_excite False\n",
      "131 block5a_project_conv False\n",
      "132 block5a_project_bn False\n",
      "133 block5b_expand_conv False\n",
      "134 block5b_expand_bn False\n",
      "135 block5b_expand_activation False\n",
      "136 block5b_dwconv False\n",
      "137 block5b_bn False\n",
      "138 block5b_activation False\n",
      "139 block5b_se_squeeze False\n",
      "140 block5b_se_reshape False\n",
      "141 block5b_se_reduce False\n",
      "142 block5b_se_expand False\n",
      "143 block5b_se_excite False\n",
      "144 block5b_project_conv False\n",
      "145 block5b_project_bn False\n",
      "146 block5b_drop False\n",
      "147 block5b_add False\n",
      "148 block5c_expand_conv False\n",
      "149 block5c_expand_bn False\n",
      "150 block5c_expand_activation False\n",
      "151 block5c_dwconv False\n",
      "152 block5c_bn False\n",
      "153 block5c_activation False\n",
      "154 block5c_se_squeeze False\n",
      "155 block5c_se_reshape False\n",
      "156 block5c_se_reduce False\n",
      "157 block5c_se_expand False\n",
      "158 block5c_se_excite False\n",
      "159 block5c_project_conv False\n",
      "160 block5c_project_bn False\n",
      "161 block5c_drop False\n",
      "162 block5c_add False\n",
      "163 block6a_expand_conv False\n",
      "164 block6a_expand_bn False\n",
      "165 block6a_expand_activation False\n",
      "166 block6a_dwconv_pad False\n",
      "167 block6a_dwconv False\n",
      "168 block6a_bn False\n",
      "169 block6a_activation False\n",
      "170 block6a_se_squeeze False\n",
      "171 block6a_se_reshape False\n",
      "172 block6a_se_reduce False\n",
      "173 block6a_se_expand False\n",
      "174 block6a_se_excite False\n",
      "175 block6a_project_conv False\n",
      "176 block6a_project_bn False\n",
      "177 block6b_expand_conv False\n",
      "178 block6b_expand_bn False\n",
      "179 block6b_expand_activation False\n",
      "180 block6b_dwconv False\n",
      "181 block6b_bn False\n",
      "182 block6b_activation False\n",
      "183 block6b_se_squeeze False\n",
      "184 block6b_se_reshape False\n",
      "185 block6b_se_reduce False\n",
      "186 block6b_se_expand False\n",
      "187 block6b_se_excite False\n",
      "188 block6b_project_conv False\n",
      "189 block6b_project_bn False\n",
      "190 block6b_drop False\n",
      "191 block6b_add False\n",
      "192 block6c_expand_conv False\n",
      "193 block6c_expand_bn False\n",
      "194 block6c_expand_activation False\n",
      "195 block6c_dwconv False\n",
      "196 block6c_bn False\n",
      "197 block6c_activation False\n",
      "198 block6c_se_squeeze False\n",
      "199 block6c_se_reshape False\n",
      "200 block6c_se_reduce False\n",
      "201 block6c_se_expand False\n",
      "202 block6c_se_excite False\n",
      "203 block6c_project_conv False\n",
      "204 block6c_project_bn False\n",
      "205 block6c_drop False\n",
      "206 block6c_add False\n",
      "207 block6d_expand_conv False\n",
      "208 block6d_expand_bn False\n",
      "209 block6d_expand_activation False\n",
      "210 block6d_dwconv False\n",
      "211 block6d_bn False\n",
      "212 block6d_activation False\n",
      "213 block6d_se_squeeze False\n",
      "214 block6d_se_reshape False\n",
      "215 block6d_se_reduce False\n",
      "216 block6d_se_expand False\n",
      "217 block6d_se_excite False\n",
      "218 block6d_project_conv False\n",
      "219 block6d_project_bn False\n",
      "220 block6d_drop False\n",
      "221 block6d_add False\n",
      "222 block7a_expand_conv False\n",
      "223 block7a_expand_bn False\n",
      "224 block7a_expand_activation False\n",
      "225 block7a_dwconv False\n",
      "226 block7a_bn False\n",
      "227 block7a_activation False\n",
      "228 block7a_se_squeeze False\n",
      "229 block7a_se_reshape False\n",
      "230 block7a_se_reduce False\n",
      "231 block7a_se_expand False\n",
      "232 block7a_se_excite False\n",
      "233 block7a_project_conv True\n",
      "234 block7a_project_bn True\n",
      "235 top_conv True\n",
      "236 top_bn True\n",
      "237 top_activation True\n"
     ]
    }
   ],
   "source": [
    "# Check which layers are trainabale in our base model\n",
    "for layer_number,layer in enumerate(base_model.layers):\n",
    "    print(layer_number,layer.name,layer.trainable)"
   ]
  },
  {
   "cell_type": "code",
   "execution_count": 34,
   "metadata": {},
   "outputs": [
    {
     "name": "stdout",
     "output_type": "stream",
     "text": [
      "Epoch 5/10\n",
      "237/237 [==============================] - 78s 304ms/step - loss: 0.9232 - accuracy: 0.7650 - val_loss: 1.6133 - val_accuracy: 0.5789\n",
      "Epoch 6/10\n",
      "237/237 [==============================] - 65s 275ms/step - loss: 0.8012 - accuracy: 0.7856 - val_loss: 1.6485 - val_accuracy: 0.5675\n",
      "Epoch 7/10\n",
      "237/237 [==============================] - 66s 280ms/step - loss: 0.7152 - accuracy: 0.8132 - val_loss: 1.6331 - val_accuracy: 0.5712\n",
      "Epoch 8/10\n",
      "237/237 [==============================] - 65s 275ms/step - loss: 0.6545 - accuracy: 0.8280 - val_loss: 1.6591 - val_accuracy: 0.5704\n",
      "Epoch 9/10\n",
      "237/237 [==============================] - 64s 269ms/step - loss: 0.5864 - accuracy: 0.8536 - val_loss: 1.6435 - val_accuracy: 0.5702\n",
      "Epoch 10/10\n",
      "237/237 [==============================] - 62s 262ms/step - loss: 0.5343 - accuracy: 0.8673 - val_loss: 1.6745 - val_accuracy: 0.5749\n"
     ]
    }
   ],
   "source": [
    "# Fine tune for another 5 epochs\n",
    "# model has already done 5 epochs, total number of epochs we're after (5+5 = 10)\n",
    "fine_tune_epochs = 10\n",
    "\n",
    "# Refit the model\n",
    "history_all_classes_10_percent_fine_tune = model.fit(train_data_all_10_percent,\n",
    "                                                     epochs=fine_tune_epochs,\n",
    "                                                     initial_epoch=history_all_classes_10_percent.epoch[-1],\n",
    "                                                     validation_data=test_data,\n",
    "                                                     validation_steps=int(0.15*len(test_data)))\n"
   ]
  },
  {
   "cell_type": "code",
   "execution_count": 35,
   "metadata": {},
   "outputs": [
    {
     "name": "stdout",
     "output_type": "stream",
     "text": [
      "790/790 [==============================] - 98s 124ms/step - loss: 1.4292 - accuracy: 0.6255\n"
     ]
    }
   ],
   "source": [
    "# Evaluate on the whole test data\n",
    "all_classes_10_percent_fine_tune_results=model.evaluate(test_data)"
   ]
  },
  {
   "cell_type": "code",
   "execution_count": 36,
   "metadata": {},
   "outputs": [
    {
     "data": {
      "image/png": "[encoded data removed]",
      "text/plain": [
       "<Figure size 576x576 with 2 Axes>"
      ]
     },
     "metadata": {
      "needs_background": "light"
     },
     "output_type": "display_data"
    }
   ],
   "source": [
    "compare_historys(history_all_classes_10_percent,history_all_classes_10_percent_fine_tune)"
   ]
  },
  {
   "cell_type": "markdown",
   "metadata": {},
   "source": [
    "## Saving and loading our model\n",
    "\n",
    "To use our model in an external application, we'll need to save it and export it somewhere"
   ]
  },
  {
   "cell_type": "code",
   "execution_count": 38,
   "metadata": {},
   "outputs": [
    {
     "name": "stderr",
     "output_type": "stream",
     "text": [
      "WARNING:absl:Found untraced functions such as _jit_compiled_convolution_op, _jit_compiled_convolution_op, _jit_compiled_convolution_op, _jit_compiled_convolution_op, _jit_compiled_convolution_op while saving (showing 5 of 81). These functions will not be directly callable after loading.\n"
     ]
    },
    {
     "name": "stdout",
     "output_type": "stream",
     "text": [
      "INFO:tensorflow:Assets written to: G:/UMass/Courses/Year_4 (2022)/TensorFlowDeveloperLocal/TensorFlow-Developer-Course/101_food_classes_10_percent_saved_big_dog_model\\assets\n"
     ]
    },
    {
     "name": "stderr",
     "output_type": "stream",
     "text": [
      "INFO:tensorflow:Assets written to: G:/UMass/Courses/Year_4 (2022)/TensorFlowDeveloperLocal/TensorFlow-Developer-Course/101_food_classes_10_percent_saved_big_dog_model\\assets\n"
     ]
    }
   ],
   "source": [
    "# Save our fine-tuned model\n",
    "model.save(\"G:/UMass/Courses/Year_4 (2022)/TensorFlowDeveloperLocal/TensorFlow-Developer-Course/101_food_classes_10_percent_saved_big_dog_model\")"
   ]
  },
  {
   "cell_type": "code",
   "execution_count": 40,
   "metadata": {},
   "outputs": [],
   "source": [
    "# Load an evaluated model\n",
    "loaded_model=tf.keras.models.load_model(\"G:/UMass/Courses/Year_4 (2022)/TensorFlowDeveloperLocal/TensorFlow-Developer-Course/101_food_classes_10_percent_saved_big_dog_model\")"
   ]
  },
  {
   "cell_type": "code",
   "execution_count": 41,
   "metadata": {},
   "outputs": [
    {
     "name": "stdout",
     "output_type": "stream",
     "text": [
      "790/790 [==============================] - 105s 131ms/step - loss: 1.4292 - accuracy: 0.6255\n"
     ]
    }
   ],
   "source": [
    "# Evaluate loaded model and compare performance to pre-saved model\n",
    "loaded_model_results=loaded_model.evaluate(test_data)"
   ]
  },
  {
   "cell_type": "code",
   "execution_count": 42,
   "metadata": {},
   "outputs": [
    {
     "data": {
      "text/plain": [
       "[1.429176926612854, 0.625544548034668]"
      ]
     },
     "execution_count": 42,
     "metadata": {},
     "output_type": "execute_result"
    }
   ],
   "source": [
    "# The results from oour loaded_model (above) should be very similar to the results below\n",
    "all_classes_10_percent_fine_tune_results"
   ]
  },
  {
   "cell_type": "markdown",
   "metadata": {},
   "source": [
    "## Evaluating the performance of the big model across all different classes\n",
    "\n",
    "Let's make some predictions, visualize them, and then later find out which predictions were the \"most\" wrong"
   ]
  },
  {
   "cell_type": "code",
   "execution_count": 43,
   "metadata": {},
   "outputs": [],
   "source": [
    "# Unzip the data\n",
    "unzip_data(\"06_101_food_class_10_percent_saved_big_dog_model.zip\")"
   ]
  },
  {
   "cell_type": "code",
   "execution_count": null,
   "metadata": {},
   "outputs": [],
   "source": [
    "# Load in saved model\n",
    "model=tf.keras.models.load_model(\"G:/UMass/Courses/Year_4 (2022)/TensorFlowDeveloperLocal/TensorFlow-Developer-Course/06_101_food_class_10_percent_saved_big_dog_model\")"
   ]
  },
  {
   "cell_type": "code",
   "execution_count": 46,
   "metadata": {},
   "outputs": [
    {
     "name": "stdout",
     "output_type": "stream",
     "text": [
      "790/790 [==============================] - 103s 129ms/step - loss: 1.8027 - accuracy: 0.6078\n"
     ]
    }
   ],
   "source": [
    "# Evaluate the loaded model\n",
    "results_downloaded_model=model.evaluate(test_data)"
   ]
  }
 ],
 "metadata": {
  "kernelspec": {
   "display_name": "Python 3.9.0 ('tf2.9')",
   "language": "python",
   "name": "python3"
  },
  "language_info": {
   "codemirror_mode": {
    "name": "ipython",
    "version": 3
   },
   "file_extension": ".py",
   "mimetype": "text/x-python",
   "name": "python",
   "nbconvert_exporter": "python",
   "pygments_lexer": "ipython3",
   "version": "3.9.0"
  },
  "orig_nbformat": 4,
  "vscode": {
   "interpreter": {
    "hash": "3b857c820aa0d415be1b12344743bfddcf32111184ae560db226809c81026c4c"
   }
  }
 },
 "nbformat": 4,
 "nbformat_minor": 2
}

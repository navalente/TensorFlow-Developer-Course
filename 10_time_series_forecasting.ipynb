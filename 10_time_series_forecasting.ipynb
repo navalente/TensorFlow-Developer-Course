{
 "cells": [
  {
   "attachments": {},
   "cell_type": "markdown",
   "metadata": {},
   "source": [
    "# Time series forecasting fundamentals with TensorFlow + Milestone Project 3: BitPredict 💰"
   ]
  },
  {
   "cell_type": "markdown",
   "metadata": {},
   "source": [
    "## Get data\n",
    "\n",
    "We're going to be using the historical price of Bitcoin to try and predict the future price of Bitcoin"
   ]
  },
  {
   "cell_type": "code",
   "execution_count": null,
   "metadata": {},
   "outputs": [],
   "source": [
    "!wget https://raw.githubusercontent.com/mrdbourke/tensorflow-deep-learning/main/extras/BTC_USD_2013-10-01_2021-05-18-CoinDesk.csv"
   ]
  },
  {
   "attachments": {},
   "cell_type": "markdown",
   "metadata": {},
   "source": [
    "## Import time series data with Pandas"
   ]
  },
  {
   "cell_type": "code",
   "execution_count": 1,
   "metadata": {},
   "outputs": [
    {
     "data": {
      "text/html": [
       "<div>\n",
       "<style scoped>\n",
       "    .dataframe tbody tr th:only-of-type {\n",
       "        vertical-align: middle;\n",
       "    }\n",
       "\n",
       "    .dataframe tbody tr th {\n",
       "        vertical-align: top;\n",
       "    }\n",
       "\n",
       "    .dataframe thead th {\n",
       "        text-align: right;\n",
       "    }\n",
       "</style>\n",
       "<table border=\"1\" class=\"dataframe\">\n",
       "  <thead>\n",
       "    <tr style=\"text-align: right;\">\n",
       "      <th></th>\n",
       "      <th>Currency</th>\n",
       "      <th>Closing Price (USD)</th>\n",
       "      <th>24h Open (USD)</th>\n",
       "      <th>24h High (USD)</th>\n",
       "      <th>24h Low (USD)</th>\n",
       "    </tr>\n",
       "    <tr>\n",
       "      <th>Date</th>\n",
       "      <th></th>\n",
       "      <th></th>\n",
       "      <th></th>\n",
       "      <th></th>\n",
       "      <th></th>\n",
       "    </tr>\n",
       "  </thead>\n",
       "  <tbody>\n",
       "    <tr>\n",
       "      <th>2013-10-01</th>\n",
       "      <td>BTC</td>\n",
       "      <td>123.65499</td>\n",
       "      <td>124.30466</td>\n",
       "      <td>124.75166</td>\n",
       "      <td>122.56349</td>\n",
       "    </tr>\n",
       "    <tr>\n",
       "      <th>2013-10-02</th>\n",
       "      <td>BTC</td>\n",
       "      <td>125.45500</td>\n",
       "      <td>123.65499</td>\n",
       "      <td>125.75850</td>\n",
       "      <td>123.63383</td>\n",
       "    </tr>\n",
       "    <tr>\n",
       "      <th>2013-10-03</th>\n",
       "      <td>BTC</td>\n",
       "      <td>108.58483</td>\n",
       "      <td>125.45500</td>\n",
       "      <td>125.66566</td>\n",
       "      <td>83.32833</td>\n",
       "    </tr>\n",
       "    <tr>\n",
       "      <th>2013-10-04</th>\n",
       "      <td>BTC</td>\n",
       "      <td>118.67466</td>\n",
       "      <td>108.58483</td>\n",
       "      <td>118.67500</td>\n",
       "      <td>107.05816</td>\n",
       "    </tr>\n",
       "    <tr>\n",
       "      <th>2013-10-05</th>\n",
       "      <td>BTC</td>\n",
       "      <td>121.33866</td>\n",
       "      <td>118.67466</td>\n",
       "      <td>121.93633</td>\n",
       "      <td>118.00566</td>\n",
       "    </tr>\n",
       "  </tbody>\n",
       "</table>\n",
       "</div>"
      ],
      "text/plain": [
       "           Currency  Closing Price (USD)  24h Open (USD)  24h High (USD)  \\\n",
       "Date                                                                       \n",
       "2013-10-01      BTC            123.65499       124.30466       124.75166   \n",
       "2013-10-02      BTC            125.45500       123.65499       125.75850   \n",
       "2013-10-03      BTC            108.58483       125.45500       125.66566   \n",
       "2013-10-04      BTC            118.67466       108.58483       118.67500   \n",
       "2013-10-05      BTC            121.33866       118.67466       121.93633   \n",
       "\n",
       "            24h Low (USD)  \n",
       "Date                       \n",
       "2013-10-01      122.56349  \n",
       "2013-10-02      123.63383  \n",
       "2013-10-03       83.32833  \n",
       "2013-10-04      107.05816  \n",
       "2013-10-05      118.00566  "
      ]
     },
     "execution_count": 1,
     "metadata": {},
     "output_type": "execute_result"
    }
   ],
   "source": [
    "# Import pandas\n",
    "import pandas as pd\n",
    "\n",
    "# Let's read in the data\n",
    "df = pd.read_csv(\"BTC_USD_2013-10-01_2021-05-18-CoinDesk.csv\",\n",
    "                 parse_dates=[\"Date\"],\n",
    "                 index_col=[\"Date\"]) # parse the date column and tell pandas column 1 is a date time\n",
    "\n",
    "df.head()"
   ]
  },
  {
   "cell_type": "code",
   "execution_count": 2,
   "metadata": {},
   "outputs": [
    {
     "data": {
      "text/html": [
       "<div>\n",
       "<style scoped>\n",
       "    .dataframe tbody tr th:only-of-type {\n",
       "        vertical-align: middle;\n",
       "    }\n",
       "\n",
       "    .dataframe tbody tr th {\n",
       "        vertical-align: top;\n",
       "    }\n",
       "\n",
       "    .dataframe thead th {\n",
       "        text-align: right;\n",
       "    }\n",
       "</style>\n",
       "<table border=\"1\" class=\"dataframe\">\n",
       "  <thead>\n",
       "    <tr style=\"text-align: right;\">\n",
       "      <th></th>\n",
       "      <th>Currency</th>\n",
       "      <th>Closing Price (USD)</th>\n",
       "      <th>24h Open (USD)</th>\n",
       "      <th>24h High (USD)</th>\n",
       "      <th>24h Low (USD)</th>\n",
       "    </tr>\n",
       "    <tr>\n",
       "      <th>Date</th>\n",
       "      <th></th>\n",
       "      <th></th>\n",
       "      <th></th>\n",
       "      <th></th>\n",
       "      <th></th>\n",
       "    </tr>\n",
       "  </thead>\n",
       "  <tbody>\n",
       "    <tr>\n",
       "      <th>2021-05-14</th>\n",
       "      <td>BTC</td>\n",
       "      <td>49764.132082</td>\n",
       "      <td>49596.778891</td>\n",
       "      <td>51448.798576</td>\n",
       "      <td>46294.720180</td>\n",
       "    </tr>\n",
       "    <tr>\n",
       "      <th>2021-05-15</th>\n",
       "      <td>BTC</td>\n",
       "      <td>50032.693137</td>\n",
       "      <td>49717.354353</td>\n",
       "      <td>51578.312545</td>\n",
       "      <td>48944.346536</td>\n",
       "    </tr>\n",
       "    <tr>\n",
       "      <th>2021-05-16</th>\n",
       "      <td>BTC</td>\n",
       "      <td>47885.625255</td>\n",
       "      <td>49926.035067</td>\n",
       "      <td>50690.802950</td>\n",
       "      <td>47005.102292</td>\n",
       "    </tr>\n",
       "    <tr>\n",
       "      <th>2021-05-17</th>\n",
       "      <td>BTC</td>\n",
       "      <td>45604.615754</td>\n",
       "      <td>46805.537852</td>\n",
       "      <td>49670.414174</td>\n",
       "      <td>43868.638969</td>\n",
       "    </tr>\n",
       "    <tr>\n",
       "      <th>2021-05-18</th>\n",
       "      <td>BTC</td>\n",
       "      <td>43144.471291</td>\n",
       "      <td>46439.336570</td>\n",
       "      <td>46622.853437</td>\n",
       "      <td>42102.346430</td>\n",
       "    </tr>\n",
       "  </tbody>\n",
       "</table>\n",
       "</div>"
      ],
      "text/plain": [
       "           Currency  Closing Price (USD)  24h Open (USD)  24h High (USD)  \\\n",
       "Date                                                                       \n",
       "2021-05-14      BTC         49764.132082    49596.778891    51448.798576   \n",
       "2021-05-15      BTC         50032.693137    49717.354353    51578.312545   \n",
       "2021-05-16      BTC         47885.625255    49926.035067    50690.802950   \n",
       "2021-05-17      BTC         45604.615754    46805.537852    49670.414174   \n",
       "2021-05-18      BTC         43144.471291    46439.336570    46622.853437   \n",
       "\n",
       "            24h Low (USD)  \n",
       "Date                       \n",
       "2021-05-14   46294.720180  \n",
       "2021-05-15   48944.346536  \n",
       "2021-05-16   47005.102292  \n",
       "2021-05-17   43868.638969  \n",
       "2021-05-18   42102.346430  "
      ]
     },
     "execution_count": 2,
     "metadata": {},
     "output_type": "execute_result"
    }
   ],
   "source": [
    "# Last samples from the data set\n",
    "df.tail()"
   ]
  },
  {
   "cell_type": "code",
   "execution_count": 3,
   "metadata": {},
   "outputs": [
    {
     "name": "stdout",
     "output_type": "stream",
     "text": [
      "<class 'pandas.core.frame.DataFrame'>\n",
      "DatetimeIndex: 2787 entries, 2013-10-01 to 2021-05-18\n",
      "Data columns (total 5 columns):\n",
      " #   Column               Non-Null Count  Dtype  \n",
      "---  ------               --------------  -----  \n",
      " 0   Currency             2787 non-null   object \n",
      " 1   Closing Price (USD)  2787 non-null   float64\n",
      " 2   24h Open (USD)       2787 non-null   float64\n",
      " 3   24h High (USD)       2787 non-null   float64\n",
      " 4   24h Low (USD)        2787 non-null   float64\n",
      "dtypes: float64(4), object(1)\n",
      "memory usage: 130.6+ KB\n"
     ]
    }
   ],
   "source": [
    "# Grab info from the dataframe\n",
    "df.info()"
   ]
  },
  {
   "attachments": {},
   "cell_type": "markdown",
   "metadata": {},
   "source": [
    "We've collected the historical price of Bitcoin for the past ~8 years but there's 2787 samples. \n",
    "\n",
    "Typically, deep learning models like lots of samples. 1,000 - 10,000 - 1,000,000\n",
    "\n",
    "A smaller number of samples is something you'll often run into with time series data problems"
   ]
  },
  {
   "cell_type": "code",
   "execution_count": 4,
   "metadata": {},
   "outputs": [
    {
     "data": {
      "text/plain": [
       "2787"
      ]
     },
     "execution_count": 4,
     "metadata": {},
     "output_type": "execute_result"
    }
   ],
   "source": [
    "# How many samples\n",
    "len(df) # 365 * 8"
   ]
  },
  {
   "cell_type": "code",
   "execution_count": 5,
   "metadata": {},
   "outputs": [
    {
     "data": {
      "text/html": [
       "<div>\n",
       "<style scoped>\n",
       "    .dataframe tbody tr th:only-of-type {\n",
       "        vertical-align: middle;\n",
       "    }\n",
       "\n",
       "    .dataframe tbody tr th {\n",
       "        vertical-align: top;\n",
       "    }\n",
       "\n",
       "    .dataframe thead th {\n",
       "        text-align: right;\n",
       "    }\n",
       "</style>\n",
       "<table border=\"1\" class=\"dataframe\">\n",
       "  <thead>\n",
       "    <tr style=\"text-align: right;\">\n",
       "      <th></th>\n",
       "      <th>Price</th>\n",
       "    </tr>\n",
       "    <tr>\n",
       "      <th>Date</th>\n",
       "      <th></th>\n",
       "    </tr>\n",
       "  </thead>\n",
       "  <tbody>\n",
       "    <tr>\n",
       "      <th>2013-10-01</th>\n",
       "      <td>123.654990</td>\n",
       "    </tr>\n",
       "    <tr>\n",
       "      <th>2013-10-02</th>\n",
       "      <td>125.455000</td>\n",
       "    </tr>\n",
       "    <tr>\n",
       "      <th>2013-10-03</th>\n",
       "      <td>108.584830</td>\n",
       "    </tr>\n",
       "    <tr>\n",
       "      <th>2013-10-04</th>\n",
       "      <td>118.674660</td>\n",
       "    </tr>\n",
       "    <tr>\n",
       "      <th>2013-10-05</th>\n",
       "      <td>121.338660</td>\n",
       "    </tr>\n",
       "    <tr>\n",
       "      <th>...</th>\n",
       "      <td>...</td>\n",
       "    </tr>\n",
       "    <tr>\n",
       "      <th>2021-05-14</th>\n",
       "      <td>49764.132082</td>\n",
       "    </tr>\n",
       "    <tr>\n",
       "      <th>2021-05-15</th>\n",
       "      <td>50032.693137</td>\n",
       "    </tr>\n",
       "    <tr>\n",
       "      <th>2021-05-16</th>\n",
       "      <td>47885.625255</td>\n",
       "    </tr>\n",
       "    <tr>\n",
       "      <th>2021-05-17</th>\n",
       "      <td>45604.615754</td>\n",
       "    </tr>\n",
       "    <tr>\n",
       "      <th>2021-05-18</th>\n",
       "      <td>43144.471291</td>\n",
       "    </tr>\n",
       "  </tbody>\n",
       "</table>\n",
       "<p>2787 rows × 1 columns</p>\n",
       "</div>"
      ],
      "text/plain": [
       "                   Price\n",
       "Date                    \n",
       "2013-10-01    123.654990\n",
       "2013-10-02    125.455000\n",
       "2013-10-03    108.584830\n",
       "2013-10-04    118.674660\n",
       "2013-10-05    121.338660\n",
       "...                  ...\n",
       "2021-05-14  49764.132082\n",
       "2021-05-15  50032.693137\n",
       "2021-05-16  47885.625255\n",
       "2021-05-17  45604.615754\n",
       "2021-05-18  43144.471291\n",
       "\n",
       "[2787 rows x 1 columns]"
      ]
     },
     "execution_count": 5,
     "metadata": {},
     "output_type": "execute_result"
    }
   ],
   "source": [
    "# Only having the closing price for each day\n",
    "bitcoin_prices = pd.DataFrame(df[\"Closing Price (USD)\"]).rename(columns={\"Closing Price (USD)\":\"Price\"})\n",
    "bitcoin_prices"
   ]
  },
  {
   "cell_type": "code",
   "execution_count": 6,
   "metadata": {},
   "outputs": [
    {
     "data": {
      "image/png": "[encoded data removed]",
      "text/plain": [
       "<Figure size 720x504 with 1 Axes>"
      ]
     },
     "metadata": {
      "needs_background": "light"
     },
     "output_type": "display_data"
    }
   ],
   "source": [
    "import matplotlib.pyplot as plt\n",
    "bitcoin_prices.plot(figsize=(10,7))\n",
    "plt.ylabel(\"BTC Price\")\n",
    "plt.title(\"Price of Bitcoin from 1 Oct 2013 to 18 May 2021\",fontsize=16);\n",
    "plt.legend(fontsize=14);"
   ]
  },
  {
   "cell_type": "markdown",
   "metadata": {},
   "source": [
    "## Importing time series data with Python's CSV module"
   ]
  },
  {
   "cell_type": "code",
   "execution_count": 7,
   "metadata": {},
   "outputs": [
    {
     "data": {
      "text/plain": [
       "([datetime.datetime(2013, 10, 1, 0, 0),\n",
       "  datetime.datetime(2013, 10, 2, 0, 0),\n",
       "  datetime.datetime(2013, 10, 3, 0, 0),\n",
       "  datetime.datetime(2013, 10, 4, 0, 0),\n",
       "  datetime.datetime(2013, 10, 5, 0, 0),\n",
       "  datetime.datetime(2013, 10, 6, 0, 0),\n",
       "  datetime.datetime(2013, 10, 7, 0, 0),\n",
       "  datetime.datetime(2013, 10, 8, 0, 0),\n",
       "  datetime.datetime(2013, 10, 9, 0, 0),\n",
       "  datetime.datetime(2013, 10, 10, 0, 0)],\n",
       " [123.65499,\n",
       "  125.455,\n",
       "  108.58483,\n",
       "  118.67466,\n",
       "  121.33866,\n",
       "  120.65533,\n",
       "  121.795,\n",
       "  123.033,\n",
       "  124.049,\n",
       "  125.96116])"
      ]
     },
     "execution_count": 7,
     "metadata": {},
     "output_type": "execute_result"
    }
   ],
   "source": [
    "# Importing and formatting \n",
    "import csv\n",
    "from datetime import datetime\n",
    "\n",
    "timesteps = []\n",
    "btc_price = []\n",
    "\n",
    "with open(\"BTC_USD_2013-10-01_2021-05-18-CoinDesk.csv\",\"r\") as f:\n",
    "    csv_reader = csv.reader(f,delimiter=\",\")\n",
    "    next(csv_reader) # skip first line (gets ride of column titles)\n",
    "    for line in csv_reader:\n",
    "        timesteps.append(datetime.strptime(line[1],\"%Y-%m-%d\")) # Get the dates as dates (not strings)\n",
    "        btc_price.append(float(line[2])) # get the closing price as float\n",
    "\n",
    "# View first 10 of each\n",
    "timesteps[:10], btc_price[:10]        "
   ]
  },
  {
   "cell_type": "code",
   "execution_count": 8,
   "metadata": {},
   "outputs": [
    {
     "data": {
      "image/png": "[encoded data removed]",
      "text/plain": [
       "<Figure size 720x504 with 1 Axes>"
      ]
     },
     "metadata": {
      "needs_background": "light"
     },
     "output_type": "display_data"
    }
   ],
   "source": [
    "# Plot from csv\n",
    "import numpy as np\n",
    "plt.figure(figsize=(10,7))\n",
    "plt.plot(timesteps,btc_price)\n",
    "plt.ylabel(\"BTC Price\")\n",
    "plt.xlabel(\"Date\")\n",
    "plt.title(\"Price of Bitcoin from 1 Oct 2013 to 18 May 2021\",fontsize=16);"
   ]
  },
  {
   "attachments": {},
   "cell_type": "markdown",
   "metadata": {},
   "source": [
    "## Format data part 1: Create train and test sets of our time series data"
   ]
  },
  {
   "cell_type": "markdown",
   "metadata": {},
   "source": [
    "### Creating train and test sets with time series data (the wrong way)"
   ]
  },
  {
   "cell_type": "code",
   "execution_count": 9,
   "metadata": {},
   "outputs": [
    {
     "data": {
      "text/plain": [
       "(array(['2013-10-01T00:00:00.000000000', '2013-10-02T00:00:00.000000000',\n",
       "        '2013-10-03T00:00:00.000000000', '2013-10-04T00:00:00.000000000',\n",
       "        '2013-10-05T00:00:00.000000000', '2013-10-06T00:00:00.000000000',\n",
       "        '2013-10-07T00:00:00.000000000', '2013-10-08T00:00:00.000000000',\n",
       "        '2013-10-09T00:00:00.000000000', '2013-10-10T00:00:00.000000000'],\n",
       "       dtype='datetime64[ns]'),\n",
       " array([123.65499, 125.455  , 108.58483, 118.67466, 121.33866, 120.65533,\n",
       "        121.795  , 123.033  , 124.049  , 125.96116]))"
      ]
     },
     "execution_count": 9,
     "metadata": {},
     "output_type": "execute_result"
    }
   ],
   "source": [
    "# Get bitcoin date array\n",
    "timesteps = bitcoin_prices.index.to_numpy()\n",
    "prices = bitcoin_prices[\"Price\"].to_numpy()\n",
    "\n",
    "timesteps[:10], prices[:10]"
   ]
  },
  {
   "cell_type": "code",
   "execution_count": 10,
   "metadata": {},
   "outputs": [
    {
     "data": {
      "text/plain": [
       "((2229,), (558,), (2229,), (558,))"
      ]
     },
     "execution_count": 10,
     "metadata": {},
     "output_type": "execute_result"
    }
   ],
   "source": [
    "# Wrong way to make train/test sets\n",
    "from sklearn.model_selection import train_test_split\n",
    "\n",
    "X_train, X_test, y_train, y_test = train_test_split(timesteps, # dates\n",
    "                                                    prices, # prices\n",
    "                                                    test_size=0.2,\n",
    "                                                    random_state=42)\n",
    "\n",
    "X_train.shape, X_test.shape, y_train.shape, y_test.shape"
   ]
  },
  {
   "cell_type": "code",
   "execution_count": 11,
   "metadata": {},
   "outputs": [
    {
     "data": {
      "image/png": "[encoded data removed]",
      "text/plain": [
       "<Figure size 720x504 with 1 Axes>"
      ]
     },
     "metadata": {
      "needs_background": "light"
     },
     "output_type": "display_data"
    }
   ],
   "source": [
    "# Let's plot wrong train and test splits\n",
    "plt.figure(figsize=(10,7))\n",
    "plt.scatter(X_train,y_train,s=5,label=\"Train data\")\n",
    "plt.scatter(X_test,y_test,s=5,label=\"Test data\")\n",
    "plt.xlabel(\"Date\")\n",
    "plt.ylabel(\"BTC Price\")\n",
    "plt.legend(fontsize=14);\n",
    "plt.show();"
   ]
  },
  {
   "attachments": {},
   "cell_type": "markdown",
   "metadata": {},
   "source": [
    "### Create train & test sets for time series (the right way)"
   ]
  },
  {
   "cell_type": "code",
   "execution_count": 12,
   "metadata": {},
   "outputs": [
    {
     "data": {
      "text/plain": [
       "(2229, 558, 2229, 558)"
      ]
     },
     "execution_count": 12,
     "metadata": {},
     "output_type": "execute_result"
    }
   ],
   "source": [
    "# Create train and test splits the right way for time series data\n",
    "split_size = int(0.8*len(prices)) # 80% train, 20% test\n",
    "\n",
    "# Create train data splits (everything before the split)\n",
    "X_train, y_train = timesteps[:split_size], prices[:split_size]\n",
    "\n",
    "# Create test data splits (everything beyond the split)\n",
    "X_test, y_test = timesteps[split_size:], prices[split_size:]\n",
    "\n",
    "len(X_train), len(X_test), len(y_train), len(y_test)"
   ]
  },
  {
   "cell_type": "code",
   "execution_count": 13,
   "metadata": {},
   "outputs": [
    {
     "data": {
      "image/png": "[encoded data removed]",
      "text/plain": [
       "<Figure size 720x504 with 1 Axes>"
      ]
     },
     "metadata": {
      "needs_background": "light"
     },
     "output_type": "display_data"
    }
   ],
   "source": [
    "# Plot correctly made splits\n",
    "plt.figure(figsize=(10,7))\n",
    "plt.scatter(X_train,y_train,s=5,label=\"Train data\")\n",
    "plt.scatter(X_test,y_test,s=5,label=\"Test data\")\n",
    "plt.xlabel(\"Date\")\n",
    "plt.ylabel(\"BTC Price\")\n",
    "plt.legend(fontsize=14);\n",
    "plt.show();"
   ]
  },
  {
   "attachments": {},
   "cell_type": "markdown",
   "metadata": {},
   "source": [
    "## Create a plotting function\n",
    "\n",
    "Typing plotting code is tedious, let's functionize it."
   ]
  },
  {
   "cell_type": "code",
   "execution_count": 14,
   "metadata": {},
   "outputs": [],
   "source": [
    "# Create a function to plot time series data\n",
    "def plot_time_series(timesteps,values,format=\".\",start=0,end=None,label=None):\n",
    "    \"\"\"\n",
    "    Plots timesteps against values.\n",
    "\n",
    "    Parameters\n",
    "    ----------\n",
    "    timesteps: array of timestep values\n",
    "    values: array of values\n",
    "    format: style of plot, default \".\"\n",
    "    start: where to start the plot (index)\n",
    "    end: where to end the plot (index)\n",
    "    label: label to show on plot\n",
    "\n",
    "    \"\"\"\n",
    "    # Plot the series\n",
    "    plt.plot(timesteps[start:end],values[start:end],format,label=label)\n",
    "    plt.xlabel(\"Time (s)\")\n",
    "    plt.ylabel(\"BTC Price\")\n",
    "\n",
    "    if label:\n",
    "        plt.legend(fontsize=14)\n",
    "        \n",
    "    plt.grid(True)"
   ]
  },
  {
   "cell_type": "code",
   "execution_count": 15,
   "metadata": {},
   "outputs": [
    {
     "data": {
      "image/png": "[encoded data removed]",
      "text/plain": [
       "<Figure size 720x504 with 1 Axes>"
      ]
     },
     "metadata": {
      "needs_background": "light"
     },
     "output_type": "display_data"
    }
   ],
   "source": [
    "# Testing out plotting function\n",
    "plt.figure(figsize=(10,7))\n",
    "plot_time_series(timesteps=X_train,values=y_train,label=\"Train data\")\n",
    "plot_time_series(timesteps=X_test,values=y_test,label=\"Test data\")"
   ]
  },
  {
   "attachments": {},
   "cell_type": "markdown",
   "metadata": {},
   "source": [
    "## Modelling Experiements\n",
    "\n",
    "We've got Bitcoin data, let's run a series of modelling experiments.\n",
    "\n",
    "Terms to be familiar with:\n",
    "* **Horizon** = number of timesteps into the future we're going to predict\n",
    "* **Window size** = number of timesteps we're going to use to predict horizon\n",
    "\n",
    "Modelling experiments --- (Horizon size, Window size, Extra data):\n",
    "* 0. Naive model (baseline) --- **(NA, NA, NA)**\n",
    "* 1. Dense model --- **(1, 7, NA)**\n",
    "* 1. Same as 1 --- **(1, 30, NA)**\n",
    "* 2. Same as 1 --- **(7, 30, NA)**\n",
    "* 4. Conv 1D --- **(1, 7, NA)**\n",
    "* 5. LSTM --- **(1, 7, NA)**\n",
    "* 6. Same as 1 (but with multivariate data) --- **(1, 7, Block reward size)**\n",
    "* 7. N-BEATs Algorithm --- **(1, 7, NA)**\n",
    "* 8. Ensemble (multiple models optimized on different loss functions) --- **(1, 7, NA)**\n",
    "* 9. Future prediction model (model to predict future values) --- **(1, 7, NA)**\n",
    "* 10. Same as 1 (but with turkey data introduced) --- **(1, 7, NA)**"
   ]
  },
  {
   "cell_type": "markdown",
   "metadata": {},
   "source": [
    "> 🔑📚 : [Reference for Time Series Forecasting](https://otexts.com/fpp3/)"
   ]
  },
  {
   "attachments": {},
   "cell_type": "markdown",
   "metadata": {},
   "source": [
    "## Model 0: Naive forecast (baseline)\n",
    "\n",
    "The formula looks like this:\n",
    "\n",
    "$$\\hat{y}_{t} = y_{t-1}$$\n",
    "\n",
    "> The prediction at timestep t (y_hat) is equal to the value at timestep t-1 (previous timestep) - this is for a horizon of 1."
   ]
  },
  {
   "cell_type": "code",
   "execution_count": 16,
   "metadata": {},
   "outputs": [
    {
     "data": {
      "text/plain": [
       "(array([9226.48582088, 8794.35864452, 8798.04205463, 9081.18687849,\n",
       "        8711.53433917, 8760.89271814, 8749.52059102, 8656.97092235,\n",
       "        8500.64355816, 8469.2608989 ]),\n",
       " array([57107.12067189, 58788.20967893, 58102.19142623, 55715.54665129,\n",
       "        56573.5554719 , 52147.82118698, 49764.1320816 , 50032.69313676,\n",
       "        47885.62525472, 45604.61575361]))"
      ]
     },
     "execution_count": 16,
     "metadata": {},
     "output_type": "execute_result"
    }
   ],
   "source": [
    "# Create a naive forcecast\n",
    "naive_forecast = y_test[:-1]\n",
    "naive_forecast[:10],naive_forecast[-10:]"
   ]
  },
  {
   "cell_type": "code",
   "execution_count": 17,
   "metadata": {},
   "outputs": [
    {
     "data": {
      "image/png": "[encoded data removed]",
      "text/plain": [
       "<Figure size 720x504 with 1 Axes>"
      ]
     },
     "metadata": {
      "needs_background": "light"
     },
     "output_type": "display_data"
    }
   ],
   "source": [
    "# Plot naive forecast\n",
    "plt.figure(figsize=(10,7))\n",
    "plot_time_series(timesteps=X_train, values=y_train, label=\"Train data\")\n",
    "plot_time_series(timesteps=X_test, values=y_test, label=\"Test data\")\n",
    "plot_time_series(timesteps=X_test[1:], values=naive_forecast, format='-', label=\"Naive forecast\") # everything after first index"
   ]
  },
  {
   "attachments": {},
   "cell_type": "markdown",
   "metadata": {},
   "source": [
    "## Evaluating a time series model\n",
    "\n",
    "Let's look into some evaluation metrics for time series forecasting ...\n",
    "\n",
    "We're predicting a number, so that means we have a form of a regression problem.\n",
    "\n",
    "Because we're working on a regression problem, we'll need some regression-like metrics. \n",
    "\n",
    "A few common metrics (**the lower the better**):\n",
    "* MAE - mean absolute error\n",
    "* MSE - mean squared error\n",
    "\n",
    "The main thing we are evaluating is: how do our model's forecasts (y_pred) compare against the actual values"
   ]
  },
  {
   "cell_type": "code",
   "execution_count": 18,
   "metadata": {},
   "outputs": [],
   "source": [
    "import tensorflow as tf"
   ]
  },
  {
   "cell_type": "code",
   "execution_count": 19,
   "metadata": {},
   "outputs": [],
   "source": [
    "# MASE implementation\n",
    "def mean_absolute_scaled_error(y_true, y_pred):\n",
    "    \"\"\"\n",
    "    Implement MASE (assuming no seasonality).\n",
    "    \"\"\"\n",
    "    mae = tf.reduce_mean(tf.abs(y_true-y_pred))\n",
    "\n",
    "    # Find MAE of naive forecast (no seasonality)\n",
    "    mae_naive_no_season = tf.reduce_mean(tf.abs(y_true[1:]-y_true[:-1])) # our seasonality is 1 day (hence the shift of 1)\n",
    "\n",
    "    return mae / mae_naive_no_season"
   ]
  },
  {
   "cell_type": "markdown",
   "metadata": {},
   "source": [
    "🔑: **Note**: For mean absolute scaled error (MASE), a scaled error is **> 1 if the forecast is worse than the naive** and **< 1 if the forecast is better than naive**."
   ]
  },
  {
   "cell_type": "code",
   "execution_count": 20,
   "metadata": {},
   "outputs": [
    {
     "data": {
      "text/plain": [
       "0.9995699939182624"
      ]
     },
     "execution_count": 20,
     "metadata": {},
     "output_type": "execute_result"
    }
   ],
   "source": [
    "# Test MASE (this vaue should = 1 or be very close to 1 with the naive forecast)\n",
    "mean_absolute_scaled_error(y_true=y_test[1:], y_pred=naive_forecast).numpy()"
   ]
  },
  {
   "cell_type": "code",
   "execution_count": 60,
   "metadata": {},
   "outputs": [],
   "source": [
    "def evaluate_preds(y_true, y_pred):\n",
    "  # Make sure float32 (for metric calculations)\n",
    "  y_true = tf.cast(y_true, dtype=tf.float32)\n",
    "  y_pred = tf.cast(y_pred, dtype=tf.float32)\n",
    "\n",
    "  # Calculate various metrics\n",
    "  mae = tf.keras.metrics.mean_absolute_error(y_true, y_pred)\n",
    "  mse = tf.keras.metrics.mean_squared_error(y_true, y_pred) # puts and emphasis on outliers (all errors get squared)\n",
    "  rmse = tf.sqrt(mse)\n",
    "  mape = tf.keras.metrics.mean_absolute_percentage_error(y_true, y_pred)\n",
    "  mase = mean_absolute_scaled_error(y_true, y_pred)\n",
    "\n",
    "  return  {\"mae\": float(mae.numpy()),\n",
    "          \"mse\": float(mse.numpy()),\n",
    "          \"rmse\": float(rmse.numpy()),\n",
    "          \"mape\": float(mape.numpy()),\n",
    "          \"mase\": float(mase.numpy())}"
   ]
  },
  {
   "cell_type": "code",
   "execution_count": 61,
   "metadata": {},
   "outputs": [
    {
     "data": {
      "text/plain": [
       "{'mae': 567.980224609375,\n",
       " 'mse': 1147547.0,\n",
       " 'rmse': 1071.2362060546875,\n",
       " 'mape': 2.5165250301361084,\n",
       " 'mase': 0.9995700120925903}"
      ]
     },
     "execution_count": 61,
     "metadata": {},
     "output_type": "execute_result"
    }
   ],
   "source": [
    "# Let's compute the evaluation metrics using our function\n",
    "naive_results = evaluate_preds(y_true=y_test[1:],\n",
    "                               y_pred=naive_forecast)\n",
    "\n",
    "naive_results              "
   ]
  },
  {
   "attachments": {},
   "cell_type": "markdown",
   "metadata": {},
   "source": [
    "Save model results"
   ]
  },
  {
   "cell_type": "code",
   "execution_count": 62,
   "metadata": {},
   "outputs": [
    {
     "name": "stdout",
     "output_type": "stream",
     "text": [
      "Success! File written to destination.\n"
     ]
    }
   ],
   "source": [
    "# Saving model results\n",
    "from Functions.helper_functions import save_model_results_json\n",
    "\n",
    "des_path = r\"Saved Results\\10_time_series_forecasting_with_tensorflow\"\n",
    "\n",
    "save_model_results_json(filepath=des_path,\n",
    "                        var_to_save=naive_results,\n",
    "                        file_string=\"model_0_results\")"
   ]
  },
  {
   "cell_type": "code",
   "execution_count": 30,
   "metadata": {},
   "outputs": [
    {
     "data": {
      "text/plain": [
       "(<tf.Tensor: shape=(), dtype=float64, numpy=20056.632963737222>,\n",
       " <tf.Tensor: shape=(), dtype=float64, numpy=4944.7023359837>,\n",
       " <tf.Tensor: shape=(), dtype=float64, numpy=63346.7890351052>)"
      ]
     },
     "execution_count": 30,
     "metadata": {},
     "output_type": "execute_result"
    }
   ],
   "source": [
    "# What does the dataset look like?\n",
    "tf.reduce_mean(y_test), tf.reduce_min(y_test), tf.reduce_max(y_test)"
   ]
  },
  {
   "cell_type": "code",
   "execution_count": 48,
   "metadata": {},
   "outputs": [
    {
     "name": "stdout",
     "output_type": "stream",
     "text": [
      "We want to use: [123.65499, 125.455, 108.58483, 118.67466, 121.33866, 120.65533, 121.795] to predict this: 123.033\n"
     ]
    }
   ],
   "source": [
    "# What we want to do with our Bitcoin data\n",
    "print(f\"We want to use: {btc_price[:7]} to predict this: {btc_price[7]}\")"
   ]
  },
  {
   "attachments": {},
   "cell_type": "markdown",
   "metadata": {},
   "source": [
    "## Format Data Part 2: Windowing our dataset\n",
    "\n",
    "Why do we window? \n",
    "\n",
    "We window our time series dataset to turn our data into a supervised learning problem."
   ]
  },
  {
   "cell_type": "code",
   "execution_count": 49,
   "metadata": {},
   "outputs": [
    {
     "name": "stdout",
     "output_type": "stream",
     "text": [
      "We want to use: [123.65499, 125.455, 108.58483, 118.67466, 121.33866, 120.65533, 121.795] to predict this: 123.033\n"
     ]
    }
   ],
   "source": [
    "# What we want to do with our Bitcoin data\n",
    "print(f\"We want to use: {btc_price[:7]} to predict this: {btc_price[7]}\")"
   ]
  },
  {
   "cell_type": "code",
   "execution_count": 50,
   "metadata": {},
   "outputs": [],
   "source": [
    "# Let's setup global variables for window and horizon\n",
    "HORIZON = 1 # predict next 1 day\n",
    "WINDOW_SIZE = 7 # use the past week of Bitcoin data to make prediction"
   ]
  },
  {
   "cell_type": "code",
   "execution_count": 51,
   "metadata": {},
   "outputs": [],
   "source": [
    "# Create function to label window data\n",
    "def get_labeled_windows(x, horizon=HORIZON):\n",
    "    \"\"\"\n",
    "    Creates labels for windowed dataset.\n",
    "\n",
    "    e.g. if horizon = 1\n",
    "    Input: [0, 1, 2, 3, 4, 5, 6, 7] -> Output: ([0, 1, 2, 3, 4, 5, 6], [7])\n",
    "\n",
    "    \"\"\"\n",
    "    return x[:,:-horizon], x[:,-horizon:]"
   ]
  },
  {
   "cell_type": "code",
   "execution_count": 52,
   "metadata": {},
   "outputs": [
    {
     "name": "stdout",
     "output_type": "stream",
     "text": [
      "Window: [0 1 2 3 4 5 6] -> Label: 7\n"
     ]
    }
   ],
   "source": [
    "# Test out the window labelling function\n",
    "test_window, test_label = get_labeled_windows(tf.expand_dims(tf.range(8),axis = 0))\n",
    "print(f\"Window: {tf.squeeze(test_window).numpy()} -> Label: {tf.squeeze(test_label).numpy()}\")"
   ]
  },
  {
   "cell_type": "markdown",
   "metadata": {},
   "source": [
    "We've got a way to label our windowed data. However, this only works on a small scale. We need a way to do the above across our entire time series.\n",
    "\n",
    "Our function will:\n",
    "1. Create a window step of specific window size\n",
    "2. Use NumPy indexing to create a 2D array of multiple window steps\n",
    "3. Uses the 2D array of multiple window steps (from 2.) to index on a target series (e.g. the historical price of Bitcoin)\n",
    "4. Uses our `get_labeled_windows()` function we created above to turn the window steps into windows with a specified horizon"
   ]
  },
  {
   "cell_type": "code",
   "execution_count": 54,
   "metadata": {},
   "outputs": [],
   "source": [
    "# Import numpy\n",
    "import numpy as np"
   ]
  },
  {
   "cell_type": "code",
   "execution_count": 55,
   "metadata": {},
   "outputs": [],
   "source": [
    "# Create function to view NumPy arrays as windows\n",
    "def make_windows(x, window_size=WINDOW_SIZE, horizon=HORIZON):\n",
    "    \"\"\"\n",
    "    Turns a 1D array into a 2D array of sequential labelled windows of window size with horizon size labels\n",
    "    \"\"\"\n",
    "\n",
    "    # 1. Create a window of specific window size (add the horizon on the end for labelling)\n",
    "    window_step = np.expand_dims(np.arange(window_size+horizon),axis=0)\n",
    "\n",
    "    # 2. Create a 2D array of multiple window steps\n",
    "    window_indexes = window_step + np.expand_dims(np.arange(len(x)-window_size+horizon-1),axis=0).T\n",
    "\n",
    "    # 3. Index on the target array (a time series)\n",
    "    windowed_array = x[window_indexes]\n",
    "\n",
    "    # 4. Get the labelled window\n",
    "    window, labels = get_labeled_windows(windowed_array, horizon=horizon)\n",
    "\n",
    "    return window, labels"
   ]
  },
  {
   "cell_type": "code",
   "execution_count": 56,
   "metadata": {},
   "outputs": [
    {
     "data": {
      "text/plain": [
       "(2780, 2780)"
      ]
     },
     "execution_count": 56,
     "metadata": {},
     "output_type": "execute_result"
    }
   ],
   "source": [
    "# Generate full windows and labels\n",
    "full_windows, full_labels = make_windows(prices,window_size=WINDOW_SIZE,horizon=HORIZON)\n",
    "len(full_windows), len(full_labels)"
   ]
  },
  {
   "cell_type": "code",
   "execution_count": 57,
   "metadata": {},
   "outputs": [
    {
     "name": "stdout",
     "output_type": "stream",
     "text": [
      "Window: [123.65499 125.455   108.58483 118.67466 121.33866 120.65533 121.795  ]-> Label: [123.033]\n",
      "Window: [125.455   108.58483 118.67466 121.33866 120.65533 121.795   123.033  ]-> Label: [124.049]\n",
      "Window: [108.58483 118.67466 121.33866 120.65533 121.795   123.033   124.049  ]-> Label: [125.96116]\n"
     ]
    }
   ],
   "source": [
    "# View the first 3 windows/labels\n",
    "for i in range(3):\n",
    "    print(f\"Window: {full_windows[i]}-> Label: {full_labels[i]}\")"
   ]
  },
  {
   "cell_type": "code",
   "execution_count": 58,
   "metadata": {},
   "outputs": [
    {
     "name": "stdout",
     "output_type": "stream",
     "text": [
      "Window: [58788.20967893 58102.19142623 55715.54665129 56573.5554719\n",
      " 52147.82118698 49764.1320816  50032.69313676]-> Label: [47885.62525472]\n",
      "Window: [58102.19142623 55715.54665129 56573.5554719  52147.82118698\n",
      " 49764.1320816  50032.69313676 47885.62525472]-> Label: [45604.61575361]\n",
      "Window: [55715.54665129 56573.5554719  52147.82118698 49764.1320816\n",
      " 50032.69313676 47885.62525472 45604.61575361]-> Label: [43144.47129086]\n"
     ]
    }
   ],
   "source": [
    "# View the last 3 windows/labels\n",
    "for i in range(3):\n",
    "    print(f\"Window: {full_windows[i-3]}-> Label: {full_labels[i-3]}\")"
   ]
  },
  {
   "cell_type": "markdown",
   "metadata": {},
   "source": [
    "> 🔑 **Note**: There is a function that does similar to the one above [`tf.keras.utils.timeseries_dataset_from_array()`](https://www.tensorflow.org/api_docs/python/tf/keras/utils/timeseries_dataset_from_array)"
   ]
  }
 ],
 "metadata": {
  "kernelspec": {
   "display_name": "tf2.9",
   "language": "python",
   "name": "python3"
  },
  "language_info": {
   "codemirror_mode": {
    "name": "ipython",
    "version": 3
   },
   "file_extension": ".py",
   "mimetype": "text/x-python",
   "name": "python",
   "nbconvert_exporter": "python",
   "pygments_lexer": "ipython3",
   "version": "3.9.0"
  },
  "orig_nbformat": 4,
  "vscode": {
   "interpreter": {
    "hash": "3b857c820aa0d415be1b12344743bfddcf32111184ae560db226809c81026c4c"
   }
  }
 },
 "nbformat": 4,
 "nbformat_minor": 2
}

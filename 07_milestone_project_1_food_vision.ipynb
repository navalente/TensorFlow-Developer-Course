{
 "cells": [
  {
   "attachments": {},
   "cell_type": "markdown",
   "metadata": {},
   "source": [
    "# Milestone Project 1: Food Vision Big"
   ]
  },
  {
   "attachments": {},
   "cell_type": "markdown",
   "metadata": {},
   "source": [
    "## Check GPU\n",
    "\n",
    "Check if the GPU is compatible with mix precision training.\n",
    "\n",
    "Google Colab offers:\n",
    "* K80 (not compatible)\n",
    "* P100 (not compatible)\n",
    "* Tesla T4 (compatible)\n",
    "\n",
    "Knowning this, in order to use mixed precision training we need a GPU score of a 7.0+"
   ]
  },
  {
   "cell_type": "code",
   "execution_count": 1,
   "metadata": {},
   "outputs": [
    {
     "name": "stdout",
     "output_type": "stream",
     "text": [
      "GPU 0: Quadro P2000 (UUID: GPU-45eb6a28-8b9a-6cc9-5299-32453fd1cd04)\n"
     ]
    }
   ],
   "source": [
    "!nvidia-smi -L"
   ]
  },
  {
   "attachments": {},
   "cell_type": "markdown",
   "metadata": {},
   "source": [
    "## Get helper functions\n",
    "\n",
    "In past modules, we've created a bunch of helper functions to do small tasks.\n",
    "\n",
    "Rather than rewrite all of these, we can import a script and load them into our notebook"
   ]
  },
  {
   "cell_type": "code",
   "execution_count": 2,
   "metadata": {},
   "outputs": [],
   "source": [
    "# Import helper functions\n",
    "from helper_functions import create_tensorboard_callback, plot_loss_curves, compare_historys"
   ]
  },
  {
   "attachments": {},
   "cell_type": "markdown",
   "metadata": {},
   "source": [
    "## Use TensorFlow Datasets to Download Data\n",
    "\n",
    "If you want to get an overview of TensorFlow Datasets (TFDS), read the [guide](https://www.tensorflow.org/datasets/overview)"
   ]
  },
  {
   "cell_type": "code",
   "execution_count": 3,
   "metadata": {},
   "outputs": [],
   "source": [
    "# Get TensorFlow Datasets\n",
    "import tensorflow_datasets as tfds"
   ]
  },
  {
   "cell_type": "code",
   "execution_count": 4,
   "metadata": {},
   "outputs": [
    {
     "name": "stdout",
     "output_type": "stream",
     "text": [
      "True\n"
     ]
    }
   ],
   "source": [
    "# List all avaiable datasets\n",
    "datasets_list = tfds.list_builders() # get all available datasests in TFDS\n",
    "print(\"food101\" in datasets_list) # is our target dataset in the list of TFDS?"
   ]
  },
  {
   "cell_type": "code",
   "execution_count": 5,
   "metadata": {},
   "outputs": [],
   "source": [
    "# Load in the data\n",
    "(train_data, test_data), ds_info = tfds.load(name=\"food101\",\n",
    "                                             split=[\"train\",\"validation\"],\n",
    "                                             shuffle_files=True,\n",
    "                                             as_supervised=True, # data gets returned in a tuple format (data,label)\n",
    "                                             with_info=True)                                             "
   ]
  },
  {
   "attachments": {},
   "cell_type": "markdown",
   "metadata": {},
   "source": [
    "## Exploring the Food101 data from TensorFlow DataSets\n",
    "\n",
    "To become one with our data, we want to find:\n",
    "* Class names\n",
    "* The shape of our input data (image tensors)\n",
    "* The datatype of our input data\n",
    "* What the labels look like (e.g. are they one-hot-encoded?)\n",
    "* Do the labels match up with the class names?\n"
   ]
  },
  {
   "cell_type": "code",
   "execution_count": 6,
   "metadata": {},
   "outputs": [
    {
     "data": {
      "text/plain": [
       "FeaturesDict({\n",
       "    'image': Image(shape=(None, None, 3), dtype=uint8),\n",
       "    'label': ClassLabel(shape=(), dtype=int64, num_classes=101),\n",
       "})"
      ]
     },
     "execution_count": 6,
     "metadata": {},
     "output_type": "execute_result"
    }
   ],
   "source": [
    "# Features of Food101\n",
    "ds_info.features"
   ]
  },
  {
   "cell_type": "code",
   "execution_count": 7,
   "metadata": {},
   "outputs": [
    {
     "data": {
      "text/plain": [
       "['apple_pie',\n",
       " 'baby_back_ribs',\n",
       " 'baklava',\n",
       " 'beef_carpaccio',\n",
       " 'beef_tartare',\n",
       " 'beet_salad',\n",
       " 'beignets',\n",
       " 'bibimbap',\n",
       " 'bread_pudding',\n",
       " 'breakfast_burrito']"
      ]
     },
     "execution_count": 7,
     "metadata": {},
     "output_type": "execute_result"
    }
   ],
   "source": [
    "# Get the class names\n",
    "class_names = ds_info.features[\"label\"].names\n",
    "class_names[:10]"
   ]
  },
  {
   "cell_type": "code",
   "execution_count": 8,
   "metadata": {},
   "outputs": [],
   "source": [
    "# Take one sample of the train data\n",
    "train_one_sample = train_data.take(1) # samples are in format (image_tensor,label)"
   ]
  },
  {
   "cell_type": "code",
   "execution_count": 9,
   "metadata": {},
   "outputs": [
    {
     "data": {
      "text/plain": [
       "<TakeDataset element_spec=(TensorSpec(shape=(None, None, 3), dtype=tf.uint8, name=None), TensorSpec(shape=(), dtype=tf.int64, name=None))>"
      ]
     },
     "execution_count": 9,
     "metadata": {},
     "output_type": "execute_result"
    }
   ],
   "source": [
    "# What does one sample look like?\n",
    "train_one_sample"
   ]
  },
  {
   "cell_type": "code",
   "execution_count": 10,
   "metadata": {},
   "outputs": [
    {
     "name": "stdout",
     "output_type": "stream",
     "text": [
      "\"\n",
      "    Image Shape: (512, 512, 3)\n",
      "    Image Datatype: <dtype: 'uint8'>\n",
      "    Target class from Food101 (tensor form): 41\n",
      "    Class name (str form): french_onion_soup\n",
      "    \n"
     ]
    }
   ],
   "source": [
    "# Output info about our training sample\n",
    "for image, label in train_one_sample:\n",
    "    print(f\"\"\"\"\n",
    "    Image Shape: {image.shape}\n",
    "    Image Datatype: {image.dtype}\n",
    "    Target class from Food101 (tensor form): {label}\n",
    "    Class name (str form): {class_names[label.numpy()]}\n",
    "    \"\"\")"
   ]
  },
  {
   "cell_type": "code",
   "execution_count": 35,
   "metadata": {},
   "outputs": [
    {
     "data": {
      "text/plain": [
       "<tf.Tensor: shape=(512, 512, 3), dtype=uint8, numpy=\n",
       "array([[[189, 165, 121],\n",
       "        [185, 161, 117],\n",
       "        [181, 157, 113],\n",
       "        ...,\n",
       "        [111,  72,  33],\n",
       "        [103,  64,  25],\n",
       "        [ 94,  55,  16]],\n",
       "\n",
       "       [[186, 162, 118],\n",
       "        [183, 159, 115],\n",
       "        [180, 156, 112],\n",
       "        ...,\n",
       "        [122,  83,  40],\n",
       "        [113,  74,  31],\n",
       "        [105,  66,  23]],\n",
       "\n",
       "       [[180, 156, 112],\n",
       "        [178, 154, 110],\n",
       "        [177, 153, 109],\n",
       "        ...,\n",
       "        [132,  94,  45],\n",
       "        [124,  87,  35],\n",
       "        [120,  83,  31]],\n",
       "\n",
       "       ...,\n",
       "\n",
       "       [[207, 204, 159],\n",
       "        [205, 201, 154],\n",
       "        [204, 196, 147],\n",
       "        ...,\n",
       "        [231, 225, 191],\n",
       "        [231, 225, 189],\n",
       "        [231, 226, 188]],\n",
       "\n",
       "       [[207, 204, 159],\n",
       "        [205, 201, 154],\n",
       "        [204, 196, 147],\n",
       "        ...,\n",
       "        [230, 224, 190],\n",
       "        [230, 224, 188],\n",
       "        [229, 223, 187]],\n",
       "\n",
       "       [[206, 203, 158],\n",
       "        [204, 200, 153],\n",
       "        [203, 195, 146],\n",
       "        ...,\n",
       "        [229, 223, 189],\n",
       "        [228, 222, 186],\n",
       "        [228, 222, 186]]], dtype=uint8)>"
      ]
     },
     "execution_count": 35,
     "metadata": {},
     "output_type": "execute_result"
    }
   ],
   "source": [
    "# What does our image tensor from TFDS's Food 101 look like?\n",
    "image"
   ]
  },
  {
   "cell_type": "code",
   "execution_count": 11,
   "metadata": {},
   "outputs": [
    {
     "data": {
      "text/plain": [
       "(<tf.Tensor: shape=(), dtype=uint8, numpy=0>,\n",
       " <tf.Tensor: shape=(), dtype=uint8, numpy=255>)"
      ]
     },
     "execution_count": 11,
     "metadata": {},
     "output_type": "execute_result"
    }
   ],
   "source": [
    "# What are the min and max values of our image tensor?\n",
    "import tensorflow as tf\n",
    "tf.reduce_min(image),tf.reduce_max(image)"
   ]
  },
  {
   "attachments": {},
   "cell_type": "markdown",
   "metadata": {},
   "source": [
    "### Plot an image from TensorFlow Datasets"
   ]
  },
  {
   "cell_type": "code",
   "execution_count": 12,
   "metadata": {},
   "outputs": [
    {
     "data": {
      "image/png": "[encoded data removed]",
      "text/plain": [
       "<Figure size 432x288 with 1 Axes>"
      ]
     },
     "metadata": {
      "needs_background": "light"
     },
     "output_type": "display_data"
    }
   ],
   "source": [
    "# Plot an image tensor\n",
    "import matplotlib.pyplot as plt\n",
    "plt.imshow(image)\n",
    "plt.title(class_names[label.numpy()])\n",
    "plt.axis(False);"
   ]
  },
  {
   "attachments": {},
   "cell_type": "markdown",
   "metadata": {},
   "source": [
    "## Create preprocessing functions for our data\n",
    "\n",
    "Neural networks perform beset when data is in a certain way (e.g. batched, normalized, etc).\n",
    "\n",
    "However, not all data comes likes this.\n",
    "\n",
    "So, in order to get it ready for a neural network, you'll often have to write preprocessing functions and map it to your data.\n",
    "\n",
    "What we know about our data:\n",
    "* In `uint8` datatype\n",
    "* Comprised of all different size tensors (different sized images)\n",
    "* Not scaled (the pixel values are between 0 - 255)\n",
    "\n",
    "What we know models like:\n",
    "* Data in `float32` dtype (or for mixed precision `float16` and `float32`)\n",
    "* For batches, TF likes all of the tensors within a batch to be of the same size\n",
    "* Scaled (values between 0 & 1) also called normalized tensors generally perform better\n",
    "\n",
    "Since we are going to be using an EfficientNetBX pretrained model from `tf.keras.applications` we don't need to rescale our data (these architectures have rescaling built-in).\n",
    "\n",
    "This means our function needs to:\n",
    "1. Reshape our images to all the same size\n",
    "2. Convert the dtype from `uint8` to `float32`"
   ]
  },
  {
   "cell_type": "code",
   "execution_count": 13,
   "metadata": {},
   "outputs": [],
   "source": [
    "# Make a function for preprocessing images\n",
    "def preprocess_img(image, label, img_shape=224):\n",
    "    \"\"\"\n",
    "    Converts image datatype from 'uint8' -> 'float32' and reshapes image to\n",
    "    [img_shape, img_shape, color_channels]\n",
    "    \"\"\"\n",
    "    image = tf.image.resize(image, [img_shape, img_shape]) # reshape to img_shape\n",
    "    # image = image/255. (for models that need normalization)\n",
    "    return tf.cast(image, tf.float32), label # return (float32_image, label) tuple"
   ]
  },
  {
   "cell_type": "code",
   "execution_count": 14,
   "metadata": {},
   "outputs": [
    {
     "name": "stdout",
     "output_type": "stream",
     "text": [
      "Image before preprocessing:\n",
      " [[[168 148 123]\n",
      "  [192 172 147]\n",
      "  [200 180 155]\n",
      "  ...\n",
      "  [179 165 139]\n",
      "  [188 172 147]\n",
      "  [154 138 113]]\n",
      "\n",
      " [[184 164 139]\n",
      "  [209 189 164]\n",
      "  [212 192 167]\n",
      "  ...\n",
      "  [207 193 167]\n",
      "  [218 202 177]\n",
      "  [184 168 143]]]..., \n",
      "Shape: (512, 512, 3), \n",
      "Datatype: <dtype: 'uint8'>\n",
      "\n",
      "Image after preprocessing:\n",
      " [[[194.12755 174.12755 149.12755]\n",
      "  [204.66325 184.66325 159.66325]\n",
      "  [198.20918 180.42348 158.85204]\n",
      "  ...\n",
      "  [200.12253 186.55106 160.97958]\n",
      "  [204.22949 190.22949 164.22949]\n",
      "  [195.14168 179.14168 154.14168]]\n",
      "\n",
      " [[197.10204 177.10204 150.10204]\n",
      "  [202.5102  185.5102  159.5102 ]\n",
      "  [209.96428 193.83673 169.47958]\n",
      "  ...\n",
      "  [201.301   187.72952 162.15805]\n",
      "  [207.8622  193.8622  167.8622 ]\n",
      "  [197.218   183.218   157.218  ]]]..., \n",
      "Shape: (224, 224, 3), \n",
      "Datatype: <dtype: 'float32'>\n",
      "\n"
     ]
    }
   ],
   "source": [
    "# Preprocess a single sample image and check the outputs\n",
    "preprocessed_img = preprocess_img(image,label)[0]\n",
    "print(f\"Image before preprocessing:\\n {image[:2]}..., \\nShape: {image.shape}, \\nDatatype: {image.dtype}\\n\")\n",
    "print(f\"Image after preprocessing:\\n {preprocessed_img[:2]}..., \\nShape: {preprocessed_img.shape}, \\nDatatype: {preprocessed_img.dtype}\\n\")"
   ]
  },
  {
   "attachments": {},
   "cell_type": "markdown",
   "metadata": {},
   "source": [
    "## Batch and prepare datasets\n",
    "\n",
    "We are now going to make our data input pipeline run fast.\n",
    "\n",
    "For more resources, reference the following [guide](https://www.tensorflow.org/guide/data_performance)"
   ]
  },
  {
   "cell_type": "code",
   "execution_count": 15,
   "metadata": {},
   "outputs": [],
   "source": [
    "# Map preprocessing function to training (and parallelize)\n",
    "train_data = train_data.map(map_func=preprocess_img,num_parallel_calls=tf.data.AUTOTUNE)\n",
    "# Shuffle train_data and turn it into batches and prefetch it (load it faster)\n",
    "train_data = train_data.shuffle(buffer_size=1000).batch(batch_size=32).prefetch(buffer_size=tf.data.AUTOTUNE)\n",
    "\n",
    "# Map preprocessing function to testing\n",
    "test_data = test_data.map(map_func=preprocess_img,num_parallel_calls=tf.data.AUTOTUNE).batch(batch_size=32).prefetch(buffer_size=tf.data.AUTOTUNE)\n"
   ]
  },
  {
   "cell_type": "code",
   "execution_count": 16,
   "metadata": {},
   "outputs": [
    {
     "data": {
      "text/plain": [
       "(<PrefetchDataset element_spec=(TensorSpec(shape=(None, 224, 224, 3), dtype=tf.float32, name=None), TensorSpec(shape=(None,), dtype=tf.int64, name=None))>,\n",
       " <PrefetchDataset element_spec=(TensorSpec(shape=(None, 224, 224, 3), dtype=tf.float32, name=None), TensorSpec(shape=(None,), dtype=tf.int64, name=None))>)"
      ]
     },
     "execution_count": 16,
     "metadata": {},
     "output_type": "execute_result"
    }
   ],
   "source": [
    "train_data, test_data"
   ]
  },
  {
   "attachments": {},
   "cell_type": "markdown",
   "metadata": {},
   "source": [
    "> \"Hey, TensorFlow, map this preprocessing function (`preprocess_img`) across our training dataset, then shuffle a number of elements and then batch them together and finally make sure you prepare new batches (prefetch) whilst the model is looking through (finding patterns) the current batch.\" "
   ]
  },
  {
   "attachments": {},
   "cell_type": "markdown",
   "metadata": {},
   "source": [
    "## Create modelling callbacks\n",
    "\n",
    "We are going to create callbacks to help us while our model trains:\n",
    "* TensorBoard callback to log training results\n",
    "* ModelCheckpoint callback to save our model's progress after feature extraction"
   ]
  },
  {
   "cell_type": "code",
   "execution_count": 29,
   "metadata": {},
   "outputs": [],
   "source": [
    "# Create tensorboard callback\n",
    "from helper_functions import create_tensorboard_callback\n",
    "\n",
    "# Create a ModelCheckpoint callback to save a model's progress during training\n",
    "checkpoint_path = \"model_checkpoints/cp.ckpt\"\n",
    "model_checkpoint = tf.keras.callbacks.ModelCheckpoint(checkpoint_path,\n",
    "                                                      monitor=\"val_accuracy\", # note ... you need to spell out accuracy here (val_acc) will not work\n",
    "                                                      save_best_only=True,\n",
    "                                                      save_weights_only=True,\n",
    "                                                      verbose=0) # dont print whether or not model is being saved"
   ]
  },
  {
   "attachments": {},
   "cell_type": "markdown",
   "metadata": {},
   "source": [
    "## Setup mixed precision training\n",
    "\n",
    "Mixed precision utilizes a combination of float32 and float16 datatypes to speed up model performance"
   ]
  },
  {
   "cell_type": "code",
   "execution_count": 47,
   "metadata": {},
   "outputs": [],
   "source": [
    "# Turn on mixed precision training\n",
    "from tensorflow.keras import mixed_precision\n",
    "mixed_precision.set_global_policy(\"mixed_float16\") # set global data policy to mixed float 16"
   ]
  },
  {
   "cell_type": "code",
   "execution_count": 49,
   "metadata": {},
   "outputs": [
    {
     "data": {
      "text/plain": [
       "<Policy \"mixed_float16\">"
      ]
     },
     "execution_count": 49,
     "metadata": {},
     "output_type": "execute_result"
    }
   ],
   "source": [
    "mixed_precision.global_policy()"
   ]
  },
  {
   "attachments": {},
   "cell_type": "markdown",
   "metadata": {},
   "source": [
    "## Build feature extraction model"
   ]
  },
  {
   "cell_type": "code",
   "execution_count": 18,
   "metadata": {},
   "outputs": [],
   "source": [
    "from tensorflow.keras import layers\n",
    "from tensorflow.keras.layers.experimental import preprocessing\n",
    "\n",
    "# Create base model\n",
    "input_shape = (224,224,3)\n",
    "base_model = tf.keras.applications.EfficientNetB0(include_top=False)\n",
    "base_model.trainable=False\n",
    "\n",
    "# Create functional model\n",
    "inputs = layers.Input(shape=input_shape,name=\"input_layer\")\n",
    "# Note: EfficientNextBX has re-scaling built in but if you dont ...\n",
    "# x = preprocessing.Rescaling(1./255)(x)\n",
    "x = base_model(inputs,training=False)\n",
    "x = layers.GlobalAveragePooling2D()(x)\n",
    "x = layers.Dense(len(class_names))(x)\n",
    "outputs = layers.Activation(\"softmax\", dtype=tf.float32, name=\"softmax_float_32\")(x)\n",
    "model=tf.keras.Model(inputs,outputs)\n",
    "\n",
    "# Compile the model\n",
    "model.compile(loss=\"sparse_categorical_crossentropy\",\n",
    "              optimizer=tf.keras.optimizers.Adam(),\n",
    "              metrics=[\"accuracy\"])"
   ]
  },
  {
   "cell_type": "code",
   "execution_count": 19,
   "metadata": {},
   "outputs": [
    {
     "name": "stdout",
     "output_type": "stream",
     "text": [
      "Model: \"model\"\n",
      "_________________________________________________________________\n",
      " Layer (type)                Output Shape              Param #   \n",
      "=================================================================\n",
      " input_layer (InputLayer)    [(None, 224, 224, 3)]     0         \n",
      "                                                                 \n",
      " efficientnetb0 (Functional)  (None, None, None, 1280)  4049571  \n",
      "                                                                 \n",
      " global_average_pooling2d (G  (None, 1280)             0         \n",
      " lobalAveragePooling2D)                                          \n",
      "                                                                 \n",
      " dense (Dense)               (None, 101)               129381    \n",
      "                                                                 \n",
      " softmax_float_32 (Activatio  (None, 101)              0         \n",
      " n)                                                              \n",
      "                                                                 \n",
      "=================================================================\n",
      "Total params: 4,178,952\n",
      "Trainable params: 129,381\n",
      "Non-trainable params: 4,049,571\n",
      "_________________________________________________________________\n"
     ]
    }
   ],
   "source": [
    "# Model Summary\n",
    "model.summary()"
   ]
  },
  {
   "attachments": {},
   "cell_type": "markdown",
   "metadata": {},
   "source": [
    "## Checking layer dtype policies"
   ]
  },
  {
   "cell_type": "code",
   "execution_count": 21,
   "metadata": {},
   "outputs": [
    {
     "name": "stdout",
     "output_type": "stream",
     "text": [
      "input_layer True float32 <Policy \"float32\">\n",
      "efficientnetb0 False float32 <Policy \"float32\">\n",
      "global_average_pooling2d True float32 <Policy \"float32\">\n",
      "dense True float32 <Policy \"float32\">\n",
      "softmax_float_32 True float32 <Policy \"float32\">\n"
     ]
    }
   ],
   "source": [
    "# Check the dtype_policy attributes of layers\n",
    "for layer in model.layers:\n",
    "    print(layer.name,layer.trainable,layer.dtype,layer.dtype_policy)"
   ]
  },
  {
   "attachments": {},
   "cell_type": "markdown",
   "metadata": {},
   "source": [
    "Going through the above we see:\n",
    "* `layer.name`: the human readable name of a particular layer\n",
    "* `layer.trainable`: is the layer trainable or not? (if `False`, the weights are frozen)\n",
    "* `layer.dtype`: the datatype a layer stores its variables in\n",
    "* `layer.dtype_policy`: the datatype policy layer is based on how the variables are computed\n",
    "\n",
    "**Note**: Due to our GPU not being up to snuff, we are unable to compute layers in `float16`. Mixed precision cannot be performed"
   ]
  },
  {
   "cell_type": "code",
   "execution_count": 24,
   "metadata": {},
   "outputs": [
    {
     "name": "stdout",
     "output_type": "stream",
     "text": [
      "input_1 False float32 <Policy \"float32\">\n",
      "rescaling False float32 <Policy \"float32\">\n",
      "normalization False float32 <Policy \"float32\">\n",
      "tf.math.truediv False float32 <Policy \"float32\">\n",
      "stem_conv_pad False float32 <Policy \"float32\">\n",
      "stem_conv False float32 <Policy \"float32\">\n",
      "stem_bn False float32 <Policy \"float32\">\n",
      "stem_activation False float32 <Policy \"float32\">\n",
      "block1a_dwconv False float32 <Policy \"float32\">\n",
      "block1a_bn False float32 <Policy \"float32\">\n",
      "block1a_activation False float32 <Policy \"float32\">\n",
      "block1a_se_squeeze False float32 <Policy \"float32\">\n",
      "block1a_se_reshape False float32 <Policy \"float32\">\n",
      "block1a_se_reduce False float32 <Policy \"float32\">\n",
      "block1a_se_expand False float32 <Policy \"float32\">\n",
      "block1a_se_excite False float32 <Policy \"float32\">\n",
      "block1a_project_conv False float32 <Policy \"float32\">\n",
      "block1a_project_bn False float32 <Policy \"float32\">\n",
      "block2a_expand_conv False float32 <Policy \"float32\">\n",
      "block2a_expand_bn False float32 <Policy \"float32\">\n"
     ]
    }
   ],
   "source": [
    "# Check the dtype_policy attributes of layers in the base model\n",
    "for layer in model.layers[1].layers[:20]:\n",
    "    print(layer.name,layer.trainable,layer.dtype,layer.dtype_policy)"
   ]
  },
  {
   "attachments": {},
   "cell_type": "markdown",
   "metadata": {},
   "source": [
    "## Fit the feature extraction model\n",
    "\n",
    "If our goal is to fine-tune a pretrained model, the general order of doing things is:\n",
    "1. Build a feature extraction model (train a couple output layers with base layers frozen)\n",
    "2. Fine tune some of the frozen layers"
   ]
  },
  {
   "cell_type": "code",
   "execution_count": 30,
   "metadata": {},
   "outputs": [
    {
     "name": "stdout",
     "output_type": "stream",
     "text": [
      "Saving TensorBoard log files to: training_logs/efficientnetb0_classes_all_data_feature_extract/20221227-112846\n",
      "Epoch 1/3\n",
      "2368/2368 [==============================] - 318s 134ms/step - loss: 0.8771 - accuracy: 0.7695 - val_loss: 0.9529 - val_accuracy: 0.7405\n",
      "Epoch 2/3\n",
      "2368/2368 [==============================] - 314s 132ms/step - loss: 0.8220 - accuracy: 0.7815 - val_loss: 0.9754 - val_accuracy: 0.7325\n",
      "Epoch 3/3\n",
      "2368/2368 [==============================] - 311s 131ms/step - loss: 0.7780 - accuracy: 0.7947 - val_loss: 0.9687 - val_accuracy: 0.7328\n"
     ]
    }
   ],
   "source": [
    "# Fit feature extraction model with callbacks\n",
    "history_101_food_classes_feature_extract = model.fit(train_data,\n",
    "                                                     epochs=3,\n",
    "                                                     steps_per_epoch=(len(train_data)),\n",
    "                                                     validation_data=test_data,\n",
    "                                                     validation_steps=int(0.15*len(test_data)),\n",
    "                                                     callbacks=[create_tensorboard_callback(dir_name=\"training_logs\",\n",
    "                                                                                            experiment_name=\"efficientnetb0_classes_all_data_feature_extract\"),\n",
    "                                                                model_checkpoint])"
   ]
  },
  {
   "cell_type": "code",
   "execution_count": 31,
   "metadata": {},
   "outputs": [
    {
     "name": "stdout",
     "output_type": "stream",
     "text": [
      "790/790 [==============================] - 93s 118ms/step - loss: 0.9844 - accuracy: 0.7315\n"
     ]
    },
    {
     "data": {
      "text/plain": [
       "[0.9844332933425903, 0.73148512840271]"
      ]
     },
     "execution_count": 31,
     "metadata": {},
     "output_type": "execute_result"
    }
   ],
   "source": [
    "# Evaluate model on whole test dataset\n",
    "results_feature_extract_model = model.evaluate(test_data)\n",
    "results_feature_extract_model"
   ]
  },
  {
   "attachments": {},
   "cell_type": "markdown",
   "metadata": {},
   "source": [
    "## Off to you\n",
    "\n",
    "Create FoodVision Big:\n",
    "1. Save the model\n",
    "2. Load saved model\n",
    "3. Check the layers in the base model and see what dtype policy\n",
    "4. Check loaded model performance"
   ]
  },
  {
   "cell_type": "code",
   "execution_count": 32,
   "metadata": {},
   "outputs": [
    {
     "name": "stderr",
     "output_type": "stream",
     "text": [
      "WARNING:absl:Found untraced functions such as _jit_compiled_convolution_op, _jit_compiled_convolution_op, _jit_compiled_convolution_op, _jit_compiled_convolution_op, _jit_compiled_convolution_op while saving (showing 5 of 81). These functions will not be directly callable after loading.\n"
     ]
    },
    {
     "name": "stdout",
     "output_type": "stream",
     "text": [
      "INFO:tensorflow:Assets written to: saved_efficientnetb0_classes_all_data_feature_extract\\assets\n"
     ]
    },
    {
     "name": "stderr",
     "output_type": "stream",
     "text": [
      "INFO:tensorflow:Assets written to: saved_efficientnetb0_classes_all_data_feature_extract\\assets\n"
     ]
    }
   ],
   "source": [
    "# 1. Save a model\n",
    "model.save(\"saved_efficientnetb0_classes_all_data_feature_extract\")"
   ]
  },
  {
   "cell_type": "code",
   "execution_count": 33,
   "metadata": {},
   "outputs": [],
   "source": [
    "# 2. Load saved model\n",
    "loaded_saved_model = tf.keras.models.load_model(\"saved_efficientnetb0_classes_all_data_feature_extract\")"
   ]
  },
  {
   "cell_type": "code",
   "execution_count": 35,
   "metadata": {},
   "outputs": [
    {
     "name": "stdout",
     "output_type": "stream",
     "text": [
      "input_1 True float32 <Policy \"float32\">\n",
      "rescaling False float32 <Policy \"float32\">\n",
      "normalization False float32 <Policy \"float32\">\n",
      "tf.math.truediv False float32 <Policy \"float32\">\n",
      "stem_conv_pad False float32 <Policy \"float32\">\n",
      "stem_conv False float32 <Policy \"float32\">\n",
      "stem_bn False float32 <Policy \"float32\">\n",
      "stem_activation False float32 <Policy \"float32\">\n",
      "block1a_dwconv False float32 <Policy \"float32\">\n",
      "block1a_bn False float32 <Policy \"float32\">\n",
      "block1a_activation False float32 <Policy \"float32\">\n",
      "block1a_se_squeeze False float32 <Policy \"float32\">\n",
      "block1a_se_reshape False float32 <Policy \"float32\">\n",
      "block1a_se_reduce False float32 <Policy \"float32\">\n",
      "block1a_se_expand False float32 <Policy \"float32\">\n",
      "block1a_se_excite False float32 <Policy \"float32\">\n",
      "block1a_project_conv False float32 <Policy \"float32\">\n",
      "block1a_project_bn False float32 <Policy \"float32\">\n",
      "block2a_expand_conv False float32 <Policy \"float32\">\n",
      "block2a_expand_bn False float32 <Policy \"float32\">\n"
     ]
    }
   ],
   "source": [
    "# 3. Check the layers in the base model and see what dtype policy\n",
    "for layer in loaded_saved_model.layers[1].layers[:20]:\n",
    "    print(layer.name,layer.trainable,layer.dtype,layer.dtype_policy)"
   ]
  },
  {
   "cell_type": "code",
   "execution_count": 36,
   "metadata": {},
   "outputs": [
    {
     "name": "stdout",
     "output_type": "stream",
     "text": [
      "790/790 [==============================] - 98s 123ms/step - loss: 0.9844 - accuracy: 0.7315\n"
     ]
    }
   ],
   "source": [
    "# 4. Check loaded model performance\n",
    "results_loaded_saved_model = loaded_saved_model.evaluate(test_data)"
   ]
  },
  {
   "attachments": {},
   "cell_type": "markdown",
   "metadata": {},
   "source": [
    "## Further evaulating the loaded model\n",
    "\n",
    "Next steps:\n",
    "1. Get summary of loaded model\n",
    "2. Set all of the layers to trainable (so they're unfrozen)\n",
    "3. Check to see what dtype_policy of the layers in your loaded model"
   ]
  },
  {
   "cell_type": "code",
   "execution_count": 37,
   "metadata": {},
   "outputs": [
    {
     "name": "stdout",
     "output_type": "stream",
     "text": [
      "Model: \"model\"\n",
      "_________________________________________________________________\n",
      " Layer (type)                Output Shape              Param #   \n",
      "=================================================================\n",
      " input_layer (InputLayer)    [(None, 224, 224, 3)]     0         \n",
      "                                                                 \n",
      " efficientnetb0 (Functional)  (None, None, None, 1280)  4049571  \n",
      "                                                                 \n",
      " global_average_pooling2d (G  (None, 1280)             0         \n",
      " lobalAveragePooling2D)                                          \n",
      "                                                                 \n",
      " dense (Dense)               (None, 101)               129381    \n",
      "                                                                 \n",
      " softmax_float_32 (Activatio  (None, 101)              0         \n",
      " n)                                                              \n",
      "                                                                 \n",
      "=================================================================\n",
      "Total params: 4,178,952\n",
      "Trainable params: 129,381\n",
      "Non-trainable params: 4,049,571\n",
      "_________________________________________________________________\n"
     ]
    }
   ],
   "source": [
    "# 1. Get summary\n",
    "loaded_saved_model.summary()"
   ]
  },
  {
   "cell_type": "code",
   "execution_count": 40,
   "metadata": {},
   "outputs": [
    {
     "name": "stdout",
     "output_type": "stream",
     "text": [
      "input_layer True float32 <Policy \"float32\">\n",
      "efficientnetb0 True float32 <Policy \"float32\">\n",
      "global_average_pooling2d True float32 <Policy \"float32\">\n",
      "dense True float32 <Policy \"float32\">\n",
      "softmax_float_32 True float32 <Policy \"float32\">\n",
      "input_1 True float32 <Policy \"float32\">\n",
      "rescaling True float32 <Policy \"float32\">\n",
      "normalization True float32 <Policy \"float32\">\n",
      "tf.math.truediv True float32 <Policy \"float32\">\n",
      "stem_conv_pad True float32 <Policy \"float32\">\n",
      "stem_conv True float32 <Policy \"float32\">\n",
      "stem_bn True float32 <Policy \"float32\">\n",
      "stem_activation True float32 <Policy \"float32\">\n",
      "block1a_dwconv True float32 <Policy \"float32\">\n",
      "block1a_bn True float32 <Policy \"float32\">\n",
      "block1a_activation True float32 <Policy \"float32\">\n",
      "block1a_se_squeeze True float32 <Policy \"float32\">\n",
      "block1a_se_reshape True float32 <Policy \"float32\">\n",
      "block1a_se_reduce True float32 <Policy \"float32\">\n",
      "block1a_se_expand True float32 <Policy \"float32\">\n",
      "block1a_se_excite True float32 <Policy \"float32\">\n",
      "block1a_project_conv True float32 <Policy \"float32\">\n",
      "block1a_project_bn True float32 <Policy \"float32\">\n",
      "block2a_expand_conv True float32 <Policy \"float32\">\n",
      "block2a_expand_bn True float32 <Policy \"float32\">\n"
     ]
    }
   ],
   "source": [
    "# 2. Set layers to trainable\n",
    "for layer in loaded_saved_model.layers:\n",
    "    layer.trainable = True\n",
    "    print(layer.name,layer.trainable,layer.dtype,layer.dtype_policy)\n",
    "\n",
    "\n",
    "# 3. Check dtype of base model or EfficientNetB0\n",
    "for layer in loaded_saved_model.layers[1].layers[:20]:\n",
    "    print(layer.name,layer.trainable,layer.dtype,layer.dtype_policy)"
   ]
  },
  {
   "cell_type": "code",
   "execution_count": 45,
   "metadata": {},
   "outputs": [],
   "source": [
    "# Setup early stopping callback\n",
    "early_stopping = tf.keras.callbacks.EarlyStopping(monitor=\"val_loss\",\n",
    "                                                  patience=3)\n",
    "\n",
    "# Create ModelCheckpoint callback to save best model during training\n",
    "checkpoint_path = \"fine_tune_checkpoints/\"\n",
    "\n",
    "model_checkpoint = tf.keras.callbacks.ModelCheckpoint(checkpoint_path,\n",
    "                                                      save_best_only=True,\n",
    "                                                      monitor=\"val_loss\")\n",
    "                                             "
   ]
  },
  {
   "cell_type": "code",
   "execution_count": 48,
   "metadata": {},
   "outputs": [],
   "source": [
    "# Creating learning rate reduction callback\n",
    "reduce_lr = tf.keras.callbacks.ReduceLROnPlateau(monitor=\"val_loss\",  \n",
    "                                                 factor=0.2, # multiply the learning rate by 0.2 (reduce by 5x)\n",
    "                                                 patience=2,\n",
    "                                                 verbose=1, # print out when learning rate goes down \n",
    "                                                 min_lr=1e-7)"
   ]
  },
  {
   "cell_type": "code",
   "execution_count": 46,
   "metadata": {},
   "outputs": [],
   "source": [
    "# Compile the model\n",
    "loaded_saved_model.compile(loss=\"sparse_categorical_crossentropy\", # sparse_categorical_crossentropy for labels that are *not* one-hot\n",
    "                        optimizer=tf.keras.optimizers.Adam(0.0001), # 10x lower learning rate than the default\n",
    "                        metrics=[\"accuracy\"])"
   ]
  },
  {
   "cell_type": "code",
   "execution_count": 49,
   "metadata": {},
   "outputs": [
    {
     "name": "stdout",
     "output_type": "stream",
     "text": [
      "Saving TensorBoard log files to: training_logs/efficientb0_101_classes_all_data_fine_tuning/20221227-152617\n",
      "Epoch 1/100\n",
      "2368/2368 [==============================] - 1473s 621ms/step - loss: 0.2135 - accuracy: 0.9375 - val_loss: 0.9668 - val_accuracy: 0.7715 - lr: 1.0000e-04\n",
      "Epoch 2/100\n",
      "2368/2368 [==============================] - 1461s 617ms/step - loss: 0.1194 - accuracy: 0.9634 - val_loss: 1.0360 - val_accuracy: 0.7812 - lr: 1.0000e-04\n",
      "Epoch 3/100\n",
      "2368/2368 [==============================] - ETA: 0s - loss: 0.0841 - accuracy: 0.9739\n",
      "Epoch 3: ReduceLROnPlateau reducing learning rate to 1.9999999494757503e-05.\n",
      "2368/2368 [==============================] - 1448s 612ms/step - loss: 0.0841 - accuracy: 0.9739 - val_loss: 1.0895 - val_accuracy: 0.7791 - lr: 1.0000e-04\n",
      "Epoch 4/100\n",
      "2368/2368 [==============================] - 1435s 606ms/step - loss: 0.0155 - accuracy: 0.9968 - val_loss: 1.1249 - val_accuracy: 0.8051 - lr: 2.0000e-05\n"
     ]
    }
   ],
   "source": [
    "# Start to fine-tune (all layers)\n",
    "history_101_food_classes_all_data_fine_tune = loaded_saved_model.fit(train_data,\n",
    "                                                                     epochs=100, # fine-tune for a maximum of 100 epochs\n",
    "                                                                     steps_per_epoch=len(train_data),\n",
    "                                                                     validation_data=test_data,\n",
    "                                                                     validation_steps=int(0.15 * len(test_data)), # validation during training on 15% of test data\n",
    "                                                                     callbacks=[create_tensorboard_callback(\"training_logs\", \"efficientb0_101_classes_all_data_fine_tuning\"), # track the model training logs\n",
    "                                                                     model_checkpoint, # save only the best model during training\n",
    "                                                                     early_stopping,\n",
    "                                                                     reduce_lr]) # stop model after X epochs of no improvements # "
   ]
  },
  {
   "cell_type": "code",
   "execution_count": 51,
   "metadata": {},
   "outputs": [
    {
     "name": "stderr",
     "output_type": "stream",
     "text": [
      "WARNING:absl:Found untraced functions such as _jit_compiled_convolution_op, _jit_compiled_convolution_op, _jit_compiled_convolution_op, _jit_compiled_convolution_op, _jit_compiled_convolution_op while saving (showing 5 of 81). These functions will not be directly callable after loading.\n"
     ]
    },
    {
     "name": "stdout",
     "output_type": "stream",
     "text": [
      "INFO:tensorflow:Assets written to: 07_efficientnetb0_fine_tuned_101_classes_mixed_precision\\assets\n"
     ]
    },
    {
     "name": "stderr",
     "output_type": "stream",
     "text": [
      "INFO:tensorflow:Assets written to: 07_efficientnetb0_fine_tuned_101_classes_mixed_precision\\assets\n"
     ]
    }
   ],
   "source": [
    "# Save model\n",
    "loaded_saved_model.save(\"07_efficientnetb0_fine_tuned_101_classes_mixed_precision\")"
   ]
  },
  {
   "cell_type": "code",
   "execution_count": 52,
   "metadata": {},
   "outputs": [],
   "source": [
    "# Loading saved model\n",
    "loaded_fine_tuned_model = tf.keras.models.load_model(\"07_efficientnetb0_fine_tuned_101_classes_mixed_precision\")"
   ]
  },
  {
   "cell_type": "code",
   "execution_count": 53,
   "metadata": {},
   "outputs": [
    {
     "name": "stdout",
     "output_type": "stream",
     "text": [
      "790/790 [==============================] - 97s 121ms/step - loss: 1.1366 - accuracy: 0.7961\n"
     ]
    }
   ],
   "source": [
    "# Evaluating saved model\n",
    "results_loaded_fine_tuned_model = loaded_fine_tuned_model.evaluate(test_data)"
   ]
  },
  {
   "cell_type": "code",
   "execution_count": null,
   "metadata": {},
   "outputs": [],
   "source": [
    "# Visualize on Tensorboard\n",
    "!tensorboard dev upload --logdir ./training_logs/ --name \"Feature Extract vs. Fine Tuned\" --one_shot\n",
    "!tensorboard dev list\n",
    "!tensorboard dev delete --experiment_id YXn0vtMTR4qDGRJ5WBSvKg"
   ]
  }
 ],
 "metadata": {
  "kernelspec": {
   "display_name": "Python 3.9.0 ('tf2.9')",
   "language": "python",
   "name": "python3"
  },
  "language_info": {
   "codemirror_mode": {
    "name": "ipython",
    "version": 3
   },
   "file_extension": ".py",
   "mimetype": "text/x-python",
   "name": "python",
   "nbconvert_exporter": "python",
   "pygments_lexer": "ipython3",
   "version": "3.9.0"
  },
  "orig_nbformat": 4,
  "vscode": {
   "interpreter": {
    "hash": "3b857c820aa0d415be1b12344743bfddcf32111184ae560db226809c81026c4c"
   }
  }
 },
 "nbformat": 4,
 "nbformat_minor": 2
}
